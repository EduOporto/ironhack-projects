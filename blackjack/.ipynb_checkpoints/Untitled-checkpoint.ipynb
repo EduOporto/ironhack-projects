{
 "cells": [
  {
   "cell_type": "code",
   "execution_count": 1,
   "metadata": {},
   "outputs": [
    {
     "name": "stdout",
     "output_type": "stream",
     "text": [
      "----------------------------------| Dealer |----------------------------------\n",
      "                                  |  CARDS |                                  \n",
      "                                 |  STATUS  |                                 \n",
      "|Player_1|                                                          |Player_5|\n",
      "|--CARDS--|                                    |--CARDS--|\n",
      "\n",
      "\n",
      "\n",
      "       |Player_2|                         |Player_4|\n",
      "       |--CARDS--|                       |--CARDS--|\n",
      "\n",
      "\n",
      "                         |Player_3|\n",
      "                        |--CARDS--|\n"
     ]
    }
   ],
   "source": [
    "print(\"----------------------------------| Dealer |----------------------------------\")\n",
    "print(\"                                  |  CARDS |                                  \")\n",
    "print(\"                                 |  STATUS  |                                 \")\n",
    "print(\"|Player_1|                                                          |Player_5|\")\n",
    "print(\"|--CARDS--|                                    |--CARDS--|\")\n",
    "print(\"\\n\\n\")\n",
    "print(\"       |Player_2|                         |Player_4|\")\n",
    "print(\"       |--CARDS--|                       |--CARDS--|\")\n",
    "print(\"\\n\")\n",
    "print(\"                         |Player_3|\")\n",
    "print(\"                        |--CARDS--|\")"
   ]
  },
  {
   "cell_type": "code",
   "execution_count": 2,
   "metadata": {},
   "outputs": [
    {
     "data": {
      "text/plain": [
       "78"
      ]
     },
     "execution_count": 2,
     "metadata": {},
     "output_type": "execute_result"
    }
   ],
   "source": [
    "line_1 = \"                                  |  CARDS |                                  \"\n",
    "len(line_1)"
   ]
  },
  {
   "cell_type": "code",
   "execution_count": null,
   "metadata": {},
   "outputs": [],
   "source": [
    "#### FROM STATUS FUNCTION\n",
    "\n",
    "#if 200 not in dealer_points and 150 not in dealer_points and 100 not in dealer_points:\n",
    "         #   if sum(dealer_points) == 21 and len(dealer_points) <= 3:\n",
    "          #      table['Dealer'].append(['BLACKJACK!!', 200])\n",
    "          #  elif sum(dealer_points) == 21 and len(dealer_points) > 3:\n",
    "           #     table['Dealer'].append(['TWENTY-ONE', 150])\n",
    "          #  elif sum(dealer_points) > 21:\n",
    "           #     table['Dealer'].append(['LOSE...', 100])\n",
    "        #else:\n",
    "         #   pass"
   ]
  },
  {
   "cell_type": "code",
   "execution_count": null,
   "metadata": {},
   "outputs": [],
   "source": [
    "class Player():\n",
    "    def __init__(self, name, hand, result):\n",
    "        self.name = name\n",
    "        "
   ]
  },
  {
   "cell_type": "code",
   "execution_count": 1,
   "metadata": {},
   "outputs": [],
   "source": [
    "def epson(n):\n",
    "    if n == 3:\n",
    "        return \"Hola\""
   ]
  },
  {
   "cell_type": "code",
   "execution_count": 3,
   "metadata": {},
   "outputs": [],
   "source": [
    "lista = [1,2,3,4,5,6,7]"
   ]
  },
  {
   "cell_type": "code",
   "execution_count": 6,
   "metadata": {},
   "outputs": [],
   "source": [
    "lista.remove(5)"
   ]
  },
  {
   "cell_type": "code",
   "execution_count": 7,
   "metadata": {},
   "outputs": [
    {
     "data": {
      "text/plain": [
       "[1, 2, 3, 6, 7]"
      ]
     },
     "execution_count": 7,
     "metadata": {},
     "output_type": "execute_result"
    }
   ],
   "source": [
    "lista"
   ]
  },
  {
   "cell_type": "code",
   "execution_count": 29,
   "metadata": {},
   "outputs": [],
   "source": [
    "from random import choice\n",
    "\n",
    "# Soldier\n",
    "\n",
    "\n",
    "class Soldier:\n",
    "    def __init__(self, health, strength):\n",
    "        self.health = health\n",
    "        self.strength = strength\n",
    "    def attack(self):\n",
    "        return self.strength\n",
    "    def receiveDamage(self, damage):\n",
    "        self.health -= damage\n",
    "        return self.health \n",
    "        \n",
    "\n",
    "# Viking\n",
    "\n",
    "\n",
    "class Viking(Soldier):\n",
    "    def __init__(self, name, health, strength):\n",
    "        super().__init__(health, strength)\n",
    "        self.name = name\n",
    "    def receiveDamage(self, damage):\n",
    "        self.health -= damage\n",
    "        if self.health > 0:\n",
    "            return f\"{self.name} has received {damage} points of damage\"\n",
    "        else:\n",
    "            return f\"{self.name} has died in act of combat\"\n",
    "    def battleCry(self): \n",
    "        return \"Odin Owns You All!\"\n",
    "\n",
    "# Saxon\n",
    "\n",
    "\n",
    "class Saxon(Soldier):\n",
    "    def __init__(self, health, strength):\n",
    "        super().__init__(health, strength)\n",
    "    def receiveDamage(self, damage):\n",
    "        self.health -= damage\n",
    "        if self.health > 0:\n",
    "            return f\"A Saxon has received {damage} points of damage\" \n",
    "        else:\n",
    "            return \"A Saxon has died in combat\"\n",
    "\n",
    "# War\n",
    "\n",
    "\n",
    "class War:\n",
    "    def __init__(self):\n",
    "        self.vikingArmy = []\n",
    "        self.saxonArmy = []\n",
    "    def addViking(self, Viking):\n",
    "        self.vikingArmy.append(Viking)\n",
    "        return self.vikingArmy\n",
    "    def addSaxon(self, Saxon):\n",
    "        self.saxonArmy.append(Saxon)\n",
    "        return self.saxonArmy\n",
    "    def vikingAttack(self):\n",
    "        saxon = choice(self.saxonArmy)\n",
    "        viking = choice(self.vikingArmy)\n",
    "        saxon.receiveDamage(viking.attack())\n",
    "        #if saxon.health <= 0:\n",
    "         #   self.saxonArmy.remove(saxon)\n",
    "         #   return \"A Saxon has died in combat\"\n",
    "    def saxonAttack(self):\n",
    "        saxon = choice(self.saxonArmy)\n",
    "        viking = choice(self.vikingArmy)\n",
    "        viking.receiveDamage(saxon.attack())\n",
    "        if viking.health <= 0:\n",
    "            self.vikingArmy.remove(viking)\n",
    "    def showStatus(self):\n",
    "        if len(self.saxonArmy) == 0:\n",
    "            return \"Vikings have won the war of the century!\"\n",
    "        if len(self.vikingArmy) == 0:\n",
    "            return \"Saxons have fought for their lives and survive another day...\"\n",
    "        if len(self.saxonArmy) >= 1 and len(self.vikingArmy) >= 1:\n",
    "            return \"Vikings and Saxons are still in the thick of battle.\""
   ]
  },
  {
   "cell_type": "code",
   "execution_count": 34,
   "metadata": {},
   "outputs": [],
   "source": [
    "saxon = Saxon(50, 80)\n",
    "viking = Viking('Haaland', 90, 150)"
   ]
  },
  {
   "cell_type": "code",
   "execution_count": null,
   "metadata": {},
   "outputs": [],
   "source": []
  },
  {
   "cell_type": "code",
   "execution_count": 31,
   "metadata": {},
   "outputs": [],
   "source": [
    "war = War()"
   ]
  },
  {
   "cell_type": "code",
   "execution_count": 32,
   "metadata": {},
   "outputs": [
    {
     "data": {
      "text/plain": [
       "[<__main__.Saxon at 0x10e9e3580>]"
      ]
     },
     "execution_count": 32,
     "metadata": {},
     "output_type": "execute_result"
    }
   ],
   "source": [
    "war.addViking(viking)\n",
    "war.addSaxon(saxon)"
   ]
  },
  {
   "cell_type": "code",
   "execution_count": 33,
   "metadata": {},
   "outputs": [],
   "source": [
    "war.vikingAttack()\n",
    "#war.showStatus()"
   ]
  },
  {
   "cell_type": "code",
   "execution_count": null,
   "metadata": {},
   "outputs": [],
   "source": []
  }
 ],
 "metadata": {
  "kernelspec": {
   "display_name": "Python 3",
   "language": "python",
   "name": "python3"
  },
  "language_info": {
   "codemirror_mode": {
    "name": "ipython",
    "version": 3
   },
   "file_extension": ".py",
   "mimetype": "text/x-python",
   "name": "python",
   "nbconvert_exporter": "python",
   "pygments_lexer": "ipython3",
   "version": "3.8.5"
  }
 },
 "nbformat": 4,
 "nbformat_minor": 4
}
