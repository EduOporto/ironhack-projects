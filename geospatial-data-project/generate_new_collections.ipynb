{
 "metadata": {
  "language_info": {
   "codemirror_mode": {
    "name": "ipython",
    "version": 3
   },
   "file_extension": ".py",
   "mimetype": "text/x-python",
   "name": "python",
   "nbconvert_exporter": "python",
   "pygments_lexer": "ipython3",
   "version": "3.8.5-final"
  },
  "orig_nbformat": 2,
  "kernelspec": {
   "name": "python37464bitanaconda3condae88754a2382d478085e26b412211ec7e",
   "display_name": "Python 3.7.4 64-bit ('anaconda3': conda)"
  }
 },
 "nbformat": 4,
 "nbformat_minor": 2,
 "cells": [
  {
   "cell_type": "code",
   "execution_count": null,
   "metadata": {},
   "outputs": [],
   "source": [
    "import awoc\n",
    "my_world = awoc.AWOC()"
   ]
  },
  {
   "cell_type": "code",
   "execution_count": null,
   "metadata": {},
   "outputs": [],
   "source": [
    "from pymongo import MongoClient\n",
    "client = MongoClient()\n",
    "db = client.get_database('companies_project')"
   ]
  },
  {
   "source": [
    "# Creating a new database in MongoDB\n",
    "## Unwinding companies by number of offices"
   ],
   "cell_type": "markdown",
   "metadata": {}
  },
  {
   "cell_type": "code",
   "execution_count": null,
   "metadata": {},
   "outputs": [],
   "source": [
    "unwinding = db.companies.aggregate([\n",
    "                                    {'$unwind':'$offices'},\n",
    "                                    {'$match':{'offices.latitude':{'$ne':None}}},\n",
    "                                    {'$match':{'offices.longitude':{'$ne':None}}},\n",
    "                                    {'$project':{'_id':0}}\n",
    "                                   ])"
   ]
  },
  {
   "cell_type": "code",
   "execution_count": null,
   "metadata": {},
   "outputs": [],
   "source": [
    "db.companies_unwinded.insert_many(unwinding)"
   ]
  },
  {
   "cell_type": "code",
   "execution_count": null,
   "metadata": {},
   "outputs": [],
   "source": [
    "offices = db.companies_unwinded"
   ]
  },
  {
   "source": [
    "## Collection of USA countries"
   ],
   "cell_type": "markdown",
   "metadata": {}
  },
  {
   "cell_type": "code",
   "execution_count": null,
   "metadata": {},
   "outputs": [],
   "source": [
    "in_usa = offices.find({'offices.country_code':'USA'})\n",
    "db.companies_usa.insert_many(in_usa)"
   ]
  },
  {
   "source": [
    "## Collection of european countries"
   ],
   "cell_type": "markdown",
   "metadata": {}
  },
  {
   "cell_type": "code",
   "execution_count": null,
   "metadata": {},
   "outputs": [],
   "source": [
    "iso_3_eu = [e['ISO3'] for e in my_world.get_countries_data_of('Europe')]"
   ]
  },
  {
   "cell_type": "code",
   "execution_count": null,
   "metadata": {},
   "outputs": [],
   "source": [
    "in_europe = offices.find({'offices.country_code':{'$in':iso_3_eu}})\n",
    "db.companies_europe.insert_many(in_europe)"
   ]
  }
 ]
}