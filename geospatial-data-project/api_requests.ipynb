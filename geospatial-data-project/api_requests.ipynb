{
 "metadata": {
  "language_info": {
   "codemirror_mode": {
    "name": "ipython",
    "version": 3
   },
   "file_extension": ".py",
   "mimetype": "text/x-python",
   "name": "python",
   "nbconvert_exporter": "python",
   "pygments_lexer": "ipython3",
   "version": "3.8.5-final"
  },
  "orig_nbformat": 2,
  "kernelspec": {
   "name": "python3",
   "display_name": "Python 3.8.5 64-bit",
   "metadata": {
    "interpreter": {
     "hash": "082e9a3bcad0a290d0001e938aa60b99250c6c2ef33a923c00b70f9826caf4b7"
    }
   }
  }
 },
 "nbformat": 4,
 "nbformat_minor": 2,
 "cells": [
  {
   "cell_type": "code",
   "execution_count": 1,
   "metadata": {},
   "outputs": [],
   "source": [
    "from census import Census\n",
    "from us import states\n",
    "from dotenv import load_dotenv\n",
    "from bson import ObjectId\n",
    "from geopy.geocoders import Nominatim\n",
    "geolocator = Nominatim(user_agent='geospatial-data-project')\n",
    "import pgeocode\n",
    "import os\n",
    "import pickle"
   ]
  },
  {
   "cell_type": "code",
   "execution_count": 2,
   "metadata": {},
   "outputs": [],
   "source": [
    "from pymongo import MongoClient\n",
    "client = MongoClient()\n",
    "db = client.get_database('companies_project')"
   ]
  },
  {
   "source": [
    "# Feeding companies_usa with census data"
   ],
   "cell_type": "markdown",
   "metadata": {}
  },
  {
   "cell_type": "code",
   "execution_count": 137,
   "metadata": {},
   "outputs": [],
   "source": [
    "census_api_k = os.getenv('census_api_key')\n",
    "c = Census(census_api_k, year=2018)"
   ]
  },
  {
   "cell_type": "code",
   "execution_count": 138,
   "metadata": {},
   "outputs": [],
   "source": [
    "median_age = 'DP05_0018E'\n",
    "range_25_34 = 'DP05_0010PE'\n",
    "range_35_44 = 'DP05_0011PE'\n",
    "\n",
    "school_enroll = 'DP02_0052E'\n",
    "school_enrollP = 'DP02_0052PE'\n",
    "\n",
    "preschool_enroll = 'DP02_0053E'\n",
    "preschool_enrollP = 'DP02_0053PE'\n",
    "\n",
    "kinderg_enroll = 'DP02_0054E'\n",
    "kinderg_enrollP = 'DP02_0054PE'\n",
    "\n",
    "elem_enroll = 'DP02_0055E'\n",
    "elem_enrollP = 'DP02_0055PE'\n",
    "\n",
    "high_enroll = 'DP02_0056E'\n",
    "high_enrollP = 'DP02_0056PE'\n",
    "\n",
    "hschool_gradP = 'DP02_0066PE'\n",
    "bach_gradP = 'DP02_0067PE'"
   ]
  },
  {
   "cell_type": "code",
   "execution_count": 255,
   "metadata": {},
   "outputs": [],
   "source": [
    "zip_code = '94588'\n",
    "#c.acs5dp.state_county(median_age, 'Fresno County')"
   ]
  },
  {
   "source": [
    "## Get zips from USA"
   ],
   "cell_type": "markdown",
   "metadata": {}
  },
  {
   "cell_type": "code",
   "execution_count": 271,
   "metadata": {},
   "outputs": [],
   "source": [
    "empty_to_none = db.companies_usa.update_many({'offices.zip_code':''}, {'$set':{'offices.zip_code':None}})"
   ]
  },
  {
   "cell_type": "code",
   "execution_count": 272,
   "metadata": {},
   "outputs": [
    {
     "output_type": "execute_result",
     "data": {
      "text/plain": [
       "{'n': 637, 'nModified': 637, 'ok': 1.0, 'updatedExisting': True}"
      ]
     },
     "metadata": {},
     "execution_count": 272
    }
   ],
   "source": [
    "empty_to_none.raw_result"
   ]
  },
  {
   "cell_type": "code",
   "execution_count": 317,
   "metadata": {},
   "outputs": [],
   "source": [
    "zips = list(db.companies_usa.find({'offices.zip_code':None}, {'_id':1, 'offices.latitude':1, 'offices.longitude':1}))"
   ]
  },
  {
   "cell_type": "code",
   "execution_count": 290,
   "metadata": {},
   "outputs": [],
   "source": [
    "leftovers_zips_usa = []\n",
    "no_post_code = []"
   ]
  },
  {
   "cell_type": "code",
   "execution_count": 297,
   "metadata": {},
   "outputs": [],
   "source": [
    "for zip in zips:\n",
    "    try:\n",
    "        latitude = zip['offices']['latitude']\n",
    "        longitude = zip['offices']['longitude']\n",
    "        id = ObjectId(zip['_id'])\n",
    "        location = geolocator.reverse(f\"{latitude},{longitude}\")\n",
    "        db.companies_usa.update_one({'_id':id}, {'$set':{'offices.zip_code': location.raw['address']['postcode']}})\n",
    "        leftovers_zips_usa.append({'_id':id, 'loc_params':location.raw})\n",
    "    except:\n",
    "        no_post_code.append({'_id':id, 'coord':{'latitude':latitude, 'longitude':longitude}})"
   ]
  },
  {
   "cell_type": "code",
   "execution_count": 315,
   "metadata": {},
   "outputs": [],
   "source": [
    "cwd = os.getcwd()\n",
    "with open(cwd+'/data/usa_docs/leftovers_zips_usa.txt', 'wb') as leftov:\n",
    "    pickle.dump(leftovers_zips_usa, leftov)\n",
    "with open(cwd+'/data/usa_docs/no_post_codes.txt', 'wb') as no_post:\n",
    "    pickle.dump(no_post_code, no_post)"
   ]
  },
  {
   "source": [
    "## Get zips from Europe"
   ],
   "cell_type": "markdown",
   "metadata": {}
  }
 ]
}