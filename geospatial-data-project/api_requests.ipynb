{
 "metadata": {
  "language_info": {
   "codemirror_mode": {
    "name": "ipython",
    "version": 3
   },
   "file_extension": ".py",
   "mimetype": "text/x-python",
   "name": "python",
   "nbconvert_exporter": "python",
   "pygments_lexer": "ipython3",
   "version": "3.8.5-final"
  },
  "orig_nbformat": 2,
  "kernelspec": {
   "name": "python37464bitanaconda3condae88754a2382d478085e26b412211ec7e",
   "display_name": "Python 3.7.4 64-bit ('anaconda3': conda)"
  }
 },
 "nbformat": 4,
 "nbformat_minor": 2,
 "cells": [
  {
   "cell_type": "code",
   "execution_count": null,
   "metadata": {},
   "outputs": [],
   "source": [
    "http://ec.europa.eu/eurostat/wdds/rest/data/v2.1/json/en/demo_r_pjanind3?indic_de=PC_Y25_44&precision=2&unit=PC"
   ]
  },
  {
   "cell_type": "code",
   "execution_count": 4,
   "metadata": {},
   "outputs": [],
   "source": [
    "from census import Census\n",
    "from us import states\n",
    "from dotenv import load_dotenv\n",
    "import os"
   ]
  },
  {
   "cell_type": "code",
   "execution_count": 3,
   "metadata": {},
   "outputs": [
    {
     "output_type": "execute_result",
     "data": {
      "text/plain": [
       "True"
      ]
     },
     "metadata": {},
     "execution_count": 3
    }
   ],
   "source": [
    "load_dotenv()"
   ]
  },
  {
   "cell_type": "code",
   "execution_count": 5,
   "metadata": {},
   "outputs": [],
   "source": [
    "census_api_k = os.getenv('census_api_key')"
   ]
  },
  {
   "cell_type": "code",
   "execution_count": 70,
   "metadata": {},
   "outputs": [],
   "source": [
    "c = Census(census_api_k, year=2018)"
   ]
  },
  {
   "cell_type": "code",
   "execution_count": 72,
   "metadata": {},
   "outputs": [
    {
     "output_type": "execute_result",
     "data": {
      "text/plain": [
       "[]"
      ]
     },
     "metadata": {},
     "execution_count": 72
    }
   ],
   "source": [
    "# c.acs5dp.zipcode(median_age, 781)"
   ]
  },
  {
   "cell_type": "code",
   "execution_count": 61,
   "metadata": {},
   "outputs": [],
   "source": [
    "median_age = 'DP05_0018E'\n",
    "range_25_34 = 'DP05_0010PE'\n",
    "range_35_44 = 'DP05_0011PE'\n",
    "\n",
    "school_enroll = 'DP02_0052E'\n",
    "school_enrollP = 'DP02_0052PE'\n",
    "\n",
    "preschool_enroll = 'DP02_0053E'\n",
    "preschool_enrollP = 'DP02_0053PE'\n",
    "\n",
    "kinderg_enroll = 'DP02_0054E'\n",
    "kinderg_enrollP = 'DP02_0054PE'\n",
    "\n",
    "elem_enroll = 'DP02_0055E'\n",
    "elem_enrollP = 'DP02_0055PE'\n",
    "\n",
    "high_enroll = 'DP02_0056E'\n",
    "high_enrollP = 'DP02_0056PE'\n",
    "\n",
    "hschool_gradP = 'DP02_0066PE'\n",
    "bach_gradP = 'DP02_0067PE'"
   ]
  },
  {
   "cell_type": "code",
   "execution_count": null,
   "metadata": {},
   "outputs": [],
   "source": []
  }
 ]
}