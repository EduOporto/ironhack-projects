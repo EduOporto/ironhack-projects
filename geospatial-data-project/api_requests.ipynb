{
 "metadata": {
  "language_info": {
   "codemirror_mode": {
    "name": "ipython",
    "version": 3
   },
   "file_extension": ".py",
   "mimetype": "text/x-python",
   "name": "python",
   "nbconvert_exporter": "python",
   "pygments_lexer": "ipython3",
   "version": "3.8.5-final"
  },
  "orig_nbformat": 2,
  "kernelspec": {
   "name": "python3",
   "display_name": "Python 3.8.5 64-bit",
   "metadata": {
    "interpreter": {
     "hash": "082e9a3bcad0a290d0001e938aa60b99250c6c2ef33a923c00b70f9826caf4b7"
    }
   }
  }
 },
 "nbformat": 4,
 "nbformat_minor": 2,
 "cells": [
  {
   "cell_type": "code",
   "execution_count": 93,
   "metadata": {},
   "outputs": [],
   "source": [
    "from census import Census\n",
    "from us import states\n",
    "from dotenv import load_dotenv\n",
    "import awoc\n",
    "my_world = awoc.AWOC()"
   ]
  },
  {
   "cell_type": "code",
   "execution_count": 12,
   "metadata": {},
   "outputs": [],
   "source": [
    "from pymongo import MongoClient\n",
    "client = MongoClient()\n",
    "db = client.get_database('companies_project')"
   ]
  },
  {
   "source": [
    "# Unwinding companies by number of offices"
   ],
   "cell_type": "markdown",
   "metadata": {}
  },
  {
   "cell_type": "code",
   "execution_count": 34,
   "metadata": {},
   "outputs": [],
   "source": [
    "unwinding = db.companies.aggregate([\n",
    "                                    {'$unwind':'$offices'},\n",
    "                                    {'$match':{'offices.latitude':{'$ne':None}}},\n",
    "                                    {'$match':{'offices.longitude':{'$ne':None}}},\n",
    "                                    {'$project':{'_id':0}}\n",
    "                                   ])"
   ]
  },
  {
   "cell_type": "code",
   "execution_count": 35,
   "metadata": {},
   "outputs": [
    {
     "output_type": "execute_result",
     "data": {
      "text/plain": [
       "<pymongo.results.InsertManyResult at 0x7fa3f3efa4c0>"
      ]
     },
     "metadata": {},
     "execution_count": 35
    }
   ],
   "source": [
    "db.companies_unwinded.insert_many(unwinding)"
   ]
  },
  {
   "cell_type": "code",
   "execution_count": 36,
   "metadata": {},
   "outputs": [],
   "source": [
    "offices = db.companies_unwinded"
   ]
  },
  {
   "source": [
    "# Collection of USA countries"
   ],
   "cell_type": "markdown",
   "metadata": {}
  },
  {
   "cell_type": "code",
   "execution_count": 72,
   "metadata": {},
   "outputs": [
    {
     "output_type": "execute_result",
     "data": {
      "text/plain": [
       "<pymongo.results.InsertManyResult at 0x7fa3d5b7f900>"
      ]
     },
     "metadata": {},
     "execution_count": 72
    }
   ],
   "source": [
    "in_usa = offices.find({'offices.country_code':'USA'})\n",
    "db.companies_usa.insert_many(in_usa)"
   ]
  },
  {
   "source": [
    "# Collection of european countries"
   ],
   "cell_type": "markdown",
   "metadata": {}
  },
  {
   "cell_type": "code",
   "execution_count": 114,
   "metadata": {},
   "outputs": [],
   "source": [
    "iso_3_eu = [e['ISO3'] for e in my_world.get_countries_data_of('Europe')]"
   ]
  },
  {
   "cell_type": "code",
   "execution_count": 136,
   "metadata": {},
   "outputs": [
    {
     "output_type": "execute_result",
     "data": {
      "text/plain": [
       "<pymongo.results.InsertManyResult at 0x7fa3bf02ab40>"
      ]
     },
     "metadata": {},
     "execution_count": 136
    }
   ],
   "source": [
    "in_europe = offices.find({'offices.country_code':{'$in':iso_3_eu}})\n",
    "db.companies_europe.insert_many(in_europe)"
   ]
  },
  {
   "source": [
    "# Feeding companies_usa with census data"
   ],
   "cell_type": "markdown",
   "metadata": {}
  },
  {
   "cell_type": "code",
   "execution_count": 137,
   "metadata": {},
   "outputs": [],
   "source": [
    "census_api_k = os.getenv('census_api_key')\n",
    "c = Census(census_api_k, year=2018)"
   ]
  },
  {
   "cell_type": "code",
   "execution_count": 138,
   "metadata": {},
   "outputs": [],
   "source": [
    "median_age = 'DP05_0018E'\n",
    "range_25_34 = 'DP05_0010PE'\n",
    "range_35_44 = 'DP05_0011PE'\n",
    "\n",
    "school_enroll = 'DP02_0052E'\n",
    "school_enrollP = 'DP02_0052PE'\n",
    "\n",
    "preschool_enroll = 'DP02_0053E'\n",
    "preschool_enrollP = 'DP02_0053PE'\n",
    "\n",
    "kinderg_enroll = 'DP02_0054E'\n",
    "kinderg_enrollP = 'DP02_0054PE'\n",
    "\n",
    "elem_enroll = 'DP02_0055E'\n",
    "elem_enrollP = 'DP02_0055PE'\n",
    "\n",
    "high_enroll = 'DP02_0056E'\n",
    "high_enrollP = 'DP02_0056PE'\n",
    "\n",
    "hschool_gradP = 'DP02_0066PE'\n",
    "bach_gradP = 'DP02_0067PE'"
   ]
  },
  {
   "cell_type": "code",
   "execution_count": null,
   "metadata": {},
   "outputs": [],
   "source": [
    "# c.acs5dp.zipcode(median_age, 781)"
   ]
  }
 ]
}