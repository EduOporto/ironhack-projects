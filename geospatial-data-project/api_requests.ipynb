{
 "metadata": {
  "language_info": {
   "codemirror_mode": {
    "name": "ipython",
    "version": 3
   },
   "file_extension": ".py",
   "mimetype": "text/x-python",
   "name": "python",
   "nbconvert_exporter": "python",
   "pygments_lexer": "ipython3",
   "version": "3.8.5-final"
  },
  "orig_nbformat": 2,
  "kernelspec": {
   "name": "python3",
   "display_name": "Python 3.8.5 64-bit",
   "metadata": {
    "interpreter": {
     "hash": "082e9a3bcad0a290d0001e938aa60b99250c6c2ef33a923c00b70f9826caf4b7"
    }
   }
  }
 },
 "nbformat": 4,
 "nbformat_minor": 2,
 "cells": [
  {
   "cell_type": "code",
   "execution_count": 1,
   "metadata": {},
   "outputs": [],
   "source": [
    "from census import Census\n",
    "from us import states\n",
    "from dotenv import load_dotenv\n",
    "from bson import ObjectId\n",
    "from geopy.geocoders import Nominatim\n",
    "geolocator = Nominatim(user_agent='geospatial-data-project')\n",
    "import pgeocode\n",
    "import os\n",
    "cwd = os.getcwd()\n",
    "import pickle"
   ]
  },
  {
   "cell_type": "code",
   "execution_count": 2,
   "metadata": {},
   "outputs": [],
   "source": [
    "from pymongo import MongoClient\n",
    "client = MongoClient()\n",
    "db = client.get_database('companies_project')"
   ]
  },
  {
   "source": [
    "# Feeding companies_usa with census data\n",
    "## Get zips from USA"
   ],
   "cell_type": "markdown",
   "metadata": {}
  },
  {
   "cell_type": "code",
   "execution_count": 271,
   "metadata": {},
   "outputs": [],
   "source": [
    "empty_to_none = db.companies_usa.update_many({'offices.zip_code':''}, {'$set':{'offices.zip_code':None}})"
   ]
  },
  {
   "cell_type": "code",
   "execution_count": 272,
   "metadata": {},
   "outputs": [
    {
     "output_type": "execute_result",
     "data": {
      "text/plain": [
       "{'n': 637, 'nModified': 637, 'ok': 1.0, 'updatedExisting': True}"
      ]
     },
     "metadata": {},
     "execution_count": 272
    }
   ],
   "source": [
    "empty_to_none.raw_result"
   ]
  },
  {
   "cell_type": "code",
   "execution_count": 317,
   "metadata": {},
   "outputs": [],
   "source": [
    "zips = list(db.companies_usa.find({'offices.zip_code':None}, {'_id':1, 'offices.latitude':1, 'offices.longitude':1}))"
   ]
  },
  {
   "cell_type": "code",
   "execution_count": 290,
   "metadata": {},
   "outputs": [],
   "source": [
    "leftovers_zips_usa = []\n",
    "no_post_code = []"
   ]
  },
  {
   "cell_type": "code",
   "execution_count": 297,
   "metadata": {},
   "outputs": [],
   "source": [
    "for zip in zips:\n",
    "    try:\n",
    "        latitude = zip['offices']['latitude']\n",
    "        longitude = zip['offices']['longitude']\n",
    "        id = ObjectId(zip['_id'])\n",
    "        location = geolocator.reverse(f\"{latitude},{longitude}\")\n",
    "        db.companies_usa.update_one({'_id':id}, {'$set':{'offices.zip_code': location.raw['address']['postcode']}})\n",
    "        leftovers_zips_usa.append({'_id':id, 'loc_params':location.raw})\n",
    "    except:\n",
    "        no_post_code.append({'_id':id, 'coord':{'latitude':latitude, 'longitude':longitude}})"
   ]
  },
  {
   "cell_type": "code",
   "execution_count": 315,
   "metadata": {},
   "outputs": [],
   "source": [
    "cwd = os.getcwd()\n",
    "with open(cwd+'/data/usa_docs/leftovers_zips_usa.txt', 'wb') as leftov:\n",
    "    pickle.dump(leftovers_zips_usa, leftov)\n",
    "with open(cwd+'/data/usa_docs/no_post_codes.txt', 'wb') as no_post:\n",
    "    pickle.dump(no_post_code, no_post)"
   ]
  },
  {
   "source": [
    "## Add demographics to companies_usa"
   ],
   "cell_type": "markdown",
   "metadata": {}
  },
  {
   "cell_type": "code",
   "execution_count": 88,
   "metadata": {},
   "outputs": [],
   "source": [
    "load_dotenv()\n",
    "census_api_k = os.getenv('census_api_key')\n",
    "c = Census(census_api_k, year=2018)"
   ]
  },
  {
   "cell_type": "code",
   "execution_count": 91,
   "metadata": {},
   "outputs": [],
   "source": [
    "usa_all = list(db.companies_usa.find({'offices.zip_code':{'$ne':None}, 'offices.demographics':{'$exists':False}}, {'_id':1, 'offices.zip_code':1}))"
   ]
  },
  {
   "cell_type": "code",
   "execution_count": 50,
   "metadata": {},
   "outputs": [],
   "source": [
    "usa_demoquerys = []\n",
    "no_demo_data = []"
   ]
  },
  {
   "cell_type": "code",
   "execution_count": 90,
   "metadata": {},
   "outputs": [],
   "source": [
    "for comp in usa_all:\n",
    "    id = ObjectId(comp['_id'])\n",
    "    zip_code = comp['offices']['zip_code']\n",
    "    try:\n",
    "        demographics = {'age': \n",
    "                            {'median_age': c.acs5dp.zipcode('DP05_0018E', zip_code)[0]['DP05_0018E'], \n",
    "                            'range_25_34': c.acs5dp.zipcode('DP05_0010PE', zip_code)[0]['DP05_0010PE'], \n",
    "                            'range_35_44': c.acs5dp.zipcode('DP05_0011PE', zip_code)[0]['DP05_0011PE']},\n",
    "                        'school': \n",
    "                            {'kinder_enroll': c.acs5dp.zipcode('DP02_0054E', zip_code)[0]['DP02_0054E'], \n",
    "                            'presch_enroll': c.acs5dp.zipcode('DP02_0053E', zip_code)[0]['DP02_0053E'], \n",
    "                            'school_enroll': c.acs5dp.zipcode('DP02_0052E', zip_code)[0]['DP02_0052E'], \n",
    "                            'element_enroll': c.acs5dp.zipcode('DP02_0055E', zip_code)[0]['DP02_0055E'], \n",
    "                            'highsch_enroll': c.acs5dp.zipcode('DP02_0056E', zip_code)[0]['DP02_0056E']},\n",
    "                        'school%': \n",
    "                            {'kinder_enrollP': c.acs5dp.zipcode('DP02_0054PE', zip_code)[0]['DP02_0054PE'], \n",
    "                            'presch_enrollP': c.acs5dp.zipcode('DP02_0053PE', zip_code)[0]['DP02_0053PE'], \n",
    "                            'school_enrollP': c.acs5dp.zipcode('DP02_0052PE', zip_code)[0]['DP02_0052PE'], \n",
    "                            'element_enrollP': c.acs5dp.zipcode('DP02_0055PE', zip_code)[0]['DP02_0055PE'], \n",
    "                            'highsch_enrollP': c.acs5dp.zipcode('DP02_0056PE', zip_code)[0]['DP02_0056PE']},\n",
    "                        'educ_lvl%': \n",
    "                            {'highschP': c.acs5dp.zipcode('DP02_0066PE', zip_code)[0]['DP02_0066PE'], \n",
    "                            'bachelP': c.acs5dp.zipcode('DP02_0067PE', zip_code)[0]['DP02_0067PE']} \n",
    "                        }\n",
    "        db.companies_usa.update_one({'_id':id}, {'$set':{'offices.demographics': demographics}})\n",
    "        usa_demoquerys.append({'_id':id, 'demographics': demographics})\n",
    "    except:\n",
    "        no_demo_data.append({'_id':id, 'zip_code':zip_code})"
   ]
  },
  {
   "cell_type": "code",
   "execution_count": 92,
   "metadata": {},
   "outputs": [],
   "source": [
    "#Change the name\n",
    "with open(cwd+'/data/usa_docs/usa_demo_responses.txt', 'wb') as demoresp:\n",
    "    pickle.dump(usa_demoquerys, demoresp)\n",
    "with open(cwd+'/data/usa_docs/usa_demo_responses_fail.txt', 'wb') as demorespf:\n",
    "    pickle.dump(no_demo_data, demorespf)"
   ]
  },
  {
   "source": [
    "## Get zips from Europe"
   ],
   "cell_type": "markdown",
   "metadata": {}
  },
  {
   "cell_type": "code",
   "execution_count": 14,
   "metadata": {},
   "outputs": [],
   "source": [
    "europe_all = list(db.companies_europe.find({}, {'_id':1, 'offices.latitude':1, 'offices.longitude':1}))"
   ]
  },
  {
   "cell_type": "code",
   "execution_count": 18,
   "metadata": {},
   "outputs": [],
   "source": [
    "eu_location_responses = []"
   ]
  },
  {
   "cell_type": "code",
   "execution_count": 21,
   "metadata": {},
   "outputs": [],
   "source": [
    "for comp in europe_all:\n",
    "    latitude = comp['offices']['latitude']\n",
    "    longitude = comp['offices']['longitude']\n",
    "    id = ObjectId(comp['_id'])\n",
    "    location = geolocator.reverse(f\"{latitude},{longitude}\")\n",
    "    db.companies_europe.update_one({'_id':id}, {'$set':{'offices.more_location': location.raw}})\n",
    "    eu_location_responses.append({'_id':id, 'loc_params':location.raw})"
   ]
  },
  {
   "cell_type": "code",
   "execution_count": 29,
   "metadata": {},
   "outputs": [],
   "source": [
    "with open(cwd+'/data/eurostat_docs/eu_loc_responses.txt', 'wb') as locresp:\n",
    "    pickle.dump(eu_location_responses, locresp)"
   ]
  }
 ]
}