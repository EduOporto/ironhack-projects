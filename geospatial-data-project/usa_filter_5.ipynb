{
 "metadata": {
  "language_info": {
   "codemirror_mode": {
    "name": "ipython",
    "version": 3
   },
   "file_extension": ".py",
   "mimetype": "text/x-python",
   "name": "python",
   "nbconvert_exporter": "python",
   "pygments_lexer": "ipython3",
   "version": "3.8.5-final"
  },
  "orig_nbformat": 2,
  "kernelspec": {
   "name": "python3",
   "display_name": "Python 3.8.5 64-bit",
   "metadata": {
    "interpreter": {
     "hash": "082e9a3bcad0a290d0001e938aa60b99250c6c2ef33a923c00b70f9826caf4b7"
    }
   }
  }
 },
 "nbformat": 4,
 "nbformat_minor": 2,
 "cells": [
  {
   "source": [
    "# Airports around\n",
    "\n",
    "By last, I will filter the remaining candidates by its proximity to any airport or airports. In order to accomplish that goal, I will use the Lufthansa Public API, which has a functionality that gives you the five closest airports of a given coordinate and its distance in kilometers. Let's perform the operation"
   ],
   "cell_type": "markdown",
   "metadata": {}
  },
  {
   "cell_type": "code",
   "execution_count": 76,
   "metadata": {},
   "outputs": [],
   "source": [
    "from dotenv import load_dotenv\n",
    "from bson import ObjectId\n",
    "import json, requests\n",
    "from statistics import mean"
   ]
  },
  {
   "cell_type": "code",
   "execution_count": 2,
   "metadata": {},
   "outputs": [],
   "source": [
    "from pymongo import MongoClient\n",
    "client = MongoClient()\n",
    "db = client.get_database('companies_project')"
   ]
  },
  {
   "cell_type": "code",
   "execution_count": 3,
   "metadata": {},
   "outputs": [],
   "source": [
    "candidates = list(db.companies_usa_filt4.find({},{'coord':1}))"
   ]
  },
  {
   "cell_type": "code",
   "execution_count": 5,
   "metadata": {},
   "outputs": [],
   "source": [
    "load_dotenv()\n",
    "lufthansa_id = os.getenv('lufthansa_id')\n",
    "lufthansa_secret = os.getenv('lufthansa_secret')"
   ]
  },
  {
   "cell_type": "code",
   "execution_count": 47,
   "metadata": {},
   "outputs": [],
   "source": [
    "for cand in candidates[1:]:\n",
    "    latitude = cand['coord']['coordinates'][1]\n",
    "    longitude = cand['coord']['coordinates'][0]\n",
    "    id = ObjectId(cand['_id'])\n",
    "    \n",
    "    request = 'https://api.lufthansa.com/v1/oauth/token'\n",
    "    header_auth = {\n",
    "                'client_id' : f'{lufthansa_id}',\n",
    "                'client_secret': f'{lufthansa_secret}', \n",
    "                'grant_type' : 'client_credentials'}      \n",
    "\n",
    "    r = requests.post(request, data = header_auth)\n",
    "    j = r.json()\n",
    "    token = j['access_token']\n",
    "    header = { 'Authorization': 'Bearer ' + str(token), 'Accept': 'application/json'}\n",
    "\n",
    "    resp = requests.get(f'https://api.lufthansa.com/v1/references/airports/nearest/{latitude},{longitude}?lang=en', headers=header)\n",
    "    data_air = json.loads(resp.text)\n",
    "\n",
    "    data_format = {}\n",
    "    index = 0\n",
    "    for airp in data_air['NearestAirportResource']['Airports']['Airport']:\n",
    "        airp['Names']['Name']['name'] = airp['Names']['Name']['$']\n",
    "        del airp['Names']['Name']['$']\n",
    "        \n",
    "        data_format[str(index)] = airp\n",
    "        index += 1\n",
    "    \n",
    "    db.companies_usa_filt4.update_one({'_id':id}, {'$set':{'offices.airports': data_format}})"
   ]
  },
  {
   "source": [
    "Now all our candidates have listed its five closest airports. Let's extract the median distance in kilometers for all of them, so we can rank the candidates."
   ],
   "cell_type": "markdown",
   "metadata": {}
  },
  {
   "cell_type": "code",
   "execution_count": 48,
   "metadata": {},
   "outputs": [],
   "source": [
    "airports = list(db.companies_usa_filt4.find({}, {'offices.airports':1}))"
   ]
  },
  {
   "cell_type": "code",
   "execution_count": 80,
   "metadata": {
    "tags": []
   },
   "outputs": [],
   "source": [
    "for airp in airports:\n",
    "    id = ObjectId(airp['_id'])\n",
    "    mean_dist = []\n",
    "    for a in airp['offices']['airports']:\n",
    "        mean_dist.append(airp['offices']['airports'][a]['Distance']['Value'])\n",
    "    mean_add = mean(mean_dist)\n",
    "    db.companies_usa_filt4.update_one({'_id':id}, {'$set':{'offices.airports.mean_dist': mean_add}})"
   ]
  },
  {
   "cell_type": "code",
   "execution_count": 95,
   "metadata": {},
   "outputs": [],
   "source": [
    "dist_to_airp = list(db.companies_usa_filt4.find({}, {'offices.airports.mean_dist':1}))"
   ]
  },
  {
   "cell_type": "code",
   "execution_count": 98,
   "metadata": {},
   "outputs": [
    {
     "output_type": "execute_result",
     "data": {
      "text/plain": [
       "{42.2, 42.4, 42.6, 42.8, 43, 45.4, 60.6, 60.8, 61, 61.2, 86.6, 88.8}"
      ]
     },
     "metadata": {},
     "execution_count": 98
    }
   ],
   "source": [
    "unique_val = set([ap['offices']['airports']['mean_dist'] for ap in dist_to_airp])\n",
    "unique_val"
   ]
  },
  {
   "source": [
    "There are mean values from 42 kilometers to 89. Let's take those which mean distance to its five airports is less than or equal to 42.5 kilometers."
   ],
   "cell_type": "markdown",
   "metadata": {}
  },
  {
   "cell_type": "code",
   "execution_count": 110,
   "metadata": {},
   "outputs": [
    {
     "output_type": "execute_result",
     "data": {
      "text/plain": [
       "['Seattle', 'New York', 'New York']"
      ]
     },
     "metadata": {},
     "execution_count": 110
    }
   ],
   "source": [
    "offices_5 = list(db.companies_usa_filt4.find({'offices.airports.mean_dist':{'$lte':42.5}}))\n",
    "[off['offices']['city'] for off in offices_5]"
   ]
  },
  {
   "source": [
    "After apply the last filter I end up with three final candidates: two of them in New York, and one in Seattle. Let's take them to a last collection and show the results in a map."
   ],
   "cell_type": "markdown",
   "metadata": {}
  },
  {
   "cell_type": "code",
   "execution_count": 111,
   "metadata": {},
   "outputs": [
    {
     "output_type": "execute_result",
     "data": {
      "text/plain": [
       "<pymongo.results.InsertManyResult at 0x7ffbe5ae85c0>"
      ]
     },
     "metadata": {},
     "execution_count": 111
    }
   ],
   "source": [
    "db.companies_usa_filt5.insert_many(offices_5)"
   ]
  }
 ]
}