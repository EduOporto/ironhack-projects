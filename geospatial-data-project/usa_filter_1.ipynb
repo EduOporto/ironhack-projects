{
 "metadata": {
  "language_info": {
   "codemirror_mode": {
    "name": "ipython",
    "version": 3
   },
   "file_extension": ".py",
   "mimetype": "text/x-python",
   "name": "python",
   "nbconvert_exporter": "python",
   "pygments_lexer": "ipython3",
   "version": "3.8.5-final"
  },
  "orig_nbformat": 2,
  "kernelspec": {
   "name": "python3",
   "display_name": "Python 3.8.5 64-bit",
   "metadata": {
    "interpreter": {
     "hash": "082e9a3bcad0a290d0001e938aa60b99250c6c2ef33a923c00b70f9826caf4b7"
    }
   }
  }
 },
 "nbformat": 4,
 "nbformat_minor": 2,
 "cells": [
  {
   "cell_type": "code",
   "execution_count": 1,
   "metadata": {},
   "outputs": [],
   "source": [
    "from census import Census\n",
    "from dotenv import load_dotenv\n",
    "from bson import ObjectId\n",
    "from geopy.geocoders import Nominatim\n",
    "geolocator = Nominatim(user_agent='geospatial-data-project')"
   ]
  },
  {
   "cell_type": "code",
   "execution_count": 2,
   "metadata": {},
   "outputs": [],
   "source": [
    "from pymongo import MongoClient\n",
    "client = MongoClient()\n",
    "db = client.get_database('companies_project')"
   ]
  },
  {
   "source": [
    "# Feeding companies_usa with census data\n",
    "## Get zips from USA"
   ],
   "cell_type": "markdown",
   "metadata": {}
  },
  {
   "cell_type": "code",
   "execution_count": 271,
   "metadata": {},
   "outputs": [],
   "source": [
    "empty_to_none = db.companies_usa.update_many({'offices.zip_code':''}, {'$set':{'offices.zip_code':None}})"
   ]
  },
  {
   "cell_type": "code",
   "execution_count": 272,
   "metadata": {},
   "outputs": [
    {
     "output_type": "execute_result",
     "data": {
      "text/plain": [
       "{'n': 637, 'nModified': 637, 'ok': 1.0, 'updatedExisting': True}"
      ]
     },
     "metadata": {},
     "execution_count": 272
    }
   ],
   "source": [
    "empty_to_none.raw_result"
   ]
  },
  {
   "cell_type": "code",
   "execution_count": 3,
   "metadata": {},
   "outputs": [],
   "source": [
    "zips = list(db.companies_usa.find({'offices.zip_code':None}, {'_id':1, 'offices.latitude':1, 'offices.longitude':1}))"
   ]
  },
  {
   "cell_type": "code",
   "execution_count": null,
   "metadata": {},
   "outputs": [],
   "source": [
    "for zip in zips:\n",
    "    latitude = zip['offices']['latitude']\n",
    "    longitude = zip['offices']['longitude']\n",
    "    id = ObjectId(zip['_id'])\n",
    "    try:\n",
    "        location = geolocator.reverse(f\"{latitude},{longitude}\")\n",
    "        db.companies_usa.update_one({'_id':id}, {'$set':{'offices.zip_code': location.raw['address']['postcode']}})\n",
    "        leftovers_zips_usa.append({'_id':id, 'loc_params':location.raw})\n",
    "    except:\n",
    "        location = geolocator.reverse(f\"{latitude},{longitude}\")\n",
    "        db.companies_usa.update_one({'_id':id}, {'$set':{'offices.more_location': location.raw}})\n",
    "        no_post_code.append({'_id':id, 'coord':{'latitude':latitude, 'longitude':longitude}})"
   ]
  },
  {
   "source": [
    "## Add demographics to companies_usa"
   ],
   "cell_type": "markdown",
   "metadata": {}
  },
  {
   "cell_type": "code",
   "execution_count": 30,
   "metadata": {},
   "outputs": [],
   "source": [
    "load_dotenv()\n",
    "census_api_k = os.getenv('census_api_key')\n",
    "c = Census(census_api_k, year=2018)"
   ]
  },
  {
   "cell_type": "code",
   "execution_count": 57,
   "metadata": {},
   "outputs": [],
   "source": [
    "def demographics_age(finded):\n",
    "    counter = 0\n",
    "    for comp in finded:\n",
    "        id = ObjectId(comp['_id'])\n",
    "        zip_code = comp['offices']['zip_code']\n",
    "        try:\n",
    "            demographics = {'age': \n",
    "                                {'median_age': c.acs5dp.zipcode('DP05_0018E', zip_code)[0]['DP05_0018E'], \n",
    "                                'range_25_34': c.acs5dp.zipcode('DP05_0010PE', zip_code)[0]['DP05_0010PE'], \n",
    "                                'range_35_44': c.acs5dp.zipcode('DP05_0011PE', zip_code)[0]['DP05_0011PE']}\n",
    "                            }\n",
    "            db.companies_usa.update_one({'_id':id}, {'$set':{'offices.demographics': demographics}})\n",
    "        except:\n",
    "            counter += 1\n",
    "    return f'Failed to append demographics in {counter} documents'"
   ]
  },
  {
   "cell_type": "code",
   "execution_count": null,
   "metadata": {},
   "outputs": [],
   "source": [
    "usa_all = list(db.companies_usa.find({'offices.zip_code':{'$ne':None}, 'offices.demographics':{'$exists':False}}, {'_id':1, 'offices.zip_code':1}))\n",
    "demographics_age(usa_all)"
   ]
  },
  {
   "source": [
    "### Some zips are longer than expected"
   ],
   "cell_type": "markdown",
   "metadata": {}
  },
  {
   "cell_type": "code",
   "execution_count": 49,
   "metadata": {},
   "outputs": [
    {
     "output_type": "execute_result",
     "data": {
      "text/plain": [
       "525"
      ]
     },
     "metadata": {},
     "execution_count": 49
    }
   ],
   "source": [
    "long_zips = list(db.companies_usa.find({'offices.demographics':{'$exists':False}, 'offices.zip_code':{'$ne':None}}, {'_id':1, 'offices.zip_code':1}))\n",
    "len(long_zips)"
   ]
  },
  {
   "cell_type": "code",
   "execution_count": 54,
   "metadata": {},
   "outputs": [],
   "source": [
    "for lzip in long_zips:\n",
    "    lzip['offices']['zip_code'] = lzip['offices']['zip_code'][:5]"
   ]
  },
  {
   "cell_type": "code",
   "execution_count": 58,
   "metadata": {},
   "outputs": [
    {
     "output_type": "execute_result",
     "data": {
      "text/plain": [
       "'Failed to append demographics in 255 documents'"
      ]
     },
     "metadata": {},
     "execution_count": 58
    }
   ],
   "source": [
    "demographics_age(long_zips)"
   ]
  },
  {
   "cell_type": "code",
   "execution_count": 63,
   "metadata": {},
   "outputs": [
    {
     "output_type": "stream",
     "name": "stdout",
     "text": [
      "There are 7304 documents with demographic data and 296 without\n"
     ]
    }
   ],
   "source": [
    "have_demo = len(list(db.companies_usa.find({'offices.demographics':{'$exists':True}})))\n",
    "no_demo = len(list(db.companies_usa.find({'offices.demographics':{'$exists':False}})))\n",
    "print(f\"There are {have_demo} documents with demographic data and {no_demo} without\")"
   ]
  },
  {
   "source": [
    "## Filter and new collection"
   ],
   "cell_type": "markdown",
   "metadata": {}
  },
  {
   "cell_type": "code",
   "execution_count": 71,
   "metadata": {},
   "outputs": [],
   "source": [
    "age_filtered = list(db.companies_usa.find({'offices.demographics.age.median_age':{'$lte':40}, \n",
    "                                           '$where': '[this.offices.demographics.age.range_25_34 + this.offices.demographics.age.range_35_44] >= 45'}))"
   ]
  },
  {
   "cell_type": "code",
   "execution_count": 72,
   "metadata": {},
   "outputs": [
    {
     "output_type": "execute_result",
     "data": {
      "text/plain": [
       "1390"
      ]
     },
     "metadata": {},
     "execution_count": 72
    }
   ],
   "source": [
    "len(age_filtered)"
   ]
  },
  {
   "cell_type": "code",
   "execution_count": 74,
   "metadata": {},
   "outputs": [
    {
     "output_type": "execute_result",
     "data": {
      "text/plain": [
       "<pymongo.results.InsertManyResult at 0x7f828152d880>"
      ]
     },
     "metadata": {},
     "execution_count": 74
    }
   ],
   "source": [
    "db.companies_usa_filt1.insert_many(age_filtered)"
   ]
  }
 ]
}