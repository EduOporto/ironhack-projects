{
 "metadata": {
  "language_info": {
   "codemirror_mode": {
    "name": "ipython",
    "version": 3
   },
   "file_extension": ".py",
   "mimetype": "text/x-python",
   "name": "python",
   "nbconvert_exporter": "python",
   "pygments_lexer": "ipython3",
   "version": "3.8.5-final"
  },
  "orig_nbformat": 2,
  "kernelspec": {
   "name": "python37464bitanaconda3condae88754a2382d478085e26b412211ec7e",
   "display_name": "Python 3.7.4 64-bit ('anaconda3': conda)"
  }
 },
 "nbformat": 4,
 "nbformat_minor": 2,
 "cells": [
  {
   "cell_type": "code",
   "execution_count": 1,
   "metadata": {},
   "outputs": [],
   "source": [
    "from census import Census\n",
    "from dotenv import load_dotenv\n",
    "from bson import ObjectId"
   ]
  },
  {
   "cell_type": "code",
   "execution_count": 2,
   "metadata": {},
   "outputs": [],
   "source": [
    "from pymongo import MongoClient\n",
    "client = MongoClient()\n",
    "db = client.get_database('companies_project')"
   ]
  },
  {
   "cell_type": "code",
   "execution_count": 3,
   "metadata": {},
   "outputs": [],
   "source": [
    "load_dotenv()\n",
    "census_api_k = os.getenv('census_api_key')\n",
    "c = Census(census_api_k, year=2018)"
   ]
  },
  {
   "cell_type": "code",
   "execution_count": 14,
   "metadata": {},
   "outputs": [],
   "source": [
    "offices = list(db.companies_usa_filt1.find({'offices.demographics.school%':{'$exists':False}}, {'_id':1, 'offices.zip_code':1}))"
   ]
  },
  {
   "cell_type": "code",
   "execution_count": 11,
   "metadata": {},
   "outputs": [],
   "source": [
    "def schooling(finded):\n",
    "    counter = 0\n",
    "    for comp in finded:\n",
    "        id = ObjectId(comp['_id'])\n",
    "        zip_code = comp['offices']['zip_code'][:5]\n",
    "        try:\n",
    "            schoolP = {'kinder_enrollP': c.acs5dp.zipcode('DP02_0054PE', zip_code)[0]['DP02_0054PE'], \n",
    "                       'presch_enrollP': c.acs5dp.zipcode('DP02_0053PE', zip_code)[0]['DP02_0053PE'], \n",
    "                       'element_enrollP': c.acs5dp.zipcode('DP02_0055PE', zip_code)[0]['DP02_0055PE']}\n",
    "            educ_lvlP = {'highschP': c.acs5dp.zipcode('DP02_0066PE', zip_code)[0]['DP02_0066PE'],\n",
    "                         'bachelP': c.acs5dp.zipcode('DP02_0067PE', zip_code)[0]['DP02_0067PE']} \n",
    "            db.companies_usa_filt1.update_one({'_id':id}, {'$set':{'offices.demographics.school%': schoolP}})\n",
    "            db.companies_usa_filt1.update_one({'_id':id}, {'$set':{'offices.demographics.educ_lvl%': educ_lvlP}})\n",
    "        except:\n",
    "            counter += 1\n",
    "    return f'Failed to append schooling in {counter} documents'"
   ]
  },
  {
   "cell_type": "code",
   "execution_count": 15,
   "metadata": {},
   "outputs": [
    {
     "output_type": "execute_result",
     "data": {
      "text/plain": [
       "'Failed to append schooling in 0 documents'"
      ]
     },
     "metadata": {},
     "execution_count": 15
    }
   ],
   "source": [
    "schooling(offices)"
   ]
  }
 ]
}