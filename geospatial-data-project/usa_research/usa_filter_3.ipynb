{
 "metadata": {
  "language_info": {
   "codemirror_mode": {
    "name": "ipython",
    "version": 3
   },
   "file_extension": ".py",
   "mimetype": "text/x-python",
   "name": "python",
   "nbconvert_exporter": "python",
   "pygments_lexer": "ipython3",
   "version": "3.8.5-final"
  },
  "orig_nbformat": 2,
  "kernelspec": {
   "name": "python3",
   "display_name": "Python 3.8.5 64-bit",
   "metadata": {
    "interpreter": {
     "hash": "082e9a3bcad0a290d0001e938aa60b99250c6c2ef33a923c00b70f9826caf4b7"
    }
   }
  }
 },
 "nbformat": 4,
 "nbformat_minor": 2,
 "cells": [
  {
   "source": [
    "# Schooling"
   ],
   "cell_type": "markdown",
   "metadata": {}
  },
  {
   "cell_type": "code",
   "execution_count": 1,
   "metadata": {},
   "outputs": [],
   "source": [
    "from census import Census\n",
    "from dotenv import load_dotenv\n",
    "from bson import ObjectId\n",
    "import json, requests"
   ]
  },
  {
   "cell_type": "code",
   "execution_count": 2,
   "metadata": {},
   "outputs": [],
   "source": [
    "from pymongo import MongoClient\n",
    "client = MongoClient()\n",
    "db = client.get_database('companies_project')"
   ]
  },
  {
   "source": [
    "In this third filter I will add to the candidates the results of some queries for scholarization ratios and the education level of each of the places, extracted from the Census API. This data will be hosted inside 'offices.demographics'.\n"
   ],
   "cell_type": "markdown",
   "metadata": {}
  },
  {
   "cell_type": "code",
   "execution_count": 3,
   "metadata": {},
   "outputs": [],
   "source": [
    "load_dotenv()\n",
    "census_api_k = os.getenv('census_api_key')\n",
    "c = Census(census_api_k, year=2018)"
   ]
  },
  {
   "cell_type": "code",
   "execution_count": 4,
   "metadata": {},
   "outputs": [],
   "source": [
    "def schooling(finded):\n",
    "    counter = 0\n",
    "    for comp in finded:\n",
    "        id = ObjectId(comp['_id'])\n",
    "        zip_code = comp['offices']['zip_code'][:5]\n",
    "        try:\n",
    "            schoolP = {'kinder_enrollP': c.acs5dp.zipcode('DP02_0054PE', zip_code)[0]['DP02_0054PE'], \n",
    "                       'presch_enrollP': c.acs5dp.zipcode('DP02_0053PE', zip_code)[0]['DP02_0053PE'], \n",
    "                       'element_enrollP': c.acs5dp.zipcode('DP02_0055PE', zip_code)[0]['DP02_0055PE']}\n",
    "            educ_lvlP = {'highschP': c.acs5dp.zipcode('DP02_0066PE', zip_code)[0]['DP02_0066PE'],\n",
    "                         'bachelP': c.acs5dp.zipcode('DP02_0067PE', zip_code)[0]['DP02_0067PE']} \n",
    "            db.companies_usa_filt1.update_one({'_id':id}, {'$set':{'offices.demographics.school%': schoolP}})\n",
    "            db.companies_usa_filt1.update_one({'_id':id}, {'$set':{'offices.demographics.educ_lvl%': educ_lvlP}})\n",
    "        except:\n",
    "            counter += 1\n",
    "    return f'Failed to append schooling in {counter} documents'"
   ]
  },
  {
   "cell_type": "code",
   "execution_count": 140,
   "metadata": {},
   "outputs": [],
   "source": [
    "offices = list(db.companies_usa_filt2.find({}, {'_id':1, 'offices.zip_code':1}))"
   ]
  },
  {
   "cell_type": "code",
   "execution_count": 15,
   "metadata": {},
   "outputs": [
    {
     "output_type": "execute_result",
     "data": {
      "text/plain": [
       "'Failed to append schooling in 0 documents'"
      ]
     },
     "metadata": {},
     "execution_count": 15
    }
   ],
   "source": [
    "schooling(offices)"
   ]
  },
  {
   "source": [
    "I will just take those places where the ratios of enrollment for kindergardens, preschool and elementary school is equal or higher than 4%; and where the ratio of people graduated in either highschool or higher, or bachelor or higher is more than 75%."
   ],
   "cell_type": "markdown",
   "metadata": {}
  },
  {
   "cell_type": "code",
   "execution_count": 5,
   "metadata": {},
   "outputs": [],
   "source": [
    "offices_edu = list(db.companies_usa_filt2_c.find({'offices.demographics.school%.kinder_enrollP':{'$gte':4},\n",
    "                                                'offices.demographics.school%.presch_enrollP':{'$gte':4},\n",
    "                                                'offices.demographics.school%.element_enrollP':{'$gte':4},\n",
    "                                                'offices.demographics.educ_lvl%.highschP':{'$gte':75},\n",
    "                                                'offices.demographics.educ_lvl%.bachelP':{'$gte':75}}))"
   ]
  },
  {
   "cell_type": "code",
   "execution_count": 6,
   "metadata": {},
   "outputs": [
    {
     "output_type": "execute_result",
     "data": {
      "text/plain": [
       "104"
      ]
     },
     "metadata": {},
     "execution_count": 6
    }
   ],
   "source": [
    "len(offices_edu)"
   ]
  },
  {
   "source": [
    "This left me with 104 candidates. Let's check now, for each of those, how many schools are within a 8-kilometer radius area. I will use the Google Places API for that purpose."
   ],
   "cell_type": "markdown",
   "metadata": {}
  },
  {
   "cell_type": "code",
   "execution_count": 64,
   "metadata": {},
   "outputs": [],
   "source": [
    "load_dotenv()\n",
    "goog_cloud_k = os.getenv('google_cloud')"
   ]
  },
  {
   "cell_type": "code",
   "execution_count": 103,
   "metadata": {},
   "outputs": [],
   "source": [
    "def schools_around(places):\n",
    "    for office in places:\n",
    "        latitude = office['offices']['latitude']\n",
    "        longitude = office['offices']['longitude']\n",
    "        id = ObjectId(office['_id'])\n",
    "        \n",
    "        url = 'https://maps.googleapis.com/maps/api/place/nearbysearch/json?'\n",
    "        params = dict(\n",
    "            location = f\"{latitude},{longitude}\",\n",
    "            radius = '8000',\n",
    "            keyword = 'school',\n",
    "            type = 'primary_school',\n",
    "            key = f\"{goog_cloud_k}\")\n",
    "\n",
    "        resp = requests.get(url=url, params=params)\n",
    "        data = json.loads(resp.text)\n",
    "\n",
    "        data_format = {}\n",
    "        index = 0\n",
    "        for school in data['results']:\n",
    "            data_format[str(index)] = school\n",
    "            index += 1\n",
    "\n",
    "        db.companies_usa_filt1.update_one({'_id':id}, {'$set':{'offices.schools': data_format}})"
   ]
  },
  {
   "cell_type": "code",
   "execution_count": 104,
   "metadata": {},
   "outputs": [],
   "source": [
    "schools_around(offices_edu)"
   ]
  },
  {
   "source": [
    "Let's check now if there are any place where the number of schools around is lower than usual."
   ],
   "cell_type": "markdown",
   "metadata": {
    "tags": []
   }
  },
  {
   "cell_type": "code",
   "execution_count": 7,
   "metadata": {},
   "outputs": [
    {
     "output_type": "stream",
     "name": "stdout",
     "text": [
      "{20}\n"
     ]
    }
   ],
   "source": [
    "amount = []\n",
    "for off in offices_edu:\n",
    "    counter = 0\n",
    "    for school in off['offices']['schools']:\n",
    "        counter += 1\n",
    "    amount.append(counter)\n",
    "print(set(amount))"
   ]
  },
  {
   "source": [
    "As it can be seen, all the places have 20 or more schools 8 kilometers away or less. So there are 104 candidates left for the next filter. Let's save them into the database as a new collection and move onto the next filter."
   ],
   "cell_type": "markdown",
   "metadata": {}
  },
  {
   "cell_type": "code",
   "execution_count": 8,
   "metadata": {},
   "outputs": [
    {
     "output_type": "execute_result",
     "data": {
      "text/plain": [
       "<pymongo.results.InsertManyResult at 0x7ffd7168a600>"
      ]
     },
     "metadata": {},
     "execution_count": 8
    }
   ],
   "source": [
    "db.companies_usa_filt3_c.insert_many(offices_edu)"
   ]
  }
 ]
}