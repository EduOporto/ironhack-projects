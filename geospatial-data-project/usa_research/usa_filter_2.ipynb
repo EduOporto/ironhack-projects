{
 "metadata": {
  "language_info": {
   "codemirror_mode": {
    "name": "ipython",
    "version": 3
   },
   "file_extension": ".py",
   "mimetype": "text/x-python",
   "name": "python",
   "nbconvert_exporter": "python",
   "pygments_lexer": "ipython3",
   "version": "3.8.5-final"
  },
  "orig_nbformat": 2,
  "kernelspec": {
   "name": "python3",
   "display_name": "Python 3.8.5 64-bit",
   "metadata": {
    "interpreter": {
     "hash": "082e9a3bcad0a290d0001e938aa60b99250c6c2ef33a923c00b70f9826caf4b7"
    }
   }
  }
 },
 "nbformat": 4,
 "nbformat_minor": 2,
 "cells": [
  {
   "source": [
    "# Nightclubs and bars"
   ],
   "cell_type": "markdown",
   "metadata": {}
  },
  {
   "cell_type": "code",
   "execution_count": 1,
   "metadata": {},
   "outputs": [],
   "source": [
    "from dotenv import load_dotenv\n",
    "import json, requests\n",
    "from bson import ObjectId"
   ]
  },
  {
   "cell_type": "code",
   "execution_count": 2,
   "metadata": {},
   "outputs": [],
   "source": [
    "from pymongo import MongoClient\n",
    "client = MongoClient()\n",
    "db = client.get_database('companies_project')"
   ]
  },
  {
   "source": [
    "In this filter I will check the number of bars and nightclubs in a 10-kilometer radius around each of the offices, through the Foursquare Places API, in order to ensure that the candidates are surrounded by a proper leisure offer for our employees. "
   ],
   "cell_type": "markdown",
   "metadata": {}
  },
  {
   "cell_type": "code",
   "execution_count": 3,
   "metadata": {},
   "outputs": [],
   "source": [
    "offices = list(db.companies_usa_filt1.find({}, {'_id':1, 'offices.latitude':1, 'offices.longitude':1,}))"
   ]
  },
  {
   "cell_type": "code",
   "execution_count": 5,
   "metadata": {},
   "outputs": [],
   "source": [
    "load_dotenv()\n",
    "foursq_api_id = os.getenv('foursquare_id')\n",
    "foursq_api_k = os.getenv('foursquare_key')"
   ]
  },
  {
   "cell_type": "code",
   "execution_count": 7,
   "metadata": {},
   "outputs": [],
   "source": [
    "for office in offices[1:]:\n",
    "    # Get latitude, longitude and id of the document\n",
    "    latitude = office['offices']['latitude']\n",
    "    longitude = office['offices']['longitude']\n",
    "    id = ObjectId(office['_id'])\n",
    "\n",
    "    # Set the requesto to Foursquare API, with its parameters (keys, latitude&longitude, 10,000 radius, 'Nightlife Spot' as categoryId and version_date)\n",
    "    url = 'https://api.foursquare.com/v2/venues/search'\n",
    "    params = dict(\n",
    "        client_id = f\"{foursq_api_id}\",\n",
    "        client_secret = f\"{foursq_api_k}\",\n",
    "        ll = f\"{latitude},{longitude}\",\n",
    "        radius = '10000',\n",
    "        categoryId = '4d4b7105d754a06376d81259',\n",
    "        v = 20201115)\n",
    "    \n",
    "    # Do the request and get the data\n",
    "    resp = requests.get(url=url, params=params)\n",
    "    data = json.loads(resp.text)\n",
    "    # Organize the data as dict of dicts, where the keys will go from 0 to the number of results - 1 and the values will be each of the found venues\n",
    "    data_format = {}\n",
    "    index = 0\n",
    "    for venue in data['response']['venues']:\n",
    "        data_format[str(index)] = venue\n",
    "        index += 1\n",
    "    data_format['n_venues'] = len(data_format)\n",
    "\n",
    "    # Update the document with a new section, called 'nightlife_spots'\n",
    "    db.companies_usa_filt1.update_one({'_id':id}, {'$set':{'offices.nightlife_spots': data_format}})"
   ]
  },
  {
   "source": [
    "Let's check how many of those candidates are surrounded by 25 or more venues."
   ],
   "cell_type": "markdown",
   "metadata": {}
  },
  {
   "cell_type": "code",
   "execution_count": 16,
   "metadata": {},
   "outputs": [],
   "source": [
    "offices_2 = list(db.companies_usa_filt1.find({'offices.nightlife_spots.n_venues':{'$gte':25}}))"
   ]
  },
  {
   "cell_type": "code",
   "execution_count": 17,
   "metadata": {},
   "outputs": [
    {
     "output_type": "execute_result",
     "data": {
      "text/plain": [
       "1382"
      ]
     },
     "metadata": {},
     "execution_count": 17
    }
   ],
   "source": [
    "len(offices_2)"
   ]
  },
  {
   "source": [
    "There are 1382 candidates that have 25 or more nightclubs and bars in a 10-kilometer radius. Let's save them into the database as a new collection and move onto the next filter."
   ],
   "cell_type": "markdown",
   "metadata": {}
  },
  {
   "cell_type": "code",
   "execution_count": 18,
   "metadata": {},
   "outputs": [
    {
     "output_type": "execute_result",
     "data": {
      "text/plain": [
       "<pymongo.results.InsertManyResult at 0x7fb0639f1340>"
      ]
     },
     "metadata": {},
     "execution_count": 18
    }
   ],
   "source": [
    "db.companies_usa_filt2_c.insert_many(offices_2)"
   ]
  }
 ]
}