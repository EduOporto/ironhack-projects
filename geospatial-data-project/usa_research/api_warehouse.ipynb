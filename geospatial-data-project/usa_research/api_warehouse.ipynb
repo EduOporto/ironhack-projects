{
 "metadata": {
  "language_info": {
   "codemirror_mode": {
    "name": "ipython",
    "version": 3
   },
   "file_extension": ".py",
   "mimetype": "text/x-python",
   "name": "python",
   "nbconvert_exporter": "python",
   "pygments_lexer": "ipython3",
   "version": "3.8.5-final"
  },
  "orig_nbformat": 2,
  "kernelspec": {
   "name": "python3",
   "display_name": "Python 3.8.5 64-bit",
   "metadata": {
    "interpreter": {
     "hash": "082e9a3bcad0a290d0001e938aa60b99250c6c2ef33a923c00b70f9826caf4b7"
    }
   }
  }
 },
 "nbformat": 4,
 "nbformat_minor": 2,
 "cells": [
  {
   "cell_type": "code",
   "execution_count": 1,
   "metadata": {},
   "outputs": [],
   "source": [
    "from pymongo import MongoClient\n",
    "client = MongoClient()\n",
    "db = client.get_database('companies_project')"
   ]
  },
  {
   "cell_type": "code",
   "execution_count": 5,
   "metadata": {},
   "outputs": [],
   "source": [
    "from dotenv import load_dotenv\n",
    "import json, requests"
   ]
  },
  {
   "cell_type": "code",
   "execution_count": 8,
   "metadata": {},
   "outputs": [],
   "source": [
    "usa_offices = list(db.companies_usa.find({'offices.demographics':{'$exists':True}}, {'offices.latitude':1, 'offices.longitude':1}))"
   ]
  },
  {
   "cell_type": "code",
   "execution_count": 11,
   "metadata": {},
   "outputs": [],
   "source": [
    "latitude = usa_offices[0]['offices']['latitude']\n",
    "longitude = usa_offices[0]['offices']['longitude']"
   ]
  },
  {
   "source": [
    "## Nightlife spots at 10km radius (Foursquare)"
   ],
   "cell_type": "markdown",
   "metadata": {}
  },
  {
   "cell_type": "code",
   "execution_count": 96,
   "metadata": {},
   "outputs": [],
   "source": [
    "load_dotenv()\n",
    "foursq_api_id = os.getenv('foursquare_id')\n",
    "foursq_api_k = os.getenv('foursquare_key')"
   ]
  },
  {
   "cell_type": "code",
   "execution_count": 167,
   "metadata": {},
   "outputs": [],
   "source": [
    "# Foursquare categories: https://developer.foursquare.com/docs/build-with-foursquare/categories/\n",
    "\n",
    "url = 'https://api.foursquare.com/v2/venues/search'\n",
    "\n",
    "params = dict(\n",
    "    client_id = f\"{foursq_api_id}\",\n",
    "    client_secret = f\"{foursq_api_k}\",\n",
    "    ll = f\"{latitude},{longitude}\",\n",
    "    radius = '10000',\n",
    "    categoryId = '4d4b7105d754a06376d81259',\n",
    "    v = 20201115)"
   ]
  },
  {
   "cell_type": "code",
   "execution_count": 168,
   "metadata": {},
   "outputs": [],
   "source": [
    "resp = requests.get(url=url, params=params)\n",
    "data = json.loads(resp.text)"
   ]
  },
  {
   "cell_type": "code",
   "execution_count": 170,
   "metadata": {},
   "outputs": [
    {
     "output_type": "execute_result",
     "data": {
      "text/plain": [
       "11"
      ]
     },
     "metadata": {},
     "execution_count": 170
    }
   ],
   "source": [
    "len(data['response']['venues'])"
   ]
  },
  {
   "source": [
    "## Schools - Primary-schools in a 5km radius (Foursquare/Google)"
   ],
   "cell_type": "markdown",
   "metadata": {}
  },
  {
   "cell_type": "code",
   "execution_count": 209,
   "metadata": {},
   "outputs": [],
   "source": [
    "url = 'https://api.foursquare.com/v2/venues/search'\n",
    "\n",
    "params = dict(\n",
    "    client_id = f\"{foursq_api_id}\",\n",
    "    client_secret = f\"{foursq_api_k}\",\n",
    "    ll = f\"{latitude},{longitude}\",\n",
    "    radius = '4000',\n",
    "    query = 'school',\n",
    "    categoryId = '4f4533814b9074f6e4fb0107,52e81612bcbc57f1066b7a45,4f4533804b9074f6e4fb0105',\n",
    "    v = 20201115)"
   ]
  },
  {
   "cell_type": "code",
   "execution_count": 210,
   "metadata": {},
   "outputs": [],
   "source": [
    "resp = requests.get(url=url, params=params)\n",
    "data_fs = json.loads(resp.text)"
   ]
  },
  {
   "cell_type": "code",
   "execution_count": 213,
   "metadata": {},
   "outputs": [
    {
     "output_type": "stream",
     "name": "stdout",
     "text": [
      "Stratford School - Pleasanton\nFrederiksen Elementary School\nFairlands Elementary School\nDonlon Elementary School\nJames Dougherty Elementary School\nLydiksen Elementary School\nWalnut Grove Elementary School\nPrimrose School of Pleasanton\nLearn And Play Montessori School\nNielsen Elementary School\nValley Christian Elementary School\nHenry P. Mohr Elementary School\nH. W. Kolb Elementary School\nAlisal Elementary School\nMurray Elementary School\nKolb Elementary School\n"
     ]
    }
   ],
   "source": [
    "for e in data_fs['response']['venues']:\n",
    "    print(e['name'])"
   ]
  },
  {
   "cell_type": "code",
   "execution_count": 101,
   "metadata": {},
   "outputs": [],
   "source": [
    "load_dotenv()\n",
    "goog_cloud_k = os.getenv('google_cloud')"
   ]
  },
  {
   "cell_type": "code",
   "execution_count": 202,
   "metadata": {},
   "outputs": [],
   "source": [
    "# Google categories: https://developers.google.com/places/web-service/supported_types\n",
    "\n",
    "url = 'https://maps.googleapis.com/maps/api/place/nearbysearch/json?'\n",
    "\n",
    "params = dict(\n",
    "    location = f\"{latitude},{longitude}\",\n",
    "    radius = '4000',\n",
    "    keyword = 'school',\n",
    "    type = 'primary_school',\n",
    "    key = f\"{goog_cloud_k}\")\n",
    "\n",
    "resp = requests.get(url=url, params=params)\n",
    "data = json.loads(resp.text)"
   ]
  },
  {
   "cell_type": "code",
   "execution_count": 205,
   "metadata": {},
   "outputs": [
    {
     "output_type": "stream",
     "name": "stdout",
     "text": [
      "Dublin Elementary School\nFairlands Elementary School\nMontessori School of Pleasanton\nMurray Elementary School\nJames Dougherty Elementary School\nKolb Elementary School\nAlisal Elementary School\nWalnut Grove Elementary School\nValley View Elementary School\nJohn Green Elementary School\nDonlon Elementary\nMohr Elementary School\nStratford School - Pleasanton\nNielsen Elementary School\nCountry Club Elementary School\nFairlands Elementary\n"
     ]
    }
   ],
   "source": [
    "for e in data['results']:\n",
    "    print(e['name'])"
   ]
  },
  {
   "source": [
    "## Tech startups and Design companies"
   ],
   "cell_type": "markdown",
   "metadata": {}
  },
  {
   "cell_type": "code",
   "execution_count": 62,
   "metadata": {},
   "outputs": [
    {
     "output_type": "stream",
     "name": "stdout",
     "text": [
      "{'software', 'nanotech', 'search', 'transportation', 'education', 'enterprise', 'health', 'games_video', 'fashion', 'cleantech', 'manufacturing', 'real_estate', 'security', 'finance', 'legal', 'design', 'advertising', 'news', 'network_hosting', 'hospitality', 'social', 'ecommerce', 'analytics', 'music', 'web', 'other', 'sports', 'medical', 'mobile', 'travel', 'public_relations', 'biotech', 'hardware', None, 'photo_video', 'consulting', 'nonprofit', 'messaging', 'automotive', 'semiconductor'}\n"
     ]
    }
   ],
   "source": [
    "usa_offices_all = list(db.companies_usa.find({}, {'category_code':1}))\n",
    "categories = set([e['category_code'] for e in usa_offices_all])\n",
    "print(categories)"
   ]
  },
  {
   "cell_type": "code",
   "execution_count": 235,
   "metadata": {},
   "outputs": [
    {
     "output_type": "stream",
     "name": "stdout",
     "text": [
      "[1836, 1840, 1843, 1846, 1857, 1863, 1879, 1887, 1888, 1889, 1890, 1894, 1896, 1898, 1900, 1901, 1902, 1906, 1912, 1920, 1922, 1923, 1928, 1930, 1936, 1938, 1939, 1943, 1945, 1946, 1947, 1952, 1954, 1955, 1957, 1958, 1959, 1960, 1961, 1962, 1963, 1966, 1967, 1968, 1969, 1971, 1972, 1973, 1974, 1975, 1976, 1977, 1978, 1979, 1980, 1981, 1982, 1983, 1984, 1985, 1986, 1987, 1988, 1989, 1990, 1991, 1992, 1993, 1994, 1995, 1996, 1997, 1998, 1999, 2000, 2001, 2002, 2003, 2004, 2005, 2006, 2007, 2008, 2009, 2010, 2011, 2012, 2013]\n"
     ]
    }
   ],
   "source": [
    "usa_offices_all = list(db.companies_usa.find({'founded_year':{'$ne':None}}, {'founded_year':1}))\n",
    "years = list(set([e['founded_year'] for e in usa_offices_all]))\n",
    "years.sort()\n",
    "print(years)"
   ]
  },
  {
   "cell_type": "code",
   "execution_count": 214,
   "metadata": {},
   "outputs": [],
   "source": [
    "tech_design = ['software', 'nanotech', 'games_video', 'cleantech', 'design', 'network_hosting', 'web', 'other', 'mobile', 'biotech']"
   ]
  },
  {
   "cell_type": "code",
   "execution_count": 236,
   "metadata": {},
   "outputs": [],
   "source": [
    "tech_design_comp = list(db.companies_usa.find({'category_code':{'$in':tech_design}, 'founded_year':{'$gte':2010}}))"
   ]
  },
  {
   "source": [
    "## Transport"
   ],
   "cell_type": "markdown",
   "metadata": {}
  },
  {
   "cell_type": "code",
   "execution_count": 249,
   "metadata": {},
   "outputs": [],
   "source": [
    "load_dotenv()\n",
    "lufthansa_id = os.getenv('lufthansa_id')\n",
    "lufthansa_secret = os.getenv('lufthansa_secret')"
   ]
  },
  {
   "cell_type": "code",
   "execution_count": 239,
   "metadata": {},
   "outputs": [
    {
     "output_type": "stream",
     "name": "stdout",
     "text": [
      "37.692934 -121.904945\n"
     ]
    }
   ],
   "source": [
    "print(latitude, longitude)"
   ]
  },
  {
   "cell_type": "code",
   "execution_count": 271,
   "metadata": {},
   "outputs": [],
   "source": [
    "request = 'https://api.lufthansa.com/v1/oauth/token'\n",
    "header_auth = {\n",
    "            'client_id' : f'{lufthansa_id}',\n",
    "            'client_secret': f'{lufthansa_secret}', \n",
    "            'grant_type' : 'client_credentials'}      \n",
    "\n",
    "r = requests.post(request, data = header_auth)\n",
    "j = r.json()\n",
    "token = j['access_token']\n",
    "header = { 'Authorization': 'Bearer ' + str(token), 'Accept': 'application/json'}"
   ]
  },
  {
   "cell_type": "code",
   "execution_count": 272,
   "metadata": {},
   "outputs": [],
   "source": [
    "resp = requests.get(f'https://api.lufthansa.com/v1/references/airports/nearest/{latitude},{longitude}?lang=en', headers=header)\n",
    "data_air = json.loads(resp.text) "
   ]
  }
 ]
}