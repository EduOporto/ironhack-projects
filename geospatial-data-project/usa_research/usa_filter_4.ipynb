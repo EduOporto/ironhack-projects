{
 "metadata": {
  "language_info": {
   "codemirror_mode": {
    "name": "ipython",
    "version": 3
   },
   "file_extension": ".py",
   "mimetype": "text/x-python",
   "name": "python",
   "nbconvert_exporter": "python",
   "pygments_lexer": "ipython3",
   "version": "3.8.5-final"
  },
  "orig_nbformat": 2,
  "kernelspec": {
   "name": "python37464bitanaconda3condae88754a2382d478085e26b412211ec7e",
   "display_name": "Python 3.7.4 64-bit ('anaconda3': conda)"
  }
 },
 "nbformat": 4,
 "nbformat_minor": 2,
 "cells": [
  {
   "source": [
    "# Close to Tech Startups that rised a million or more & Design Companies"
   ],
   "cell_type": "markdown",
   "metadata": {}
  },
  {
   "cell_type": "code",
   "execution_count": 1,
   "metadata": {},
   "outputs": [],
   "source": [
    "import json, requests\n",
    "from bson import ObjectId"
   ]
  },
  {
   "cell_type": "code",
   "execution_count": 2,
   "metadata": {},
   "outputs": [],
   "source": [
    "from pymongo import MongoClient\n",
    "client = MongoClient()\n",
    "db = client.get_database('companies_project')"
   ]
  },
  {
   "source": [
    "Let's check, from the original collection, how many different categories the companies have, and select those that match with our needs (in this case Tech and Design companies)."
   ],
   "cell_type": "markdown",
   "metadata": {}
  },
  {
   "cell_type": "code",
   "execution_count": 3,
   "metadata": {},
   "outputs": [
    {
     "output_type": "stream",
     "name": "stdout",
     "text": [
      "{'sports', 'search', 'consulting', 'transportation', 'games_video', 'real_estate', 'messaging', 'biotech', 'hospitality', 'software', 'advertising', 'travel', 'enterprise', 'news', 'design', 'social', 'cleantech', 'nonprofit', 'mobile', 'education', 'public_relations', 'automotive', 'photo_video', 'web', 'ecommerce', 'finance', 'music', 'fashion', 'hardware', 'legal', 'network_hosting', 'analytics', None, 'manufacturing', 'nanotech', 'other', 'health', 'medical', 'security', 'semiconductor'}\n"
     ]
    }
   ],
   "source": [
    "usa_offices_all = list(db.companies_usa.find({}, {'category_code':1}))\n",
    "categories = set([e['category_code'] for e in usa_offices_all])\n",
    "print(categories)"
   ]
  },
  {
   "cell_type": "code",
   "execution_count": 4,
   "metadata": {},
   "outputs": [],
   "source": [
    "# Selection of categories\n",
    "tech_design = ['software', 'nanotech', 'games_video', 'cleantech', 'network_hosting', 'web', 'mobile', 'biotech']"
   ]
  },
  {
   "source": [
    "Let's check now for the range of years where the companies were founded."
   ],
   "cell_type": "markdown",
   "metadata": {}
  },
  {
   "cell_type": "code",
   "execution_count": 5,
   "metadata": {},
   "outputs": [
    {
     "output_type": "stream",
     "name": "stdout",
     "text": [
      "[1836, 1840, 1843, 1846, 1857, 1863, 1879, 1887, 1888, 1889, 1890, 1894, 1896, 1898, 1900, 1901, 1902, 1906, 1912, 1920, 1922, 1923, 1928, 1930, 1936, 1938, 1939, 1943, 1945, 1946, 1947, 1952, 1954, 1955, 1957, 1958, 1959, 1960, 1961, 1962, 1963, 1966, 1967, 1968, 1969, 1971, 1972, 1973, 1974, 1975, 1976, 1977, 1978, 1979, 1980, 1981, 1982, 1983, 1984, 1985, 1986, 1987, 1988, 1989, 1990, 1991, 1992, 1993, 1994, 1995, 1996, 1997, 1998, 1999, 2000, 2001, 2002, 2003, 2004, 2005, 2006, 2007, 2008, 2009, 2010, 2011, 2012, 2013]\n"
     ]
    }
   ],
   "source": [
    "usa_offices_all = list(db.companies_usa.find({'founded_year':{'$ne':None}}, {'founded_year':1}))\n",
    "years = list(set([e['founded_year'] for e in usa_offices_all]))\n",
    "years.sort()\n",
    "print(years)"
   ]
  },
  {
   "source": [
    "As the list shows, the yougest companies were established by 2013, so I should consider startups those which founded year is not lower than 2008."
   ],
   "cell_type": "markdown",
   "metadata": {}
  },
  {
   "cell_type": "code",
   "execution_count": 6,
   "metadata": {},
   "outputs": [],
   "source": [
    "tech_comp = list(db.companies_usa.find({'category_code':{'$in':tech_design}, 'founded_year':{'$gte':2008}, 'total_money_raised':{'$regex':'[M].*'}}))"
   ]
  },
  {
   "cell_type": "code",
   "execution_count": 7,
   "metadata": {},
   "outputs": [],
   "source": [
    "design_comp = list(db.companies_usa.find({'category_code':'design'}))"
   ]
  },
  {
   "cell_type": "code",
   "execution_count": 8,
   "metadata": {},
   "outputs": [],
   "source": [
    "tech_design_comp = tech_comp + design_comp"
   ]
  },
  {
   "source": [
    "So, there are 124 companies that meet the requirements (122 tech startups that raised a million or more, and 2 design companies). Let's check how many of those are within a 15-kilometer radius of our 89 candidates. For that mean I will first need to save tech and design companies as a new collection of the database, and then create a geoJSON standar for its coordinates; as well as for the 89 candidates ones."
   ],
   "cell_type": "markdown",
   "metadata": {}
  },
  {
   "cell_type": "code",
   "execution_count": 35,
   "metadata": {},
   "outputs": [
    {
     "output_type": "execute_result",
     "data": {
      "text/plain": [
       "<pymongo.results.InsertManyResult at 0x7fabb5b987c0>"
      ]
     },
     "metadata": {},
     "execution_count": 35
    }
   ],
   "source": [
    "db.companies_usa_tech_desg.insert_many(tech_design_comp)"
   ]
  },
  {
   "cell_type": "code",
   "execution_count": 9,
   "metadata": {},
   "outputs": [],
   "source": [
    "# Tech and design companies\n",
    "tech_des = list(db.companies_usa_tech_desg.find({}, {'offices':1}))"
   ]
  },
  {
   "cell_type": "code",
   "execution_count": 43,
   "metadata": {},
   "outputs": [],
   "source": [
    "for comp in tech_des:\n",
    "    id = {\"_id\":comp[\"_id\"]}\n",
    "    coord = {\n",
    "              \"type\": \"Point\",\n",
    "              \"coordinates\": [comp[\"offices\"][\"longitude\"], comp[\"offices\"][\"latitude\"]]\n",
    "            }\n",
    "    update = {\"$set\":{\"coord\":coord}}\n",
    "    db.companies_usa_tech_desg.update_one(id,update)"
   ]
  },
  {
   "cell_type": "code",
   "execution_count": 10,
   "metadata": {},
   "outputs": [],
   "source": [
    "# Candidates\n",
    "candidates = list(db.companies_usa_filt3_c.find({}, {'offices':1}))"
   ]
  },
  {
   "cell_type": "code",
   "execution_count": 12,
   "metadata": {},
   "outputs": [],
   "source": [
    "for comp in candidates:\n",
    "    id = {\"_id\":comp[\"_id\"]}\n",
    "    coord = {\n",
    "              \"type\": \"Point\",\n",
    "              \"coordinates\": [comp[\"offices\"][\"longitude\"], comp[\"offices\"][\"latitude\"]]\n",
    "            }\n",
    "    update = {\"$set\":{\"coord\":coord}}\n",
    "    db.companies_usa_filt3_c.update_one(id,update)"
   ]
  },
  {
   "source": [
    "Now let's check how many close companies each of the candidates have around"
   ],
   "cell_type": "markdown",
   "metadata": {}
  },
  {
   "cell_type": "code",
   "execution_count": 13,
   "metadata": {},
   "outputs": [],
   "source": [
    "candidates_n = list(db.companies_usa_filt3_c.find({}, {'coord':1}))\n",
    "tech_des_n = list(db.companies_usa_tech_desg.find({}, {'coord':1}))"
   ]
  },
  {
   "cell_type": "code",
   "execution_count": 14,
   "metadata": {
    "tags": []
   },
   "outputs": [],
   "source": [
    "for cand in candidates_n:\n",
    "    point = cand['coord']\n",
    "    id = ObjectId(cand['_id'])\n",
    "    query = {\"coord\": {\"$near\": {\"$geometry\": point, \"$maxDistance\":15_000}}}\n",
    "    res = list(db.companies_usa_tech_desg.find(query, {'coord':1}))\n",
    "    many = len(res)\n",
    "\n",
    "    data_format = {}\n",
    "    index = 0\n",
    "    for off in res:\n",
    "        data_format[str(index)] = off\n",
    "        index += 1\n",
    "    data_format['many'] = many\n",
    "   \n",
    "    db.companies_usa_filt3_c.update_one({'_id':id}, {'$set':{'offices.off_nearby': data_format}})"
   ]
  },
  {
   "cell_type": "code",
   "execution_count": 15,
   "metadata": {},
   "outputs": [],
   "source": [
    "cand_with_comp = list(db.companies_usa_filt3_c.find({}, {'offices.off_nearby.many':1}))"
   ]
  },
  {
   "cell_type": "code",
   "execution_count": 16,
   "metadata": {},
   "outputs": [
    {
     "output_type": "execute_result",
     "data": {
      "text/plain": [
       "{0, 1, 2, 3, 6, 7, 9, 10, 11, 16, 22}"
      ]
     },
     "metadata": {},
     "execution_count": 16
    }
   ],
   "source": [
    "set([comp['offices']['off_nearby']['many'] for comp in cand_with_comp])"
   ]
  },
  {
   "source": [
    "As the list above shows, there is an office or offices with 22 tech startups/design companies around; some others with more than 10, and some others with less. Let's select those with more than 10 companies around."
   ],
   "cell_type": "markdown",
   "metadata": {}
  },
  {
   "cell_type": "code",
   "execution_count": 17,
   "metadata": {},
   "outputs": [
    {
     "output_type": "execute_result",
     "data": {
      "text/plain": [
       "32"
      ]
     },
     "metadata": {},
     "execution_count": 17
    }
   ],
   "source": [
    "offices_4 = list(db.companies_usa_filt3_c.find({'offices.off_nearby.many':{'$gte':10}}))\n",
    "len(offices_4)"
   ]
  },
  {
   "source": [
    "There are 32 offices with 10 or more tech startups/design companies around. Let's save them into the database as a new collection and move onto the last filter."
   ],
   "cell_type": "markdown",
   "metadata": {}
  },
  {
   "cell_type": "code",
   "execution_count": 18,
   "metadata": {},
   "outputs": [
    {
     "output_type": "execute_result",
     "data": {
      "text/plain": [
       "<pymongo.results.InsertManyResult at 0x7f81fa554a80>"
      ]
     },
     "metadata": {},
     "execution_count": 18
    }
   ],
   "source": [
    "db.companies_usa_filt4_c.insert_many(offices_4)"
   ]
  }
 ]
}