{
 "metadata": {
  "language_info": {
   "codemirror_mode": {
    "name": "ipython",
    "version": 3
   },
   "file_extension": ".py",
   "mimetype": "text/x-python",
   "name": "python",
   "nbconvert_exporter": "python",
   "pygments_lexer": "ipython3",
   "version": 3
  },
  "orig_nbformat": 2
 },
 "nbformat": 4,
 "nbformat_minor": 2,
 "cells": [
  {
   "source": [
    "# Feeding companies_europe with demographic data\n",
    "\n",
    "## Get complete addresses"
   ],
   "cell_type": "markdown",
   "metadata": {}
  },
  {
   "cell_type": "code",
   "execution_count": null,
   "metadata": {},
   "outputs": [],
   "source": [
    "from data.eurostat_docs import eu_nuts_codes"
   ]
  },
  {
   "cell_type": "code",
   "execution_count": null,
   "metadata": {},
   "outputs": [],
   "source": [
    "europe_all = list(db.companies_europe.find({}, {'_id':1, 'offices.latitude':1, 'offices.longitude':1}))"
   ]
  },
  {
   "cell_type": "code",
   "execution_count": null,
   "metadata": {},
   "outputs": [],
   "source": [
    "for comp in europe_all:\n",
    "    latitude = comp['offices']['latitude']\n",
    "    longitude = comp['offices']['longitude']\n",
    "    id = ObjectId(comp['_id'])\n",
    "    location = geolocator.reverse(f\"{latitude},{longitude}\")\n",
    "    db.companies_europe.update_one({'_id':id}, {'$set':{'offices.more_location': location.raw}})"
   ]
  },
  {
   "cell_type": "code",
   "execution_count": null,
   "metadata": {},
   "outputs": [],
   "source": [
    "empty_to_none = db.companies_europe.update_many({'offices.city':''}, {'$set':{'offices.city':None}})"
   ]
  }
 ]
}