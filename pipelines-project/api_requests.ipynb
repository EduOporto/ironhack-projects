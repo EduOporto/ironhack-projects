{
 "metadata": {
  "language_info": {
   "codemirror_mode": {
    "name": "ipython",
    "version": 3
   },
   "file_extension": ".py",
   "mimetype": "text/x-python",
   "name": "python",
   "nbconvert_exporter": "python",
   "pygments_lexer": "ipython3",
   "version": "3.8.5-final"
  },
  "orig_nbformat": 2,
  "kernelspec": {
   "name": "python37464bitanaconda3condae88754a2382d478085e26b412211ec7e",
   "display_name": "Python 3.7.4 64-bit ('anaconda3': conda)"
  }
 },
 "nbformat": 4,
 "nbformat_minor": 2,
 "cells": [
  {
   "cell_type": "code",
   "execution_count": 29,
   "metadata": {},
   "outputs": [],
   "source": [
    "from dotenv import load_dotenv\n",
    "import requests\n",
    "import os\n",
    "from bs4 import BeautifulSoup\n",
    "from bs2json import bs2json\n",
    "import pandas as pd "
   ]
  },
  {
   "cell_type": "code",
   "execution_count": 2,
   "metadata": {},
   "outputs": [],
   "source": [
    "data = requests.get('https://fbref.com/en/players/dea698d9/all_comps/Cristiano-Ronaldo-Stats---All-Competitions')\n",
    "player = BeautifulSoup(data.text, 'html.parser')"
   ]
  },
  {
   "cell_type": "code",
   "execution_count": 3,
   "metadata": {},
   "outputs": [],
   "source": [
    "# Key = table, V = columns I need to take from the table \n",
    "tables_cols = {1: [\"shots_on_target_pct\", \"goals\", \"shots_on_target\", \"shots_total\", \"average_shot_distance\", \"shots_free_kicks\", \"pens_made\", \"pens_att\"],\n",
    "               2: [\"passes_pct\", \"passes_completed\", \"passes_total_distance\", \"passes_progressive_distance\", \"passes_pct_short\", \"passes_pct_medium\", \"passes_pct_long\" ,\"assists\", \"assisted_shots\", \"passes_into_final_third\", \"passes_into_penalty_area\", \"crosses_into_penalty_area\", \"progressive_passes\"],\n",
    "               5: [\"tackles\", \"tackles_won\", \"dribble_tackles_pct\", \"pressure_regain_pct\", \"blocks\", \"interceptions\", \"clearances\", \"errors\"],\n",
    "               6: [\"dribbles_completed_pct\", \"players_dribbled_past\", \"carries\", \"carry_distance\", \"carry_progressive_distance\", \"miscontrols\", \"dispossessed\"],\n",
    "               7: [\"points_per_match\", \"plus_minus\", \"plus_minus_wowy\"],\n",
    "               8: [\"fouled\", \"pens_conceded\", \"own_goals\", \"ball_recoveries\", \"aerials_won_pct\"]}"
   ]
  },
  {
   "cell_type": "code",
   "execution_count": 4,
   "metadata": {},
   "outputs": [],
   "source": [
    "# Dataframes for appending the values\n",
    "shooting_df = pd.DataFrame(columns=[\"shots_on_target_pct\", \"goals\", \"shots_on_target\", \"shots_total\", \"average_shot_distance\", \"shots_free_kicks\", \"pens_made\", \"pens_att\"])\n",
    "\n",
    "passing_df = pd.DataFrame(columns=[\"passes_pct\", \"passes_completed\", \"passes_total_distance\", \"passes_progressive_distance\", \"passes_pct_short\", \"passes_pct_medium\", \"passes_pct_long\" ,\"assists\", \"assisted_shots\", \"passes_into_final_third\", \"passes_into_penalty_area\", \"crosses_into_penalty_area\", \"progressive_passes\"])\n",
    "\n",
    "defending_df = pd.DataFrame(columns=[\"tackles\", \"tackles_won\", \"dribble_tackles_pct\", \"pressure_regain_pct\", \"blocks\", \"interceptions\", \"clearances\", \"errors\"])\n",
    "\n",
    "dribbling_df = pd.DataFrame(columns=[\"dribbles_completed_pct\", \"players_dribbled_past\", \"carries\", \"carry_distance\", \"carry_progressive_distance\", \"miscontrols\", \"dispossessed\"])\n",
    "\n",
    "others_df = pd.DataFrame(columns=[\"points_per_match\", \"plus_minus\", \"plus_minus_wowy\"])\n",
    "\n",
    "miscel_df = pd.DataFrame(columns=[\"fouled\", \"pens_conceded\", \"own_goals\", \"ball_recoveries\", \"aerials_won_pct\"])"
   ]
  },
  {
   "cell_type": "code",
   "execution_count": 5,
   "metadata": {},
   "outputs": [],
   "source": [
    "cols_scraped = {1: [], 2: [], 5: [], 6: [], 7: [], 8: []}"
   ]
  },
  {
   "cell_type": "code",
   "execution_count": 6,
   "metadata": {},
   "outputs": [],
   "source": [
    "# All tables\n",
    "tables = player.find_all('div', {'class': 'section_wrapper'})\n",
    "# Convert the table to a json\n",
    "converter = bs2json()"
   ]
  },
  {
   "cell_type": "code",
   "execution_count": 7,
   "metadata": {},
   "outputs": [],
   "source": [
    "for t in tables_cols:\n",
    "\n",
    "    # Select the table from the json\n",
    "    table_s = converter.convert(tables[t])\n",
    "    # Table as html again\n",
    "    table = BeautifulSoup(table_s['div']['text'], 'html.parser')\n",
    "    # Select the table in mode 'Club Collapsed'\n",
    "    t_collapsed = table.find_all('div', {'class': 'table_wrapper'})[1]\n",
    "    # Empty list for placing the values to append to the dataframe\n",
    "    values = []\n",
    "\n",
    "    for col in tables_cols[t]:\n",
    "        # Select the season (-3 means 3 seasons ago -> 18/19) MAYBE THERE'S A BETTER WAY OF CHOOSING THIS\n",
    "        values.append(float(t_collapsed.find('tbody').find_all('tr')[-3].find('td', {'data-stat': col}).text))\n",
    "\n",
    "    # Append list to cols_scrapped as a row\n",
    "    cols_scraped[t].append(values)"
   ]
  },
  {
   "cell_type": "code",
   "execution_count": null,
   "metadata": {},
   "outputs": [],
   "source": []
  },
  {
   "cell_type": "code",
   "execution_count": 44,
   "metadata": {},
   "outputs": [],
   "source": [
    "data = requests.get('https://fbref.com/en/players/7ba6d84e/all_comps/David-de-Gea-Stats---All-Competitions')\n",
    "player = BeautifulSoup(data.text, 'html.parser')"
   ]
  },
  {
   "cell_type": "code",
   "execution_count": 49,
   "metadata": {},
   "outputs": [],
   "source": [
    "# All tables\n",
    "tables = player.find_all('div', {'class': 'section_wrapper'})\n",
    "# Convert the table to a json\n",
    "converter = bs2json()"
   ]
  },
  {
   "cell_type": "code",
   "execution_count": 50,
   "metadata": {},
   "outputs": [],
   "source": [
    "# Select the table from the json\n",
    "table_s = converter.convert(tables[1])\n",
    "# Table as html again\n",
    "table = BeautifulSoup(table_s['div']['text'], 'html.parser')\n",
    "# Select the table in mode 'Club Collapsed'\n",
    "t_collapsed = table.find_all('div', {'class': 'table_wrapper'})[1]"
   ]
  },
  {
   "cell_type": "code",
   "execution_count": 53,
   "metadata": {},
   "outputs": [
    {
     "output_type": "execute_result",
     "data": {
      "text/plain": [
       "<tr id=\"stats\" style=\"line-height: 1.3em\"><th class=\"left\" data-stat=\"season\" scope=\"row\">2018-2019</th><td class=\"center\" data-stat=\"age\">27</td><td class=\"left\" data-stat=\"squad\"><a href=\"/en/squads/19538871/2018-2019/Manchester-United-Stats\">Manchester Utd</a></td><td class=\"left\" data-stat=\"comp_level\">3 Leagues</td><td class=\"right\" data-stat=\"minutes_90s_gk\">47.0</td><td class=\"right group_start\" data-stat=\"goals_against_gk\">63</td><td class=\"right\" data-stat=\"pens_allowed\">6</td><td class=\"right\" data-stat=\"free_kick_goals_against_gk\">2</td><td class=\"right\" data-stat=\"corner_kick_goals_against_gk\">8</td><td class=\"right\" data-stat=\"own_goals_against_gk\">4</td><td class=\"right group_start\" data-stat=\"psxg_gk\">60.6</td><td class=\"right\" data-stat=\"psnpxg_per_shot_on_target_against\">0.28</td><td class=\"right plus\" data-stat=\"psxg_net_gk\">+1.6</td><td class=\"right plus\" data-stat=\"psxg_net_per90_gk\">+0.03</td><td class=\"right group_start\" data-stat=\"passes_completed_launched_gk\">373</td><td class=\"right\" data-stat=\"passes_launched_gk\">792</td><td class=\"right\" data-stat=\"passes_pct_launched_gk\">47.1</td><td class=\"right group_start\" data-stat=\"passes_gk\">894</td><td class=\"right\" data-stat=\"passes_throws_gk\">177</td><td class=\"right\" data-stat=\"pct_passes_launched_gk\">52.9</td><td class=\"right\" data-stat=\"passes_length_avg_gk\">43.7</td><td class=\"right group_start\" data-stat=\"goal_kicks\">403</td><td class=\"right\" data-stat=\"pct_goal_kicks_launched\">79.2</td><td class=\"right\" data-stat=\"goal_kick_length_avg\">60.0</td><td class=\"right group_start\" data-stat=\"crosses_gk\">386</td><td class=\"right\" data-stat=\"crosses_stopped_gk\">22</td><td class=\"right\" data-stat=\"crosses_stopped_pct_gk\">5.7</td><td class=\"right group_start\" data-stat=\"def_actions_outside_pen_area_gk\">13</td><td class=\"right\" data-stat=\"def_actions_outside_pen_area_per90_gk\">0.28</td><td class=\"right\" data-stat=\"avg_distance_def_actions_gk\">12.2</td><td class=\"left group_start\" data-stat=\"matches\"><a href=\"/en/players/7ba6d84e/matchlogs/2018-2019/keeper/David-de-Gea-Match-Logs\">Matches</a></td></tr>"
      ]
     },
     "metadata": {},
     "execution_count": 53
    }
   ],
   "source": [
    "t_collapsed.find('tbody').find_all('tr')[-3]"
   ]
  }
 ]
}