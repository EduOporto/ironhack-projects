{
 "metadata": {
  "language_info": {
   "codemirror_mode": {
    "name": "ipython",
    "version": 3
   },
   "file_extension": ".py",
   "mimetype": "text/x-python",
   "name": "python",
   "nbconvert_exporter": "python",
   "pygments_lexer": "ipython3",
   "version": "3.8.5-final"
  },
  "orig_nbformat": 2,
  "kernelspec": {
   "name": "Python 3.8.5 64-bit",
   "display_name": "Python 3.8.5 64-bit",
   "metadata": {
    "interpreter": {
     "hash": "082e9a3bcad0a290d0001e938aa60b99250c6c2ef33a923c00b70f9826caf4b7"
    }
   }
  }
 },
 "nbformat": 4,
 "nbformat_minor": 2,
 "cells": [
  {
   "cell_type": "code",
   "execution_count": 1,
   "metadata": {},
   "outputs": [],
   "source": [
    "import requests\n",
    "import os\n",
    "from bs4 import BeautifulSoup\n",
    "from bs2json import bs2json\n",
    "import pandas as pd \n",
    "from selenium import webdriver\n",
    "import scraper"
   ]
  },
  {
   "cell_type": "code",
   "execution_count": 6,
   "metadata": {},
   "outputs": [
    {
     "output_type": "execute_result",
     "data": {
      "text/plain": [
       "   Unnamed: 0  sofifa_id                                               link\n",
       "0           0      20801  https://fbref.com/en/players/dea698d9/all_comp...\n",
       "1           1     158023  https://fbref.com/en/players/d70ce98e/all_comp...\n",
       "2           2     190871  https://fbref.com/en/players/69384e5d/all_comp...\n",
       "3           3     193080  https://fbref.com/en/players/7ba6d84e/all_comp...\n",
       "4           4     192985  https://fbref.com/en/players/e46012d4/all_comp..."
      ],
      "text/html": "<div>\n<style scoped>\n    .dataframe tbody tr th:only-of-type {\n        vertical-align: middle;\n    }\n\n    .dataframe tbody tr th {\n        vertical-align: top;\n    }\n\n    .dataframe thead th {\n        text-align: right;\n    }\n</style>\n<table border=\"1\" class=\"dataframe\">\n  <thead>\n    <tr style=\"text-align: right;\">\n      <th></th>\n      <th>Unnamed: 0</th>\n      <th>sofifa_id</th>\n      <th>link</th>\n    </tr>\n  </thead>\n  <tbody>\n    <tr>\n      <th>0</th>\n      <td>0</td>\n      <td>20801</td>\n      <td>https://fbref.com/en/players/dea698d9/all_comp...</td>\n    </tr>\n    <tr>\n      <th>1</th>\n      <td>1</td>\n      <td>158023</td>\n      <td>https://fbref.com/en/players/d70ce98e/all_comp...</td>\n    </tr>\n    <tr>\n      <th>2</th>\n      <td>2</td>\n      <td>190871</td>\n      <td>https://fbref.com/en/players/69384e5d/all_comp...</td>\n    </tr>\n    <tr>\n      <th>3</th>\n      <td>3</td>\n      <td>193080</td>\n      <td>https://fbref.com/en/players/7ba6d84e/all_comp...</td>\n    </tr>\n    <tr>\n      <th>4</th>\n      <td>4</td>\n      <td>192985</td>\n      <td>https://fbref.com/en/players/e46012d4/all_comp...</td>\n    </tr>\n  </tbody>\n</table>\n</div>"
     },
     "metadata": {},
     "execution_count": 6
    }
   ],
   "source": [
    "id_link_df = pd.read_csv('csv/players_link.csv')\n",
    "id_link_df.head()"
   ]
  },
  {
   "cell_type": "code",
   "execution_count": 7,
   "metadata": {},
   "outputs": [
    {
     "output_type": "execute_result",
     "data": {
      "text/plain": [
       "   Unnamed: 0  sofifa_id         short_name  \\\n",
       "0           0      20801  Cristiano Ronaldo   \n",
       "1           1     158023           L. Messi   \n",
       "2           2     190871          Neymar Jr   \n",
       "3           3     193080             De Gea   \n",
       "4           4     192985       K. De Bruyne   \n",
       "\n",
       "                             long_name  age nationality                 club  \\\n",
       "0  Cristiano Ronaldo dos Santos Aveiro   33    Portugal             Juventus   \n",
       "1       Lionel Andrés Messi Cuccittini   31   Argentina         FC Barcelona   \n",
       "2        Neymar da Silva Santos Junior   26      Brazil  Paris Saint-Germain   \n",
       "3                David De Gea Quintana   27       Spain    Manchester United   \n",
       "4                      Kevin De Bruyne   27     Belgium      Manchester City   \n",
       "\n",
       "  team_position  \n",
       "0            LW  \n",
       "1            RW  \n",
       "2           CAM  \n",
       "3            GK  \n",
       "4           RCM  "
      ],
      "text/html": "<div>\n<style scoped>\n    .dataframe tbody tr th:only-of-type {\n        vertical-align: middle;\n    }\n\n    .dataframe tbody tr th {\n        vertical-align: top;\n    }\n\n    .dataframe thead th {\n        text-align: right;\n    }\n</style>\n<table border=\"1\" class=\"dataframe\">\n  <thead>\n    <tr style=\"text-align: right;\">\n      <th></th>\n      <th>Unnamed: 0</th>\n      <th>sofifa_id</th>\n      <th>short_name</th>\n      <th>long_name</th>\n      <th>age</th>\n      <th>nationality</th>\n      <th>club</th>\n      <th>team_position</th>\n    </tr>\n  </thead>\n  <tbody>\n    <tr>\n      <th>0</th>\n      <td>0</td>\n      <td>20801</td>\n      <td>Cristiano Ronaldo</td>\n      <td>Cristiano Ronaldo dos Santos Aveiro</td>\n      <td>33</td>\n      <td>Portugal</td>\n      <td>Juventus</td>\n      <td>LW</td>\n    </tr>\n    <tr>\n      <th>1</th>\n      <td>1</td>\n      <td>158023</td>\n      <td>L. Messi</td>\n      <td>Lionel Andrés Messi Cuccittini</td>\n      <td>31</td>\n      <td>Argentina</td>\n      <td>FC Barcelona</td>\n      <td>RW</td>\n    </tr>\n    <tr>\n      <th>2</th>\n      <td>2</td>\n      <td>190871</td>\n      <td>Neymar Jr</td>\n      <td>Neymar da Silva Santos Junior</td>\n      <td>26</td>\n      <td>Brazil</td>\n      <td>Paris Saint-Germain</td>\n      <td>CAM</td>\n    </tr>\n    <tr>\n      <th>3</th>\n      <td>3</td>\n      <td>193080</td>\n      <td>De Gea</td>\n      <td>David De Gea Quintana</td>\n      <td>27</td>\n      <td>Spain</td>\n      <td>Manchester United</td>\n      <td>GK</td>\n    </tr>\n    <tr>\n      <th>4</th>\n      <td>4</td>\n      <td>192985</td>\n      <td>K. De Bruyne</td>\n      <td>Kevin De Bruyne</td>\n      <td>27</td>\n      <td>Belgium</td>\n      <td>Manchester City</td>\n      <td>RCM</td>\n    </tr>\n  </tbody>\n</table>\n</div>"
     },
     "metadata": {},
     "execution_count": 7
    }
   ],
   "source": [
    "players_data_df = pd.read_csv('csv/players_data.csv')\n",
    "players_data_df.head()"
   ]
  },
  {
   "cell_type": "code",
   "execution_count": 37,
   "metadata": {},
   "outputs": [],
   "source": [
    "link_pos = id_link_df.join(players_data_df.set_index('sofifa_id'), on='sofifa_id', how='inner', rsuffix='--')[['sofifa_id', 'link', 'team_position']]"
   ]
  },
  {
   "source": [
    "# Field Player scraper"
   ],
   "cell_type": "markdown",
   "metadata": {}
  },
  {
   "cell_type": "code",
   "execution_count": 36,
   "metadata": {},
   "outputs": [
    {
     "output_type": "execute_result",
     "data": {
      "text/plain": [
       "   sofifa_id                                               link team_position\n",
       "0      20801  https://fbref.com/en/players/dea698d9/all_comp...            LW\n",
       "1     158023  https://fbref.com/en/players/d70ce98e/all_comp...            RW\n",
       "2     190871  https://fbref.com/en/players/69384e5d/all_comp...           CAM\n",
       "4     192985  https://fbref.com/en/players/e46012d4/all_comp...           RCM\n",
       "5     155862  https://fbref.com/en/players/08511d65/all_comp...           LCB"
      ],
      "text/html": "<div>\n<style scoped>\n    .dataframe tbody tr th:only-of-type {\n        vertical-align: middle;\n    }\n\n    .dataframe tbody tr th {\n        vertical-align: top;\n    }\n\n    .dataframe thead th {\n        text-align: right;\n    }\n</style>\n<table border=\"1\" class=\"dataframe\">\n  <thead>\n    <tr style=\"text-align: right;\">\n      <th></th>\n      <th>sofifa_id</th>\n      <th>link</th>\n      <th>team_position</th>\n    </tr>\n  </thead>\n  <tbody>\n    <tr>\n      <th>0</th>\n      <td>20801</td>\n      <td>https://fbref.com/en/players/dea698d9/all_comp...</td>\n      <td>LW</td>\n    </tr>\n    <tr>\n      <th>1</th>\n      <td>158023</td>\n      <td>https://fbref.com/en/players/d70ce98e/all_comp...</td>\n      <td>RW</td>\n    </tr>\n    <tr>\n      <th>2</th>\n      <td>190871</td>\n      <td>https://fbref.com/en/players/69384e5d/all_comp...</td>\n      <td>CAM</td>\n    </tr>\n    <tr>\n      <th>4</th>\n      <td>192985</td>\n      <td>https://fbref.com/en/players/e46012d4/all_comp...</td>\n      <td>RCM</td>\n    </tr>\n    <tr>\n      <th>5</th>\n      <td>155862</td>\n      <td>https://fbref.com/en/players/08511d65/all_comp...</td>\n      <td>LCB</td>\n    </tr>\n  </tbody>\n</table>\n</div>"
     },
     "metadata": {},
     "execution_count": 36
    }
   ],
   "source": [
    "field_players = link_pos[link_pos['team_position'] != 'GK']\n",
    "field_players.head()"
   ]
  },
  {
   "cell_type": "code",
   "execution_count": 48,
   "metadata": {},
   "outputs": [],
   "source": [
    "# Dataframes for appending the values\n",
    "shooting_df = pd.DataFrame(columns=[\"sofifa_id\", \"shots_on_target_pct\", \"goals\", \"shots_on_target\", \"shots_total\", \"average_shot_distance\", \"shots_free_kicks\", \"pens_made\", \"pens_att\"])\n",
    "\n",
    "passing_df = pd.DataFrame(columns=[\"sofifa_id\", \"passes_pct\", \"passes_completed\", \"passes_total_distance\", \"passes_progressive_distance\", \"passes_pct_short\", \"passes_pct_medium\", \"passes_pct_long\" ,\"assists\", \"assisted_shots\", \"passes_into_final_third\", \"passes_into_penalty_area\", \"crosses_into_penalty_area\", \"progressive_passes\"])\n",
    "\n",
    "defending_df = pd.DataFrame(columns=[\"sofifa_id\", \"tackles\", \"tackles_won\", \"dribble_tackles_pct\", \"pressure_regain_pct\", \"blocks\", \"interceptions\", \"clearances\", \"errors\"])\n",
    "\n",
    "dribbling_df = pd.DataFrame(columns=[\"sofifa_id\", \"dribbles_completed_pct\", \"players_dribbled_past\", \"carries\", \"carry_distance\", \"carry_progressive_distance\", \"miscontrols\", \"dispossessed\"])\n",
    "\n",
    "others_df = pd.DataFrame(columns=[\"sofifa_id\", \"points_per_match\", \"plus_minus\", \"plus_minus_wowy\"])\n",
    "\n",
    "miscel_df = pd.DataFrame(columns=[\"sofifa_id\", \"cards_yellow\", \"cards_red\", \"cards_yellow_red\", \"fouls\", \"fouled\", \"offsides\", \"crosses\", \"pens_won\", \"pens_conceded\", \"own_goals\", \"ball_recoveries\", \"aerials_won_pct\"])"
   ]
  },
  {
   "cell_type": "code",
   "execution_count": 73,
   "metadata": {},
   "outputs": [
    {
     "output_type": "stream",
     "name": "stdout",
     "text": [
      "Non valid data for player with ID 41236\n",
      "Non valid data for player with ID 187961\n"
     ]
    }
   ],
   "source": [
    "for index, row in field_players.iterrows():\n",
    "    data = requests.get(row['link'])\n",
    "\n",
    "    try:\n",
    "        shooting_df = shooting_df.append(pd.Series(scraper.fplayer_scrap(row['sofifa_id'], data, 'shooting_df'), index=shooting_df.columns), ignore_index=True)\n",
    "        passing_df = passing_df.append(pd.Series(scraper.fplayer_scrap(row['sofifa_id'], data, 'passing_df'), index=passing_df.columns), ignore_index=True)\n",
    "        defending_df = defending_df.append(pd.Series(scraper.fplayer_scrap(row['sofifa_id'], data, 'defending_df'), index=defending_df.columns), ignore_index=True)\n",
    "        dribbling_df = dribbling_df.append(pd.Series(scraper.fplayer_scrap(row['sofifa_id'], data, 'dribbling_df'), index=dribbling_df.columns), ignore_index=True)\n",
    "        others_df = others_df.append(pd.Series(scraper.fplayer_scrap(row['sofifa_id'], data, 'others_df'), index=others_df.columns), ignore_index=True)\n",
    "        miscel_df = miscel_df.append(pd.Series(scraper.fplayer_scrap(row['sofifa_id'], data, 'miscel_df'), index=miscel_df.columns), ignore_index=True)\n",
    "    except:\n",
    "        print(f\"Non valid data for player with ID {str(row['sofifa_id'])}\")\n",
    "         "
   ]
  },
  {
   "cell_type": "code",
   "execution_count": 79,
   "metadata": {},
   "outputs": [],
   "source": [
    "shooting_df.to_csv('csv/fplayer_scraps/shooting.csv')\n",
    "passing_df.to_csv('csv/fplayer_scraps/passing.csv')\n",
    "defending_df.to_csv('csv/fplayer_scraps/defending.csv')\n",
    "dribbling_df.to_csv('csv/fplayer_scraps/dribbling.csv')\n",
    "others_df.to_csv('csv/fplayer_scraps/others.csv')\n",
    "miscel_df.to_csv('csv/fplayer_scraps/miscel.csv')"
   ]
  },
  {
   "source": [
    "# Goalkeeper scraper"
   ],
   "cell_type": "markdown",
   "metadata": {}
  },
  {
   "cell_type": "code",
   "execution_count": 38,
   "metadata": {},
   "outputs": [
    {
     "output_type": "execute_result",
     "data": {
      "text/plain": [
       "    sofifa_id                                               link team_position\n",
       "3      193080  https://fbref.com/en/players/7ba6d84e/all_comp...            GK\n",
       "9      200389  https://fbref.com/en/players/ee8508c0/all_comp...            GK\n",
       "10     192119  https://fbref.com/en/players/1840e36d/all_comp...            GK\n",
       "11     167495  https://fbref.com/en/players/8778c910/all_comp...            GK\n",
       "16     192448  https://fbref.com/en/players/6f51e382/all_comp...            GK"
      ],
      "text/html": "<div>\n<style scoped>\n    .dataframe tbody tr th:only-of-type {\n        vertical-align: middle;\n    }\n\n    .dataframe tbody tr th {\n        vertical-align: top;\n    }\n\n    .dataframe thead th {\n        text-align: right;\n    }\n</style>\n<table border=\"1\" class=\"dataframe\">\n  <thead>\n    <tr style=\"text-align: right;\">\n      <th></th>\n      <th>sofifa_id</th>\n      <th>link</th>\n      <th>team_position</th>\n    </tr>\n  </thead>\n  <tbody>\n    <tr>\n      <th>3</th>\n      <td>193080</td>\n      <td>https://fbref.com/en/players/7ba6d84e/all_comp...</td>\n      <td>GK</td>\n    </tr>\n    <tr>\n      <th>9</th>\n      <td>200389</td>\n      <td>https://fbref.com/en/players/ee8508c0/all_comp...</td>\n      <td>GK</td>\n    </tr>\n    <tr>\n      <th>10</th>\n      <td>192119</td>\n      <td>https://fbref.com/en/players/1840e36d/all_comp...</td>\n      <td>GK</td>\n    </tr>\n    <tr>\n      <th>11</th>\n      <td>167495</td>\n      <td>https://fbref.com/en/players/8778c910/all_comp...</td>\n      <td>GK</td>\n    </tr>\n    <tr>\n      <th>16</th>\n      <td>192448</td>\n      <td>https://fbref.com/en/players/6f51e382/all_comp...</td>\n      <td>GK</td>\n    </tr>\n  </tbody>\n</table>\n</div>"
     },
     "metadata": {},
     "execution_count": 38
    }
   ],
   "source": [
    "gkeepers = link_pos[link_pos['team_position'] == 'GK']\n",
    "gkeepers.head()"
   ]
  },
  {
   "cell_type": "code",
   "execution_count": 44,
   "metadata": {},
   "outputs": [],
   "source": [
    "# Dataframes for appending the values\n",
    "goalkeeping_df = pd.DataFrame(columns=[\"sofifa_id\", \"save_pct\", \"clean_sheets_pct\", \"pens_att_gk\", \"pens_saved\"])\n",
    "\n",
    "adv_gkeeping_df = pd.DataFrame(columns=[\"sofifa_id\", \"goals_against_gk\", \"pens_allowed\", \"free_kick_goals_against_gk\", \"corner_kick_goals_against_gk\", \"own_goals_against_gk\", \"passes_pct_launched_gk\", \"pct_passes_launched_gk\", \"passes_length_avg_gk\", \"pct_goal_kicks_launched\", \"goal_kick_length_avg\", \"crosses_stopped_pct_gk\", \"def_actions_outside_pen_area_gk\", \"def_actions_outside_pen_area_per90_gk\", \"avg_distance_def_actions_gk\"])\n",
    "\n",
    "passing_df = pd.DataFrame(columns=[\"sofifa_id\", \"passes_pct\", \"passes_total_distance\", \"passes_progressive_distance\", \"passes_pct_short\", \"passes_pct_medium\", \"passes_pct_long\", \"assists\", \"assisted_shots\", \"passes_into_final_third\"])\n",
    "\n",
    "goal_shoot_c_df = pd.DataFrame(columns=[\"sofifa_id\", \"sca\", \"sca_passes_live\", \"sca_passes_dead\", \"gca\", \"gca_passes_live\", \"gca_passes_dead\"])\n",
    "\n",
    "defensive_df = pd.DataFrame(columns=[\"sofifa_id\", \"tackles\", \"tackles_won\", \"dribble_tackles_pct\", \"pressure_regain_pct\", \"blocks\", \"blocked_shots\", \"blocked_shots_saves\", \"blocked_passes\", \"interceptions\", \"tackles_interceptions\", \"clearances\", \"errors\"])\n",
    "\n",
    "posession_df = pd.DataFrame(columns=[\"sofifa_id\", \"touches\", \"touches_live_ball\", \"dribbles_completed_pct\", \"carries\", \"carry_distance\", \"passes_received_pct\", \"miscontrols\", \"dispossessed\"])\n",
    "\n",
    "playtime_df = pd.DataFrame(columns=[\"sofifa_id\", \"points_per_match\", \"plus_minus\"])\n",
    "\n",
    "misc_df = pd.DataFrame(columns=[\"sofifa_id\", \"cards_yellow\", \"cards_red\", \"cards_yellow_red\", \"fouls\", \"fouled\", \"pens_conceded\", \"own_goals\", \"ball_recoveries\", \"aerials_won_pct\"])"
   ]
  },
  {
   "cell_type": "code",
   "execution_count": 42,
   "metadata": {},
   "outputs": [],
   "source": [
    "op = webdriver.ChromeOptions()\n",
    "op.add_argument('headless')\n",
    "\n",
    "browser = webdriver.Chrome('/Users/eduardooportoalonso/Documents/Cursos/Ironhack/datamad1020/ironhack-projects/pipelines-project/chromedriver', options=op)"
   ]
  },
  {
   "cell_type": "code",
   "execution_count": 45,
   "metadata": {},
   "outputs": [],
   "source": [
    "for index, row in gkeepers.iterrows():\n",
    "    browser.get(row['link'])\n",
    "    \n",
    "    goalkeeping_df = goalkeeping_df.append(pd.Series(scraper.gkeeper_scrap(row['sofifa_id'], browser, 'goalkeeping_df'), index=goalkeeping_df.columns), ignore_index=True)\n",
    "    adv_gkeeping_df = adv_gkeeping_df.append(pd.Series(scraper.gkeeper_scrap(row['sofifa_id'], browser, 'adv_gkeeping_df'), index=adv_gkeeping_df.columns), ignore_index=True)\n",
    "    passing_df = passing_df.append(pd.Series(scraper.gkeeper_scrap(row['sofifa_id'], browser, 'passing_df'), index=passing_df.columns), ignore_index=True)\n",
    "    goal_shoot_c_df = goal_shoot_c_df.append(pd.Series(scraper.gkeeper_scrap(row['sofifa_id'], browser, 'goal_shoot_c_df'), index=goal_shoot_c_df.columns), ignore_index=True)\n",
    "    defensive_df = defensive_df.append(pd.Series(scraper.gkeeper_scrap(row['sofifa_id'], browser, 'defensive_df'), index=defensive_df.columns), ignore_index=True)\n",
    "    posession_df = posession_df.append(pd.Series(scraper.gkeeper_scrap(row['sofifa_id'], browser, 'posession_df'), index=posession_df.columns), ignore_index=True)\n",
    "    playtime_df = playtime_df.append(pd.Series(scraper.gkeeper_scrap(row['sofifa_id'], browser, 'playtime_df'), index=playtime_df.columns), ignore_index=True)\n",
    "    misc_df = misc_df.append(pd.Series(scraper.gkeeper_scrap(row['sofifa_id'], browser, 'misc_df'), index=misc_df.columns), ignore_index=True)\n"
   ]
  },
  {
   "cell_type": "code",
   "execution_count": 47,
   "metadata": {},
   "outputs": [],
   "source": [
    "goalkeeping_df.to_csv('csv/gkeeprs_scraps/goalkeeping.csv')\n",
    "adv_gkeeping_df.to_csv('csv/gkeeprs_scraps/adv_gkeeping.csv')\n",
    "passing_df.to_csv('csv/gkeeprs_scraps/passing.csv')\n",
    "goal_shoot_c_df.to_csv('csv/gkeeprs_scraps/goal_shoot_c.csv')\n",
    "defensive_df.to_csv('csv/gkeeprs_scraps/defensive.csv')\n",
    "posession_df.to_csv('csv/gkeeprs_scraps/posession.csv')\n",
    "playtime_df.to_csv('csv/gkeeprs_scraps/playtime.csv')\n",
    "misc_df.to_csv('csv/gkeeprs_scraps/misc.csv')"
   ]
  }
 ]
}