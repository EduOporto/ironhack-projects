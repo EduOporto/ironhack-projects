{
 "metadata": {
  "language_info": {
   "codemirror_mode": {
    "name": "ipython",
    "version": 3
   },
   "file_extension": ".py",
   "mimetype": "text/x-python",
   "name": "python",
   "nbconvert_exporter": "python",
   "pygments_lexer": "ipython3",
   "version": "3.8.5-final"
  },
  "orig_nbformat": 2,
  "kernelspec": {
   "name": "python37464bitanaconda3condae88754a2382d478085e26b412211ec7e",
   "display_name": "Python 3.7.4 64-bit ('anaconda3': conda)"
  }
 },
 "nbformat": 4,
 "nbformat_minor": 2,
 "cells": [
  {
   "cell_type": "code",
   "execution_count": 1,
   "metadata": {},
   "outputs": [],
   "source": [
    "from dotenv import load_dotenv\n",
    "import requests\n",
    "import os\n",
    "from bs4 import BeautifulSoup\n",
    "from bs2json import bs2json\n",
    "import pandas as pd \n",
    "from selenium import webdriver"
   ]
  },
  {
   "source": [
    "# Field Player scraper"
   ],
   "cell_type": "markdown",
   "metadata": {}
  },
  {
   "cell_type": "code",
   "execution_count": 56,
   "metadata": {},
   "outputs": [],
   "source": [
    "data = requests.get('https://fbref.com/en/players/dea698d9/all_comps/Cristiano-Ronaldo-Stats---All-Competitions')\n",
    "player = BeautifulSoup(data.text, 'html.parser')"
   ]
  },
  {
   "cell_type": "code",
   "execution_count": 57,
   "metadata": {},
   "outputs": [],
   "source": [
    "# Key = table, V = columns I need to take from the table \n",
    "tables_cols = {1: [\"shots_on_target_pct\", \"goals\", \"shots_on_target\", \"shots_total\", \"average_shot_distance\", \"shots_free_kicks\", \"pens_made\", \"pens_att\"],\n",
    "               2: [\"passes_pct\", \"passes_completed\", \"passes_total_distance\", \"passes_progressive_distance\", \"passes_pct_short\", \"passes_pct_medium\", \"passes_pct_long\" ,\"assists\", \"assisted_shots\", \"passes_into_final_third\", \"passes_into_penalty_area\", \"crosses_into_penalty_area\", \"progressive_passes\"],\n",
    "               5: [\"tackles\", \"tackles_won\", \"dribble_tackles_pct\", \"pressure_regain_pct\", \"blocks\", \"interceptions\", \"clearances\", \"errors\"],\n",
    "               6: [\"dribbles_completed_pct\", \"players_dribbled_past\", \"carries\", \"carry_distance\", \"carry_progressive_distance\", \"miscontrols\", \"dispossessed\"],\n",
    "               7: [\"points_per_match\", \"plus_minus\", \"plus_minus_wowy\"],\n",
    "               8: [\"cards_yellow\", \"cards_red\", \"cards_yellow_red\", \"fouls\", \"fouled\", \"offsides\", \"crosses\", \"pens_won\", \"pens_conceded\", \"own_goals\", \"ball_recoveries\", \"aerials_won_pct\"]}"
   ]
  },
  {
   "cell_type": "code",
   "execution_count": 58,
   "metadata": {},
   "outputs": [],
   "source": [
    "# Dataframes for appending the values\n",
    "shooting_df = pd.DataFrame(columns=[\"shots_on_target_pct\", \"goals\", \"shots_on_target\", \"shots_total\", \"average_shot_distance\", \"shots_free_kicks\", \"pens_made\", \"pens_att\"])\n",
    "\n",
    "passing_df = pd.DataFrame(columns=[\"passes_pct\", \"passes_completed\", \"passes_total_distance\", \"passes_progressive_distance\", \"passes_pct_short\", \"passes_pct_medium\", \"passes_pct_long\" ,\"assists\", \"assisted_shots\", \"passes_into_final_third\", \"passes_into_penalty_area\", \"crosses_into_penalty_area\", \"progressive_passes\"])\n",
    "\n",
    "defending_df = pd.DataFrame(columns=[\"tackles\", \"tackles_won\", \"dribble_tackles_pct\", \"pressure_regain_pct\", \"blocks\", \"interceptions\", \"clearances\", \"errors\"])\n",
    "\n",
    "dribbling_df = pd.DataFrame(columns=[\"dribbles_completed_pct\", \"players_dribbled_past\", \"carries\", \"carry_distance\", \"carry_progressive_distance\", \"miscontrols\", \"dispossessed\"])\n",
    "\n",
    "others_df = pd.DataFrame(columns=[\"points_per_match\", \"plus_minus\", \"plus_minus_wowy\"])\n",
    "\n",
    "miscel_df = pd.DataFrame(columns=[\"cards_yellow\", \"cards_red\", \"cards_yellow_red\", \"fouls\", \"fouled\", \"offsides\", \"crosses\", \"pens_won\", \"pens_conceded\", \"own_goals\", \"ball_recoveries\", \"aerials_won_pct\"])"
   ]
  },
  {
   "cell_type": "code",
   "execution_count": 59,
   "metadata": {},
   "outputs": [],
   "source": [
    "cols_scraped = {1: [], 2: [], 5: [], 6: [], 7: [], 8: []}"
   ]
  },
  {
   "cell_type": "code",
   "execution_count": 60,
   "metadata": {},
   "outputs": [],
   "source": [
    "# All tables\n",
    "tables = player.find_all('div', {'class': 'section_wrapper'})\n",
    "# Convert the table to a json\n",
    "converter = bs2json()"
   ]
  },
  {
   "cell_type": "code",
   "execution_count": 61,
   "metadata": {},
   "outputs": [],
   "source": [
    "for t in tables_cols:\n",
    "\n",
    "    # Select the table from the json\n",
    "    table_s = converter.convert(tables[t])\n",
    "    # Table as html again\n",
    "    table = BeautifulSoup(table_s['div']['text'], 'html.parser')\n",
    "    # Select the table in mode 'Club Collapsed'\n",
    "    t_collapsed = table.find_all('div', {'class': 'table_wrapper'})[1]\n",
    "    # Empty list for placing the values to append to the dataframe\n",
    "    values = []\n",
    "\n",
    "    for col in tables_cols[t]:\n",
    "        # Select the season \n",
    "        row_tag = [season_row for season_row in t_collapsed.find('tbody').find_all('tr') if season_row.find('th', {'data-stat': 'season'}).text == '2018-2019'][0]\n",
    "        try:\n",
    "            values.append(float(row_tag.find('td', {'data-stat': col}).text))\n",
    "        except:\n",
    "            values.append(0.0)\n",
    "\n",
    "    # Append list to cols_scrapped as a row\n",
    "    cols_scraped[t].append(values)"
   ]
  },
  {
   "cell_type": "code",
   "execution_count": null,
   "metadata": {},
   "outputs": [],
   "source": []
  },
  {
   "source": [
    "# Goalkeeper scraper"
   ],
   "cell_type": "markdown",
   "metadata": {}
  },
  {
   "cell_type": "code",
   "execution_count": 67,
   "metadata": {},
   "outputs": [],
   "source": [
    "op = webdriver.ChromeOptions()\n",
    "op.add_argument('headless')\n",
    "\n",
    "browser = webdriver.Chrome('/Users/eduardooportoalonso/Documents/Cursos/Ironhack/datamad1020/ironhack-projects/pipelines-project/chromedriver', options=op)\n",
    "\n",
    "browser.get('https://fbref.com/en/players/7ba6d84e/all_comps/David-de-Gea-Stats---All-Competitions')"
   ]
  },
  {
   "cell_type": "code",
   "execution_count": 68,
   "metadata": {},
   "outputs": [],
   "source": [
    "tables_cols = {'stats_keeper_ks_collapsed': [\"save_pct\", \"clean_sheets_pct\", \"pens_att_gk\", \"pens_saved\"],\n",
    "               'stats_keeper_adv_ks_collapsed': [\"goals_against_gk\", \"pens_allowed\", \"free_kick_goals_against_gk\", \"corner_kick_goals_against_gk\", \"own_goals_against_gk\", \"passes_pct_launched_gk\", \"pct_passes_launched_gk\", \"passes_length_avg_gk\", \"pct_goal_kicks_launched\", \"goal_kick_length_avg\", \"crosses_stopped_pct_gk\", \"def_actions_outside_pen_area_gk\", \"def_actions_outside_pen_area_per90_gk\", \"avg_distance_def_actions_gk\"], \n",
    "               'all_stats_passing_ks_collapsed': [\"passes_pct\", \"passes_total_distance\", \"passes_progressive_distance\", \"passes_pct_short\", \"passes_pct_medium\", \"passes_pct_long\", \"assists\", \"assisted_shots\", \"passes_into_final_third\"],\n",
    "               'stats_gca_ks_collapsed': [\"sca\", \"sca_passes_live\", \"sca_passes_dead\", \"gca\", \"gca_passes_live\", \"gca_passes_dead\"],\n",
    "               'stats_defense_ks_collapsed': [\"tackles\", \"tackles_won\", \"dribble_tackles_pct\", \"pressure_regain_pct\", \"blocks\", \"blocked_shots\", \"blocked_shots_saves\", \"blocked_passes\", \"interceptions\", \"tackles_interceptions\", \"clearances\", \"errors\"],\n",
    "               'stats_possession_ks_collapsed': [\"touches\", \"touches_live_ball\", \"dribbles_completed_pct\", \"carries\", \"carry_distance\", \"passes_received_pct\", \"miscontrols\", \"dispossessed\"],\n",
    "               'stats_playing_time_ks_collapsed': [\"points_per_match\", \"plus_minus\"],\n",
    "               'stats_misc_ks_collapsed': [\"cards_yellow\", \"cards_red\", \"cards_yellow_red\", \"fouls\", \"fouled\", \"pens_conceded\", \"own_goals\", \"ball_recoveries\", \"aerials_won_pct\"]}"
   ]
  },
  {
   "cell_type": "code",
   "execution_count": 69,
   "metadata": {},
   "outputs": [],
   "source": [
    "# Dataframes for appending the values\n",
    "goalkeeping_df = pd.DataFrame(columns=[\"save_pct\", \"clean_sheets_pct\", \"pens_att_gk\", \"pens_saved\"])\n",
    "\n",
    "adv_gkeeping_df = pd.DataFrame(columns=[\"goals_against_gk\", \"pens_allowed\", \"free_kick_goals_against_gk\", \"corner_kick_goals_against_gk\", \"own_goals_against_gk\", \"passes_pct_launched_gk\", \"pct_passes_launched_gk\", \"passes_length_avg_gk\", \"pct_goal_kicks_launched\", \"goal_kick_length_avg\", \"crosses_stopped_pct_gk\", \"def_actions_outside_pen_area_gk\", \"def_actions_outside_pen_area_per90_gk\", \"avg_distance_def_actions_gk\"])\n",
    "\n",
    "passing_df = pd.DataFrame(columns=[\"passes_pct\", \"passes_total_distance\", \"passes_progressive_distance\", \"passes_pct_short\", \"passes_pct_medium\", \"passes_pct_long\", \"assists\", \"assisted_shots\", \"passes_into_final_third\"])\n",
    "\n",
    "goal_shoot_c_df = pd.DataFrame(columns=[\"sca\", \"sca_passes_live\", \"sca_passes_dead\", \"gca\", \"gca_passes_live\", \"gca_passes_dead\"])\n",
    "\n",
    "defensive_df = pd.DataFrame(columns=[\"tackles\", \"tackles_won\", \"dribble_tackles_pct\", \"pressure_regain_pct\", \"blocks\", \"blocked_shots\", \"blocked_shots_saves\", \"blocked_passes\", \"interceptions\", \"tackles_interceptions\", \"clearances\", \"errors\"])\n",
    "\n",
    "posession_df = pd.DataFrame(columns=[\"touches\", \"touches_live_ball\", \"dribbles_completed_pct\", \"carries\", \"carry_distance\", \"passes_received_pct\", \"miscontrols\", \"dispossessed\"])\n",
    "\n",
    "playtime_df = pd.DataFrame(columns=[\"points_per_match\", \"plus_minus\"])\n",
    "\n",
    "misc_df = pd.DataFrame(columns=[\"cards_yellow\", \"cards_red\", \"cards_yellow_red\", \"fouls\", \"fouled\", \"pens_conceded\", \"own_goals\", \"ball_recoveries\", \"aerials_won_pct\"])"
   ]
  },
  {
   "cell_type": "code",
   "execution_count": 70,
   "metadata": {},
   "outputs": [],
   "source": [
    "cols_scraped = {'stats_keeper_ks_collapsed': [], 'stats_keeper_adv_ks_collapsed': [], 'all_stats_passing_ks_collapsed': [], 'stats_gca_ks_collapsed': [], 'stats_defense_ks_collapsed': [], 'stats_possession_ks_collapsed': [], 'stats_playing_time_ks_collapsed': [], 'stats_misc_ks_collapsed': []}"
   ]
  },
  {
   "cell_type": "code",
   "execution_count": 71,
   "metadata": {},
   "outputs": [],
   "source": [
    "for t in tables_cols:\n",
    "    # Searching the soup\n",
    "    table = browser.find_element_by_id(t)\n",
    "    selector = browser.execute_script(\"return arguments[0].innerHTML;\", table)\n",
    "    link = BeautifulSoup(selector, 'html.parser')\n",
    "    # Empty list for placing the values to append to the dataframe\n",
    "    values = []\n",
    "\n",
    "    for col in tables_cols[t]:\n",
    "        # Select the season \n",
    "        row_tag = [row for row in link.find_all('tr') if row.find('th', {'data-stat': 'season'}) != None and row.find('th', {'data-stat': 'season'}).text == '2018-2019'][0]\n",
    "        try:\n",
    "            values.append(float(row_tag.find('td', {'data-stat': col}).text))\n",
    "        except:\n",
    "            values.append(0.0)\n",
    "    \n",
    "    cols_scraped[t].append(values)\n"
   ]
  }
 ]
}