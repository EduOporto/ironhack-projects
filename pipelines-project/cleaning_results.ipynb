{
 "metadata": {
  "language_info": {
   "codemirror_mode": {
    "name": "ipython",
    "version": 3
   },
   "file_extension": ".py",
   "mimetype": "text/x-python",
   "name": "python",
   "nbconvert_exporter": "python",
   "pygments_lexer": "ipython3",
   "version": "3.8.5-final"
  },
  "orig_nbformat": 2,
  "kernelspec": {
   "name": "python37464bitanaconda3condae88754a2382d478085e26b412211ec7e",
   "display_name": "Python 3.7.4 64-bit ('anaconda3': conda)"
  }
 },
 "nbformat": 4,
 "nbformat_minor": 2,
 "cells": [
  {
   "source": [
    "# Field players dataframes"
   ],
   "cell_type": "markdown",
   "metadata": {}
  },
  {
   "cell_type": "code",
   "execution_count": 1,
   "metadata": {},
   "outputs": [],
   "source": [
    "import pandas as pd\n",
    "import numpy as np"
   ]
  },
  {
   "cell_type": "code",
   "execution_count": 2,
   "metadata": {},
   "outputs": [],
   "source": [
    "miscel_df = pd.read_csv('csv/fplayer_scraps/miscel.csv')\n",
    "miscel_df.drop(['Unnamed: 0'], axis=1, inplace=True)\n",
    "\n",
    "others_df = pd.read_csv('csv/fplayer_scraps/others.csv')\n",
    "others_df.drop(['Unnamed: 0'], axis=1, inplace=True)\n",
    "\n",
    "shooting_df = pd.read_csv('csv/fplayer_scraps/shooting.csv')\n",
    "shooting_df.drop(['Unnamed: 0'], axis=1, inplace=True)\n",
    "\n",
    "defending_df = pd.read_csv('csv/fplayer_scraps/defending.csv')\n",
    "defending_df.drop(['Unnamed: 0'], axis=1, inplace=True)\n",
    "\n",
    "dribbling_df = pd.read_csv('csv/fplayer_scraps/dribbling.csv')\n",
    "dribbling_df.drop(['Unnamed: 0'], axis=1, inplace=True)\n",
    "\n",
    "passing_df = pd.read_csv('csv/fplayer_scraps/passing.csv')\n",
    "passing_df.drop(['Unnamed: 0'], axis=1, inplace=True)"
   ]
  },
  {
   "cell_type": "code",
   "execution_count": 3,
   "metadata": {},
   "outputs": [],
   "source": [
    "to_defending = miscel_df[['sofifa_id', 'cards_yellow', 'cards_red', 'cards_yellow_red', 'fouls', 'fouled', 'pens_conceded', 'own_goals', 'ball_recoveries', 'aerials_won_pct']]\n",
    "to_passing = miscel_df[['sofifa_id', 'crosses']]\n",
    "to_shooting = miscel_df[['sofifa_id', 'offsides', 'pens_won']]"
   ]
  },
  {
   "cell_type": "code",
   "execution_count": 4,
   "metadata": {},
   "outputs": [],
   "source": [
    "defending_df = pd.merge(defending_df, to_defending, on='sofifa_id')\n",
    "passing_df = pd.merge(passing_df, to_passing, on='sofifa_id')\n",
    "shooting_df = pd.merge(shooting_df, to_shooting, on='sofifa_id')"
   ]
  },
  {
   "cell_type": "code",
   "execution_count": 5,
   "metadata": {},
   "outputs": [],
   "source": [
    "def just_mean(right_df, left_df):\n",
    "    general_df = pd.merge(right_df, left_df, on='sofifa_id')\n",
    "    general_df['mean'] = round(general_df.iloc[:,1:].mean(axis=1)*10)\n",
    "    general_rat = general_df.iloc[:,[0,-1]]\n",
    "    return general_rat"
   ]
  },
  {
   "source": [
    "# Shooting"
   ],
   "cell_type": "markdown",
   "metadata": {}
  },
  {
   "cell_type": "code",
   "execution_count": 6,
   "metadata": {},
   "outputs": [
    {
     "output_type": "execute_result",
     "data": {
      "text/plain": [
       "   sofifa_id  shots_on_target_pct  goals  shots_on_target  shots_total  \\\n",
       "0    20801.0                 34.2   28.0             76.0        222.0   \n",
       "1   158023.0                 48.2   51.0            123.0        255.0   \n",
       "2   190871.0                 50.5   23.0             48.0         95.0   \n",
       "3   192985.0                 39.2    6.0             20.0         51.0   \n",
       "4   155862.0                 30.2   10.0             13.0         43.0   \n",
       "\n",
       "   shots_total_per90  shots_on_target_per90  goals_per_shot  \\\n",
       "0               5.67                   1.94            0.10   \n",
       "1               5.70                   2.75            0.18   \n",
       "2               3.79                   1.91            0.18   \n",
       "3               2.52                   0.99            0.12   \n",
       "4               1.11                   0.34            0.05   \n",
       "\n",
       "   goals_per_shot_on_target  average_shot_distance  shots_free_kicks  \\\n",
       "0                      0.29                   17.7              23.0   \n",
       "1                      0.37                   18.7              52.0   \n",
       "2                      0.35                   18.3              18.0   \n",
       "3                      0.30                   22.9               6.0   \n",
       "4                      0.15                   12.0               3.0   \n",
       "\n",
       "   pens_made  pens_att  offsides  pens_won  \n",
       "0        6.0       7.0      31.0       0.0  \n",
       "1        5.0       6.0      19.0       1.0  \n",
       "2        5.0       5.0      10.0       2.0  \n",
       "3        0.0       0.0       1.0       0.0  \n",
       "4        8.0       8.0       5.0       0.0  "
      ],
      "text/html": "<div>\n<style scoped>\n    .dataframe tbody tr th:only-of-type {\n        vertical-align: middle;\n    }\n\n    .dataframe tbody tr th {\n        vertical-align: top;\n    }\n\n    .dataframe thead th {\n        text-align: right;\n    }\n</style>\n<table border=\"1\" class=\"dataframe\">\n  <thead>\n    <tr style=\"text-align: right;\">\n      <th></th>\n      <th>sofifa_id</th>\n      <th>shots_on_target_pct</th>\n      <th>goals</th>\n      <th>shots_on_target</th>\n      <th>shots_total</th>\n      <th>shots_total_per90</th>\n      <th>shots_on_target_per90</th>\n      <th>goals_per_shot</th>\n      <th>goals_per_shot_on_target</th>\n      <th>average_shot_distance</th>\n      <th>shots_free_kicks</th>\n      <th>pens_made</th>\n      <th>pens_att</th>\n      <th>offsides</th>\n      <th>pens_won</th>\n    </tr>\n  </thead>\n  <tbody>\n    <tr>\n      <th>0</th>\n      <td>20801.0</td>\n      <td>34.2</td>\n      <td>28.0</td>\n      <td>76.0</td>\n      <td>222.0</td>\n      <td>5.67</td>\n      <td>1.94</td>\n      <td>0.10</td>\n      <td>0.29</td>\n      <td>17.7</td>\n      <td>23.0</td>\n      <td>6.0</td>\n      <td>7.0</td>\n      <td>31.0</td>\n      <td>0.0</td>\n    </tr>\n    <tr>\n      <th>1</th>\n      <td>158023.0</td>\n      <td>48.2</td>\n      <td>51.0</td>\n      <td>123.0</td>\n      <td>255.0</td>\n      <td>5.70</td>\n      <td>2.75</td>\n      <td>0.18</td>\n      <td>0.37</td>\n      <td>18.7</td>\n      <td>52.0</td>\n      <td>5.0</td>\n      <td>6.0</td>\n      <td>19.0</td>\n      <td>1.0</td>\n    </tr>\n    <tr>\n      <th>2</th>\n      <td>190871.0</td>\n      <td>50.5</td>\n      <td>23.0</td>\n      <td>48.0</td>\n      <td>95.0</td>\n      <td>3.79</td>\n      <td>1.91</td>\n      <td>0.18</td>\n      <td>0.35</td>\n      <td>18.3</td>\n      <td>18.0</td>\n      <td>5.0</td>\n      <td>5.0</td>\n      <td>10.0</td>\n      <td>2.0</td>\n    </tr>\n    <tr>\n      <th>3</th>\n      <td>192985.0</td>\n      <td>39.2</td>\n      <td>6.0</td>\n      <td>20.0</td>\n      <td>51.0</td>\n      <td>2.52</td>\n      <td>0.99</td>\n      <td>0.12</td>\n      <td>0.30</td>\n      <td>22.9</td>\n      <td>6.0</td>\n      <td>0.0</td>\n      <td>0.0</td>\n      <td>1.0</td>\n      <td>0.0</td>\n    </tr>\n    <tr>\n      <th>4</th>\n      <td>155862.0</td>\n      <td>30.2</td>\n      <td>10.0</td>\n      <td>13.0</td>\n      <td>43.0</td>\n      <td>1.11</td>\n      <td>0.34</td>\n      <td>0.05</td>\n      <td>0.15</td>\n      <td>12.0</td>\n      <td>3.0</td>\n      <td>8.0</td>\n      <td>8.0</td>\n      <td>5.0</td>\n      <td>0.0</td>\n    </tr>\n  </tbody>\n</table>\n</div>"
     },
     "metadata": {},
     "execution_count": 6
    }
   ],
   "source": [
    "shooting_df.head()"
   ]
  },
  {
   "cell_type": "code",
   "execution_count": 7,
   "metadata": {},
   "outputs": [],
   "source": [
    "shooting_df['pen_acc'] = (shooting_df['pens_made'] / shooting_df['pens_att'])\n",
    "shooting_df.drop(['pens_made', 'pens_att'], axis=1, inplace=True)\n",
    "shooting_df.fillna(0, inplace=True)"
   ]
  },
  {
   "cell_type": "code",
   "execution_count": 8,
   "metadata": {},
   "outputs": [
    {
     "output_type": "execute_result",
     "data": {
      "text/plain": [
       "   sofifa_id  mean\n",
       "0    20801.0  61.0\n",
       "1   158023.0  80.0\n",
       "2   190871.0  61.0\n",
       "3   192985.0  40.0\n",
       "4   155862.0  35.0"
      ],
      "text/html": "<div>\n<style scoped>\n    .dataframe tbody tr th:only-of-type {\n        vertical-align: middle;\n    }\n\n    .dataframe tbody tr th {\n        vertical-align: top;\n    }\n\n    .dataframe thead th {\n        text-align: right;\n    }\n</style>\n<table border=\"1\" class=\"dataframe\">\n  <thead>\n    <tr style=\"text-align: right;\">\n      <th></th>\n      <th>sofifa_id</th>\n      <th>mean</th>\n    </tr>\n  </thead>\n  <tbody>\n    <tr>\n      <th>0</th>\n      <td>20801.0</td>\n      <td>61.0</td>\n    </tr>\n    <tr>\n      <th>1</th>\n      <td>158023.0</td>\n      <td>80.0</td>\n    </tr>\n    <tr>\n      <th>2</th>\n      <td>190871.0</td>\n      <td>61.0</td>\n    </tr>\n    <tr>\n      <th>3</th>\n      <td>192985.0</td>\n      <td>40.0</td>\n    </tr>\n    <tr>\n      <th>4</th>\n      <td>155862.0</td>\n      <td>35.0</td>\n    </tr>\n  </tbody>\n</table>\n</div>"
     },
     "metadata": {},
     "execution_count": 8
    }
   ],
   "source": [
    "rated_pos = pd.concat([shooting_df.iloc[:,0], shooting_df.iloc[:,np.r_[1:11,12,13]].apply(lambda x: pd.cut(x, bins=10, labels=list(range(1,11))))], axis=1)\n",
    "rated_neg = pd.concat([shooting_df.iloc[:,0], pd.cut(shooting_df.iloc[:,11], bins=10, labels=list(range(10,0,-1)))], axis=1)\n",
    "\n",
    "shooting_rat = just_mean(rated_pos, rated_neg)\n",
    "shooting_rat.head()"
   ]
  },
  {
   "source": [
    "# Defending"
   ],
   "cell_type": "markdown",
   "metadata": {}
  },
  {
   "cell_type": "code",
   "execution_count": 9,
   "metadata": {},
   "outputs": [
    {
     "output_type": "execute_result",
     "data": {
      "text/plain": [
       "   sofifa_id  tackles  tackles_won  dribble_tackles_pct  pressure_regain_pct  \\\n",
       "0    20801.0     13.0         10.0                 21.1                 23.9   \n",
       "1   158023.0     23.0         20.0                 20.0                 26.2   \n",
       "2   190871.0     22.0         17.0                 16.7                 21.8   \n",
       "3   192985.0     23.0         30.0                 19.2                 29.4   \n",
       "4   155862.0     64.0         49.0                 54.7                 36.4   \n",
       "\n",
       "   blocks  interceptions  clearances  errors  cards_yellow  cards_red  \\\n",
       "0    12.0           13.0        33.0     0.0           4.0        1.0   \n",
       "1    20.0            8.0         0.0     0.0           3.0        0.0   \n",
       "2    16.0            8.0         3.0     0.0           7.0        0.0   \n",
       "3    17.0           15.0         4.0     0.0           2.0        0.0   \n",
       "4    51.0           48.0       109.0     3.0          13.0        1.0   \n",
       "\n",
       "   cards_yellow_red  fouls  fouled  pens_conceded  own_goals  ball_recoveries  \\\n",
       "0               0.0   27.0    70.0            0.0        0.0            144.0   \n",
       "1               0.0   31.0   101.0            0.0        0.0            189.0   \n",
       "2               0.0   25.0   110.0            0.0        0.0            114.0   \n",
       "3               0.0   19.0    24.0            0.0        0.0            114.0   \n",
       "4               1.0   47.0    43.0            0.0        0.0            352.0   \n",
       "\n",
       "   aerials_won_pct  \n",
       "0             43.5  \n",
       "1             36.4  \n",
       "2             63.6  \n",
       "3             42.1  \n",
       "4             70.2  "
      ],
      "text/html": "<div>\n<style scoped>\n    .dataframe tbody tr th:only-of-type {\n        vertical-align: middle;\n    }\n\n    .dataframe tbody tr th {\n        vertical-align: top;\n    }\n\n    .dataframe thead th {\n        text-align: right;\n    }\n</style>\n<table border=\"1\" class=\"dataframe\">\n  <thead>\n    <tr style=\"text-align: right;\">\n      <th></th>\n      <th>sofifa_id</th>\n      <th>tackles</th>\n      <th>tackles_won</th>\n      <th>dribble_tackles_pct</th>\n      <th>pressure_regain_pct</th>\n      <th>blocks</th>\n      <th>interceptions</th>\n      <th>clearances</th>\n      <th>errors</th>\n      <th>cards_yellow</th>\n      <th>cards_red</th>\n      <th>cards_yellow_red</th>\n      <th>fouls</th>\n      <th>fouled</th>\n      <th>pens_conceded</th>\n      <th>own_goals</th>\n      <th>ball_recoveries</th>\n      <th>aerials_won_pct</th>\n    </tr>\n  </thead>\n  <tbody>\n    <tr>\n      <th>0</th>\n      <td>20801.0</td>\n      <td>13.0</td>\n      <td>10.0</td>\n      <td>21.1</td>\n      <td>23.9</td>\n      <td>12.0</td>\n      <td>13.0</td>\n      <td>33.0</td>\n      <td>0.0</td>\n      <td>4.0</td>\n      <td>1.0</td>\n      <td>0.0</td>\n      <td>27.0</td>\n      <td>70.0</td>\n      <td>0.0</td>\n      <td>0.0</td>\n      <td>144.0</td>\n      <td>43.5</td>\n    </tr>\n    <tr>\n      <th>1</th>\n      <td>158023.0</td>\n      <td>23.0</td>\n      <td>20.0</td>\n      <td>20.0</td>\n      <td>26.2</td>\n      <td>20.0</td>\n      <td>8.0</td>\n      <td>0.0</td>\n      <td>0.0</td>\n      <td>3.0</td>\n      <td>0.0</td>\n      <td>0.0</td>\n      <td>31.0</td>\n      <td>101.0</td>\n      <td>0.0</td>\n      <td>0.0</td>\n      <td>189.0</td>\n      <td>36.4</td>\n    </tr>\n    <tr>\n      <th>2</th>\n      <td>190871.0</td>\n      <td>22.0</td>\n      <td>17.0</td>\n      <td>16.7</td>\n      <td>21.8</td>\n      <td>16.0</td>\n      <td>8.0</td>\n      <td>3.0</td>\n      <td>0.0</td>\n      <td>7.0</td>\n      <td>0.0</td>\n      <td>0.0</td>\n      <td>25.0</td>\n      <td>110.0</td>\n      <td>0.0</td>\n      <td>0.0</td>\n      <td>114.0</td>\n      <td>63.6</td>\n    </tr>\n    <tr>\n      <th>3</th>\n      <td>192985.0</td>\n      <td>23.0</td>\n      <td>30.0</td>\n      <td>19.2</td>\n      <td>29.4</td>\n      <td>17.0</td>\n      <td>15.0</td>\n      <td>4.0</td>\n      <td>0.0</td>\n      <td>2.0</td>\n      <td>0.0</td>\n      <td>0.0</td>\n      <td>19.0</td>\n      <td>24.0</td>\n      <td>0.0</td>\n      <td>0.0</td>\n      <td>114.0</td>\n      <td>42.1</td>\n    </tr>\n    <tr>\n      <th>4</th>\n      <td>155862.0</td>\n      <td>64.0</td>\n      <td>49.0</td>\n      <td>54.7</td>\n      <td>36.4</td>\n      <td>51.0</td>\n      <td>48.0</td>\n      <td>109.0</td>\n      <td>3.0</td>\n      <td>13.0</td>\n      <td>1.0</td>\n      <td>1.0</td>\n      <td>47.0</td>\n      <td>43.0</td>\n      <td>0.0</td>\n      <td>0.0</td>\n      <td>352.0</td>\n      <td>70.2</td>\n    </tr>\n  </tbody>\n</table>\n</div>"
     },
     "metadata": {},
     "execution_count": 9
    }
   ],
   "source": [
    "defending_df.head()"
   ]
  },
  {
   "cell_type": "code",
   "execution_count": 10,
   "metadata": {},
   "outputs": [
    {
     "output_type": "execute_result",
     "data": {
      "text/plain": [
       "   sofifa_id  mean\n",
       "0    20801.0  54.0\n",
       "1   158023.0  59.0\n",
       "2   190871.0  57.0\n",
       "3   192985.0  57.0\n",
       "4   155862.0  61.0"
      ],
      "text/html": "<div>\n<style scoped>\n    .dataframe tbody tr th:only-of-type {\n        vertical-align: middle;\n    }\n\n    .dataframe tbody tr th {\n        vertical-align: top;\n    }\n\n    .dataframe thead th {\n        text-align: right;\n    }\n</style>\n<table border=\"1\" class=\"dataframe\">\n  <thead>\n    <tr style=\"text-align: right;\">\n      <th></th>\n      <th>sofifa_id</th>\n      <th>mean</th>\n    </tr>\n  </thead>\n  <tbody>\n    <tr>\n      <th>0</th>\n      <td>20801.0</td>\n      <td>54.0</td>\n    </tr>\n    <tr>\n      <th>1</th>\n      <td>158023.0</td>\n      <td>59.0</td>\n    </tr>\n    <tr>\n      <th>2</th>\n      <td>190871.0</td>\n      <td>57.0</td>\n    </tr>\n    <tr>\n      <th>3</th>\n      <td>192985.0</td>\n      <td>57.0</td>\n    </tr>\n    <tr>\n      <th>4</th>\n      <td>155862.0</td>\n      <td>61.0</td>\n    </tr>\n  </tbody>\n</table>\n</div>"
     },
     "metadata": {},
     "execution_count": 10
    }
   ],
   "source": [
    "rated_pos = pd.concat([defending_df.iloc[:,0], defending_df.iloc[:,np.r_[1:8, 13,16,17]].apply(lambda x: pd.cut(x, bins=10, labels=list(range(1,11))))], axis=1)\n",
    "rated_neg = pd.concat([defending_df.iloc[:,0], defending_df.iloc[:,np.r_[8:12, 14,15,]].apply(lambda x: pd.cut(x, bins=10, labels=list(range(10,0,-1))))], axis=1)\n",
    "\n",
    "defending_rat = just_mean(rated_pos, rated_neg)\n",
    "defending_rat.head()"
   ]
  },
  {
   "source": [
    "# Dribbling"
   ],
   "cell_type": "markdown",
   "metadata": {}
  },
  {
   "cell_type": "code",
   "execution_count": 11,
   "metadata": {},
   "outputs": [
    {
     "output_type": "execute_result",
     "data": {
      "text/plain": [
       "   sofifa_id  dribbles_completed_pct  players_dribbled_past  carries  \\\n",
       "0    20801.0                    56.3                   74.0   1646.0   \n",
       "1   158023.0                    63.5                  205.0   2801.0   \n",
       "2   190871.0                    56.4                  132.0   1570.0   \n",
       "3   192985.0                    67.7                   25.0    851.0   \n",
       "4   155862.0                    55.6                    6.0   1807.0   \n",
       "\n",
       "   carry_distance  carry_progressive_distance  miscontrols  dispossessed  \n",
       "0         12031.0                      7507.0         83.0          57.0  \n",
       "1         17955.0                     10930.0         67.0         107.0  \n",
       "2         11606.0                      7214.0         84.0          88.0  \n",
       "3          4994.0                      2973.0         21.0          26.0  \n",
       "4          9332.0                      5032.0          4.0           3.0  "
      ],
      "text/html": "<div>\n<style scoped>\n    .dataframe tbody tr th:only-of-type {\n        vertical-align: middle;\n    }\n\n    .dataframe tbody tr th {\n        vertical-align: top;\n    }\n\n    .dataframe thead th {\n        text-align: right;\n    }\n</style>\n<table border=\"1\" class=\"dataframe\">\n  <thead>\n    <tr style=\"text-align: right;\">\n      <th></th>\n      <th>sofifa_id</th>\n      <th>dribbles_completed_pct</th>\n      <th>players_dribbled_past</th>\n      <th>carries</th>\n      <th>carry_distance</th>\n      <th>carry_progressive_distance</th>\n      <th>miscontrols</th>\n      <th>dispossessed</th>\n    </tr>\n  </thead>\n  <tbody>\n    <tr>\n      <th>0</th>\n      <td>20801.0</td>\n      <td>56.3</td>\n      <td>74.0</td>\n      <td>1646.0</td>\n      <td>12031.0</td>\n      <td>7507.0</td>\n      <td>83.0</td>\n      <td>57.0</td>\n    </tr>\n    <tr>\n      <th>1</th>\n      <td>158023.0</td>\n      <td>63.5</td>\n      <td>205.0</td>\n      <td>2801.0</td>\n      <td>17955.0</td>\n      <td>10930.0</td>\n      <td>67.0</td>\n      <td>107.0</td>\n    </tr>\n    <tr>\n      <th>2</th>\n      <td>190871.0</td>\n      <td>56.4</td>\n      <td>132.0</td>\n      <td>1570.0</td>\n      <td>11606.0</td>\n      <td>7214.0</td>\n      <td>84.0</td>\n      <td>88.0</td>\n    </tr>\n    <tr>\n      <th>3</th>\n      <td>192985.0</td>\n      <td>67.7</td>\n      <td>25.0</td>\n      <td>851.0</td>\n      <td>4994.0</td>\n      <td>2973.0</td>\n      <td>21.0</td>\n      <td>26.0</td>\n    </tr>\n    <tr>\n      <th>4</th>\n      <td>155862.0</td>\n      <td>55.6</td>\n      <td>6.0</td>\n      <td>1807.0</td>\n      <td>9332.0</td>\n      <td>5032.0</td>\n      <td>4.0</td>\n      <td>3.0</td>\n    </tr>\n  </tbody>\n</table>\n</div>"
     },
     "metadata": {},
     "execution_count": 11
    }
   ],
   "source": [
    "dribbling_df.head()"
   ]
  },
  {
   "cell_type": "code",
   "execution_count": 12,
   "metadata": {},
   "outputs": [
    {
     "output_type": "execute_result",
     "data": {
      "text/plain": [
       "   sofifa_id  mean\n",
       "0    20801.0  57.0\n",
       "1   158023.0  77.0\n",
       "2   190871.0  59.0\n",
       "3   192985.0  51.0\n",
       "4   155862.0  60.0"
      ],
      "text/html": "<div>\n<style scoped>\n    .dataframe tbody tr th:only-of-type {\n        vertical-align: middle;\n    }\n\n    .dataframe tbody tr th {\n        vertical-align: top;\n    }\n\n    .dataframe thead th {\n        text-align: right;\n    }\n</style>\n<table border=\"1\" class=\"dataframe\">\n  <thead>\n    <tr style=\"text-align: right;\">\n      <th></th>\n      <th>sofifa_id</th>\n      <th>mean</th>\n    </tr>\n  </thead>\n  <tbody>\n    <tr>\n      <th>0</th>\n      <td>20801.0</td>\n      <td>57.0</td>\n    </tr>\n    <tr>\n      <th>1</th>\n      <td>158023.0</td>\n      <td>77.0</td>\n    </tr>\n    <tr>\n      <th>2</th>\n      <td>190871.0</td>\n      <td>59.0</td>\n    </tr>\n    <tr>\n      <th>3</th>\n      <td>192985.0</td>\n      <td>51.0</td>\n    </tr>\n    <tr>\n      <th>4</th>\n      <td>155862.0</td>\n      <td>60.0</td>\n    </tr>\n  </tbody>\n</table>\n</div>"
     },
     "metadata": {},
     "execution_count": 12
    }
   ],
   "source": [
    "rated_pos = pd.concat([dribbling_df.iloc[:,0], dribbling_df.iloc[:,1:6].apply(lambda x: pd.cut(x, bins=10, labels=list(range(1,11))), axis=0)], axis=1)\n",
    "rated_neg = pd.concat([dribbling_df.iloc[:,0], dribbling_df.iloc[:,6:].apply(lambda x: pd.cut(x, bins=10, labels=list(range(10,0,-1))), axis=0)], axis=1)\n",
    "\n",
    "dribbling_rat = just_mean(rated_pos, rated_neg)\n",
    "dribbling_rat.head()"
   ]
  },
  {
   "source": [
    "# Passing"
   ],
   "cell_type": "markdown",
   "metadata": {}
  },
  {
   "cell_type": "code",
   "execution_count": 13,
   "metadata": {},
   "outputs": [
    {
     "output_type": "execute_result",
     "data": {
      "text/plain": [
       "   sofifa_id  passes_pct  passes_completed  passes_total_distance  \\\n",
       "0    20801.0        81.7            1166.0                18214.0   \n",
       "1   158023.0        79.8            2027.0                35717.0   \n",
       "2   190871.0        78.3            1099.0                18731.0   \n",
       "3   192985.0        76.1             743.0                14636.0   \n",
       "4   155862.0        91.4            2064.0                44851.0   \n",
       "\n",
       "   passes_progressive_distance  passes_pct_short  passes_pct_medium  \\\n",
       "0                       3255.0              87.4               83.7   \n",
       "1                      11972.0              89.1               78.7   \n",
       "2                       7419.0              84.6               84.2   \n",
       "3                       3943.0              87.1               81.4   \n",
       "4                      17138.0              94.7               93.9   \n",
       "\n",
       "   passes_pct_long  assists  assisted_shots  passes_into_final_third  \\\n",
       "0             66.9     10.0            61.0                     65.0   \n",
       "1             65.3     19.0           114.0                    243.0   \n",
       "2             56.7     11.0            63.0                    186.0   \n",
       "3             56.3     10.0            42.0                     77.0   \n",
       "4             83.2      1.0             8.0                    165.0   \n",
       "\n",
       "   passes_into_penalty_area  crosses_into_penalty_area  progressive_passes  \\\n",
       "0                      46.0                       15.0                81.0   \n",
       "1                     183.0                       11.0               384.0   \n",
       "2                      85.0                        1.0               228.0   \n",
       "3                      51.0                       10.0                95.0   \n",
       "4                       7.0                        0.0               111.0   \n",
       "\n",
       "   crosses  \n",
       "0     76.0  \n",
       "1     89.0  \n",
       "2     46.0  \n",
       "3    112.0  \n",
       "4      5.0  "
      ],
      "text/html": "<div>\n<style scoped>\n    .dataframe tbody tr th:only-of-type {\n        vertical-align: middle;\n    }\n\n    .dataframe tbody tr th {\n        vertical-align: top;\n    }\n\n    .dataframe thead th {\n        text-align: right;\n    }\n</style>\n<table border=\"1\" class=\"dataframe\">\n  <thead>\n    <tr style=\"text-align: right;\">\n      <th></th>\n      <th>sofifa_id</th>\n      <th>passes_pct</th>\n      <th>passes_completed</th>\n      <th>passes_total_distance</th>\n      <th>passes_progressive_distance</th>\n      <th>passes_pct_short</th>\n      <th>passes_pct_medium</th>\n      <th>passes_pct_long</th>\n      <th>assists</th>\n      <th>assisted_shots</th>\n      <th>passes_into_final_third</th>\n      <th>passes_into_penalty_area</th>\n      <th>crosses_into_penalty_area</th>\n      <th>progressive_passes</th>\n      <th>crosses</th>\n    </tr>\n  </thead>\n  <tbody>\n    <tr>\n      <th>0</th>\n      <td>20801.0</td>\n      <td>81.7</td>\n      <td>1166.0</td>\n      <td>18214.0</td>\n      <td>3255.0</td>\n      <td>87.4</td>\n      <td>83.7</td>\n      <td>66.9</td>\n      <td>10.0</td>\n      <td>61.0</td>\n      <td>65.0</td>\n      <td>46.0</td>\n      <td>15.0</td>\n      <td>81.0</td>\n      <td>76.0</td>\n    </tr>\n    <tr>\n      <th>1</th>\n      <td>158023.0</td>\n      <td>79.8</td>\n      <td>2027.0</td>\n      <td>35717.0</td>\n      <td>11972.0</td>\n      <td>89.1</td>\n      <td>78.7</td>\n      <td>65.3</td>\n      <td>19.0</td>\n      <td>114.0</td>\n      <td>243.0</td>\n      <td>183.0</td>\n      <td>11.0</td>\n      <td>384.0</td>\n      <td>89.0</td>\n    </tr>\n    <tr>\n      <th>2</th>\n      <td>190871.0</td>\n      <td>78.3</td>\n      <td>1099.0</td>\n      <td>18731.0</td>\n      <td>7419.0</td>\n      <td>84.6</td>\n      <td>84.2</td>\n      <td>56.7</td>\n      <td>11.0</td>\n      <td>63.0</td>\n      <td>186.0</td>\n      <td>85.0</td>\n      <td>1.0</td>\n      <td>228.0</td>\n      <td>46.0</td>\n    </tr>\n    <tr>\n      <th>3</th>\n      <td>192985.0</td>\n      <td>76.1</td>\n      <td>743.0</td>\n      <td>14636.0</td>\n      <td>3943.0</td>\n      <td>87.1</td>\n      <td>81.4</td>\n      <td>56.3</td>\n      <td>10.0</td>\n      <td>42.0</td>\n      <td>77.0</td>\n      <td>51.0</td>\n      <td>10.0</td>\n      <td>95.0</td>\n      <td>112.0</td>\n    </tr>\n    <tr>\n      <th>4</th>\n      <td>155862.0</td>\n      <td>91.4</td>\n      <td>2064.0</td>\n      <td>44851.0</td>\n      <td>17138.0</td>\n      <td>94.7</td>\n      <td>93.9</td>\n      <td>83.2</td>\n      <td>1.0</td>\n      <td>8.0</td>\n      <td>165.0</td>\n      <td>7.0</td>\n      <td>0.0</td>\n      <td>111.0</td>\n      <td>5.0</td>\n    </tr>\n  </tbody>\n</table>\n</div>"
     },
     "metadata": {},
     "execution_count": 13
    }
   ],
   "source": [
    "passing_df.head()"
   ]
  },
  {
   "cell_type": "code",
   "execution_count": 14,
   "metadata": {},
   "outputs": [
    {
     "output_type": "execute_result",
     "data": {
      "text/plain": [
       "   sofifa_id  mean_passing\n",
       "0    20801.0          53.0\n",
       "1   158023.0          77.0\n",
       "2   190871.0          56.0\n",
       "3   192985.0          50.0\n",
       "4   155862.0          53.0"
      ],
      "text/html": "<div>\n<style scoped>\n    .dataframe tbody tr th:only-of-type {\n        vertical-align: middle;\n    }\n\n    .dataframe tbody tr th {\n        vertical-align: top;\n    }\n\n    .dataframe thead th {\n        text-align: right;\n    }\n</style>\n<table border=\"1\" class=\"dataframe\">\n  <thead>\n    <tr style=\"text-align: right;\">\n      <th></th>\n      <th>sofifa_id</th>\n      <th>mean_passing</th>\n    </tr>\n  </thead>\n  <tbody>\n    <tr>\n      <th>0</th>\n      <td>20801.0</td>\n      <td>53.0</td>\n    </tr>\n    <tr>\n      <th>1</th>\n      <td>158023.0</td>\n      <td>77.0</td>\n    </tr>\n    <tr>\n      <th>2</th>\n      <td>190871.0</td>\n      <td>56.0</td>\n    </tr>\n    <tr>\n      <th>3</th>\n      <td>192985.0</td>\n      <td>50.0</td>\n    </tr>\n    <tr>\n      <th>4</th>\n      <td>155862.0</td>\n      <td>53.0</td>\n    </tr>\n  </tbody>\n</table>\n</div>"
     },
     "metadata": {},
     "execution_count": 14
    }
   ],
   "source": [
    "rated = pd.concat([passing_df.iloc[:,0], passing_df.iloc[:,1:].apply(lambda x: pd.cut(x, bins=10, labels=list(range(1,11))), axis=0)], axis=1)\n",
    "rated['mean_passing'] = round(rated.iloc[:,1:].mean(axis=1)*10)\n",
    "\n",
    "passing_rat = rated.iloc[:,[0,-1]]\n",
    "passing_rat.head()"
   ]
  },
  {
   "source": [
    "# Impact on team"
   ],
   "cell_type": "markdown",
   "metadata": {}
  },
  {
   "cell_type": "code",
   "execution_count": 15,
   "metadata": {},
   "outputs": [
    {
     "output_type": "execute_result",
     "data": {
      "text/plain": [
       "   sofifa_id  points_per_match  plus_minus  plus_minus_wowy\n",
       "0    20801.0              2.26        37.0             0.15\n",
       "1   158023.0              2.32        74.0             1.13\n",
       "2   190871.0              2.29        49.0             0.26\n",
       "3   192985.0              2.56        50.0             0.54\n",
       "4   155862.0              1.97        28.0             0.48"
      ],
      "text/html": "<div>\n<style scoped>\n    .dataframe tbody tr th:only-of-type {\n        vertical-align: middle;\n    }\n\n    .dataframe tbody tr th {\n        vertical-align: top;\n    }\n\n    .dataframe thead th {\n        text-align: right;\n    }\n</style>\n<table border=\"1\" class=\"dataframe\">\n  <thead>\n    <tr style=\"text-align: right;\">\n      <th></th>\n      <th>sofifa_id</th>\n      <th>points_per_match</th>\n      <th>plus_minus</th>\n      <th>plus_minus_wowy</th>\n    </tr>\n  </thead>\n  <tbody>\n    <tr>\n      <th>0</th>\n      <td>20801.0</td>\n      <td>2.26</td>\n      <td>37.0</td>\n      <td>0.15</td>\n    </tr>\n    <tr>\n      <th>1</th>\n      <td>158023.0</td>\n      <td>2.32</td>\n      <td>74.0</td>\n      <td>1.13</td>\n    </tr>\n    <tr>\n      <th>2</th>\n      <td>190871.0</td>\n      <td>2.29</td>\n      <td>49.0</td>\n      <td>0.26</td>\n    </tr>\n    <tr>\n      <th>3</th>\n      <td>192985.0</td>\n      <td>2.56</td>\n      <td>50.0</td>\n      <td>0.54</td>\n    </tr>\n    <tr>\n      <th>4</th>\n      <td>155862.0</td>\n      <td>1.97</td>\n      <td>28.0</td>\n      <td>0.48</td>\n    </tr>\n  </tbody>\n</table>\n</div>"
     },
     "metadata": {},
     "execution_count": 15
    }
   ],
   "source": [
    "others_df.head()"
   ]
  },
  {
   "cell_type": "code",
   "execution_count": 16,
   "metadata": {},
   "outputs": [
    {
     "output_type": "execute_result",
     "data": {
      "text/plain": [
       "   sofifa_id  mean_impact\n",
       "0    20801.0         63.0\n",
       "1   158023.0         87.0\n",
       "2   190871.0         70.0\n",
       "3   192985.0         77.0\n",
       "4   155862.0         60.0"
      ],
      "text/html": "<div>\n<style scoped>\n    .dataframe tbody tr th:only-of-type {\n        vertical-align: middle;\n    }\n\n    .dataframe tbody tr th {\n        vertical-align: top;\n    }\n\n    .dataframe thead th {\n        text-align: right;\n    }\n</style>\n<table border=\"1\" class=\"dataframe\">\n  <thead>\n    <tr style=\"text-align: right;\">\n      <th></th>\n      <th>sofifa_id</th>\n      <th>mean_impact</th>\n    </tr>\n  </thead>\n  <tbody>\n    <tr>\n      <th>0</th>\n      <td>20801.0</td>\n      <td>63.0</td>\n    </tr>\n    <tr>\n      <th>1</th>\n      <td>158023.0</td>\n      <td>87.0</td>\n    </tr>\n    <tr>\n      <th>2</th>\n      <td>190871.0</td>\n      <td>70.0</td>\n    </tr>\n    <tr>\n      <th>3</th>\n      <td>192985.0</td>\n      <td>77.0</td>\n    </tr>\n    <tr>\n      <th>4</th>\n      <td>155862.0</td>\n      <td>60.0</td>\n    </tr>\n  </tbody>\n</table>\n</div>"
     },
     "metadata": {},
     "execution_count": 16
    }
   ],
   "source": [
    "rated = pd.concat([others_df.iloc[:,0], others_df.iloc[:,1:].apply(lambda x: pd.cut(x, bins=10, labels=list(range(1,11))), axis=0)], axis=1)\n",
    "rated['mean_impact'] = round(rated.iloc[:,1:].mean(axis=1)*10)\n",
    "\n",
    "impact_rat = rated.iloc[:,[0,-1]]\n",
    "impact_rat.head()"
   ]
  }
 ]
}