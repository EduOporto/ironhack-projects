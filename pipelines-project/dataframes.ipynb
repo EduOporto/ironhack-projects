{
 "cells": [
  {
   "cell_type": "code",
   "execution_count": 1,
   "metadata": {},
   "outputs": [],
   "source": [
    "import pandas as pd\n",
    "from dotenv import load_dotenv\n",
    "import requests\n",
    "import os\n",
    "import numpy as np\n",
    "from bs4 import BeautifulSoup\n",
    "from selenium import webdriver"
   ]
  },
  {
   "source": [
    "# Tide-up the original dataframe"
   ],
   "cell_type": "markdown",
   "metadata": {}
  },
  {
   "cell_type": "code",
   "execution_count": 3,
   "metadata": {},
   "outputs": [],
   "source": [
    "fifa_df_2 = pd.read_csv('csv/players_19.csv')\n",
    "fifa_df_2 = fifa_df_2[fifa_df_2['overall'] >= 85]"
   ]
  },
  {
   "cell_type": "code",
   "execution_count": 4,
   "metadata": {},
   "outputs": [
    {
     "output_type": "execute_result",
     "data": {
      "text/plain": [
       "   sofifa_id                                         player_url  \\\n",
       "0      20801  https://sofifa.com/player/20801/c-ronaldo-dos-...   \n",
       "1     158023  https://sofifa.com/player/158023/lionel-messi/...   \n",
       "2     190871  https://sofifa.com/player/190871/neymar-da-sil...   \n",
       "\n",
       "          short_name                            long_name  age         dob  \\\n",
       "0  Cristiano Ronaldo  Cristiano Ronaldo dos Santos Aveiro   33  1985-02-05   \n",
       "1           L. Messi       Lionel Andrés Messi Cuccittini   31  1987-06-24   \n",
       "2          Neymar Jr        Neymar da Silva Santos Junior   26  1992-02-05   \n",
       "\n",
       "   height_cm  weight_kg nationality                 club  ...   lwb   ldm  \\\n",
       "0        187         83    Portugal             Juventus  ...  65+3  61+3   \n",
       "1        170         72   Argentina         FC Barcelona  ...  63+2  61+2   \n",
       "2        175         68      Brazil  Paris Saint-Germain  ...  65+3  60+3   \n",
       "\n",
       "    cdm   rdm   rwb    lb   lcb    cb   rcb    rb  \n",
       "0  61+3  61+3  65+3  61+3  53+3  53+3  53+3  61+3  \n",
       "1  61+2  61+2  63+2  58+2  47+2  47+2  47+2  58+2  \n",
       "2  60+3  60+3  65+3  60+3  47+3  47+3  47+3  60+3  \n",
       "\n",
       "[3 rows x 104 columns]"
      ],
      "text/html": "<div>\n<style scoped>\n    .dataframe tbody tr th:only-of-type {\n        vertical-align: middle;\n    }\n\n    .dataframe tbody tr th {\n        vertical-align: top;\n    }\n\n    .dataframe thead th {\n        text-align: right;\n    }\n</style>\n<table border=\"1\" class=\"dataframe\">\n  <thead>\n    <tr style=\"text-align: right;\">\n      <th></th>\n      <th>sofifa_id</th>\n      <th>player_url</th>\n      <th>short_name</th>\n      <th>long_name</th>\n      <th>age</th>\n      <th>dob</th>\n      <th>height_cm</th>\n      <th>weight_kg</th>\n      <th>nationality</th>\n      <th>club</th>\n      <th>...</th>\n      <th>lwb</th>\n      <th>ldm</th>\n      <th>cdm</th>\n      <th>rdm</th>\n      <th>rwb</th>\n      <th>lb</th>\n      <th>lcb</th>\n      <th>cb</th>\n      <th>rcb</th>\n      <th>rb</th>\n    </tr>\n  </thead>\n  <tbody>\n    <tr>\n      <th>0</th>\n      <td>20801</td>\n      <td>https://sofifa.com/player/20801/c-ronaldo-dos-...</td>\n      <td>Cristiano Ronaldo</td>\n      <td>Cristiano Ronaldo dos Santos Aveiro</td>\n      <td>33</td>\n      <td>1985-02-05</td>\n      <td>187</td>\n      <td>83</td>\n      <td>Portugal</td>\n      <td>Juventus</td>\n      <td>...</td>\n      <td>65+3</td>\n      <td>61+3</td>\n      <td>61+3</td>\n      <td>61+3</td>\n      <td>65+3</td>\n      <td>61+3</td>\n      <td>53+3</td>\n      <td>53+3</td>\n      <td>53+3</td>\n      <td>61+3</td>\n    </tr>\n    <tr>\n      <th>1</th>\n      <td>158023</td>\n      <td>https://sofifa.com/player/158023/lionel-messi/...</td>\n      <td>L. Messi</td>\n      <td>Lionel Andrés Messi Cuccittini</td>\n      <td>31</td>\n      <td>1987-06-24</td>\n      <td>170</td>\n      <td>72</td>\n      <td>Argentina</td>\n      <td>FC Barcelona</td>\n      <td>...</td>\n      <td>63+2</td>\n      <td>61+2</td>\n      <td>61+2</td>\n      <td>61+2</td>\n      <td>63+2</td>\n      <td>58+2</td>\n      <td>47+2</td>\n      <td>47+2</td>\n      <td>47+2</td>\n      <td>58+2</td>\n    </tr>\n    <tr>\n      <th>2</th>\n      <td>190871</td>\n      <td>https://sofifa.com/player/190871/neymar-da-sil...</td>\n      <td>Neymar Jr</td>\n      <td>Neymar da Silva Santos Junior</td>\n      <td>26</td>\n      <td>1992-02-05</td>\n      <td>175</td>\n      <td>68</td>\n      <td>Brazil</td>\n      <td>Paris Saint-Germain</td>\n      <td>...</td>\n      <td>65+3</td>\n      <td>60+3</td>\n      <td>60+3</td>\n      <td>60+3</td>\n      <td>65+3</td>\n      <td>60+3</td>\n      <td>47+3</td>\n      <td>47+3</td>\n      <td>47+3</td>\n      <td>60+3</td>\n    </tr>\n  </tbody>\n</table>\n<p>3 rows × 104 columns</p>\n</div>"
     },
     "metadata": {},
     "execution_count": 4
    }
   ],
   "source": [
    "fifa_df_2.head(3)"
   ]
  },
  {
   "cell_type": "code",
   "execution_count": 5,
   "metadata": {},
   "outputs": [
    {
     "output_type": "stream",
     "name": "stdout",
     "text": [
      "<class 'pandas.core.frame.DataFrame'>\nInt64Index: 111 entries, 0 to 110\nData columns (total 104 columns):\n #   Column                      Non-Null Count  Dtype  \n---  ------                      --------------  -----  \n 0   sofifa_id                   111 non-null    int64  \n 1   player_url                  111 non-null    object \n 2   short_name                  111 non-null    object \n 3   long_name                   111 non-null    object \n 4   age                         111 non-null    int64  \n 5   dob                         111 non-null    object \n 6   height_cm                   111 non-null    int64  \n 7   weight_kg                   111 non-null    int64  \n 8   nationality                 111 non-null    object \n 9   club                        111 non-null    object \n 10  overall                     111 non-null    int64  \n 11  potential                   111 non-null    int64  \n 12  value_eur                   111 non-null    int64  \n 13  wage_eur                    111 non-null    int64  \n 14  player_positions            111 non-null    object \n 15  preferred_foot              111 non-null    object \n 16  international_reputation    111 non-null    int64  \n 17  weak_foot                   111 non-null    int64  \n 18  skill_moves                 111 non-null    int64  \n 19  work_rate                   111 non-null    object \n 20  body_type                   111 non-null    object \n 21  real_face                   111 non-null    object \n 22  release_clause_eur          108 non-null    float64\n 23  player_tags                 94 non-null     object \n 24  team_position               111 non-null    object \n 25  team_jersey_number          111 non-null    float64\n 26  loaned_from                 3 non-null      object \n 27  joined                      108 non-null    object \n 28  contract_valid_until        111 non-null    float64\n 29  nation_position             67 non-null     object \n 30  nation_jersey_number        67 non-null     float64\n 31  pace                        100 non-null    float64\n 32  shooting                    100 non-null    float64\n 33  passing                     100 non-null    float64\n 34  dribbling                   100 non-null    float64\n 35  defending                   100 non-null    float64\n 36  physic                      100 non-null    float64\n 37  gk_diving                   11 non-null     float64\n 38  gk_handling                 11 non-null     float64\n 39  gk_kicking                  11 non-null     float64\n 40  gk_reflexes                 11 non-null     float64\n 41  gk_speed                    11 non-null     float64\n 42  gk_positioning              11 non-null     float64\n 43  player_traits               105 non-null    object \n 44  attacking_crossing          111 non-null    object \n 45  attacking_finishing         111 non-null    object \n 46  attacking_heading_accuracy  111 non-null    object \n 47  attacking_short_passing     111 non-null    object \n 48  attacking_volleys           111 non-null    object \n 49  skill_dribbling             111 non-null    object \n 50  skill_curve                 111 non-null    object \n 51  skill_fk_accuracy           111 non-null    object \n 52  skill_long_passing          111 non-null    object \n 53  skill_ball_control          111 non-null    object \n 54  movement_acceleration       111 non-null    object \n 55  movement_sprint_speed       111 non-null    object \n 56  movement_agility            111 non-null    object \n 57  movement_reactions          111 non-null    object \n 58  movement_balance            111 non-null    object \n 59  power_shot_power            111 non-null    object \n 60  power_jumping               111 non-null    object \n 61  power_stamina               111 non-null    object \n 62  power_strength              111 non-null    object \n 63  power_long_shots            111 non-null    object \n 64  mentality_aggression        111 non-null    object \n 65  mentality_interceptions     111 non-null    object \n 66  mentality_positioning       111 non-null    object \n 67  mentality_vision            111 non-null    object \n 68  mentality_penalties         111 non-null    object \n 69  mentality_composure         111 non-null    object \n 70  defending_marking           111 non-null    object \n 71  defending_standing_tackle   111 non-null    object \n 72  defending_sliding_tackle    111 non-null    object \n 73  goalkeeping_diving          111 non-null    object \n 74  goalkeeping_handling        111 non-null    object \n 75  goalkeeping_kicking         111 non-null    object \n 76  goalkeeping_positioning     111 non-null    object \n 77  goalkeeping_reflexes        111 non-null    object \n 78  ls                          100 non-null    object \n 79  st                          100 non-null    object \n 80  rs                          100 non-null    object \n 81  lw                          100 non-null    object \n 82  lf                          100 non-null    object \n 83  cf                          100 non-null    object \n 84  rf                          100 non-null    object \n 85  rw                          100 non-null    object \n 86  lam                         100 non-null    object \n 87  cam                         100 non-null    object \n 88  ram                         100 non-null    object \n 89  lm                          100 non-null    object \n 90  lcm                         100 non-null    object \n 91  cm                          100 non-null    object \n 92  rcm                         100 non-null    object \n 93  rm                          100 non-null    object \n 94  lwb                         100 non-null    object \n 95  ldm                         100 non-null    object \n 96  cdm                         100 non-null    object \n 97  rdm                         100 non-null    object \n 98  rwb                         100 non-null    object \n 99  lb                          100 non-null    object \n 100 lcb                         100 non-null    object \n 101 cb                          100 non-null    object \n 102 rcb                         100 non-null    object \n 103 rb                          100 non-null    object \ndtypes: float64(16), int64(11), object(77)\nmemory usage: 91.1+ KB\n"
     ]
    }
   ],
   "source": [
    "fifa_df_2.info(max_cols=105)"
   ]
  },
  {
   "cell_type": "code",
   "execution_count": 6,
   "metadata": {},
   "outputs": [],
   "source": [
    "fifa_19_pdata = fifa_df_2.iloc[:,[0,2,3,4,8,9,24]]\n",
    "fifa_19_pstats = fifa_df_2.iloc[:, np.r_[0,10,11, 31:43]]"
   ]
  },
  {
   "cell_type": "code",
   "execution_count": 7,
   "metadata": {},
   "outputs": [
    {
     "output_type": "execute_result",
     "data": {
      "text/plain": [
       "     sofifa_id         short_name                            long_name  age  \\\n",
       "0        20801  Cristiano Ronaldo  Cristiano Ronaldo dos Santos Aveiro   33   \n",
       "1       158023           L. Messi       Lionel Andrés Messi Cuccittini   31   \n",
       "2       190871          Neymar Jr        Neymar da Silva Santos Junior   26   \n",
       "3       193080             De Gea                David De Gea Quintana   27   \n",
       "4       192985       K. De Bruyne                      Kevin De Bruyne   27   \n",
       "..         ...                ...                                  ...  ...   \n",
       "106     184267         Y. Brahimi                       Yacine Brahimi   28   \n",
       "107     187961           Paulinho     José Paulo Bezzera Maciel Júnior   29   \n",
       "108     188350            M. Reus                           Marco Reus   29   \n",
       "109     192629         Iago Aspas                    Iago Aspas Juncal   30   \n",
       "110     204485          R. Mahrez                         Riyad Mahrez   27   \n",
       "\n",
       "    nationality                            club team_position  \n",
       "0      Portugal                        Juventus            LW  \n",
       "1     Argentina                    FC Barcelona            RW  \n",
       "2        Brazil             Paris Saint-Germain           CAM  \n",
       "3         Spain               Manchester United            GK  \n",
       "4       Belgium                 Manchester City           RCM  \n",
       "..          ...                             ...           ...  \n",
       "106     Algeria                        FC Porto            LM  \n",
       "107      Brazil  Guangzhou Evergrande Taobao FC           LDM  \n",
       "108     Germany               Borussia Dortmund            LW  \n",
       "109       Spain                        RC Celta            RW  \n",
       "110     Algeria                 Manchester City           SUB  \n",
       "\n",
       "[111 rows x 7 columns]"
      ],
      "text/html": "<div>\n<style scoped>\n    .dataframe tbody tr th:only-of-type {\n        vertical-align: middle;\n    }\n\n    .dataframe tbody tr th {\n        vertical-align: top;\n    }\n\n    .dataframe thead th {\n        text-align: right;\n    }\n</style>\n<table border=\"1\" class=\"dataframe\">\n  <thead>\n    <tr style=\"text-align: right;\">\n      <th></th>\n      <th>sofifa_id</th>\n      <th>short_name</th>\n      <th>long_name</th>\n      <th>age</th>\n      <th>nationality</th>\n      <th>club</th>\n      <th>team_position</th>\n    </tr>\n  </thead>\n  <tbody>\n    <tr>\n      <th>0</th>\n      <td>20801</td>\n      <td>Cristiano Ronaldo</td>\n      <td>Cristiano Ronaldo dos Santos Aveiro</td>\n      <td>33</td>\n      <td>Portugal</td>\n      <td>Juventus</td>\n      <td>LW</td>\n    </tr>\n    <tr>\n      <th>1</th>\n      <td>158023</td>\n      <td>L. Messi</td>\n      <td>Lionel Andrés Messi Cuccittini</td>\n      <td>31</td>\n      <td>Argentina</td>\n      <td>FC Barcelona</td>\n      <td>RW</td>\n    </tr>\n    <tr>\n      <th>2</th>\n      <td>190871</td>\n      <td>Neymar Jr</td>\n      <td>Neymar da Silva Santos Junior</td>\n      <td>26</td>\n      <td>Brazil</td>\n      <td>Paris Saint-Germain</td>\n      <td>CAM</td>\n    </tr>\n    <tr>\n      <th>3</th>\n      <td>193080</td>\n      <td>De Gea</td>\n      <td>David De Gea Quintana</td>\n      <td>27</td>\n      <td>Spain</td>\n      <td>Manchester United</td>\n      <td>GK</td>\n    </tr>\n    <tr>\n      <th>4</th>\n      <td>192985</td>\n      <td>K. De Bruyne</td>\n      <td>Kevin De Bruyne</td>\n      <td>27</td>\n      <td>Belgium</td>\n      <td>Manchester City</td>\n      <td>RCM</td>\n    </tr>\n    <tr>\n      <th>...</th>\n      <td>...</td>\n      <td>...</td>\n      <td>...</td>\n      <td>...</td>\n      <td>...</td>\n      <td>...</td>\n      <td>...</td>\n    </tr>\n    <tr>\n      <th>106</th>\n      <td>184267</td>\n      <td>Y. Brahimi</td>\n      <td>Yacine Brahimi</td>\n      <td>28</td>\n      <td>Algeria</td>\n      <td>FC Porto</td>\n      <td>LM</td>\n    </tr>\n    <tr>\n      <th>107</th>\n      <td>187961</td>\n      <td>Paulinho</td>\n      <td>José Paulo Bezzera Maciel Júnior</td>\n      <td>29</td>\n      <td>Brazil</td>\n      <td>Guangzhou Evergrande Taobao FC</td>\n      <td>LDM</td>\n    </tr>\n    <tr>\n      <th>108</th>\n      <td>188350</td>\n      <td>M. Reus</td>\n      <td>Marco Reus</td>\n      <td>29</td>\n      <td>Germany</td>\n      <td>Borussia Dortmund</td>\n      <td>LW</td>\n    </tr>\n    <tr>\n      <th>109</th>\n      <td>192629</td>\n      <td>Iago Aspas</td>\n      <td>Iago Aspas Juncal</td>\n      <td>30</td>\n      <td>Spain</td>\n      <td>RC Celta</td>\n      <td>RW</td>\n    </tr>\n    <tr>\n      <th>110</th>\n      <td>204485</td>\n      <td>R. Mahrez</td>\n      <td>Riyad Mahrez</td>\n      <td>27</td>\n      <td>Algeria</td>\n      <td>Manchester City</td>\n      <td>SUB</td>\n    </tr>\n  </tbody>\n</table>\n<p>111 rows × 7 columns</p>\n</div>"
     },
     "metadata": {},
     "execution_count": 7
    }
   ],
   "source": [
    "fifa_19_pdata"
   ]
  },
  {
   "cell_type": "code",
   "execution_count": 8,
   "metadata": {},
   "outputs": [
    {
     "output_type": "execute_result",
     "data": {
      "text/plain": [
       "   sofifa_id  overall  potential  pace  shooting  passing  dribbling  \\\n",
       "0      20801       94         94  90.0      93.0     81.0       89.0   \n",
       "1     158023       94         94  88.0      91.0     88.0       96.0   \n",
       "2     190871       92         93  92.0      84.0     83.0       95.0   \n",
       "3     193080       91         93   NaN       NaN      NaN        NaN   \n",
       "4     192985       91         92  77.0      86.0     92.0       87.0   \n",
       "\n",
       "   defending  physic  gk_diving  gk_handling  gk_kicking  gk_reflexes  \\\n",
       "0       35.0    79.0        NaN          NaN         NaN          NaN   \n",
       "1       32.0    61.0        NaN          NaN         NaN          NaN   \n",
       "2       32.0    59.0        NaN          NaN         NaN          NaN   \n",
       "3        NaN     NaN       90.0         85.0        87.0         94.0   \n",
       "4       60.0    78.0        NaN          NaN         NaN          NaN   \n",
       "\n",
       "   gk_speed  gk_positioning  \n",
       "0       NaN             NaN  \n",
       "1       NaN             NaN  \n",
       "2       NaN             NaN  \n",
       "3      58.0            88.0  \n",
       "4       NaN             NaN  "
      ],
      "text/html": "<div>\n<style scoped>\n    .dataframe tbody tr th:only-of-type {\n        vertical-align: middle;\n    }\n\n    .dataframe tbody tr th {\n        vertical-align: top;\n    }\n\n    .dataframe thead th {\n        text-align: right;\n    }\n</style>\n<table border=\"1\" class=\"dataframe\">\n  <thead>\n    <tr style=\"text-align: right;\">\n      <th></th>\n      <th>sofifa_id</th>\n      <th>overall</th>\n      <th>potential</th>\n      <th>pace</th>\n      <th>shooting</th>\n      <th>passing</th>\n      <th>dribbling</th>\n      <th>defending</th>\n      <th>physic</th>\n      <th>gk_diving</th>\n      <th>gk_handling</th>\n      <th>gk_kicking</th>\n      <th>gk_reflexes</th>\n      <th>gk_speed</th>\n      <th>gk_positioning</th>\n    </tr>\n  </thead>\n  <tbody>\n    <tr>\n      <th>0</th>\n      <td>20801</td>\n      <td>94</td>\n      <td>94</td>\n      <td>90.0</td>\n      <td>93.0</td>\n      <td>81.0</td>\n      <td>89.0</td>\n      <td>35.0</td>\n      <td>79.0</td>\n      <td>NaN</td>\n      <td>NaN</td>\n      <td>NaN</td>\n      <td>NaN</td>\n      <td>NaN</td>\n      <td>NaN</td>\n    </tr>\n    <tr>\n      <th>1</th>\n      <td>158023</td>\n      <td>94</td>\n      <td>94</td>\n      <td>88.0</td>\n      <td>91.0</td>\n      <td>88.0</td>\n      <td>96.0</td>\n      <td>32.0</td>\n      <td>61.0</td>\n      <td>NaN</td>\n      <td>NaN</td>\n      <td>NaN</td>\n      <td>NaN</td>\n      <td>NaN</td>\n      <td>NaN</td>\n    </tr>\n    <tr>\n      <th>2</th>\n      <td>190871</td>\n      <td>92</td>\n      <td>93</td>\n      <td>92.0</td>\n      <td>84.0</td>\n      <td>83.0</td>\n      <td>95.0</td>\n      <td>32.0</td>\n      <td>59.0</td>\n      <td>NaN</td>\n      <td>NaN</td>\n      <td>NaN</td>\n      <td>NaN</td>\n      <td>NaN</td>\n      <td>NaN</td>\n    </tr>\n    <tr>\n      <th>3</th>\n      <td>193080</td>\n      <td>91</td>\n      <td>93</td>\n      <td>NaN</td>\n      <td>NaN</td>\n      <td>NaN</td>\n      <td>NaN</td>\n      <td>NaN</td>\n      <td>NaN</td>\n      <td>90.0</td>\n      <td>85.0</td>\n      <td>87.0</td>\n      <td>94.0</td>\n      <td>58.0</td>\n      <td>88.0</td>\n    </tr>\n    <tr>\n      <th>4</th>\n      <td>192985</td>\n      <td>91</td>\n      <td>92</td>\n      <td>77.0</td>\n      <td>86.0</td>\n      <td>92.0</td>\n      <td>87.0</td>\n      <td>60.0</td>\n      <td>78.0</td>\n      <td>NaN</td>\n      <td>NaN</td>\n      <td>NaN</td>\n      <td>NaN</td>\n      <td>NaN</td>\n      <td>NaN</td>\n    </tr>\n  </tbody>\n</table>\n</div>"
     },
     "metadata": {},
     "execution_count": 8
    }
   ],
   "source": [
    "fifa_19_pstats.head()"
   ]
  },
  {
   "source": [
    "# Get players links from fbref.com"
   ],
   "cell_type": "markdown",
   "metadata": {}
  },
  {
   "cell_type": "code",
   "execution_count": 20,
   "metadata": {},
   "outputs": [
    {
     "output_type": "execute_result",
     "data": {
      "text/plain": [
       "     sofifa_id         short_name\n",
       "0        20801  cristiano+ronaldo\n",
       "1       158023            l+messi\n",
       "2       190871          neymar+jr\n",
       "3       193080             de+gea\n",
       "4       192985        k+de+bruyne\n",
       "..         ...                ...\n",
       "106     184267          y+brahimi\n",
       "107     187961           paulinho\n",
       "108     188350             m+reus\n",
       "109     192629         iago+aspas\n",
       "110     204485           r+mahrez\n",
       "\n",
       "[111 rows x 2 columns]"
      ],
      "text/html": "<div>\n<style scoped>\n    .dataframe tbody tr th:only-of-type {\n        vertical-align: middle;\n    }\n\n    .dataframe tbody tr th {\n        vertical-align: top;\n    }\n\n    .dataframe thead th {\n        text-align: right;\n    }\n</style>\n<table border=\"1\" class=\"dataframe\">\n  <thead>\n    <tr style=\"text-align: right;\">\n      <th></th>\n      <th>sofifa_id</th>\n      <th>short_name</th>\n    </tr>\n  </thead>\n  <tbody>\n    <tr>\n      <th>0</th>\n      <td>20801</td>\n      <td>cristiano+ronaldo</td>\n    </tr>\n    <tr>\n      <th>1</th>\n      <td>158023</td>\n      <td>l+messi</td>\n    </tr>\n    <tr>\n      <th>2</th>\n      <td>190871</td>\n      <td>neymar+jr</td>\n    </tr>\n    <tr>\n      <th>3</th>\n      <td>193080</td>\n      <td>de+gea</td>\n    </tr>\n    <tr>\n      <th>4</th>\n      <td>192985</td>\n      <td>k+de+bruyne</td>\n    </tr>\n    <tr>\n      <th>...</th>\n      <td>...</td>\n      <td>...</td>\n    </tr>\n    <tr>\n      <th>106</th>\n      <td>184267</td>\n      <td>y+brahimi</td>\n    </tr>\n    <tr>\n      <th>107</th>\n      <td>187961</td>\n      <td>paulinho</td>\n    </tr>\n    <tr>\n      <th>108</th>\n      <td>188350</td>\n      <td>m+reus</td>\n    </tr>\n    <tr>\n      <th>109</th>\n      <td>192629</td>\n      <td>iago+aspas</td>\n    </tr>\n    <tr>\n      <th>110</th>\n      <td>204485</td>\n      <td>r+mahrez</td>\n    </tr>\n  </tbody>\n</table>\n<p>111 rows × 2 columns</p>\n</div>"
     },
     "metadata": {},
     "execution_count": 20
    }
   ],
   "source": [
    "player_link_df = fifa_19_pdata.iloc[:,[0,1]]\n",
    "player_link_df['short_name'] = player_link_df['short_name'].str.lower().str.replace('.', '').str.replace(' ', '+')\n",
    "player_link_df"
   ]
  },
  {
   "cell_type": "code",
   "execution_count": 21,
   "metadata": {},
   "outputs": [],
   "source": [
    "player_link_df_try = player_link_df.iloc[:10,:]"
   ]
  },
  {
   "cell_type": "code",
   "execution_count": 22,
   "metadata": {},
   "outputs": [],
   "source": [
    "op = webdriver.ChromeOptions()\n",
    "op.add_argument('headless')"
   ]
  },
  {
   "cell_type": "code",
   "execution_count": 26,
   "metadata": {},
   "outputs": [],
   "source": [
    "browser = webdriver.Chrome('/Users/eduardooportoalonso/Documents/Cursos/Ironhack/datamad1020/ironhack-projects/pipelines-project/chromedriver', options=op)\n",
    "\n",
    "def linkifyer(search_str, browser):\n",
    "    browser.get(\"https://fbref.com/en/search/search.fcgi?search=\" + search_str) \n",
    "\n",
    "    element = browser.find_element_by_class_name('filter')\n",
    "    selector = browser.execute_script(\"return arguments[0].innerHTML;\", element)\n",
    "    link = BeautifulSoup(selector, 'html.parser').find('a')['href']\n",
    "    print(link)"
   ]
  },
  {
   "cell_type": "code",
   "execution_count": 27,
   "metadata": {},
   "outputs": [
    {
     "output_type": "stream",
     "name": "stdout",
     "text": [
      "/en/players/dea698d9/all_comps/Cristiano-Ronaldo-Stats---All-Competitions\n",
      "javascript:void(0)\n",
      "/en/players/69384e5d/all_comps/Neymar-Stats---All-Competitions\n",
      "javascript:void(0)\n",
      "/en/players/e46012d4/all_comps/Kevin-De-Bruyne-Stats---All-Competitions\n",
      "javascript:void(0)\n",
      "javascript:void(0)\n",
      "/en/players/6025fab1/all_comps/Luka-Modric-Stats---All-Competitions\n",
      "/en/players/a39bb753/all_comps/Eden-Hazard-Stats---All-Competitions\n",
      "/en/players/ee8508c0/all_comps/Jan-Oblak-Stats---All-Competitions\n"
     ]
    }
   ],
   "source": [
    "for name in player_link_df_try['short_name']:\n",
    "    linkifyer(name, browser)"
   ]
  },
  {
   "cell_type": "code",
   "execution_count": null,
   "metadata": {},
   "outputs": [],
   "source": []
  }
 ],
 "metadata": {
  "kernelspec": {
   "name": "Python 3.8.5 64-bit",
   "display_name": "Python 3.8.5 64-bit",
   "metadata": {
    "interpreter": {
     "hash": "082e9a3bcad0a290d0001e938aa60b99250c6c2ef33a923c00b70f9826caf4b7"
    }
   }
  },
  "language_info": {
   "codemirror_mode": {
    "name": "ipython",
    "version": 3
   },
   "file_extension": ".py",
   "mimetype": "text/x-python",
   "name": "python",
   "nbconvert_exporter": "python",
   "pygments_lexer": "ipython3",
   "version": "3.8.5-final"
  }
 },
 "nbformat": 4,
 "nbformat_minor": 4
}