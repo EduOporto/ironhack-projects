{
 "cells": [
  {
   "cell_type": "code",
   "execution_count": 1,
   "metadata": {},
   "outputs": [],
   "source": [
    "import pandas as pd\n",
    "from dotenv import load_dotenv\n",
    "import requests\n",
    "import os\n",
    "import numpy as np\n",
    "from bs4 import BeautifulSoup\n",
    "from selenium import webdriver"
   ]
  },
  {
   "source": [
    "# Tide-up the original dataframe"
   ],
   "cell_type": "markdown",
   "metadata": {}
  },
  {
   "cell_type": "code",
   "execution_count": 2,
   "metadata": {},
   "outputs": [],
   "source": [
    "fifa_df_2 = pd.read_csv('csv/players_19.csv')\n",
    "fifa_df_2 = fifa_df_2[fifa_df_2['overall'] >= 85]"
   ]
  },
  {
   "cell_type": "code",
   "execution_count": 3,
   "metadata": {},
   "outputs": [
    {
     "output_type": "execute_result",
     "data": {
      "text/plain": [
       "   sofifa_id                                         player_url  \\\n",
       "0      20801  https://sofifa.com/player/20801/c-ronaldo-dos-...   \n",
       "1     158023  https://sofifa.com/player/158023/lionel-messi/...   \n",
       "2     190871  https://sofifa.com/player/190871/neymar-da-sil...   \n",
       "\n",
       "          short_name                            long_name  age         dob  \\\n",
       "0  Cristiano Ronaldo  Cristiano Ronaldo dos Santos Aveiro   33  1985-02-05   \n",
       "1           L. Messi       Lionel Andrés Messi Cuccittini   31  1987-06-24   \n",
       "2          Neymar Jr        Neymar da Silva Santos Junior   26  1992-02-05   \n",
       "\n",
       "   height_cm  weight_kg nationality                 club  ...   lwb   ldm  \\\n",
       "0        187         83    Portugal             Juventus  ...  65+3  61+3   \n",
       "1        170         72   Argentina         FC Barcelona  ...  63+2  61+2   \n",
       "2        175         68      Brazil  Paris Saint-Germain  ...  65+3  60+3   \n",
       "\n",
       "    cdm   rdm   rwb    lb   lcb    cb   rcb    rb  \n",
       "0  61+3  61+3  65+3  61+3  53+3  53+3  53+3  61+3  \n",
       "1  61+2  61+2  63+2  58+2  47+2  47+2  47+2  58+2  \n",
       "2  60+3  60+3  65+3  60+3  47+3  47+3  47+3  60+3  \n",
       "\n",
       "[3 rows x 104 columns]"
      ],
      "text/html": "<div>\n<style scoped>\n    .dataframe tbody tr th:only-of-type {\n        vertical-align: middle;\n    }\n\n    .dataframe tbody tr th {\n        vertical-align: top;\n    }\n\n    .dataframe thead th {\n        text-align: right;\n    }\n</style>\n<table border=\"1\" class=\"dataframe\">\n  <thead>\n    <tr style=\"text-align: right;\">\n      <th></th>\n      <th>sofifa_id</th>\n      <th>player_url</th>\n      <th>short_name</th>\n      <th>long_name</th>\n      <th>age</th>\n      <th>dob</th>\n      <th>height_cm</th>\n      <th>weight_kg</th>\n      <th>nationality</th>\n      <th>club</th>\n      <th>...</th>\n      <th>lwb</th>\n      <th>ldm</th>\n      <th>cdm</th>\n      <th>rdm</th>\n      <th>rwb</th>\n      <th>lb</th>\n      <th>lcb</th>\n      <th>cb</th>\n      <th>rcb</th>\n      <th>rb</th>\n    </tr>\n  </thead>\n  <tbody>\n    <tr>\n      <th>0</th>\n      <td>20801</td>\n      <td>https://sofifa.com/player/20801/c-ronaldo-dos-...</td>\n      <td>Cristiano Ronaldo</td>\n      <td>Cristiano Ronaldo dos Santos Aveiro</td>\n      <td>33</td>\n      <td>1985-02-05</td>\n      <td>187</td>\n      <td>83</td>\n      <td>Portugal</td>\n      <td>Juventus</td>\n      <td>...</td>\n      <td>65+3</td>\n      <td>61+3</td>\n      <td>61+3</td>\n      <td>61+3</td>\n      <td>65+3</td>\n      <td>61+3</td>\n      <td>53+3</td>\n      <td>53+3</td>\n      <td>53+3</td>\n      <td>61+3</td>\n    </tr>\n    <tr>\n      <th>1</th>\n      <td>158023</td>\n      <td>https://sofifa.com/player/158023/lionel-messi/...</td>\n      <td>L. Messi</td>\n      <td>Lionel Andrés Messi Cuccittini</td>\n      <td>31</td>\n      <td>1987-06-24</td>\n      <td>170</td>\n      <td>72</td>\n      <td>Argentina</td>\n      <td>FC Barcelona</td>\n      <td>...</td>\n      <td>63+2</td>\n      <td>61+2</td>\n      <td>61+2</td>\n      <td>61+2</td>\n      <td>63+2</td>\n      <td>58+2</td>\n      <td>47+2</td>\n      <td>47+2</td>\n      <td>47+2</td>\n      <td>58+2</td>\n    </tr>\n    <tr>\n      <th>2</th>\n      <td>190871</td>\n      <td>https://sofifa.com/player/190871/neymar-da-sil...</td>\n      <td>Neymar Jr</td>\n      <td>Neymar da Silva Santos Junior</td>\n      <td>26</td>\n      <td>1992-02-05</td>\n      <td>175</td>\n      <td>68</td>\n      <td>Brazil</td>\n      <td>Paris Saint-Germain</td>\n      <td>...</td>\n      <td>65+3</td>\n      <td>60+3</td>\n      <td>60+3</td>\n      <td>60+3</td>\n      <td>65+3</td>\n      <td>60+3</td>\n      <td>47+3</td>\n      <td>47+3</td>\n      <td>47+3</td>\n      <td>60+3</td>\n    </tr>\n  </tbody>\n</table>\n<p>3 rows × 104 columns</p>\n</div>"
     },
     "metadata": {},
     "execution_count": 3
    }
   ],
   "source": [
    "fifa_df_2.head(3)"
   ]
  },
  {
   "cell_type": "code",
   "execution_count": 4,
   "metadata": {},
   "outputs": [
    {
     "output_type": "stream",
     "name": "stdout",
     "text": [
      "<class 'pandas.core.frame.DataFrame'>\nInt64Index: 111 entries, 0 to 110\nData columns (total 104 columns):\n #   Column                      Non-Null Count  Dtype  \n---  ------                      --------------  -----  \n 0   sofifa_id                   111 non-null    int64  \n 1   player_url                  111 non-null    object \n 2   short_name                  111 non-null    object \n 3   long_name                   111 non-null    object \n 4   age                         111 non-null    int64  \n 5   dob                         111 non-null    object \n 6   height_cm                   111 non-null    int64  \n 7   weight_kg                   111 non-null    int64  \n 8   nationality                 111 non-null    object \n 9   club                        111 non-null    object \n 10  overall                     111 non-null    int64  \n 11  potential                   111 non-null    int64  \n 12  value_eur                   111 non-null    int64  \n 13  wage_eur                    111 non-null    int64  \n 14  player_positions            111 non-null    object \n 15  preferred_foot              111 non-null    object \n 16  international_reputation    111 non-null    int64  \n 17  weak_foot                   111 non-null    int64  \n 18  skill_moves                 111 non-null    int64  \n 19  work_rate                   111 non-null    object \n 20  body_type                   111 non-null    object \n 21  real_face                   111 non-null    object \n 22  release_clause_eur          108 non-null    float64\n 23  player_tags                 94 non-null     object \n 24  team_position               111 non-null    object \n 25  team_jersey_number          111 non-null    float64\n 26  loaned_from                 3 non-null      object \n 27  joined                      108 non-null    object \n 28  contract_valid_until        111 non-null    float64\n 29  nation_position             67 non-null     object \n 30  nation_jersey_number        67 non-null     float64\n 31  pace                        100 non-null    float64\n 32  shooting                    100 non-null    float64\n 33  passing                     100 non-null    float64\n 34  dribbling                   100 non-null    float64\n 35  defending                   100 non-null    float64\n 36  physic                      100 non-null    float64\n 37  gk_diving                   11 non-null     float64\n 38  gk_handling                 11 non-null     float64\n 39  gk_kicking                  11 non-null     float64\n 40  gk_reflexes                 11 non-null     float64\n 41  gk_speed                    11 non-null     float64\n 42  gk_positioning              11 non-null     float64\n 43  player_traits               105 non-null    object \n 44  attacking_crossing          111 non-null    object \n 45  attacking_finishing         111 non-null    object \n 46  attacking_heading_accuracy  111 non-null    object \n 47  attacking_short_passing     111 non-null    object \n 48  attacking_volleys           111 non-null    object \n 49  skill_dribbling             111 non-null    object \n 50  skill_curve                 111 non-null    object \n 51  skill_fk_accuracy           111 non-null    object \n 52  skill_long_passing          111 non-null    object \n 53  skill_ball_control          111 non-null    object \n 54  movement_acceleration       111 non-null    object \n 55  movement_sprint_speed       111 non-null    object \n 56  movement_agility            111 non-null    object \n 57  movement_reactions          111 non-null    object \n 58  movement_balance            111 non-null    object \n 59  power_shot_power            111 non-null    object \n 60  power_jumping               111 non-null    object \n 61  power_stamina               111 non-null    object \n 62  power_strength              111 non-null    object \n 63  power_long_shots            111 non-null    object \n 64  mentality_aggression        111 non-null    object \n 65  mentality_interceptions     111 non-null    object \n 66  mentality_positioning       111 non-null    object \n 67  mentality_vision            111 non-null    object \n 68  mentality_penalties         111 non-null    object \n 69  mentality_composure         111 non-null    object \n 70  defending_marking           111 non-null    object \n 71  defending_standing_tackle   111 non-null    object \n 72  defending_sliding_tackle    111 non-null    object \n 73  goalkeeping_diving          111 non-null    object \n 74  goalkeeping_handling        111 non-null    object \n 75  goalkeeping_kicking         111 non-null    object \n 76  goalkeeping_positioning     111 non-null    object \n 77  goalkeeping_reflexes        111 non-null    object \n 78  ls                          100 non-null    object \n 79  st                          100 non-null    object \n 80  rs                          100 non-null    object \n 81  lw                          100 non-null    object \n 82  lf                          100 non-null    object \n 83  cf                          100 non-null    object \n 84  rf                          100 non-null    object \n 85  rw                          100 non-null    object \n 86  lam                         100 non-null    object \n 87  cam                         100 non-null    object \n 88  ram                         100 non-null    object \n 89  lm                          100 non-null    object \n 90  lcm                         100 non-null    object \n 91  cm                          100 non-null    object \n 92  rcm                         100 non-null    object \n 93  rm                          100 non-null    object \n 94  lwb                         100 non-null    object \n 95  ldm                         100 non-null    object \n 96  cdm                         100 non-null    object \n 97  rdm                         100 non-null    object \n 98  rwb                         100 non-null    object \n 99  lb                          100 non-null    object \n 100 lcb                         100 non-null    object \n 101 cb                          100 non-null    object \n 102 rcb                         100 non-null    object \n 103 rb                          100 non-null    object \ndtypes: float64(16), int64(11), object(77)\nmemory usage: 91.1+ KB\n"
     ]
    }
   ],
   "source": [
    "fifa_df_2.info(max_cols=105)"
   ]
  },
  {
   "cell_type": "code",
   "execution_count": 5,
   "metadata": {},
   "outputs": [],
   "source": [
    "fifa_19_pdata = fifa_df_2.iloc[:,[0,2,3,4,8,9,24]]\n",
    "fifa_19_pstats = fifa_df_2.iloc[:, np.r_[0,10,11, 31:43]]"
   ]
  },
  {
   "cell_type": "code",
   "execution_count": 6,
   "metadata": {},
   "outputs": [
    {
     "output_type": "execute_result",
     "data": {
      "text/plain": [
       "   sofifa_id         short_name                            long_name  age  \\\n",
       "0      20801  Cristiano Ronaldo  Cristiano Ronaldo dos Santos Aveiro   33   \n",
       "1     158023           L. Messi       Lionel Andrés Messi Cuccittini   31   \n",
       "2     190871          Neymar Jr        Neymar da Silva Santos Junior   26   \n",
       "3     193080             De Gea                David De Gea Quintana   27   \n",
       "4     192985       K. De Bruyne                      Kevin De Bruyne   27   \n",
       "\n",
       "  nationality                 club team_position  \n",
       "0    Portugal             Juventus            LW  \n",
       "1   Argentina         FC Barcelona            RW  \n",
       "2      Brazil  Paris Saint-Germain           CAM  \n",
       "3       Spain    Manchester United            GK  \n",
       "4     Belgium      Manchester City           RCM  "
      ],
      "text/html": "<div>\n<style scoped>\n    .dataframe tbody tr th:only-of-type {\n        vertical-align: middle;\n    }\n\n    .dataframe tbody tr th {\n        vertical-align: top;\n    }\n\n    .dataframe thead th {\n        text-align: right;\n    }\n</style>\n<table border=\"1\" class=\"dataframe\">\n  <thead>\n    <tr style=\"text-align: right;\">\n      <th></th>\n      <th>sofifa_id</th>\n      <th>short_name</th>\n      <th>long_name</th>\n      <th>age</th>\n      <th>nationality</th>\n      <th>club</th>\n      <th>team_position</th>\n    </tr>\n  </thead>\n  <tbody>\n    <tr>\n      <th>0</th>\n      <td>20801</td>\n      <td>Cristiano Ronaldo</td>\n      <td>Cristiano Ronaldo dos Santos Aveiro</td>\n      <td>33</td>\n      <td>Portugal</td>\n      <td>Juventus</td>\n      <td>LW</td>\n    </tr>\n    <tr>\n      <th>1</th>\n      <td>158023</td>\n      <td>L. Messi</td>\n      <td>Lionel Andrés Messi Cuccittini</td>\n      <td>31</td>\n      <td>Argentina</td>\n      <td>FC Barcelona</td>\n      <td>RW</td>\n    </tr>\n    <tr>\n      <th>2</th>\n      <td>190871</td>\n      <td>Neymar Jr</td>\n      <td>Neymar da Silva Santos Junior</td>\n      <td>26</td>\n      <td>Brazil</td>\n      <td>Paris Saint-Germain</td>\n      <td>CAM</td>\n    </tr>\n    <tr>\n      <th>3</th>\n      <td>193080</td>\n      <td>De Gea</td>\n      <td>David De Gea Quintana</td>\n      <td>27</td>\n      <td>Spain</td>\n      <td>Manchester United</td>\n      <td>GK</td>\n    </tr>\n    <tr>\n      <th>4</th>\n      <td>192985</td>\n      <td>K. De Bruyne</td>\n      <td>Kevin De Bruyne</td>\n      <td>27</td>\n      <td>Belgium</td>\n      <td>Manchester City</td>\n      <td>RCM</td>\n    </tr>\n  </tbody>\n</table>\n</div>"
     },
     "metadata": {},
     "execution_count": 6
    }
   ],
   "source": [
    "fifa_19_pdata.head()"
   ]
  },
  {
   "cell_type": "code",
   "execution_count": 7,
   "metadata": {},
   "outputs": [
    {
     "output_type": "execute_result",
     "data": {
      "text/plain": [
       "   sofifa_id  overall  potential  pace  shooting  passing  dribbling  \\\n",
       "0      20801       94         94  90.0      93.0     81.0       89.0   \n",
       "1     158023       94         94  88.0      91.0     88.0       96.0   \n",
       "2     190871       92         93  92.0      84.0     83.0       95.0   \n",
       "3     193080       91         93   NaN       NaN      NaN        NaN   \n",
       "4     192985       91         92  77.0      86.0     92.0       87.0   \n",
       "\n",
       "   defending  physic  gk_diving  gk_handling  gk_kicking  gk_reflexes  \\\n",
       "0       35.0    79.0        NaN          NaN         NaN          NaN   \n",
       "1       32.0    61.0        NaN          NaN         NaN          NaN   \n",
       "2       32.0    59.0        NaN          NaN         NaN          NaN   \n",
       "3        NaN     NaN       90.0         85.0        87.0         94.0   \n",
       "4       60.0    78.0        NaN          NaN         NaN          NaN   \n",
       "\n",
       "   gk_speed  gk_positioning  \n",
       "0       NaN             NaN  \n",
       "1       NaN             NaN  \n",
       "2       NaN             NaN  \n",
       "3      58.0            88.0  \n",
       "4       NaN             NaN  "
      ],
      "text/html": "<div>\n<style scoped>\n    .dataframe tbody tr th:only-of-type {\n        vertical-align: middle;\n    }\n\n    .dataframe tbody tr th {\n        vertical-align: top;\n    }\n\n    .dataframe thead th {\n        text-align: right;\n    }\n</style>\n<table border=\"1\" class=\"dataframe\">\n  <thead>\n    <tr style=\"text-align: right;\">\n      <th></th>\n      <th>sofifa_id</th>\n      <th>overall</th>\n      <th>potential</th>\n      <th>pace</th>\n      <th>shooting</th>\n      <th>passing</th>\n      <th>dribbling</th>\n      <th>defending</th>\n      <th>physic</th>\n      <th>gk_diving</th>\n      <th>gk_handling</th>\n      <th>gk_kicking</th>\n      <th>gk_reflexes</th>\n      <th>gk_speed</th>\n      <th>gk_positioning</th>\n    </tr>\n  </thead>\n  <tbody>\n    <tr>\n      <th>0</th>\n      <td>20801</td>\n      <td>94</td>\n      <td>94</td>\n      <td>90.0</td>\n      <td>93.0</td>\n      <td>81.0</td>\n      <td>89.0</td>\n      <td>35.0</td>\n      <td>79.0</td>\n      <td>NaN</td>\n      <td>NaN</td>\n      <td>NaN</td>\n      <td>NaN</td>\n      <td>NaN</td>\n      <td>NaN</td>\n    </tr>\n    <tr>\n      <th>1</th>\n      <td>158023</td>\n      <td>94</td>\n      <td>94</td>\n      <td>88.0</td>\n      <td>91.0</td>\n      <td>88.0</td>\n      <td>96.0</td>\n      <td>32.0</td>\n      <td>61.0</td>\n      <td>NaN</td>\n      <td>NaN</td>\n      <td>NaN</td>\n      <td>NaN</td>\n      <td>NaN</td>\n      <td>NaN</td>\n    </tr>\n    <tr>\n      <th>2</th>\n      <td>190871</td>\n      <td>92</td>\n      <td>93</td>\n      <td>92.0</td>\n      <td>84.0</td>\n      <td>83.0</td>\n      <td>95.0</td>\n      <td>32.0</td>\n      <td>59.0</td>\n      <td>NaN</td>\n      <td>NaN</td>\n      <td>NaN</td>\n      <td>NaN</td>\n      <td>NaN</td>\n      <td>NaN</td>\n    </tr>\n    <tr>\n      <th>3</th>\n      <td>193080</td>\n      <td>91</td>\n      <td>93</td>\n      <td>NaN</td>\n      <td>NaN</td>\n      <td>NaN</td>\n      <td>NaN</td>\n      <td>NaN</td>\n      <td>NaN</td>\n      <td>90.0</td>\n      <td>85.0</td>\n      <td>87.0</td>\n      <td>94.0</td>\n      <td>58.0</td>\n      <td>88.0</td>\n    </tr>\n    <tr>\n      <th>4</th>\n      <td>192985</td>\n      <td>91</td>\n      <td>92</td>\n      <td>77.0</td>\n      <td>86.0</td>\n      <td>92.0</td>\n      <td>87.0</td>\n      <td>60.0</td>\n      <td>78.0</td>\n      <td>NaN</td>\n      <td>NaN</td>\n      <td>NaN</td>\n      <td>NaN</td>\n      <td>NaN</td>\n      <td>NaN</td>\n    </tr>\n  </tbody>\n</table>\n</div>"
     },
     "metadata": {},
     "execution_count": 7
    }
   ],
   "source": [
    "fifa_19_pstats.head()"
   ]
  },
  {
   "source": [
    "# Get players links from fbref.com"
   ],
   "cell_type": "markdown",
   "metadata": {}
  },
  {
   "cell_type": "code",
   "execution_count": 8,
   "metadata": {},
   "outputs": [],
   "source": [
    "player_link_df = fifa_19_pdata.iloc[:,[0,1,2]]\n",
    "player_link_df['short_name'] = player_link_df['short_name'].str.lower().str.replace('.', '').str.replace(' ', '+')\n",
    "player_link_df['long_name'] = player_link_df['long_name'].str.lower().str.replace(' ', '+').str.normalize('NFC')"
   ]
  },
  {
   "cell_type": "code",
   "execution_count": 9,
   "metadata": {},
   "outputs": [
    {
     "output_type": "execute_result",
     "data": {
      "text/plain": [
       "   sofifa_id         short_name                            long_name\n",
       "0      20801  cristiano+ronaldo  cristiano+ronaldo+dos+santos+aveiro\n",
       "1     158023            l+messi       lionel+andrés+messi+cuccittini\n",
       "2     190871          neymar+jr        neymar+da+silva+santos+junior\n",
       "3     193080             de+gea                david+de+gea+quintana\n",
       "4     192985        k+de+bruyne                      kevin+de+bruyne"
      ],
      "text/html": "<div>\n<style scoped>\n    .dataframe tbody tr th:only-of-type {\n        vertical-align: middle;\n    }\n\n    .dataframe tbody tr th {\n        vertical-align: top;\n    }\n\n    .dataframe thead th {\n        text-align: right;\n    }\n</style>\n<table border=\"1\" class=\"dataframe\">\n  <thead>\n    <tr style=\"text-align: right;\">\n      <th></th>\n      <th>sofifa_id</th>\n      <th>short_name</th>\n      <th>long_name</th>\n    </tr>\n  </thead>\n  <tbody>\n    <tr>\n      <th>0</th>\n      <td>20801</td>\n      <td>cristiano+ronaldo</td>\n      <td>cristiano+ronaldo+dos+santos+aveiro</td>\n    </tr>\n    <tr>\n      <th>1</th>\n      <td>158023</td>\n      <td>l+messi</td>\n      <td>lionel+andrés+messi+cuccittini</td>\n    </tr>\n    <tr>\n      <th>2</th>\n      <td>190871</td>\n      <td>neymar+jr</td>\n      <td>neymar+da+silva+santos+junior</td>\n    </tr>\n    <tr>\n      <th>3</th>\n      <td>193080</td>\n      <td>de+gea</td>\n      <td>david+de+gea+quintana</td>\n    </tr>\n    <tr>\n      <th>4</th>\n      <td>192985</td>\n      <td>k+de+bruyne</td>\n      <td>kevin+de+bruyne</td>\n    </tr>\n  </tbody>\n</table>\n</div>"
     },
     "metadata": {},
     "execution_count": 9
    }
   ],
   "source": [
    "player_link_df.head()"
   ]
  },
  {
   "cell_type": "code",
   "execution_count": 10,
   "metadata": {},
   "outputs": [],
   "source": [
    "op = webdriver.ChromeOptions()\n",
    "op.add_argument('headless')\n",
    "browser = webdriver.Chrome('/Users/eduardooportoalonso/Documents/Cursos/Ironhack/datamad1020/ironhack-projects/pipelines-project/chromedriver', options=op)"
   ]
  },
  {
   "cell_type": "code",
   "execution_count": 11,
   "metadata": {},
   "outputs": [],
   "source": [
    "def linkifyer(search_str, browser):\n",
    "    browser.get(\"https://fbref.com/en/search/search.fcgi?search=\" + search_str) \n",
    "    try:\n",
    "        element = browser.find_element_by_class_name('filter')\n",
    "        selector = browser.execute_script(\"return arguments[0].innerHTML;\", element)\n",
    "        link = BeautifulSoup(selector, 'html.parser').find('a')['href']\n",
    "        return 'https://fbref.com'+link\n",
    "    except:\n",
    "        return 'javascript:void(0)'"
   ]
  },
  {
   "cell_type": "code",
   "execution_count": 12,
   "metadata": {},
   "outputs": [
    {
     "output_type": "error",
     "ename": "KeyboardInterrupt",
     "evalue": "",
     "traceback": [
      "\u001b[0;31m---------------------------------------------------------------------------\u001b[0m",
      "\u001b[0;31mKeyboardInterrupt\u001b[0m                         Traceback (most recent call last)",
      "\u001b[0;32m<ipython-input-12-fb1707968f75>\u001b[0m in \u001b[0;36m<module>\u001b[0;34m\u001b[0m\n\u001b[1;32m      1\u001b[0m \u001b[0mcolumn\u001b[0m \u001b[0;34m=\u001b[0m \u001b[0;34m[\u001b[0m\u001b[0;34m]\u001b[0m\u001b[0;34m\u001b[0m\u001b[0;34m\u001b[0m\u001b[0m\n\u001b[1;32m      2\u001b[0m \u001b[0;32mfor\u001b[0m \u001b[0mname\u001b[0m \u001b[0;32min\u001b[0m \u001b[0mplayer_link_df\u001b[0m\u001b[0;34m[\u001b[0m\u001b[0;34m'long_name'\u001b[0m\u001b[0;34m]\u001b[0m\u001b[0;34m:\u001b[0m\u001b[0;34m\u001b[0m\u001b[0;34m\u001b[0m\u001b[0m\n\u001b[0;32m----> 3\u001b[0;31m     \u001b[0mcolumn\u001b[0m\u001b[0;34m.\u001b[0m\u001b[0mappend\u001b[0m\u001b[0;34m(\u001b[0m\u001b[0mlinkifyer\u001b[0m\u001b[0;34m(\u001b[0m\u001b[0mname\u001b[0m\u001b[0;34m,\u001b[0m \u001b[0mbrowser\u001b[0m\u001b[0;34m)\u001b[0m\u001b[0;34m)\u001b[0m\u001b[0;34m\u001b[0m\u001b[0;34m\u001b[0m\u001b[0m\n\u001b[0m",
      "\u001b[0;32m<ipython-input-11-974dec65e61f>\u001b[0m in \u001b[0;36mlinkifyer\u001b[0;34m(search_str, browser)\u001b[0m\n\u001b[1;32m      1\u001b[0m \u001b[0;32mdef\u001b[0m \u001b[0mlinkifyer\u001b[0m\u001b[0;34m(\u001b[0m\u001b[0msearch_str\u001b[0m\u001b[0;34m,\u001b[0m \u001b[0mbrowser\u001b[0m\u001b[0;34m)\u001b[0m\u001b[0;34m:\u001b[0m\u001b[0;34m\u001b[0m\u001b[0;34m\u001b[0m\u001b[0m\n\u001b[0;32m----> 2\u001b[0;31m     \u001b[0mbrowser\u001b[0m\u001b[0;34m.\u001b[0m\u001b[0mget\u001b[0m\u001b[0;34m(\u001b[0m\u001b[0;34m\"https://fbref.com/en/search/search.fcgi?search=\"\u001b[0m \u001b[0;34m+\u001b[0m \u001b[0msearch_str\u001b[0m\u001b[0;34m)\u001b[0m\u001b[0;34m\u001b[0m\u001b[0;34m\u001b[0m\u001b[0m\n\u001b[0m\u001b[1;32m      3\u001b[0m     \u001b[0;32mtry\u001b[0m\u001b[0;34m:\u001b[0m\u001b[0;34m\u001b[0m\u001b[0;34m\u001b[0m\u001b[0m\n\u001b[1;32m      4\u001b[0m         \u001b[0melement\u001b[0m \u001b[0;34m=\u001b[0m \u001b[0mbrowser\u001b[0m\u001b[0;34m.\u001b[0m\u001b[0mfind_element_by_class_name\u001b[0m\u001b[0;34m(\u001b[0m\u001b[0;34m'filter'\u001b[0m\u001b[0;34m)\u001b[0m\u001b[0;34m\u001b[0m\u001b[0;34m\u001b[0m\u001b[0m\n\u001b[1;32m      5\u001b[0m         \u001b[0mselector\u001b[0m \u001b[0;34m=\u001b[0m \u001b[0mbrowser\u001b[0m\u001b[0;34m.\u001b[0m\u001b[0mexecute_script\u001b[0m\u001b[0;34m(\u001b[0m\u001b[0;34m\"return arguments[0].innerHTML;\"\u001b[0m\u001b[0;34m,\u001b[0m \u001b[0melement\u001b[0m\u001b[0;34m)\u001b[0m\u001b[0;34m\u001b[0m\u001b[0;34m\u001b[0m\u001b[0m\n",
      "\u001b[0;32m/Library/Frameworks/Python.framework/Versions/3.8/lib/python3.8/site-packages/selenium/webdriver/remote/webdriver.py\u001b[0m in \u001b[0;36mget\u001b[0;34m(self, url)\u001b[0m\n\u001b[1;32m    331\u001b[0m         \u001b[0mLoads\u001b[0m \u001b[0ma\u001b[0m \u001b[0mweb\u001b[0m \u001b[0mpage\u001b[0m \u001b[0;32min\u001b[0m \u001b[0mthe\u001b[0m \u001b[0mcurrent\u001b[0m \u001b[0mbrowser\u001b[0m \u001b[0msession\u001b[0m\u001b[0;34m.\u001b[0m\u001b[0;34m\u001b[0m\u001b[0;34m\u001b[0m\u001b[0m\n\u001b[1;32m    332\u001b[0m         \"\"\"\n\u001b[0;32m--> 333\u001b[0;31m         \u001b[0mself\u001b[0m\u001b[0;34m.\u001b[0m\u001b[0mexecute\u001b[0m\u001b[0;34m(\u001b[0m\u001b[0mCommand\u001b[0m\u001b[0;34m.\u001b[0m\u001b[0mGET\u001b[0m\u001b[0;34m,\u001b[0m \u001b[0;34m{\u001b[0m\u001b[0;34m'url'\u001b[0m\u001b[0;34m:\u001b[0m \u001b[0murl\u001b[0m\u001b[0;34m}\u001b[0m\u001b[0;34m)\u001b[0m\u001b[0;34m\u001b[0m\u001b[0;34m\u001b[0m\u001b[0m\n\u001b[0m\u001b[1;32m    334\u001b[0m \u001b[0;34m\u001b[0m\u001b[0m\n\u001b[1;32m    335\u001b[0m     \u001b[0;34m@\u001b[0m\u001b[0mproperty\u001b[0m\u001b[0;34m\u001b[0m\u001b[0;34m\u001b[0m\u001b[0m\n",
      "\u001b[0;32m/Library/Frameworks/Python.framework/Versions/3.8/lib/python3.8/site-packages/selenium/webdriver/remote/webdriver.py\u001b[0m in \u001b[0;36mexecute\u001b[0;34m(self, driver_command, params)\u001b[0m\n\u001b[1;32m    317\u001b[0m \u001b[0;34m\u001b[0m\u001b[0m\n\u001b[1;32m    318\u001b[0m         \u001b[0mparams\u001b[0m \u001b[0;34m=\u001b[0m \u001b[0mself\u001b[0m\u001b[0;34m.\u001b[0m\u001b[0m_wrap_value\u001b[0m\u001b[0;34m(\u001b[0m\u001b[0mparams\u001b[0m\u001b[0;34m)\u001b[0m\u001b[0;34m\u001b[0m\u001b[0;34m\u001b[0m\u001b[0m\n\u001b[0;32m--> 319\u001b[0;31m         \u001b[0mresponse\u001b[0m \u001b[0;34m=\u001b[0m \u001b[0mself\u001b[0m\u001b[0;34m.\u001b[0m\u001b[0mcommand_executor\u001b[0m\u001b[0;34m.\u001b[0m\u001b[0mexecute\u001b[0m\u001b[0;34m(\u001b[0m\u001b[0mdriver_command\u001b[0m\u001b[0;34m,\u001b[0m \u001b[0mparams\u001b[0m\u001b[0;34m)\u001b[0m\u001b[0;34m\u001b[0m\u001b[0;34m\u001b[0m\u001b[0m\n\u001b[0m\u001b[1;32m    320\u001b[0m         \u001b[0;32mif\u001b[0m \u001b[0mresponse\u001b[0m\u001b[0;34m:\u001b[0m\u001b[0;34m\u001b[0m\u001b[0;34m\u001b[0m\u001b[0m\n\u001b[1;32m    321\u001b[0m             \u001b[0mself\u001b[0m\u001b[0;34m.\u001b[0m\u001b[0merror_handler\u001b[0m\u001b[0;34m.\u001b[0m\u001b[0mcheck_response\u001b[0m\u001b[0;34m(\u001b[0m\u001b[0mresponse\u001b[0m\u001b[0;34m)\u001b[0m\u001b[0;34m\u001b[0m\u001b[0;34m\u001b[0m\u001b[0m\n",
      "\u001b[0;32m/Library/Frameworks/Python.framework/Versions/3.8/lib/python3.8/site-packages/selenium/webdriver/remote/remote_connection.py\u001b[0m in \u001b[0;36mexecute\u001b[0;34m(self, command, params)\u001b[0m\n\u001b[1;32m    372\u001b[0m         \u001b[0mdata\u001b[0m \u001b[0;34m=\u001b[0m \u001b[0mutils\u001b[0m\u001b[0;34m.\u001b[0m\u001b[0mdump_json\u001b[0m\u001b[0;34m(\u001b[0m\u001b[0mparams\u001b[0m\u001b[0;34m)\u001b[0m\u001b[0;34m\u001b[0m\u001b[0;34m\u001b[0m\u001b[0m\n\u001b[1;32m    373\u001b[0m         \u001b[0murl\u001b[0m \u001b[0;34m=\u001b[0m \u001b[0;34m'%s%s'\u001b[0m \u001b[0;34m%\u001b[0m \u001b[0;34m(\u001b[0m\u001b[0mself\u001b[0m\u001b[0;34m.\u001b[0m\u001b[0m_url\u001b[0m\u001b[0;34m,\u001b[0m \u001b[0mpath\u001b[0m\u001b[0;34m)\u001b[0m\u001b[0;34m\u001b[0m\u001b[0;34m\u001b[0m\u001b[0m\n\u001b[0;32m--> 374\u001b[0;31m         \u001b[0;32mreturn\u001b[0m \u001b[0mself\u001b[0m\u001b[0;34m.\u001b[0m\u001b[0m_request\u001b[0m\u001b[0;34m(\u001b[0m\u001b[0mcommand_info\u001b[0m\u001b[0;34m[\u001b[0m\u001b[0;36m0\u001b[0m\u001b[0;34m]\u001b[0m\u001b[0;34m,\u001b[0m \u001b[0murl\u001b[0m\u001b[0;34m,\u001b[0m \u001b[0mbody\u001b[0m\u001b[0;34m=\u001b[0m\u001b[0mdata\u001b[0m\u001b[0;34m)\u001b[0m\u001b[0;34m\u001b[0m\u001b[0;34m\u001b[0m\u001b[0m\n\u001b[0m\u001b[1;32m    375\u001b[0m \u001b[0;34m\u001b[0m\u001b[0m\n\u001b[1;32m    376\u001b[0m     \u001b[0;32mdef\u001b[0m \u001b[0m_request\u001b[0m\u001b[0;34m(\u001b[0m\u001b[0mself\u001b[0m\u001b[0;34m,\u001b[0m \u001b[0mmethod\u001b[0m\u001b[0;34m,\u001b[0m \u001b[0murl\u001b[0m\u001b[0;34m,\u001b[0m \u001b[0mbody\u001b[0m\u001b[0;34m=\u001b[0m\u001b[0;32mNone\u001b[0m\u001b[0;34m)\u001b[0m\u001b[0;34m:\u001b[0m\u001b[0;34m\u001b[0m\u001b[0;34m\u001b[0m\u001b[0m\n",
      "\u001b[0;32m/Library/Frameworks/Python.framework/Versions/3.8/lib/python3.8/site-packages/selenium/webdriver/remote/remote_connection.py\u001b[0m in \u001b[0;36m_request\u001b[0;34m(self, method, url, body)\u001b[0m\n\u001b[1;32m    395\u001b[0m \u001b[0;34m\u001b[0m\u001b[0m\n\u001b[1;32m    396\u001b[0m         \u001b[0;32mif\u001b[0m \u001b[0mself\u001b[0m\u001b[0;34m.\u001b[0m\u001b[0mkeep_alive\u001b[0m\u001b[0;34m:\u001b[0m\u001b[0;34m\u001b[0m\u001b[0;34m\u001b[0m\u001b[0m\n\u001b[0;32m--> 397\u001b[0;31m             \u001b[0mresp\u001b[0m \u001b[0;34m=\u001b[0m \u001b[0mself\u001b[0m\u001b[0;34m.\u001b[0m\u001b[0m_conn\u001b[0m\u001b[0;34m.\u001b[0m\u001b[0mrequest\u001b[0m\u001b[0;34m(\u001b[0m\u001b[0mmethod\u001b[0m\u001b[0;34m,\u001b[0m \u001b[0murl\u001b[0m\u001b[0;34m,\u001b[0m \u001b[0mbody\u001b[0m\u001b[0;34m=\u001b[0m\u001b[0mbody\u001b[0m\u001b[0;34m,\u001b[0m \u001b[0mheaders\u001b[0m\u001b[0;34m=\u001b[0m\u001b[0mheaders\u001b[0m\u001b[0;34m)\u001b[0m\u001b[0;34m\u001b[0m\u001b[0;34m\u001b[0m\u001b[0m\n\u001b[0m\u001b[1;32m    398\u001b[0m \u001b[0;34m\u001b[0m\u001b[0m\n\u001b[1;32m    399\u001b[0m             \u001b[0mstatuscode\u001b[0m \u001b[0;34m=\u001b[0m \u001b[0mresp\u001b[0m\u001b[0;34m.\u001b[0m\u001b[0mstatus\u001b[0m\u001b[0;34m\u001b[0m\u001b[0;34m\u001b[0m\u001b[0m\n",
      "\u001b[0;32m/Library/Frameworks/Python.framework/Versions/3.8/lib/python3.8/site-packages/urllib3/request.py\u001b[0m in \u001b[0;36mrequest\u001b[0;34m(self, method, url, fields, headers, **urlopen_kw)\u001b[0m\n\u001b[1;32m     77\u001b[0m             )\n\u001b[1;32m     78\u001b[0m         \u001b[0;32melse\u001b[0m\u001b[0;34m:\u001b[0m\u001b[0;34m\u001b[0m\u001b[0;34m\u001b[0m\u001b[0m\n\u001b[0;32m---> 79\u001b[0;31m             return self.request_encode_body(\n\u001b[0m\u001b[1;32m     80\u001b[0m                 \u001b[0mmethod\u001b[0m\u001b[0;34m,\u001b[0m \u001b[0murl\u001b[0m\u001b[0;34m,\u001b[0m \u001b[0mfields\u001b[0m\u001b[0;34m=\u001b[0m\u001b[0mfields\u001b[0m\u001b[0;34m,\u001b[0m \u001b[0mheaders\u001b[0m\u001b[0;34m=\u001b[0m\u001b[0mheaders\u001b[0m\u001b[0;34m,\u001b[0m \u001b[0;34m**\u001b[0m\u001b[0murlopen_kw\u001b[0m\u001b[0;34m\u001b[0m\u001b[0;34m\u001b[0m\u001b[0m\n\u001b[1;32m     81\u001b[0m             )\n",
      "\u001b[0;32m/Library/Frameworks/Python.framework/Versions/3.8/lib/python3.8/site-packages/urllib3/request.py\u001b[0m in \u001b[0;36mrequest_encode_body\u001b[0;34m(self, method, url, fields, headers, encode_multipart, multipart_boundary, **urlopen_kw)\u001b[0m\n\u001b[1;32m    169\u001b[0m         \u001b[0mextra_kw\u001b[0m\u001b[0;34m.\u001b[0m\u001b[0mupdate\u001b[0m\u001b[0;34m(\u001b[0m\u001b[0murlopen_kw\u001b[0m\u001b[0;34m)\u001b[0m\u001b[0;34m\u001b[0m\u001b[0;34m\u001b[0m\u001b[0m\n\u001b[1;32m    170\u001b[0m \u001b[0;34m\u001b[0m\u001b[0m\n\u001b[0;32m--> 171\u001b[0;31m         \u001b[0;32mreturn\u001b[0m \u001b[0mself\u001b[0m\u001b[0;34m.\u001b[0m\u001b[0murlopen\u001b[0m\u001b[0;34m(\u001b[0m\u001b[0mmethod\u001b[0m\u001b[0;34m,\u001b[0m \u001b[0murl\u001b[0m\u001b[0;34m,\u001b[0m \u001b[0;34m**\u001b[0m\u001b[0mextra_kw\u001b[0m\u001b[0;34m)\u001b[0m\u001b[0;34m\u001b[0m\u001b[0;34m\u001b[0m\u001b[0m\n\u001b[0m",
      "\u001b[0;32m/Library/Frameworks/Python.framework/Versions/3.8/lib/python3.8/site-packages/urllib3/poolmanager.py\u001b[0m in \u001b[0;36murlopen\u001b[0;34m(self, method, url, redirect, **kw)\u001b[0m\n\u001b[1;32m    334\u001b[0m             \u001b[0mresponse\u001b[0m \u001b[0;34m=\u001b[0m \u001b[0mconn\u001b[0m\u001b[0;34m.\u001b[0m\u001b[0murlopen\u001b[0m\u001b[0;34m(\u001b[0m\u001b[0mmethod\u001b[0m\u001b[0;34m,\u001b[0m \u001b[0murl\u001b[0m\u001b[0;34m,\u001b[0m \u001b[0;34m**\u001b[0m\u001b[0mkw\u001b[0m\u001b[0;34m)\u001b[0m\u001b[0;34m\u001b[0m\u001b[0;34m\u001b[0m\u001b[0m\n\u001b[1;32m    335\u001b[0m         \u001b[0;32melse\u001b[0m\u001b[0;34m:\u001b[0m\u001b[0;34m\u001b[0m\u001b[0;34m\u001b[0m\u001b[0m\n\u001b[0;32m--> 336\u001b[0;31m             \u001b[0mresponse\u001b[0m \u001b[0;34m=\u001b[0m \u001b[0mconn\u001b[0m\u001b[0;34m.\u001b[0m\u001b[0murlopen\u001b[0m\u001b[0;34m(\u001b[0m\u001b[0mmethod\u001b[0m\u001b[0;34m,\u001b[0m \u001b[0mu\u001b[0m\u001b[0;34m.\u001b[0m\u001b[0mrequest_uri\u001b[0m\u001b[0;34m,\u001b[0m \u001b[0;34m**\u001b[0m\u001b[0mkw\u001b[0m\u001b[0;34m)\u001b[0m\u001b[0;34m\u001b[0m\u001b[0;34m\u001b[0m\u001b[0m\n\u001b[0m\u001b[1;32m    337\u001b[0m \u001b[0;34m\u001b[0m\u001b[0m\n\u001b[1;32m    338\u001b[0m         \u001b[0mredirect_location\u001b[0m \u001b[0;34m=\u001b[0m \u001b[0mredirect\u001b[0m \u001b[0;32mand\u001b[0m \u001b[0mresponse\u001b[0m\u001b[0;34m.\u001b[0m\u001b[0mget_redirect_location\u001b[0m\u001b[0;34m(\u001b[0m\u001b[0;34m)\u001b[0m\u001b[0;34m\u001b[0m\u001b[0;34m\u001b[0m\u001b[0m\n",
      "\u001b[0;32m/Library/Frameworks/Python.framework/Versions/3.8/lib/python3.8/site-packages/urllib3/connectionpool.py\u001b[0m in \u001b[0;36murlopen\u001b[0;34m(self, method, url, body, headers, retries, redirect, assert_same_host, timeout, pool_timeout, release_conn, chunked, body_pos, **response_kw)\u001b[0m\n\u001b[1;32m    668\u001b[0m \u001b[0;34m\u001b[0m\u001b[0m\n\u001b[1;32m    669\u001b[0m             \u001b[0;31m# Make the request on the httplib connection object.\u001b[0m\u001b[0;34m\u001b[0m\u001b[0;34m\u001b[0m\u001b[0;34m\u001b[0m\u001b[0m\n\u001b[0;32m--> 670\u001b[0;31m             httplib_response = self._make_request(\n\u001b[0m\u001b[1;32m    671\u001b[0m                 \u001b[0mconn\u001b[0m\u001b[0;34m,\u001b[0m\u001b[0;34m\u001b[0m\u001b[0;34m\u001b[0m\u001b[0m\n\u001b[1;32m    672\u001b[0m                 \u001b[0mmethod\u001b[0m\u001b[0;34m,\u001b[0m\u001b[0;34m\u001b[0m\u001b[0;34m\u001b[0m\u001b[0m\n",
      "\u001b[0;32m/Library/Frameworks/Python.framework/Versions/3.8/lib/python3.8/site-packages/urllib3/connectionpool.py\u001b[0m in \u001b[0;36m_make_request\u001b[0;34m(self, conn, method, url, timeout, chunked, **httplib_request_kw)\u001b[0m\n\u001b[1;32m    424\u001b[0m                     \u001b[0;31m# Python 3 (including for exceptions like SystemExit).\u001b[0m\u001b[0;34m\u001b[0m\u001b[0;34m\u001b[0m\u001b[0;34m\u001b[0m\u001b[0m\n\u001b[1;32m    425\u001b[0m                     \u001b[0;31m# Otherwise it looks like a bug in the code.\u001b[0m\u001b[0;34m\u001b[0m\u001b[0;34m\u001b[0m\u001b[0;34m\u001b[0m\u001b[0m\n\u001b[0;32m--> 426\u001b[0;31m                     \u001b[0msix\u001b[0m\u001b[0;34m.\u001b[0m\u001b[0mraise_from\u001b[0m\u001b[0;34m(\u001b[0m\u001b[0me\u001b[0m\u001b[0;34m,\u001b[0m \u001b[0;32mNone\u001b[0m\u001b[0;34m)\u001b[0m\u001b[0;34m\u001b[0m\u001b[0;34m\u001b[0m\u001b[0m\n\u001b[0m\u001b[1;32m    427\u001b[0m         \u001b[0;32mexcept\u001b[0m \u001b[0;34m(\u001b[0m\u001b[0mSocketTimeout\u001b[0m\u001b[0;34m,\u001b[0m \u001b[0mBaseSSLError\u001b[0m\u001b[0;34m,\u001b[0m \u001b[0mSocketError\u001b[0m\u001b[0;34m)\u001b[0m \u001b[0;32mas\u001b[0m \u001b[0me\u001b[0m\u001b[0;34m:\u001b[0m\u001b[0;34m\u001b[0m\u001b[0;34m\u001b[0m\u001b[0m\n\u001b[1;32m    428\u001b[0m             \u001b[0mself\u001b[0m\u001b[0;34m.\u001b[0m\u001b[0m_raise_timeout\u001b[0m\u001b[0;34m(\u001b[0m\u001b[0merr\u001b[0m\u001b[0;34m=\u001b[0m\u001b[0me\u001b[0m\u001b[0;34m,\u001b[0m \u001b[0murl\u001b[0m\u001b[0;34m=\u001b[0m\u001b[0murl\u001b[0m\u001b[0;34m,\u001b[0m \u001b[0mtimeout_value\u001b[0m\u001b[0;34m=\u001b[0m\u001b[0mread_timeout\u001b[0m\u001b[0;34m)\u001b[0m\u001b[0;34m\u001b[0m\u001b[0;34m\u001b[0m\u001b[0m\n",
      "\u001b[0;32m/Library/Frameworks/Python.framework/Versions/3.8/lib/python3.8/site-packages/urllib3/packages/six.py\u001b[0m in \u001b[0;36mraise_from\u001b[0;34m(value, from_value)\u001b[0m\n",
      "\u001b[0;32m/Library/Frameworks/Python.framework/Versions/3.8/lib/python3.8/site-packages/urllib3/connectionpool.py\u001b[0m in \u001b[0;36m_make_request\u001b[0;34m(self, conn, method, url, timeout, chunked, **httplib_request_kw)\u001b[0m\n\u001b[1;32m    419\u001b[0m                 \u001b[0;31m# Python 3\u001b[0m\u001b[0;34m\u001b[0m\u001b[0;34m\u001b[0m\u001b[0;34m\u001b[0m\u001b[0m\n\u001b[1;32m    420\u001b[0m                 \u001b[0;32mtry\u001b[0m\u001b[0;34m:\u001b[0m\u001b[0;34m\u001b[0m\u001b[0;34m\u001b[0m\u001b[0m\n\u001b[0;32m--> 421\u001b[0;31m                     \u001b[0mhttplib_response\u001b[0m \u001b[0;34m=\u001b[0m \u001b[0mconn\u001b[0m\u001b[0;34m.\u001b[0m\u001b[0mgetresponse\u001b[0m\u001b[0;34m(\u001b[0m\u001b[0;34m)\u001b[0m\u001b[0;34m\u001b[0m\u001b[0;34m\u001b[0m\u001b[0m\n\u001b[0m\u001b[1;32m    422\u001b[0m                 \u001b[0;32mexcept\u001b[0m \u001b[0mBaseException\u001b[0m \u001b[0;32mas\u001b[0m \u001b[0me\u001b[0m\u001b[0;34m:\u001b[0m\u001b[0;34m\u001b[0m\u001b[0;34m\u001b[0m\u001b[0m\n\u001b[1;32m    423\u001b[0m                     \u001b[0;31m# Remove the TypeError from the exception chain in\u001b[0m\u001b[0;34m\u001b[0m\u001b[0;34m\u001b[0m\u001b[0;34m\u001b[0m\u001b[0m\n",
      "\u001b[0;32m/Library/Frameworks/Python.framework/Versions/3.8/lib/python3.8/http/client.py\u001b[0m in \u001b[0;36mgetresponse\u001b[0;34m(self)\u001b[0m\n\u001b[1;32m   1345\u001b[0m         \u001b[0;32mtry\u001b[0m\u001b[0;34m:\u001b[0m\u001b[0;34m\u001b[0m\u001b[0;34m\u001b[0m\u001b[0m\n\u001b[1;32m   1346\u001b[0m             \u001b[0;32mtry\u001b[0m\u001b[0;34m:\u001b[0m\u001b[0;34m\u001b[0m\u001b[0;34m\u001b[0m\u001b[0m\n\u001b[0;32m-> 1347\u001b[0;31m                 \u001b[0mresponse\u001b[0m\u001b[0;34m.\u001b[0m\u001b[0mbegin\u001b[0m\u001b[0;34m(\u001b[0m\u001b[0;34m)\u001b[0m\u001b[0;34m\u001b[0m\u001b[0;34m\u001b[0m\u001b[0m\n\u001b[0m\u001b[1;32m   1348\u001b[0m             \u001b[0;32mexcept\u001b[0m \u001b[0mConnectionError\u001b[0m\u001b[0;34m:\u001b[0m\u001b[0;34m\u001b[0m\u001b[0;34m\u001b[0m\u001b[0m\n\u001b[1;32m   1349\u001b[0m                 \u001b[0mself\u001b[0m\u001b[0;34m.\u001b[0m\u001b[0mclose\u001b[0m\u001b[0;34m(\u001b[0m\u001b[0;34m)\u001b[0m\u001b[0;34m\u001b[0m\u001b[0;34m\u001b[0m\u001b[0m\n",
      "\u001b[0;32m/Library/Frameworks/Python.framework/Versions/3.8/lib/python3.8/http/client.py\u001b[0m in \u001b[0;36mbegin\u001b[0;34m(self)\u001b[0m\n\u001b[1;32m    305\u001b[0m         \u001b[0;31m# read until we get a non-100 response\u001b[0m\u001b[0;34m\u001b[0m\u001b[0;34m\u001b[0m\u001b[0;34m\u001b[0m\u001b[0m\n\u001b[1;32m    306\u001b[0m         \u001b[0;32mwhile\u001b[0m \u001b[0;32mTrue\u001b[0m\u001b[0;34m:\u001b[0m\u001b[0;34m\u001b[0m\u001b[0;34m\u001b[0m\u001b[0m\n\u001b[0;32m--> 307\u001b[0;31m             \u001b[0mversion\u001b[0m\u001b[0;34m,\u001b[0m \u001b[0mstatus\u001b[0m\u001b[0;34m,\u001b[0m \u001b[0mreason\u001b[0m \u001b[0;34m=\u001b[0m \u001b[0mself\u001b[0m\u001b[0;34m.\u001b[0m\u001b[0m_read_status\u001b[0m\u001b[0;34m(\u001b[0m\u001b[0;34m)\u001b[0m\u001b[0;34m\u001b[0m\u001b[0;34m\u001b[0m\u001b[0m\n\u001b[0m\u001b[1;32m    308\u001b[0m             \u001b[0;32mif\u001b[0m \u001b[0mstatus\u001b[0m \u001b[0;34m!=\u001b[0m \u001b[0mCONTINUE\u001b[0m\u001b[0;34m:\u001b[0m\u001b[0;34m\u001b[0m\u001b[0;34m\u001b[0m\u001b[0m\n\u001b[1;32m    309\u001b[0m                 \u001b[0;32mbreak\u001b[0m\u001b[0;34m\u001b[0m\u001b[0;34m\u001b[0m\u001b[0m\n",
      "\u001b[0;32m/Library/Frameworks/Python.framework/Versions/3.8/lib/python3.8/http/client.py\u001b[0m in \u001b[0;36m_read_status\u001b[0;34m(self)\u001b[0m\n\u001b[1;32m    266\u001b[0m \u001b[0;34m\u001b[0m\u001b[0m\n\u001b[1;32m    267\u001b[0m     \u001b[0;32mdef\u001b[0m \u001b[0m_read_status\u001b[0m\u001b[0;34m(\u001b[0m\u001b[0mself\u001b[0m\u001b[0;34m)\u001b[0m\u001b[0;34m:\u001b[0m\u001b[0;34m\u001b[0m\u001b[0;34m\u001b[0m\u001b[0m\n\u001b[0;32m--> 268\u001b[0;31m         \u001b[0mline\u001b[0m \u001b[0;34m=\u001b[0m \u001b[0mstr\u001b[0m\u001b[0;34m(\u001b[0m\u001b[0mself\u001b[0m\u001b[0;34m.\u001b[0m\u001b[0mfp\u001b[0m\u001b[0;34m.\u001b[0m\u001b[0mreadline\u001b[0m\u001b[0;34m(\u001b[0m\u001b[0m_MAXLINE\u001b[0m \u001b[0;34m+\u001b[0m \u001b[0;36m1\u001b[0m\u001b[0;34m)\u001b[0m\u001b[0;34m,\u001b[0m \u001b[0;34m\"iso-8859-1\"\u001b[0m\u001b[0;34m)\u001b[0m\u001b[0;34m\u001b[0m\u001b[0;34m\u001b[0m\u001b[0m\n\u001b[0m\u001b[1;32m    269\u001b[0m         \u001b[0;32mif\u001b[0m \u001b[0mlen\u001b[0m\u001b[0;34m(\u001b[0m\u001b[0mline\u001b[0m\u001b[0;34m)\u001b[0m \u001b[0;34m>\u001b[0m \u001b[0m_MAXLINE\u001b[0m\u001b[0;34m:\u001b[0m\u001b[0;34m\u001b[0m\u001b[0;34m\u001b[0m\u001b[0m\n\u001b[1;32m    270\u001b[0m             \u001b[0;32mraise\u001b[0m \u001b[0mLineTooLong\u001b[0m\u001b[0;34m(\u001b[0m\u001b[0;34m\"status line\"\u001b[0m\u001b[0;34m)\u001b[0m\u001b[0;34m\u001b[0m\u001b[0;34m\u001b[0m\u001b[0m\n",
      "\u001b[0;32m/Library/Frameworks/Python.framework/Versions/3.8/lib/python3.8/socket.py\u001b[0m in \u001b[0;36mreadinto\u001b[0;34m(self, b)\u001b[0m\n\u001b[1;32m    667\u001b[0m         \u001b[0;32mwhile\u001b[0m \u001b[0;32mTrue\u001b[0m\u001b[0;34m:\u001b[0m\u001b[0;34m\u001b[0m\u001b[0;34m\u001b[0m\u001b[0m\n\u001b[1;32m    668\u001b[0m             \u001b[0;32mtry\u001b[0m\u001b[0;34m:\u001b[0m\u001b[0;34m\u001b[0m\u001b[0;34m\u001b[0m\u001b[0m\n\u001b[0;32m--> 669\u001b[0;31m                 \u001b[0;32mreturn\u001b[0m \u001b[0mself\u001b[0m\u001b[0;34m.\u001b[0m\u001b[0m_sock\u001b[0m\u001b[0;34m.\u001b[0m\u001b[0mrecv_into\u001b[0m\u001b[0;34m(\u001b[0m\u001b[0mb\u001b[0m\u001b[0;34m)\u001b[0m\u001b[0;34m\u001b[0m\u001b[0;34m\u001b[0m\u001b[0m\n\u001b[0m\u001b[1;32m    670\u001b[0m             \u001b[0;32mexcept\u001b[0m \u001b[0mtimeout\u001b[0m\u001b[0;34m:\u001b[0m\u001b[0;34m\u001b[0m\u001b[0;34m\u001b[0m\u001b[0m\n\u001b[1;32m    671\u001b[0m                 \u001b[0mself\u001b[0m\u001b[0;34m.\u001b[0m\u001b[0m_timeout_occurred\u001b[0m \u001b[0;34m=\u001b[0m \u001b[0;32mTrue\u001b[0m\u001b[0;34m\u001b[0m\u001b[0;34m\u001b[0m\u001b[0m\n",
      "\u001b[0;31mKeyboardInterrupt\u001b[0m: "
     ]
    }
   ],
   "source": [
    "column = []\n",
    "for name in player_link_df['long_name']:\n",
    "    column.append(linkifyer(name, browser))"
   ]
  },
  {
   "cell_type": "code",
   "execution_count": 13,
   "metadata": {},
   "outputs": [],
   "source": [
    "player_link_df['link'] = column"
   ]
  },
  {
   "cell_type": "code",
   "execution_count": 14,
   "metadata": {},
   "outputs": [
    {
     "output_type": "execute_result",
     "data": {
      "text/plain": [
       "javascript:void(0)                                                                             9\n",
       "https://fbref.com/en/players/ecada4fc/all_comps/Keylor-Navas-Stats---All-Competitions          1\n",
       "https://fbref.com/en/players/dea698d9/all_comps/Cristiano-Ronaldo-Stats---All-Competitions     1\n",
       "https://fbref.com/en/players/3eed9821/all_comps/Samuel-Umtiti-Stats---All-Competitions         1\n",
       "https://fbref.com/en/players/b9fbae28/all_comps/NGolo-Kante-Stats---All-Competitions           1\n",
       "                                                                                              ..\n",
       "https://fbref.com/en/players/08511d65/all_comps/Sergio-Ramos-Stats---All-Competitions          1\n",
       "https://fbref.com/en/players/7f3b388c/all_comps/Fabinho-Stats---All-Competitions               1\n",
       "https://fbref.com/en/players/4cde5509/all_comps/Zlatan-Ibrahimovic-Stats---All-Competitions    1\n",
       "https://fbref.com/en/players/49296448/all_comps/Joshua-Kimmich-Stats---All-Competitions        1\n",
       "https://fbref.com/en/players/a58bb1e1/all_comps/Gareth-Bale-Stats---All-Competitions           1\n",
       "Name: link, Length: 103, dtype: int64"
      ]
     },
     "metadata": {},
     "execution_count": 14
    }
   ],
   "source": [
    "player_link_df['link'].value_counts()"
   ]
  },
  {
   "cell_type": "code",
   "execution_count": 22,
   "metadata": {},
   "outputs": [
    {
     "output_type": "execute_result",
     "data": {
      "text/plain": [
       "     sofifa_id       short_name                          long_name  \\\n",
       "6       176580         l+suárez           luis+alberto+suárez+díaz   \n",
       "15      211110         p+dybala        paulo+bruno+exequiel+dybala   \n",
       "28      200145         casemiro  carlos+henrique+venancio+casimiro   \n",
       "38      176676          marcelo     marcelo+vieira+da+silva+júnior   \n",
       "39      189511  sergio+busquets           sergio+busquets+i+burgos   \n",
       "58      210257          ederson          ederson+santana+de+moraes   \n",
       "73      189596         t+müller                      thomas+müller   \n",
       "81      212831          alisson              alisson+ramses+becker   \n",
       "96      156616         f+ribéry                franck+bilal+ribéry   \n",
       "107     187961         paulinho   josé+paulo+bezzera+maciel+júnior   \n",
       "\n",
       "                                    link  \n",
       "6                     javascript:void(0)  \n",
       "15                    javascript:void(0)  \n",
       "28                    javascript:void(0)  \n",
       "38                    javascript:void(0)  \n",
       "39                    javascript:void(0)  \n",
       "58                    javascript:void(0)  \n",
       "73   https://fbref.comjavascript:void(0)  \n",
       "81                    javascript:void(0)  \n",
       "96                    javascript:void(0)  \n",
       "107                   javascript:void(0)  "
      ],
      "text/html": "<div>\n<style scoped>\n    .dataframe tbody tr th:only-of-type {\n        vertical-align: middle;\n    }\n\n    .dataframe tbody tr th {\n        vertical-align: top;\n    }\n\n    .dataframe thead th {\n        text-align: right;\n    }\n</style>\n<table border=\"1\" class=\"dataframe\">\n  <thead>\n    <tr style=\"text-align: right;\">\n      <th></th>\n      <th>sofifa_id</th>\n      <th>short_name</th>\n      <th>long_name</th>\n      <th>link</th>\n    </tr>\n  </thead>\n  <tbody>\n    <tr>\n      <th>6</th>\n      <td>176580</td>\n      <td>l+suárez</td>\n      <td>luis+alberto+suárez+díaz</td>\n      <td>javascript:void(0)</td>\n    </tr>\n    <tr>\n      <th>15</th>\n      <td>211110</td>\n      <td>p+dybala</td>\n      <td>paulo+bruno+exequiel+dybala</td>\n      <td>javascript:void(0)</td>\n    </tr>\n    <tr>\n      <th>28</th>\n      <td>200145</td>\n      <td>casemiro</td>\n      <td>carlos+henrique+venancio+casimiro</td>\n      <td>javascript:void(0)</td>\n    </tr>\n    <tr>\n      <th>38</th>\n      <td>176676</td>\n      <td>marcelo</td>\n      <td>marcelo+vieira+da+silva+júnior</td>\n      <td>javascript:void(0)</td>\n    </tr>\n    <tr>\n      <th>39</th>\n      <td>189511</td>\n      <td>sergio+busquets</td>\n      <td>sergio+busquets+i+burgos</td>\n      <td>javascript:void(0)</td>\n    </tr>\n    <tr>\n      <th>58</th>\n      <td>210257</td>\n      <td>ederson</td>\n      <td>ederson+santana+de+moraes</td>\n      <td>javascript:void(0)</td>\n    </tr>\n    <tr>\n      <th>73</th>\n      <td>189596</td>\n      <td>t+müller</td>\n      <td>thomas+müller</td>\n      <td>https://fbref.comjavascript:void(0)</td>\n    </tr>\n    <tr>\n      <th>81</th>\n      <td>212831</td>\n      <td>alisson</td>\n      <td>alisson+ramses+becker</td>\n      <td>javascript:void(0)</td>\n    </tr>\n    <tr>\n      <th>96</th>\n      <td>156616</td>\n      <td>f+ribéry</td>\n      <td>franck+bilal+ribéry</td>\n      <td>javascript:void(0)</td>\n    </tr>\n    <tr>\n      <th>107</th>\n      <td>187961</td>\n      <td>paulinho</td>\n      <td>josé+paulo+bezzera+maciel+júnior</td>\n      <td>javascript:void(0)</td>\n    </tr>\n  </tbody>\n</table>\n</div>"
     },
     "metadata": {},
     "execution_count": 22
    }
   ],
   "source": [
    "no_link = player_link_df[(player_link_df['link'] == 'javascript:void(0)') | (player_link_df['link'] == 'https://fbref.comjavascript:void(0)')]\n",
    "no_link"
   ]
  },
  {
   "cell_type": "code",
   "execution_count": 24,
   "metadata": {},
   "outputs": [],
   "source": [
    "no_link_idx = no_link.index.tolist()\n",
    "player_link_df.drop(index=no_link_idx, inplace=True)"
   ]
  },
  {
   "cell_type": "code",
   "execution_count": 25,
   "metadata": {},
   "outputs": [],
   "source": [
    "column_r = []\n",
    "for name in no_link['short_name']:\n",
    "    column_r.append(linkifyer(name, browser))"
   ]
  },
  {
   "cell_type": "code",
   "execution_count": 26,
   "metadata": {},
   "outputs": [],
   "source": [
    "no_link['link'] = column_r"
   ]
  },
  {
   "cell_type": "code",
   "execution_count": 27,
   "metadata": {},
   "outputs": [
    {
     "output_type": "execute_result",
     "data": {
      "text/plain": [
       "     sofifa_id       short_name                          long_name  \\\n",
       "6       176580         l+suárez           luis+alberto+suárez+díaz   \n",
       "15      211110         p+dybala        paulo+bruno+exequiel+dybala   \n",
       "28      200145         casemiro  carlos+henrique+venancio+casimiro   \n",
       "38      176676          marcelo     marcelo+vieira+da+silva+júnior   \n",
       "39      189511  sergio+busquets           sergio+busquets+i+burgos   \n",
       "58      210257          ederson          ederson+santana+de+moraes   \n",
       "73      189596         t+müller                      thomas+müller   \n",
       "81      212831          alisson              alisson+ramses+becker   \n",
       "96      156616         f+ribéry                franck+bilal+ribéry   \n",
       "107     187961         paulinho   josé+paulo+bezzera+maciel+júnior   \n",
       "\n",
       "                                                  link  \n",
       "6                  https://fbref.comjavascript:void(0)  \n",
       "15   https://fbref.com/en/players/e0921a4f/all_comp...  \n",
       "28                 https://fbref.comjavascript:void(0)  \n",
       "38                 https://fbref.comjavascript:void(0)  \n",
       "39   https://fbref.com/en/players/5ab0ea87/all_comp...  \n",
       "58                 https://fbref.comjavascript:void(0)  \n",
       "73                 https://fbref.comjavascript:void(0)  \n",
       "81                 https://fbref.comjavascript:void(0)  \n",
       "96   https://fbref.com/en/players/f61c7c4e/all_comp...  \n",
       "107                https://fbref.comjavascript:void(0)  "
      ],
      "text/html": "<div>\n<style scoped>\n    .dataframe tbody tr th:only-of-type {\n        vertical-align: middle;\n    }\n\n    .dataframe tbody tr th {\n        vertical-align: top;\n    }\n\n    .dataframe thead th {\n        text-align: right;\n    }\n</style>\n<table border=\"1\" class=\"dataframe\">\n  <thead>\n    <tr style=\"text-align: right;\">\n      <th></th>\n      <th>sofifa_id</th>\n      <th>short_name</th>\n      <th>long_name</th>\n      <th>link</th>\n    </tr>\n  </thead>\n  <tbody>\n    <tr>\n      <th>6</th>\n      <td>176580</td>\n      <td>l+suárez</td>\n      <td>luis+alberto+suárez+díaz</td>\n      <td>https://fbref.comjavascript:void(0)</td>\n    </tr>\n    <tr>\n      <th>15</th>\n      <td>211110</td>\n      <td>p+dybala</td>\n      <td>paulo+bruno+exequiel+dybala</td>\n      <td>https://fbref.com/en/players/e0921a4f/all_comp...</td>\n    </tr>\n    <tr>\n      <th>28</th>\n      <td>200145</td>\n      <td>casemiro</td>\n      <td>carlos+henrique+venancio+casimiro</td>\n      <td>https://fbref.comjavascript:void(0)</td>\n    </tr>\n    <tr>\n      <th>38</th>\n      <td>176676</td>\n      <td>marcelo</td>\n      <td>marcelo+vieira+da+silva+júnior</td>\n      <td>https://fbref.comjavascript:void(0)</td>\n    </tr>\n    <tr>\n      <th>39</th>\n      <td>189511</td>\n      <td>sergio+busquets</td>\n      <td>sergio+busquets+i+burgos</td>\n      <td>https://fbref.com/en/players/5ab0ea87/all_comp...</td>\n    </tr>\n    <tr>\n      <th>58</th>\n      <td>210257</td>\n      <td>ederson</td>\n      <td>ederson+santana+de+moraes</td>\n      <td>https://fbref.comjavascript:void(0)</td>\n    </tr>\n    <tr>\n      <th>73</th>\n      <td>189596</td>\n      <td>t+müller</td>\n      <td>thomas+müller</td>\n      <td>https://fbref.comjavascript:void(0)</td>\n    </tr>\n    <tr>\n      <th>81</th>\n      <td>212831</td>\n      <td>alisson</td>\n      <td>alisson+ramses+becker</td>\n      <td>https://fbref.comjavascript:void(0)</td>\n    </tr>\n    <tr>\n      <th>96</th>\n      <td>156616</td>\n      <td>f+ribéry</td>\n      <td>franck+bilal+ribéry</td>\n      <td>https://fbref.com/en/players/f61c7c4e/all_comp...</td>\n    </tr>\n    <tr>\n      <th>107</th>\n      <td>187961</td>\n      <td>paulinho</td>\n      <td>josé+paulo+bezzera+maciel+júnior</td>\n      <td>https://fbref.comjavascript:void(0)</td>\n    </tr>\n  </tbody>\n</table>\n</div>"
     },
     "metadata": {},
     "execution_count": 27
    }
   ],
   "source": [
    "no_link"
   ]
  },
  {
   "cell_type": "code",
   "execution_count": 28,
   "metadata": {},
   "outputs": [],
   "source": [
    "no_link_idx = no_link.index[no_link['link'] == 'https://fbref.comjavascript:void(0)'].tolist()\n",
    "\n",
    "rest_links = ['https://fbref.com/en/players/a6154613/all_comps/Luis-Suarez-Stats---All-Competitions',\n",
    "              'https://fbref.com/en/players/4d224fe8/all_comps/Casemiro-Stats---All-Competitions',\n",
    "              'https://fbref.com/en/players/603116a7/all_comps/Marcelo-Stats---All-Competitions',\n",
    "              'https://fbref.com/en/players/3bb7b8b4/all_comps/Ederson-Stats---All-Competitions',\n",
    "              'https://fbref.com/en/players/3c6089ab/all_comps/Thomas-Muller-Stats---All-Competitions',\n",
    "              'https://fbref.com/en/players/7a2e46a8/all_comps/Alisson-Stats---All-Competitions',\n",
    "              'https://fbref.com/en/players/bb7337cc/all_comps/Paulinho-Stats---All-Competitions']\n",
    "\n",
    "idx_links = list(zip(no_link_idx, rest_links))"
   ]
  },
  {
   "cell_type": "code",
   "execution_count": 29,
   "metadata": {},
   "outputs": [
    {
     "output_type": "execute_result",
     "data": {
      "text/plain": [
       "     sofifa_id       short_name                          long_name  \\\n",
       "6       176580         l+suárez           luis+alberto+suárez+díaz   \n",
       "15      211110         p+dybala        paulo+bruno+exequiel+dybala   \n",
       "28      200145         casemiro  carlos+henrique+venancio+casimiro   \n",
       "38      176676          marcelo     marcelo+vieira+da+silva+júnior   \n",
       "39      189511  sergio+busquets           sergio+busquets+i+burgos   \n",
       "58      210257          ederson          ederson+santana+de+moraes   \n",
       "73      189596         t+müller                      thomas+müller   \n",
       "81      212831          alisson              alisson+ramses+becker   \n",
       "96      156616         f+ribéry                franck+bilal+ribéry   \n",
       "107     187961         paulinho   josé+paulo+bezzera+maciel+júnior   \n",
       "\n",
       "                                                  link  \n",
       "6    https://fbref.com/en/players/a6154613/all_comp...  \n",
       "15   https://fbref.com/en/players/e0921a4f/all_comp...  \n",
       "28   https://fbref.com/en/players/4d224fe8/all_comp...  \n",
       "38   https://fbref.com/en/players/603116a7/all_comp...  \n",
       "39   https://fbref.com/en/players/5ab0ea87/all_comp...  \n",
       "58   https://fbref.com/en/players/3bb7b8b4/all_comp...  \n",
       "73   https://fbref.com/en/players/3c6089ab/all_comp...  \n",
       "81   https://fbref.com/en/players/7a2e46a8/all_comp...  \n",
       "96   https://fbref.com/en/players/f61c7c4e/all_comp...  \n",
       "107  https://fbref.com/en/players/bb7337cc/all_comp...  "
      ],
      "text/html": "<div>\n<style scoped>\n    .dataframe tbody tr th:only-of-type {\n        vertical-align: middle;\n    }\n\n    .dataframe tbody tr th {\n        vertical-align: top;\n    }\n\n    .dataframe thead th {\n        text-align: right;\n    }\n</style>\n<table border=\"1\" class=\"dataframe\">\n  <thead>\n    <tr style=\"text-align: right;\">\n      <th></th>\n      <th>sofifa_id</th>\n      <th>short_name</th>\n      <th>long_name</th>\n      <th>link</th>\n    </tr>\n  </thead>\n  <tbody>\n    <tr>\n      <th>6</th>\n      <td>176580</td>\n      <td>l+suárez</td>\n      <td>luis+alberto+suárez+díaz</td>\n      <td>https://fbref.com/en/players/a6154613/all_comp...</td>\n    </tr>\n    <tr>\n      <th>15</th>\n      <td>211110</td>\n      <td>p+dybala</td>\n      <td>paulo+bruno+exequiel+dybala</td>\n      <td>https://fbref.com/en/players/e0921a4f/all_comp...</td>\n    </tr>\n    <tr>\n      <th>28</th>\n      <td>200145</td>\n      <td>casemiro</td>\n      <td>carlos+henrique+venancio+casimiro</td>\n      <td>https://fbref.com/en/players/4d224fe8/all_comp...</td>\n    </tr>\n    <tr>\n      <th>38</th>\n      <td>176676</td>\n      <td>marcelo</td>\n      <td>marcelo+vieira+da+silva+júnior</td>\n      <td>https://fbref.com/en/players/603116a7/all_comp...</td>\n    </tr>\n    <tr>\n      <th>39</th>\n      <td>189511</td>\n      <td>sergio+busquets</td>\n      <td>sergio+busquets+i+burgos</td>\n      <td>https://fbref.com/en/players/5ab0ea87/all_comp...</td>\n    </tr>\n    <tr>\n      <th>58</th>\n      <td>210257</td>\n      <td>ederson</td>\n      <td>ederson+santana+de+moraes</td>\n      <td>https://fbref.com/en/players/3bb7b8b4/all_comp...</td>\n    </tr>\n    <tr>\n      <th>73</th>\n      <td>189596</td>\n      <td>t+müller</td>\n      <td>thomas+müller</td>\n      <td>https://fbref.com/en/players/3c6089ab/all_comp...</td>\n    </tr>\n    <tr>\n      <th>81</th>\n      <td>212831</td>\n      <td>alisson</td>\n      <td>alisson+ramses+becker</td>\n      <td>https://fbref.com/en/players/7a2e46a8/all_comp...</td>\n    </tr>\n    <tr>\n      <th>96</th>\n      <td>156616</td>\n      <td>f+ribéry</td>\n      <td>franck+bilal+ribéry</td>\n      <td>https://fbref.com/en/players/f61c7c4e/all_comp...</td>\n    </tr>\n    <tr>\n      <th>107</th>\n      <td>187961</td>\n      <td>paulinho</td>\n      <td>josé+paulo+bezzera+maciel+júnior</td>\n      <td>https://fbref.com/en/players/bb7337cc/all_comp...</td>\n    </tr>\n  </tbody>\n</table>\n</div>"
     },
     "metadata": {},
     "execution_count": 29
    }
   ],
   "source": [
    "for new_link in idx_links:\n",
    "    no_link.at[new_link[0], 'link'] = new_link[1]\n",
    "\n",
    "no_link"
   ]
  },
  {
   "cell_type": "code",
   "execution_count": 30,
   "metadata": {},
   "outputs": [],
   "source": [
    "player_link_df_final = player_link_df.append(no_link, sort=True)\n",
    "player_link_df_final.sort_index(inplace=True)"
   ]
  },
  {
   "cell_type": "code",
   "execution_count": 31,
   "metadata": {},
   "outputs": [
    {
     "output_type": "execute_result",
     "data": {
      "text/plain": [
       "https://fbref.com/en/players/ecada4fc/all_comps/Keylor-Navas-Stats---All-Competitions          1\n",
       "https://fbref.com/en/players/4431aed2/all_comps/Ciro-Immobile-Stats---All-Competitions         1\n",
       "https://fbref.com/en/players/c906ce0f/all_comps/Pepe-Stats---All-Competitions                  1\n",
       "https://fbref.com/en/players/8778c910/all_comps/Manuel-Neuer-Stats---All-Competitions          1\n",
       "https://fbref.com/en/players/2f557579/all_comps/Lorenzo-Insigne-Stats---All-Competitions       1\n",
       "                                                                                              ..\n",
       "https://fbref.com/en/players/7f3b388c/all_comps/Fabinho-Stats---All-Competitions               1\n",
       "https://fbref.com/en/players/4cde5509/all_comps/Zlatan-Ibrahimovic-Stats---All-Competitions    1\n",
       "https://fbref.com/en/players/c0cddebe/all_comps/Blaise-Matuidi-Stats---All-Competitions        1\n",
       "https://fbref.com/en/players/49296448/all_comps/Joshua-Kimmich-Stats---All-Competitions        1\n",
       "https://fbref.com/en/players/bb7337cc/all_comps/Paulinho-Stats---All-Competitions              1\n",
       "Name: link, Length: 111, dtype: int64"
      ]
     },
     "metadata": {},
     "execution_count": 31
    }
   ],
   "source": [
    "player_link_df_final['link'].value_counts()"
   ]
  },
  {
   "cell_type": "code",
   "execution_count": 9,
   "metadata": {},
   "outputs": [],
   "source": [
    "player_link_df_final[['sofifa_id', 'link']].to_csv('csv/players_link.csv', index=False)\n",
    "fifa_19_pdata.to_csv('csv/players_data.csv', index=False)\n",
    "fifa_19_pstats.to_csv('csv/players_stats.csv', index=False)"
   ]
  },
  {
   "cell_type": "code",
   "execution_count": null,
   "metadata": {},
   "outputs": [],
   "source": []
  }
 ],
 "metadata": {
  "kernelspec": {
   "name": "Python 3.8.5 64-bit",
   "display_name": "Python 3.8.5 64-bit",
   "metadata": {
    "interpreter": {
     "hash": "082e9a3bcad0a290d0001e938aa60b99250c6c2ef33a923c00b70f9826caf4b7"
    }
   }
  },
  "language_info": {
   "codemirror_mode": {
    "name": "ipython",
    "version": 3
   },
   "file_extension": ".py",
   "mimetype": "text/x-python",
   "name": "python",
   "nbconvert_exporter": "python",
   "pygments_lexer": "ipython3",
   "version": "3.8.5-final"
  }
 },
 "nbformat": 4,
 "nbformat_minor": 4
}