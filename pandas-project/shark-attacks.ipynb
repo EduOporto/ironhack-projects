{
 "cells": [
  {
   "cell_type": "markdown",
   "metadata": {},
   "source": [
    "# Shark Attacks"
   ]
  },
  {
   "cell_type": "code",
   "execution_count": 1,
   "metadata": {},
   "outputs": [],
   "source": [
    "import pandas as pd\n",
    "import seaborn as sns\n",
    "import matplotlib.pyplot as plt\n",
    "import numpy as np\n",
    "import re\n",
    "import datetime as dt"
   ]
  },
  {
   "cell_type": "code",
   "execution_count": 2,
   "metadata": {},
   "outputs": [
    {
     "output_type": "execute_result",
     "data": {
      "text/plain": [
       "  Case Number         Date    Year        Type    Country             Area  \\\n",
       "0  2018.06.25  25-Jun-2018  2018.0     Boating        USA       California   \n",
       "1  2018.06.18  18-Jun-2018  2018.0  Unprovoked        USA          Georgia   \n",
       "2  2018.06.09  09-Jun-2018  2018.0     Invalid        USA           Hawaii   \n",
       "3  2018.06.08  08-Jun-2018  2018.0  Unprovoked  AUSTRALIA  New South Wales   \n",
       "4  2018.06.04  04-Jun-2018  2018.0    Provoked     MEXICO           Colima   \n",
       "\n",
       "                         Location     Activity             Name Sex   ...  \\\n",
       "0     Oceanside, San Diego County     Paddling      Julie Wolfe    F  ...   \n",
       "1  St. Simon Island, Glynn County     Standing  Adyson McNeely     F  ...   \n",
       "2                    Habush, Oahu      Surfing      John Denges    M  ...   \n",
       "3              Arrawarra Headland      Surfing             male    M  ...   \n",
       "4                        La Ticla  Free diving   Gustavo Ramos     M  ...   \n",
       "\n",
       "          Species           Investigator or Source                       pdf  \\\n",
       "0      White shark                R. Collier, GSAF      2018.06.25-Wolfe.pdf   \n",
       "1              NaN  K.McMurray, TrackingSharks.com    2018.06.18-McNeely.pdf   \n",
       "2              NaN  K.McMurray, TrackingSharks.com     2018.06.09-Denges.pdf   \n",
       "3        2 m shark                  B. Myatt, GSAF  2018.06.08-Arrawarra.pdf   \n",
       "4  Tiger shark, 3m                       A .Kipper      2018.06.04-Ramos.pdf   \n",
       "\n",
       "                                        href formula  \\\n",
       "0  http://sharkattackfile.net/spreadsheets/pdf_di...   \n",
       "1  http://sharkattackfile.net/spreadsheets/pdf_di...   \n",
       "2  http://sharkattackfile.net/spreadsheets/pdf_di...   \n",
       "3  http://sharkattackfile.net/spreadsheets/pdf_di...   \n",
       "4  http://sharkattackfile.net/spreadsheets/pdf_di...   \n",
       "\n",
       "                                                href Case Number.1  \\\n",
       "0  http://sharkattackfile.net/spreadsheets/pdf_di...    2018.06.25   \n",
       "1  http://sharkattackfile.net/spreadsheets/pdf_di...    2018.06.18   \n",
       "2  http://sharkattackfile.net/spreadsheets/pdf_di...    2018.06.09   \n",
       "3  http://sharkattackfile.net/spreadsheets/pdf_di...    2018.06.08   \n",
       "4  http://sharkattackfile.net/spreadsheets/pdf_di...    2018.06.04   \n",
       "\n",
       "  Case Number.2 original order Unnamed: 22 Unnamed: 23  \n",
       "0    2018.06.25         6303.0         NaN         NaN  \n",
       "1    2018.06.18         6302.0         NaN         NaN  \n",
       "2    2018.06.09         6301.0         NaN         NaN  \n",
       "3    2018.06.08         6300.0         NaN         NaN  \n",
       "4    2018.06.04         6299.0         NaN         NaN  \n",
       "\n",
       "[5 rows x 24 columns]"
      ],
      "text/html": "<div>\n<style scoped>\n    .dataframe tbody tr th:only-of-type {\n        vertical-align: middle;\n    }\n\n    .dataframe tbody tr th {\n        vertical-align: top;\n    }\n\n    .dataframe thead th {\n        text-align: right;\n    }\n</style>\n<table border=\"1\" class=\"dataframe\">\n  <thead>\n    <tr style=\"text-align: right;\">\n      <th></th>\n      <th>Case Number</th>\n      <th>Date</th>\n      <th>Year</th>\n      <th>Type</th>\n      <th>Country</th>\n      <th>Area</th>\n      <th>Location</th>\n      <th>Activity</th>\n      <th>Name</th>\n      <th>Sex</th>\n      <th>...</th>\n      <th>Species</th>\n      <th>Investigator or Source</th>\n      <th>pdf</th>\n      <th>href formula</th>\n      <th>href</th>\n      <th>Case Number.1</th>\n      <th>Case Number.2</th>\n      <th>original order</th>\n      <th>Unnamed: 22</th>\n      <th>Unnamed: 23</th>\n    </tr>\n  </thead>\n  <tbody>\n    <tr>\n      <th>0</th>\n      <td>2018.06.25</td>\n      <td>25-Jun-2018</td>\n      <td>2018.0</td>\n      <td>Boating</td>\n      <td>USA</td>\n      <td>California</td>\n      <td>Oceanside, San Diego County</td>\n      <td>Paddling</td>\n      <td>Julie Wolfe</td>\n      <td>F</td>\n      <td>...</td>\n      <td>White shark</td>\n      <td>R. Collier, GSAF</td>\n      <td>2018.06.25-Wolfe.pdf</td>\n      <td>http://sharkattackfile.net/spreadsheets/pdf_di...</td>\n      <td>http://sharkattackfile.net/spreadsheets/pdf_di...</td>\n      <td>2018.06.25</td>\n      <td>2018.06.25</td>\n      <td>6303.0</td>\n      <td>NaN</td>\n      <td>NaN</td>\n    </tr>\n    <tr>\n      <th>1</th>\n      <td>2018.06.18</td>\n      <td>18-Jun-2018</td>\n      <td>2018.0</td>\n      <td>Unprovoked</td>\n      <td>USA</td>\n      <td>Georgia</td>\n      <td>St. Simon Island, Glynn County</td>\n      <td>Standing</td>\n      <td>Adyson McNeely</td>\n      <td>F</td>\n      <td>...</td>\n      <td>NaN</td>\n      <td>K.McMurray, TrackingSharks.com</td>\n      <td>2018.06.18-McNeely.pdf</td>\n      <td>http://sharkattackfile.net/spreadsheets/pdf_di...</td>\n      <td>http://sharkattackfile.net/spreadsheets/pdf_di...</td>\n      <td>2018.06.18</td>\n      <td>2018.06.18</td>\n      <td>6302.0</td>\n      <td>NaN</td>\n      <td>NaN</td>\n    </tr>\n    <tr>\n      <th>2</th>\n      <td>2018.06.09</td>\n      <td>09-Jun-2018</td>\n      <td>2018.0</td>\n      <td>Invalid</td>\n      <td>USA</td>\n      <td>Hawaii</td>\n      <td>Habush, Oahu</td>\n      <td>Surfing</td>\n      <td>John Denges</td>\n      <td>M</td>\n      <td>...</td>\n      <td>NaN</td>\n      <td>K.McMurray, TrackingSharks.com</td>\n      <td>2018.06.09-Denges.pdf</td>\n      <td>http://sharkattackfile.net/spreadsheets/pdf_di...</td>\n      <td>http://sharkattackfile.net/spreadsheets/pdf_di...</td>\n      <td>2018.06.09</td>\n      <td>2018.06.09</td>\n      <td>6301.0</td>\n      <td>NaN</td>\n      <td>NaN</td>\n    </tr>\n    <tr>\n      <th>3</th>\n      <td>2018.06.08</td>\n      <td>08-Jun-2018</td>\n      <td>2018.0</td>\n      <td>Unprovoked</td>\n      <td>AUSTRALIA</td>\n      <td>New South Wales</td>\n      <td>Arrawarra Headland</td>\n      <td>Surfing</td>\n      <td>male</td>\n      <td>M</td>\n      <td>...</td>\n      <td>2 m shark</td>\n      <td>B. Myatt, GSAF</td>\n      <td>2018.06.08-Arrawarra.pdf</td>\n      <td>http://sharkattackfile.net/spreadsheets/pdf_di...</td>\n      <td>http://sharkattackfile.net/spreadsheets/pdf_di...</td>\n      <td>2018.06.08</td>\n      <td>2018.06.08</td>\n      <td>6300.0</td>\n      <td>NaN</td>\n      <td>NaN</td>\n    </tr>\n    <tr>\n      <th>4</th>\n      <td>2018.06.04</td>\n      <td>04-Jun-2018</td>\n      <td>2018.0</td>\n      <td>Provoked</td>\n      <td>MEXICO</td>\n      <td>Colima</td>\n      <td>La Ticla</td>\n      <td>Free diving</td>\n      <td>Gustavo Ramos</td>\n      <td>M</td>\n      <td>...</td>\n      <td>Tiger shark, 3m</td>\n      <td>A .Kipper</td>\n      <td>2018.06.04-Ramos.pdf</td>\n      <td>http://sharkattackfile.net/spreadsheets/pdf_di...</td>\n      <td>http://sharkattackfile.net/spreadsheets/pdf_di...</td>\n      <td>2018.06.04</td>\n      <td>2018.06.04</td>\n      <td>6299.0</td>\n      <td>NaN</td>\n      <td>NaN</td>\n    </tr>\n  </tbody>\n</table>\n<p>5 rows × 24 columns</p>\n</div>"
     },
     "metadata": {},
     "execution_count": 2
    }
   ],
   "source": [
    "shark_atck_df = pd.read_csv('attacks.csv', encoding='latin-1')\n",
    "shark_atck_df.head()"
   ]
  },
  {
   "cell_type": "code",
   "execution_count": 3,
   "metadata": {},
   "outputs": [
    {
     "output_type": "stream",
     "name": "stdout",
     "text": [
      "<class 'pandas.core.frame.DataFrame'>\nRangeIndex: 25723 entries, 0 to 25722\nData columns (total 24 columns):\n #   Column                  Non-Null Count  Dtype  \n---  ------                  --------------  -----  \n 0   Case Number             8702 non-null   object \n 1   Date                    6302 non-null   object \n 2   Year                    6300 non-null   float64\n 3   Type                    6298 non-null   object \n 4   Country                 6252 non-null   object \n 5   Area                    5847 non-null   object \n 6   Location                5762 non-null   object \n 7   Activity                5758 non-null   object \n 8   Name                    6092 non-null   object \n 9   Sex                     5737 non-null   object \n 10  Age                     3471 non-null   object \n 11  Injury                  6274 non-null   object \n 12  Fatal (Y/N)             5763 non-null   object \n 13  Time                    2948 non-null   object \n 14  Species                 3464 non-null   object \n 15  Investigator or Source  6285 non-null   object \n 16  pdf                     6302 non-null   object \n 17  href formula            6301 non-null   object \n 18  href                    6302 non-null   object \n 19  Case Number.1           6302 non-null   object \n 20  Case Number.2           6302 non-null   object \n 21  original order          6309 non-null   float64\n 22  Unnamed: 22             1 non-null      object \n 23  Unnamed: 23             2 non-null      object \ndtypes: float64(2), object(22)\nmemory usage: 4.7+ MB\n"
     ]
    }
   ],
   "source": [
    "shark_atck_df.info()"
   ]
  },
  {
   "cell_type": "markdown",
   "metadata": {},
   "source": [
    "The dataframe has a total of 25723 entries and 24 columns. All of the columns have more than 17,000 null values. Checking all the columns' names, I can deduce that not all of them will be useful for my research. Let's select the ones that will be, and generate a new dataframe with them:\n",
    "\n",
    " - Case Number, Date, Year, Case Number 1 & 2: checking the sample above I can see that every of those columns is related with the date the attack took place. The one with more non-null values is 'Case Number', with 8702. I would like to check if this column covers the rest (if some dates are not in 'Case Number' but in other column)."
   ]
  },
  {
   "cell_type": "code",
   "execution_count": 4,
   "metadata": {},
   "outputs": [],
   "source": [
    "#dates = shark_atck_df.iloc[:,[0,1,2,19,20]]\n",
    "#sns.heatmap(dates.isnull(), cbar=False)"
   ]
  },
  {
   "cell_type": "markdown",
   "metadata": {},
   "source": [
    "As the heatmap shows, all the dates in the rest of the columns and beyond are covered by 'Case Number', so I will use that column as date.\n",
    "\n",
    " - Time: with nearly 3000 non-nulls, I will keep it as it could be usefull.\n",
    " - Country, Area, Location: more than 5700 rows with all this information covered. The 'Country' column will be the main source related with this information, but I prefer to keep also 'Area' and 'Location', even though they have less non-null values.\n",
    " - Sex, Age: more than 5700 non-null values for sex; more than 3400 for Age.\n",
    " - Activity: what the person attacked was doing when the attack happened. There are more than 5700 non-nulls.\n",
    " - Type: the type of attack, there are nearly 6300 non-null values.\n",
    " - Species: the species of the shark, with nearly 3500 non-null values.\n",
    " - Injury & Fatal: the kind of injury and if it was rather fatal or not. Nearly 6300 non-null entries for the injuries; more than 5700 for the 'Fatal' column.\n",
    "\n",
    "Let's create the new dataframe with the selected columns sorted, and change the name of 'Case Number' to 'Date'."
   ]
  },
  {
   "cell_type": "code",
   "execution_count": 5,
   "metadata": {},
   "outputs": [
    {
     "output_type": "execute_result",
     "data": {
      "text/plain": [
       "         Date           Time    Country             Area  \\\n",
       "0  2018.06.25          18h00        USA       California   \n",
       "1  2018.06.18  14h00  -15h00        USA          Georgia   \n",
       "2  2018.06.09          07h45        USA           Hawaii   \n",
       "3  2018.06.08            NaN  AUSTRALIA  New South Wales   \n",
       "4  2018.06.04            NaN     MEXICO           Colima   \n",
       "\n",
       "                         Location Sex   Age     Activity        Type  \\\n",
       "0     Oceanside, San Diego County    F   57     Paddling     Boating   \n",
       "1  St. Simon Island, Glynn County    F   11     Standing  Unprovoked   \n",
       "2                    Habush, Oahu    M   48      Surfing     Invalid   \n",
       "3              Arrawarra Headland    M  NaN      Surfing  Unprovoked   \n",
       "4                        La Ticla    M  NaN  Free diving    Provoked   \n",
       "\n",
       "          Species                                              Injury  \\\n",
       "0      White shark  No injury to occupant, outrigger canoe and pad...   \n",
       "1              NaN                         Minor injury to left thigh   \n",
       "2              NaN       Injury to left lower leg from surfboard skeg   \n",
       "3        2 m shark                          Minor injury to lower leg   \n",
       "4  Tiger shark, 3m  Lacerations to leg & hand shark PROVOKED INCIDENT   \n",
       "\n",
       "  Fatal (Y/N)  \n",
       "0           N  \n",
       "1           N  \n",
       "2           N  \n",
       "3           N  \n",
       "4           N  "
      ],
      "text/html": "<div>\n<style scoped>\n    .dataframe tbody tr th:only-of-type {\n        vertical-align: middle;\n    }\n\n    .dataframe tbody tr th {\n        vertical-align: top;\n    }\n\n    .dataframe thead th {\n        text-align: right;\n    }\n</style>\n<table border=\"1\" class=\"dataframe\">\n  <thead>\n    <tr style=\"text-align: right;\">\n      <th></th>\n      <th>Date</th>\n      <th>Time</th>\n      <th>Country</th>\n      <th>Area</th>\n      <th>Location</th>\n      <th>Sex</th>\n      <th>Age</th>\n      <th>Activity</th>\n      <th>Type</th>\n      <th>Species</th>\n      <th>Injury</th>\n      <th>Fatal (Y/N)</th>\n    </tr>\n  </thead>\n  <tbody>\n    <tr>\n      <th>0</th>\n      <td>2018.06.25</td>\n      <td>18h00</td>\n      <td>USA</td>\n      <td>California</td>\n      <td>Oceanside, San Diego County</td>\n      <td>F</td>\n      <td>57</td>\n      <td>Paddling</td>\n      <td>Boating</td>\n      <td>White shark</td>\n      <td>No injury to occupant, outrigger canoe and pad...</td>\n      <td>N</td>\n    </tr>\n    <tr>\n      <th>1</th>\n      <td>2018.06.18</td>\n      <td>14h00  -15h00</td>\n      <td>USA</td>\n      <td>Georgia</td>\n      <td>St. Simon Island, Glynn County</td>\n      <td>F</td>\n      <td>11</td>\n      <td>Standing</td>\n      <td>Unprovoked</td>\n      <td>NaN</td>\n      <td>Minor injury to left thigh</td>\n      <td>N</td>\n    </tr>\n    <tr>\n      <th>2</th>\n      <td>2018.06.09</td>\n      <td>07h45</td>\n      <td>USA</td>\n      <td>Hawaii</td>\n      <td>Habush, Oahu</td>\n      <td>M</td>\n      <td>48</td>\n      <td>Surfing</td>\n      <td>Invalid</td>\n      <td>NaN</td>\n      <td>Injury to left lower leg from surfboard skeg</td>\n      <td>N</td>\n    </tr>\n    <tr>\n      <th>3</th>\n      <td>2018.06.08</td>\n      <td>NaN</td>\n      <td>AUSTRALIA</td>\n      <td>New South Wales</td>\n      <td>Arrawarra Headland</td>\n      <td>M</td>\n      <td>NaN</td>\n      <td>Surfing</td>\n      <td>Unprovoked</td>\n      <td>2 m shark</td>\n      <td>Minor injury to lower leg</td>\n      <td>N</td>\n    </tr>\n    <tr>\n      <th>4</th>\n      <td>2018.06.04</td>\n      <td>NaN</td>\n      <td>MEXICO</td>\n      <td>Colima</td>\n      <td>La Ticla</td>\n      <td>M</td>\n      <td>NaN</td>\n      <td>Free diving</td>\n      <td>Provoked</td>\n      <td>Tiger shark, 3m</td>\n      <td>Lacerations to leg &amp; hand shark PROVOKED INCIDENT</td>\n      <td>N</td>\n    </tr>\n  </tbody>\n</table>\n</div>"
     },
     "metadata": {},
     "execution_count": 5
    }
   ],
   "source": [
    "attacks_df = shark_atck_df.iloc[:,[0,13,4,5,6,9,10,7,3,14,11,12]]\n",
    "attacks_df.rename(columns={'Case Number': 'Date'}, inplace=True)\n",
    "attacks_df.head()"
   ]
  },
  {
   "cell_type": "markdown",
   "metadata": {},
   "source": [
    "Now let's see through a heatmap how is the distribution of the non-null values in our new dataframe, in order to see how many rows have all its values as null:"
   ]
  },
  {
   "cell_type": "code",
   "execution_count": 6,
   "metadata": {
    "scrolled": true
   },
   "outputs": [],
   "source": [
    "#sns.heatmap(attacks_df.isnull(), cbar=False)"
   ]
  },
  {
   "cell_type": "code",
   "execution_count": 7,
   "metadata": {},
   "outputs": [
    {
     "output_type": "execute_result",
     "data": {
      "text/plain": [
       "Date           8702\n",
       "Type           6298\n",
       "Injury         6274\n",
       "Country        6252\n",
       "Area           5847\n",
       "Fatal (Y/N)    5763\n",
       "Location       5762\n",
       "Activity       5758\n",
       "Sex            5737\n",
       "Age            3471\n",
       "Species        3464\n",
       "Time           2948\n",
       "dtype: int64"
      ]
     },
     "metadata": {},
     "execution_count": 7
    }
   ],
   "source": [
    "attacks_df.count().sort_values(ascending=False)"
   ]
  },
  {
   "cell_type": "markdown",
   "metadata": {},
   "source": [
    "As the heatmap shows, 2/3 of the dataframe has all its rows filled with null values in absolutely all its columns. Of course, all this rows will be deleted. Of the reminder third, at least 1/4 has just the 'Date' column filled, so I will also dump all those values and create a separate series with all the dates, just in case I want to perform a historical of shark attacks throught the years or something similar. \n",
    "\n",
    "In order to attemp the dataframe, I will keep those rows where the values in the column 'Type' are non-null, as it is the column with the largest number of those after 'Date'. This will let me with a 6298-row dataframe."
   ]
  },
  {
   "cell_type": "code",
   "execution_count": 8,
   "metadata": {},
   "outputs": [
    {
     "output_type": "execute_result",
     "data": {
      "text/plain": [
       "            Date           Time             Country               Area  \\\n",
       "0     2018.06.25          18h00                 USA         California   \n",
       "1     2018.06.18  14h00  -15h00                 USA            Georgia   \n",
       "2     2018.06.09          07h45                 USA             Hawaii   \n",
       "3     2018.06.08            NaN           AUSTRALIA    New South Wales   \n",
       "4     2018.06.04            NaN              MEXICO             Colima   \n",
       "...          ...            ...                 ...                ...   \n",
       "6297     ND.0005            NaN           AUSTRALIA  Western Australia   \n",
       "6298     ND.0004            NaN           AUSTRALIA  Western Australia   \n",
       "6299     ND.0003            NaN                 USA     North Carolina   \n",
       "6300     ND.0002            NaN              PANAMA                NaN   \n",
       "6301     ND.0001            NaN  CEYLON (SRI LANKA)   Eastern Province   \n",
       "\n",
       "                                 Location Sex   Age      Activity        Type  \\\n",
       "0             Oceanside, San Diego County    F   57      Paddling     Boating   \n",
       "1          St. Simon Island, Glynn County    F   11      Standing  Unprovoked   \n",
       "2                            Habush, Oahu    M   48       Surfing     Invalid   \n",
       "3                      Arrawarra Headland    M  NaN       Surfing  Unprovoked   \n",
       "4                                La Ticla    M  NaN   Free diving    Provoked   \n",
       "...                                   ...  ...  ...           ...         ...   \n",
       "6297                          Roebuck Bay    M  NaN        Diving  Unprovoked   \n",
       "6298                                  NaN    M  NaN  Pearl diving  Unprovoked   \n",
       "6299                       Ocracoke Inlet    M  NaN      Swimming  Unprovoked   \n",
       "6300                 Panama Bay 8ºN, 79ºW    M  NaN           NaN  Unprovoked   \n",
       "6301  Below the English fort, Trincomalee    M   15      Swimming  Unprovoked   \n",
       "\n",
       "             Species                                              Injury  \\\n",
       "0         White shark  No injury to occupant, outrigger canoe and pad...   \n",
       "1                 NaN                         Minor injury to left thigh   \n",
       "2                 NaN       Injury to left lower leg from surfboard skeg   \n",
       "3           2 m shark                          Minor injury to lower leg   \n",
       "4     Tiger shark, 3m  Lacerations to leg & hand shark PROVOKED INCIDENT   \n",
       "...               ...                                                ...   \n",
       "6297              NaN                                              FATAL   \n",
       "6298              NaN                                              FATAL   \n",
       "6299              NaN                                              FATAL   \n",
       "6300              NaN                                              FATAL   \n",
       "6301              NaN  FATAL. \"Shark bit him in half, carrying away t...   \n",
       "\n",
       "     Fatal (Y/N)  \n",
       "0              N  \n",
       "1              N  \n",
       "2              N  \n",
       "3              N  \n",
       "4              N  \n",
       "...          ...  \n",
       "6297           Y  \n",
       "6298           Y  \n",
       "6299           Y  \n",
       "6300           Y  \n",
       "6301           Y  \n",
       "\n",
       "[6298 rows x 12 columns]"
      ],
      "text/html": "<div>\n<style scoped>\n    .dataframe tbody tr th:only-of-type {\n        vertical-align: middle;\n    }\n\n    .dataframe tbody tr th {\n        vertical-align: top;\n    }\n\n    .dataframe thead th {\n        text-align: right;\n    }\n</style>\n<table border=\"1\" class=\"dataframe\">\n  <thead>\n    <tr style=\"text-align: right;\">\n      <th></th>\n      <th>Date</th>\n      <th>Time</th>\n      <th>Country</th>\n      <th>Area</th>\n      <th>Location</th>\n      <th>Sex</th>\n      <th>Age</th>\n      <th>Activity</th>\n      <th>Type</th>\n      <th>Species</th>\n      <th>Injury</th>\n      <th>Fatal (Y/N)</th>\n    </tr>\n  </thead>\n  <tbody>\n    <tr>\n      <th>0</th>\n      <td>2018.06.25</td>\n      <td>18h00</td>\n      <td>USA</td>\n      <td>California</td>\n      <td>Oceanside, San Diego County</td>\n      <td>F</td>\n      <td>57</td>\n      <td>Paddling</td>\n      <td>Boating</td>\n      <td>White shark</td>\n      <td>No injury to occupant, outrigger canoe and pad...</td>\n      <td>N</td>\n    </tr>\n    <tr>\n      <th>1</th>\n      <td>2018.06.18</td>\n      <td>14h00  -15h00</td>\n      <td>USA</td>\n      <td>Georgia</td>\n      <td>St. Simon Island, Glynn County</td>\n      <td>F</td>\n      <td>11</td>\n      <td>Standing</td>\n      <td>Unprovoked</td>\n      <td>NaN</td>\n      <td>Minor injury to left thigh</td>\n      <td>N</td>\n    </tr>\n    <tr>\n      <th>2</th>\n      <td>2018.06.09</td>\n      <td>07h45</td>\n      <td>USA</td>\n      <td>Hawaii</td>\n      <td>Habush, Oahu</td>\n      <td>M</td>\n      <td>48</td>\n      <td>Surfing</td>\n      <td>Invalid</td>\n      <td>NaN</td>\n      <td>Injury to left lower leg from surfboard skeg</td>\n      <td>N</td>\n    </tr>\n    <tr>\n      <th>3</th>\n      <td>2018.06.08</td>\n      <td>NaN</td>\n      <td>AUSTRALIA</td>\n      <td>New South Wales</td>\n      <td>Arrawarra Headland</td>\n      <td>M</td>\n      <td>NaN</td>\n      <td>Surfing</td>\n      <td>Unprovoked</td>\n      <td>2 m shark</td>\n      <td>Minor injury to lower leg</td>\n      <td>N</td>\n    </tr>\n    <tr>\n      <th>4</th>\n      <td>2018.06.04</td>\n      <td>NaN</td>\n      <td>MEXICO</td>\n      <td>Colima</td>\n      <td>La Ticla</td>\n      <td>M</td>\n      <td>NaN</td>\n      <td>Free diving</td>\n      <td>Provoked</td>\n      <td>Tiger shark, 3m</td>\n      <td>Lacerations to leg &amp; hand shark PROVOKED INCIDENT</td>\n      <td>N</td>\n    </tr>\n    <tr>\n      <th>...</th>\n      <td>...</td>\n      <td>...</td>\n      <td>...</td>\n      <td>...</td>\n      <td>...</td>\n      <td>...</td>\n      <td>...</td>\n      <td>...</td>\n      <td>...</td>\n      <td>...</td>\n      <td>...</td>\n      <td>...</td>\n    </tr>\n    <tr>\n      <th>6297</th>\n      <td>ND.0005</td>\n      <td>NaN</td>\n      <td>AUSTRALIA</td>\n      <td>Western Australia</td>\n      <td>Roebuck Bay</td>\n      <td>M</td>\n      <td>NaN</td>\n      <td>Diving</td>\n      <td>Unprovoked</td>\n      <td>NaN</td>\n      <td>FATAL</td>\n      <td>Y</td>\n    </tr>\n    <tr>\n      <th>6298</th>\n      <td>ND.0004</td>\n      <td>NaN</td>\n      <td>AUSTRALIA</td>\n      <td>Western Australia</td>\n      <td>NaN</td>\n      <td>M</td>\n      <td>NaN</td>\n      <td>Pearl diving</td>\n      <td>Unprovoked</td>\n      <td>NaN</td>\n      <td>FATAL</td>\n      <td>Y</td>\n    </tr>\n    <tr>\n      <th>6299</th>\n      <td>ND.0003</td>\n      <td>NaN</td>\n      <td>USA</td>\n      <td>North Carolina</td>\n      <td>Ocracoke Inlet</td>\n      <td>M</td>\n      <td>NaN</td>\n      <td>Swimming</td>\n      <td>Unprovoked</td>\n      <td>NaN</td>\n      <td>FATAL</td>\n      <td>Y</td>\n    </tr>\n    <tr>\n      <th>6300</th>\n      <td>ND.0002</td>\n      <td>NaN</td>\n      <td>PANAMA</td>\n      <td>NaN</td>\n      <td>Panama Bay 8ºN, 79ºW</td>\n      <td>M</td>\n      <td>NaN</td>\n      <td>NaN</td>\n      <td>Unprovoked</td>\n      <td>NaN</td>\n      <td>FATAL</td>\n      <td>Y</td>\n    </tr>\n    <tr>\n      <th>6301</th>\n      <td>ND.0001</td>\n      <td>NaN</td>\n      <td>CEYLON (SRI LANKA)</td>\n      <td>Eastern Province</td>\n      <td>Below the English fort, Trincomalee</td>\n      <td>M</td>\n      <td>15</td>\n      <td>Swimming</td>\n      <td>Unprovoked</td>\n      <td>NaN</td>\n      <td>FATAL. \"Shark bit him in half, carrying away t...</td>\n      <td>Y</td>\n    </tr>\n  </tbody>\n</table>\n<p>6298 rows × 12 columns</p>\n</div>"
     },
     "metadata": {},
     "execution_count": 8
    }
   ],
   "source": [
    "dates_s = attacks_df['Date'].dropna() #Series with all the dates\n",
    "attacks_df.dropna(how='all', subset=['Type'], inplace=True) #Dataframe\n",
    "attacks_df"
   ]
  },
  {
   "cell_type": "markdown",
   "metadata": {},
   "source": [
    "Checking column by column, the first possible problem we can see is the format of the 'Date' column. As it can be seen with the value_counts() function, some dates have letters, marks or other characters like '.', '/' or similar. I should remove every character that is not numerical from the date, so afterwards I can get year, month and day from the reminder values. \n",
    "\n",
    "As it is shown above, the dates are collected, in general, with the format 'YYYY.MM.DD' as a string. So, what I can do is slice that string with indexes and then assign those to the column 'Year', 'Month' or 'Day'. Let's perform the operation."
   ]
  },
  {
   "cell_type": "code",
   "execution_count": 9,
   "metadata": {
    "scrolled": true
   },
   "outputs": [
    {
     "output_type": "execute_result",
     "data": {
      "text/plain": [
       "0       20180625\n",
       "1       20180618\n",
       "2       20180609\n",
       "3       20180608\n",
       "4       20180604\n",
       "          ...   \n",
       "6297        0005\n",
       "6298        0004\n",
       "6299        0003\n",
       "6300        0002\n",
       "6301        0001\n",
       "Name: Date, Length: 6298, dtype: object"
      ]
     },
     "metadata": {},
     "execution_count": 9
    }
   ],
   "source": [
    "attacks_df['Date'] = [re.sub(r\"[A-Za-z.,&-/ ]\", \"\", str(x)) for x in attacks_df['Date']]\n",
    "attacks_df['Date']"
   ]
  },
  {
   "source": [
    "Checking the reminder strings, we can see there are some cases where the expected format is not fulfilled (strngs are either bigger or smaller). Those are just a few cases, so checking them more in detail, we can see that, in cases where the lenght of the string is larger, there is just one more number at the end that should be removed; whilst in cases where the string is shorter, there is just one date that probably is missing its day, while the others seem to be cases named with a different nomenclature."
   ],
   "cell_type": "markdown",
   "metadata": {}
  },
  {
   "cell_type": "code",
   "execution_count": 10,
   "metadata": {},
   "outputs": [
    {
     "output_type": "stream",
     "name": "stdout",
     "text": [
      "['200206132', '200206131', '186300004', '186300003', '186300002']\n['', '186405', '0154', '0153', '0152', '0151', '0150', '0149', '0148', '1940', '0139', '0138', '0136', '0135', '0134', '0133', '0132', '0130', '0129', '0127', '0124', '0123', '0122', '0119', '0118', '0116', '0115', '0114', '0113', '0111', '0110', '0109', '0108', '0107', '0106', '0104', '0102', '0100', '0097', '0096', '0095', '0094', '0093', '0091', '0090', '0089', '0088', '0087', '0086', '0085', '0084', '0083', '0082', '0081', '0078', '0076', '0075', '0074', '0073', '0069', '0068', '0066', '0065', '0064', '0063', '0062', '0060', '0059', '0058', '0057', '0056', '0055', '0054', '0053', '0052', '0051', '0049', '0048', '0047', '0046', '0044', '0043', '0042', '0041', '0040', '0039', '0038', '0037', '0036', '0035', '0034', '0033', '0032', '0031', '0030', '0028', '0027', '0026', '0025', '0024', '0023', '0022', '0021', '0020', '0019', '0018', '0017', '0016', '0015', '0014', '0013', '0012', '0011', '0010', '0009', '0008', '0007', '0006', '0005', '0004', '0003', '0002', '0001']\n"
     ]
    }
   ],
   "source": [
    "fechas_m = [x for x in attacks_df['Date'] if len(x) > 8]\n",
    "fechas_l = [x for x in attacks_df['Date'] if len(x) < 8]\n",
    "print(fechas_m)\n",
    "print(fechas_l)"
   ]
  },
  {
   "source": [
    "Let's try to fix the larger dates and discover more about the shorter"
   ],
   "cell_type": "markdown",
   "metadata": {}
  },
  {
   "cell_type": "code",
   "execution_count": 11,
   "metadata": {},
   "outputs": [
    {
     "output_type": "execute_result",
     "data": {
      "text/plain": [
       "[]"
      ]
     },
     "metadata": {},
     "execution_count": 11
    }
   ],
   "source": [
    "attacks_df['Date'] = [x[:8] if len(x) > 8 else x for x in attacks_df['Date']]\n",
    "[x for x in attacks_df['Date'] if len(x) > 8]"
   ]
  },
  {
   "source": [
    "### Shorter date strings\n",
    "\n",
    "In order to check on those date that does not accomplish with the standards, I will create a new dataframe with all the columns that where related with the date of the attack in the original dataframe. These are 'Case Number', 'Date', 'Year', 'Case Number.1' and 'Case Number.2'. I will also dump the null values and standarize the strings in 'Case Number', as I done in 'attacks_df', in order to get the correlative rows so I can merge data after this analysis if necessary."
   ],
   "cell_type": "markdown",
   "metadata": {}
  },
  {
   "source": [
    "dates = shark_atck_df.iloc[:,[0,1,2,19,20]]"
   ],
   "cell_type": "code",
   "metadata": {},
   "execution_count": 12,
   "outputs": []
  },
  {
   "source": [
    "dates.replace('nan', np.NaN, inplace=True)\n",
    "dates.replace(np.nan, np.NaN, inplace=True)\n",
    "dates.replace('0', np.NaN, inplace=True)\n",
    "dates.replace(0.0, np.NaN, inplace=True)\n",
    "dates.replace('xx', np.NaN, inplace=True)"
   ],
   "cell_type": "code",
   "metadata": {
    "scrolled": false
   },
   "execution_count": 13,
   "outputs": []
  },
  {
   "cell_type": "code",
   "execution_count": 14,
   "metadata": {},
   "outputs": [],
   "source": [
    "dates.dropna(how='all', inplace=True)"
   ]
  },
  {
   "cell_type": "code",
   "execution_count": 15,
   "metadata": {},
   "outputs": [
    {
     "output_type": "execute_result",
     "data": {
      "text/plain": [
       "     Case Number         Date    Year Case Number.1 Case Number.2\n",
       "0       20180625  25-Jun-2018  2018.0    2018.06.25    2018.06.25\n",
       "1       20180618  18-Jun-2018  2018.0    2018.06.18    2018.06.18\n",
       "2       20180609  09-Jun-2018  2018.0    2018.06.09    2018.06.09\n",
       "3       20180608  08-Jun-2018  2018.0    2018.06.08    2018.06.08\n",
       "4       20180604  04-Jun-2018  2018.0    2018.06.04    2018.06.04\n",
       "...          ...          ...     ...           ...           ...\n",
       "6297        0005  Before 1903     NaN       ND.0005       ND.0005\n",
       "6298        0004  Before 1903     NaN       ND.0004       ND.0004\n",
       "6299        0003    1900-1905     NaN       ND.0003       ND.0003\n",
       "6300        0002    1883-1889     NaN       ND.0002       ND.0002\n",
       "6301        0001    1845-1853     NaN       ND.0001       ND.0001\n",
       "\n",
       "[6302 rows x 5 columns]"
      ],
      "text/html": "<div>\n<style scoped>\n    .dataframe tbody tr th:only-of-type {\n        vertical-align: middle;\n    }\n\n    .dataframe tbody tr th {\n        vertical-align: top;\n    }\n\n    .dataframe thead th {\n        text-align: right;\n    }\n</style>\n<table border=\"1\" class=\"dataframe\">\n  <thead>\n    <tr style=\"text-align: right;\">\n      <th></th>\n      <th>Case Number</th>\n      <th>Date</th>\n      <th>Year</th>\n      <th>Case Number.1</th>\n      <th>Case Number.2</th>\n    </tr>\n  </thead>\n  <tbody>\n    <tr>\n      <th>0</th>\n      <td>20180625</td>\n      <td>25-Jun-2018</td>\n      <td>2018.0</td>\n      <td>2018.06.25</td>\n      <td>2018.06.25</td>\n    </tr>\n    <tr>\n      <th>1</th>\n      <td>20180618</td>\n      <td>18-Jun-2018</td>\n      <td>2018.0</td>\n      <td>2018.06.18</td>\n      <td>2018.06.18</td>\n    </tr>\n    <tr>\n      <th>2</th>\n      <td>20180609</td>\n      <td>09-Jun-2018</td>\n      <td>2018.0</td>\n      <td>2018.06.09</td>\n      <td>2018.06.09</td>\n    </tr>\n    <tr>\n      <th>3</th>\n      <td>20180608</td>\n      <td>08-Jun-2018</td>\n      <td>2018.0</td>\n      <td>2018.06.08</td>\n      <td>2018.06.08</td>\n    </tr>\n    <tr>\n      <th>4</th>\n      <td>20180604</td>\n      <td>04-Jun-2018</td>\n      <td>2018.0</td>\n      <td>2018.06.04</td>\n      <td>2018.06.04</td>\n    </tr>\n    <tr>\n      <th>...</th>\n      <td>...</td>\n      <td>...</td>\n      <td>...</td>\n      <td>...</td>\n      <td>...</td>\n    </tr>\n    <tr>\n      <th>6297</th>\n      <td>0005</td>\n      <td>Before 1903</td>\n      <td>NaN</td>\n      <td>ND.0005</td>\n      <td>ND.0005</td>\n    </tr>\n    <tr>\n      <th>6298</th>\n      <td>0004</td>\n      <td>Before 1903</td>\n      <td>NaN</td>\n      <td>ND.0004</td>\n      <td>ND.0004</td>\n    </tr>\n    <tr>\n      <th>6299</th>\n      <td>0003</td>\n      <td>1900-1905</td>\n      <td>NaN</td>\n      <td>ND.0003</td>\n      <td>ND.0003</td>\n    </tr>\n    <tr>\n      <th>6300</th>\n      <td>0002</td>\n      <td>1883-1889</td>\n      <td>NaN</td>\n      <td>ND.0002</td>\n      <td>ND.0002</td>\n    </tr>\n    <tr>\n      <th>6301</th>\n      <td>0001</td>\n      <td>1845-1853</td>\n      <td>NaN</td>\n      <td>ND.0001</td>\n      <td>ND.0001</td>\n    </tr>\n  </tbody>\n</table>\n<p>6302 rows × 5 columns</p>\n</div>"
     },
     "metadata": {},
     "execution_count": 15
    }
   ],
   "source": [
    "dates['Case Number'] = [re.sub(r\"[A-Za-z.,&-/ ]\", \"\", str(x)) for x in dates['Case Number']]\n",
    "dates"
   ]
  },
  {
   "source": [
    "As we can see, 'dates' dataframe has the same number of rows of 'attacks_df', and the indexes correspond to the same values; so this new dataframe could be merged with no problems to 'attacks_df' in case we need it. Now, let's select all those rows where the string in the column 'Case Number' has a lenght shorter than 8 characters, and see if the rest of the columns could give us any clue about the dates of them."
   ],
   "cell_type": "markdown",
   "metadata": {}
  },
  {
   "cell_type": "code",
   "execution_count": 16,
   "metadata": {},
   "outputs": [
    {
     "output_type": "execute_result",
     "data": {
      "text/plain": [
       "     Case Number                  Date    Year Case Number.1 Case Number.2\n",
       "5488              Reported 06-Sep-1905  1905.0  1905.09.06.R  1905.09.06.R\n",
       "5944      186405              May-1864  1864.0    1864.05.00    1864.05.00\n",
       "6181        0154           Before 1939     NaN       ND-0154       ND-0154\n",
       "6182        0153          1990 or 1991     NaN       ND-0153       ND-0153\n",
       "6183        0152           Before 2016     NaN       ND-0152       ND-0152\n",
       "6184        0151       Before Oct-2009     NaN       ND-0151       ND-0151\n",
       "6185        0150           Before 1934     NaN       ND-0150       ND-0150\n",
       "6186        0149           Before 1934     NaN       ND-0149       ND-0149\n",
       "6187        0148                 2009?     NaN       ND-0148       ND-0148\n",
       "6188        1940           Before 1930     NaN       ND-1940       ND-1940\n",
       "6189        0139             1880-1899     NaN       ND-0139       ND-0139\n",
       "6190        0138           Before 1909     NaN       ND-0138       ND-0138\n",
       "6191        0136           Before 2012     NaN       ND-0136       ND-0136\n",
       "6192        0135           Before 1916     NaN       ND-0135       ND-0135\n",
       "6193        0134   Between   1951-1963     NaN       ND-0134       ND-0134"
      ],
      "text/html": "<div>\n<style scoped>\n    .dataframe tbody tr th:only-of-type {\n        vertical-align: middle;\n    }\n\n    .dataframe tbody tr th {\n        vertical-align: top;\n    }\n\n    .dataframe thead th {\n        text-align: right;\n    }\n</style>\n<table border=\"1\" class=\"dataframe\">\n  <thead>\n    <tr style=\"text-align: right;\">\n      <th></th>\n      <th>Case Number</th>\n      <th>Date</th>\n      <th>Year</th>\n      <th>Case Number.1</th>\n      <th>Case Number.2</th>\n    </tr>\n  </thead>\n  <tbody>\n    <tr>\n      <th>5488</th>\n      <td></td>\n      <td>Reported 06-Sep-1905</td>\n      <td>1905.0</td>\n      <td>1905.09.06.R</td>\n      <td>1905.09.06.R</td>\n    </tr>\n    <tr>\n      <th>5944</th>\n      <td>186405</td>\n      <td>May-1864</td>\n      <td>1864.0</td>\n      <td>1864.05.00</td>\n      <td>1864.05.00</td>\n    </tr>\n    <tr>\n      <th>6181</th>\n      <td>0154</td>\n      <td>Before 1939</td>\n      <td>NaN</td>\n      <td>ND-0154</td>\n      <td>ND-0154</td>\n    </tr>\n    <tr>\n      <th>6182</th>\n      <td>0153</td>\n      <td>1990 or 1991</td>\n      <td>NaN</td>\n      <td>ND-0153</td>\n      <td>ND-0153</td>\n    </tr>\n    <tr>\n      <th>6183</th>\n      <td>0152</td>\n      <td>Before 2016</td>\n      <td>NaN</td>\n      <td>ND-0152</td>\n      <td>ND-0152</td>\n    </tr>\n    <tr>\n      <th>6184</th>\n      <td>0151</td>\n      <td>Before Oct-2009</td>\n      <td>NaN</td>\n      <td>ND-0151</td>\n      <td>ND-0151</td>\n    </tr>\n    <tr>\n      <th>6185</th>\n      <td>0150</td>\n      <td>Before 1934</td>\n      <td>NaN</td>\n      <td>ND-0150</td>\n      <td>ND-0150</td>\n    </tr>\n    <tr>\n      <th>6186</th>\n      <td>0149</td>\n      <td>Before 1934</td>\n      <td>NaN</td>\n      <td>ND-0149</td>\n      <td>ND-0149</td>\n    </tr>\n    <tr>\n      <th>6187</th>\n      <td>0148</td>\n      <td>2009?</td>\n      <td>NaN</td>\n      <td>ND-0148</td>\n      <td>ND-0148</td>\n    </tr>\n    <tr>\n      <th>6188</th>\n      <td>1940</td>\n      <td>Before 1930</td>\n      <td>NaN</td>\n      <td>ND-1940</td>\n      <td>ND-1940</td>\n    </tr>\n    <tr>\n      <th>6189</th>\n      <td>0139</td>\n      <td>1880-1899</td>\n      <td>NaN</td>\n      <td>ND-0139</td>\n      <td>ND-0139</td>\n    </tr>\n    <tr>\n      <th>6190</th>\n      <td>0138</td>\n      <td>Before 1909</td>\n      <td>NaN</td>\n      <td>ND-0138</td>\n      <td>ND-0138</td>\n    </tr>\n    <tr>\n      <th>6191</th>\n      <td>0136</td>\n      <td>Before 2012</td>\n      <td>NaN</td>\n      <td>ND-0136</td>\n      <td>ND-0136</td>\n    </tr>\n    <tr>\n      <th>6192</th>\n      <td>0135</td>\n      <td>Before 1916</td>\n      <td>NaN</td>\n      <td>ND-0135</td>\n      <td>ND-0135</td>\n    </tr>\n    <tr>\n      <th>6193</th>\n      <td>0134</td>\n      <td>Between   1951-1963</td>\n      <td>NaN</td>\n      <td>ND-0134</td>\n      <td>ND-0134</td>\n    </tr>\n  </tbody>\n</table>\n</div>"
     },
     "metadata": {},
     "execution_count": 16
    }
   ],
   "source": [
    "dates_short = dates[dates['Case Number'].str.len() < 8]\n",
    "dates_short.head(15)"
   ]
  },
  {
   "source": [
    "Showing a few rows that accomplish that condition, I can see there are two on top that have a more completed date; and also that the 'Date' column has the years of the attack (or the range of years where the attack possibly took place) for some other rows, but nothing else. Let's keep just the year (or the last in the ranges), append to it a '0000' to complete the date and put the values in a new column."
   ],
   "cell_type": "markdown",
   "metadata": {}
  },
  {
   "source": [
    "dates_short['Date'] = [re.sub(r\"[A-Za-z.,&-/ ?]\", \"\", str(x)) for x in dates_short['Date']]\n",
    "dates_short = dates_short[dates_short['Date'].str.len() >= 4]\n",
    "dates_short['Case Number'] = [x[-4:]+'0000' for x in dates_short['Date']]"
   ],
   "cell_type": "code",
   "metadata": {},
   "execution_count": 17,
   "outputs": []
  },
  {
   "cell_type": "code",
   "execution_count": 18,
   "metadata": {},
   "outputs": [
    {
     "output_type": "execute_result",
     "data": {
      "text/plain": [
       "     Case Number      Date    Year Case Number.1 Case Number.2\n",
       "5488    19050000    061905  1905.0  1905.09.06.R  1905.09.06.R\n",
       "5944    18640000      1864  1864.0    1864.05.00    1864.05.00\n",
       "6181    19390000      1939     NaN       ND-0154       ND-0154\n",
       "6182    19910000  19901991     NaN       ND-0153       ND-0153\n",
       "6183    20160000      2016     NaN       ND-0152       ND-0152"
      ],
      "text/html": "<div>\n<style scoped>\n    .dataframe tbody tr th:only-of-type {\n        vertical-align: middle;\n    }\n\n    .dataframe tbody tr th {\n        vertical-align: top;\n    }\n\n    .dataframe thead th {\n        text-align: right;\n    }\n</style>\n<table border=\"1\" class=\"dataframe\">\n  <thead>\n    <tr style=\"text-align: right;\">\n      <th></th>\n      <th>Case Number</th>\n      <th>Date</th>\n      <th>Year</th>\n      <th>Case Number.1</th>\n      <th>Case Number.2</th>\n    </tr>\n  </thead>\n  <tbody>\n    <tr>\n      <th>5488</th>\n      <td>19050000</td>\n      <td>061905</td>\n      <td>1905.0</td>\n      <td>1905.09.06.R</td>\n      <td>1905.09.06.R</td>\n    </tr>\n    <tr>\n      <th>5944</th>\n      <td>18640000</td>\n      <td>1864</td>\n      <td>1864.0</td>\n      <td>1864.05.00</td>\n      <td>1864.05.00</td>\n    </tr>\n    <tr>\n      <th>6181</th>\n      <td>19390000</td>\n      <td>1939</td>\n      <td>NaN</td>\n      <td>ND-0154</td>\n      <td>ND-0154</td>\n    </tr>\n    <tr>\n      <th>6182</th>\n      <td>19910000</td>\n      <td>19901991</td>\n      <td>NaN</td>\n      <td>ND-0153</td>\n      <td>ND-0153</td>\n    </tr>\n    <tr>\n      <th>6183</th>\n      <td>20160000</td>\n      <td>2016</td>\n      <td>NaN</td>\n      <td>ND-0152</td>\n      <td>ND-0152</td>\n    </tr>\n  </tbody>\n</table>\n</div>"
     },
     "metadata": {},
     "execution_count": 18
    }
   ],
   "source": [
    "dates_short.head()"
   ]
  },
  {
   "source": [
    "Now 'Case Number' column has all the years in the same format as it is in 'attacks_df'. As we know more details about the two dates on top of the dataframe, let's also change them, so we get more information about those rows."
   ],
   "cell_type": "markdown",
   "metadata": {}
  },
  {
   "cell_type": "code",
   "execution_count": 19,
   "metadata": {},
   "outputs": [],
   "source": [
    "dates_short['Case Number'][5488] = '19050906'\n",
    "dates_short['Case Number'][5944] = '18640500'"
   ]
  },
  {
   "cell_type": "code",
   "execution_count": 20,
   "metadata": {},
   "outputs": [
    {
     "output_type": "execute_result",
     "data": {
      "text/plain": [
       "     Case Number      Date  Year Case Number.1 Case Number.2\n",
       "6297    19030000      1903   NaN       ND.0005       ND.0005\n",
       "6298    19030000      1903   NaN       ND.0004       ND.0004\n",
       "6299    19050000  19001905   NaN       ND.0003       ND.0003\n",
       "6300    18890000  18831889   NaN       ND.0002       ND.0002\n",
       "6301    18530000  18451853   NaN       ND.0001       ND.0001"
      ],
      "text/html": "<div>\n<style scoped>\n    .dataframe tbody tr th:only-of-type {\n        vertical-align: middle;\n    }\n\n    .dataframe tbody tr th {\n        vertical-align: top;\n    }\n\n    .dataframe thead th {\n        text-align: right;\n    }\n</style>\n<table border=\"1\" class=\"dataframe\">\n  <thead>\n    <tr style=\"text-align: right;\">\n      <th></th>\n      <th>Case Number</th>\n      <th>Date</th>\n      <th>Year</th>\n      <th>Case Number.1</th>\n      <th>Case Number.2</th>\n    </tr>\n  </thead>\n  <tbody>\n    <tr>\n      <th>6297</th>\n      <td>19030000</td>\n      <td>1903</td>\n      <td>NaN</td>\n      <td>ND.0005</td>\n      <td>ND.0005</td>\n    </tr>\n    <tr>\n      <th>6298</th>\n      <td>19030000</td>\n      <td>1903</td>\n      <td>NaN</td>\n      <td>ND.0004</td>\n      <td>ND.0004</td>\n    </tr>\n    <tr>\n      <th>6299</th>\n      <td>19050000</td>\n      <td>19001905</td>\n      <td>NaN</td>\n      <td>ND.0003</td>\n      <td>ND.0003</td>\n    </tr>\n    <tr>\n      <th>6300</th>\n      <td>18890000</td>\n      <td>18831889</td>\n      <td>NaN</td>\n      <td>ND.0002</td>\n      <td>ND.0002</td>\n    </tr>\n    <tr>\n      <th>6301</th>\n      <td>18530000</td>\n      <td>18451853</td>\n      <td>NaN</td>\n      <td>ND.0001</td>\n      <td>ND.0001</td>\n    </tr>\n  </tbody>\n</table>\n</div>"
     },
     "metadata": {},
     "execution_count": 20
    }
   ],
   "source": [
    "dates_short.tail()"
   ]
  },
  {
   "cell_type": "code",
   "execution_count": 21,
   "metadata": {},
   "outputs": [
    {
     "output_type": "execute_result",
     "data": {
      "text/plain": [
       "          Date Case Number\n",
       "0     20180625         NaN\n",
       "1     20180618         NaN\n",
       "2     20180609         NaN\n",
       "3     20180608         NaN\n",
       "4     20180604         NaN\n",
       "...        ...         ...\n",
       "6297      0005    19030000\n",
       "6298      0004    19030000\n",
       "6299      0003    19050000\n",
       "6300      0002    18890000\n",
       "6301      0001    18530000\n",
       "\n",
       "[6298 rows x 2 columns]"
      ],
      "text/html": "<div>\n<style scoped>\n    .dataframe tbody tr th:only-of-type {\n        vertical-align: middle;\n    }\n\n    .dataframe tbody tr th {\n        vertical-align: top;\n    }\n\n    .dataframe thead th {\n        text-align: right;\n    }\n</style>\n<table border=\"1\" class=\"dataframe\">\n  <thead>\n    <tr style=\"text-align: right;\">\n      <th></th>\n      <th>Date</th>\n      <th>Case Number</th>\n    </tr>\n  </thead>\n  <tbody>\n    <tr>\n      <th>0</th>\n      <td>20180625</td>\n      <td>NaN</td>\n    </tr>\n    <tr>\n      <th>1</th>\n      <td>20180618</td>\n      <td>NaN</td>\n    </tr>\n    <tr>\n      <th>2</th>\n      <td>20180609</td>\n      <td>NaN</td>\n    </tr>\n    <tr>\n      <th>3</th>\n      <td>20180608</td>\n      <td>NaN</td>\n    </tr>\n    <tr>\n      <th>4</th>\n      <td>20180604</td>\n      <td>NaN</td>\n    </tr>\n    <tr>\n      <th>...</th>\n      <td>...</td>\n      <td>...</td>\n    </tr>\n    <tr>\n      <th>6297</th>\n      <td>0005</td>\n      <td>19030000</td>\n    </tr>\n    <tr>\n      <th>6298</th>\n      <td>0004</td>\n      <td>19030000</td>\n    </tr>\n    <tr>\n      <th>6299</th>\n      <td>0003</td>\n      <td>19050000</td>\n    </tr>\n    <tr>\n      <th>6300</th>\n      <td>0002</td>\n      <td>18890000</td>\n    </tr>\n    <tr>\n      <th>6301</th>\n      <td>0001</td>\n      <td>18530000</td>\n    </tr>\n  </tbody>\n</table>\n<p>6298 rows × 2 columns</p>\n</div>"
     },
     "metadata": {},
     "execution_count": 21
    }
   ],
   "source": [
    "new_date = pd.concat([attacks_df['Date'], dates_short['Case Number']], axis=1)\n",
    "new_date"
   ]
  },
  {
   "cell_type": "code",
   "execution_count": 26,
   "metadata": {},
   "outputs": [
    {
     "output_type": "execute_result",
     "data": {
      "text/plain": [
       "          Date           Time             Country               Area  \\\n",
       "0     20180625          18h00                 USA         California   \n",
       "1     20180618  14h00  -15h00                 USA            Georgia   \n",
       "2     20180609          07h45                 USA             Hawaii   \n",
       "3     20180608            NaN           AUSTRALIA    New South Wales   \n",
       "4     20180604            NaN              MEXICO             Colima   \n",
       "...        ...            ...                 ...                ...   \n",
       "6297  19030000            NaN           AUSTRALIA  Western Australia   \n",
       "6298  19030000            NaN           AUSTRALIA  Western Australia   \n",
       "6299  19050000            NaN                 USA     North Carolina   \n",
       "6300  18890000            NaN              PANAMA                NaN   \n",
       "6301  18530000            NaN  CEYLON (SRI LANKA)   Eastern Province   \n",
       "\n",
       "                                 Location Sex   Age      Activity        Type  \\\n",
       "0             Oceanside, San Diego County    F   57      Paddling     Boating   \n",
       "1          St. Simon Island, Glynn County    F   11      Standing  Unprovoked   \n",
       "2                            Habush, Oahu    M   48       Surfing     Invalid   \n",
       "3                      Arrawarra Headland    M  NaN       Surfing  Unprovoked   \n",
       "4                                La Ticla    M  NaN   Free diving    Provoked   \n",
       "...                                   ...  ...  ...           ...         ...   \n",
       "6297                          Roebuck Bay    M  NaN        Diving  Unprovoked   \n",
       "6298                                  NaN    M  NaN  Pearl diving  Unprovoked   \n",
       "6299                       Ocracoke Inlet    M  NaN      Swimming  Unprovoked   \n",
       "6300                 Panama Bay 8ºN, 79ºW    M  NaN           NaN  Unprovoked   \n",
       "6301  Below the English fort, Trincomalee    M   15      Swimming  Unprovoked   \n",
       "\n",
       "             Species                                              Injury  \\\n",
       "0         White shark  No injury to occupant, outrigger canoe and pad...   \n",
       "1                 NaN                         Minor injury to left thigh   \n",
       "2                 NaN       Injury to left lower leg from surfboard skeg   \n",
       "3           2 m shark                          Minor injury to lower leg   \n",
       "4     Tiger shark, 3m  Lacerations to leg & hand shark PROVOKED INCIDENT   \n",
       "...               ...                                                ...   \n",
       "6297              NaN                                              FATAL   \n",
       "6298              NaN                                              FATAL   \n",
       "6299              NaN                                              FATAL   \n",
       "6300              NaN                                              FATAL   \n",
       "6301              NaN  FATAL. \"Shark bit him in half, carrying away t...   \n",
       "\n",
       "     Fatal (Y/N)  \n",
       "0              N  \n",
       "1              N  \n",
       "2              N  \n",
       "3              N  \n",
       "4              N  \n",
       "...          ...  \n",
       "6297           Y  \n",
       "6298           Y  \n",
       "6299           Y  \n",
       "6300           Y  \n",
       "6301           Y  \n",
       "\n",
       "[6298 rows x 12 columns]"
      ],
      "text/html": "<div>\n<style scoped>\n    .dataframe tbody tr th:only-of-type {\n        vertical-align: middle;\n    }\n\n    .dataframe tbody tr th {\n        vertical-align: top;\n    }\n\n    .dataframe thead th {\n        text-align: right;\n    }\n</style>\n<table border=\"1\" class=\"dataframe\">\n  <thead>\n    <tr style=\"text-align: right;\">\n      <th></th>\n      <th>Date</th>\n      <th>Time</th>\n      <th>Country</th>\n      <th>Area</th>\n      <th>Location</th>\n      <th>Sex</th>\n      <th>Age</th>\n      <th>Activity</th>\n      <th>Type</th>\n      <th>Species</th>\n      <th>Injury</th>\n      <th>Fatal (Y/N)</th>\n    </tr>\n  </thead>\n  <tbody>\n    <tr>\n      <th>0</th>\n      <td>20180625</td>\n      <td>18h00</td>\n      <td>USA</td>\n      <td>California</td>\n      <td>Oceanside, San Diego County</td>\n      <td>F</td>\n      <td>57</td>\n      <td>Paddling</td>\n      <td>Boating</td>\n      <td>White shark</td>\n      <td>No injury to occupant, outrigger canoe and pad...</td>\n      <td>N</td>\n    </tr>\n    <tr>\n      <th>1</th>\n      <td>20180618</td>\n      <td>14h00  -15h00</td>\n      <td>USA</td>\n      <td>Georgia</td>\n      <td>St. Simon Island, Glynn County</td>\n      <td>F</td>\n      <td>11</td>\n      <td>Standing</td>\n      <td>Unprovoked</td>\n      <td>NaN</td>\n      <td>Minor injury to left thigh</td>\n      <td>N</td>\n    </tr>\n    <tr>\n      <th>2</th>\n      <td>20180609</td>\n      <td>07h45</td>\n      <td>USA</td>\n      <td>Hawaii</td>\n      <td>Habush, Oahu</td>\n      <td>M</td>\n      <td>48</td>\n      <td>Surfing</td>\n      <td>Invalid</td>\n      <td>NaN</td>\n      <td>Injury to left lower leg from surfboard skeg</td>\n      <td>N</td>\n    </tr>\n    <tr>\n      <th>3</th>\n      <td>20180608</td>\n      <td>NaN</td>\n      <td>AUSTRALIA</td>\n      <td>New South Wales</td>\n      <td>Arrawarra Headland</td>\n      <td>M</td>\n      <td>NaN</td>\n      <td>Surfing</td>\n      <td>Unprovoked</td>\n      <td>2 m shark</td>\n      <td>Minor injury to lower leg</td>\n      <td>N</td>\n    </tr>\n    <tr>\n      <th>4</th>\n      <td>20180604</td>\n      <td>NaN</td>\n      <td>MEXICO</td>\n      <td>Colima</td>\n      <td>La Ticla</td>\n      <td>M</td>\n      <td>NaN</td>\n      <td>Free diving</td>\n      <td>Provoked</td>\n      <td>Tiger shark, 3m</td>\n      <td>Lacerations to leg &amp; hand shark PROVOKED INCIDENT</td>\n      <td>N</td>\n    </tr>\n    <tr>\n      <th>...</th>\n      <td>...</td>\n      <td>...</td>\n      <td>...</td>\n      <td>...</td>\n      <td>...</td>\n      <td>...</td>\n      <td>...</td>\n      <td>...</td>\n      <td>...</td>\n      <td>...</td>\n      <td>...</td>\n      <td>...</td>\n    </tr>\n    <tr>\n      <th>6297</th>\n      <td>19030000</td>\n      <td>NaN</td>\n      <td>AUSTRALIA</td>\n      <td>Western Australia</td>\n      <td>Roebuck Bay</td>\n      <td>M</td>\n      <td>NaN</td>\n      <td>Diving</td>\n      <td>Unprovoked</td>\n      <td>NaN</td>\n      <td>FATAL</td>\n      <td>Y</td>\n    </tr>\n    <tr>\n      <th>6298</th>\n      <td>19030000</td>\n      <td>NaN</td>\n      <td>AUSTRALIA</td>\n      <td>Western Australia</td>\n      <td>NaN</td>\n      <td>M</td>\n      <td>NaN</td>\n      <td>Pearl diving</td>\n      <td>Unprovoked</td>\n      <td>NaN</td>\n      <td>FATAL</td>\n      <td>Y</td>\n    </tr>\n    <tr>\n      <th>6299</th>\n      <td>19050000</td>\n      <td>NaN</td>\n      <td>USA</td>\n      <td>North Carolina</td>\n      <td>Ocracoke Inlet</td>\n      <td>M</td>\n      <td>NaN</td>\n      <td>Swimming</td>\n      <td>Unprovoked</td>\n      <td>NaN</td>\n      <td>FATAL</td>\n      <td>Y</td>\n    </tr>\n    <tr>\n      <th>6300</th>\n      <td>18890000</td>\n      <td>NaN</td>\n      <td>PANAMA</td>\n      <td>NaN</td>\n      <td>Panama Bay 8ºN, 79ºW</td>\n      <td>M</td>\n      <td>NaN</td>\n      <td>NaN</td>\n      <td>Unprovoked</td>\n      <td>NaN</td>\n      <td>FATAL</td>\n      <td>Y</td>\n    </tr>\n    <tr>\n      <th>6301</th>\n      <td>18530000</td>\n      <td>NaN</td>\n      <td>CEYLON (SRI LANKA)</td>\n      <td>Eastern Province</td>\n      <td>Below the English fort, Trincomalee</td>\n      <td>M</td>\n      <td>15</td>\n      <td>Swimming</td>\n      <td>Unprovoked</td>\n      <td>NaN</td>\n      <td>FATAL. \"Shark bit him in half, carrying away t...</td>\n      <td>Y</td>\n    </tr>\n  </tbody>\n</table>\n<p>6298 rows × 12 columns</p>\n</div>"
     },
     "metadata": {},
     "execution_count": 26
    }
   ],
   "source": [
    "attacks_df['Rest Dates'] = dates_short['Case Number']\n",
    "attacks_df['Rest Dates'].fillna(attacks_df['Date'], inplace=True)\n",
    "attacks_df['Date'] = attacks_df['Rest Dates']\n",
    "attacks_df.drop(['Rest Dates'], axis=1)"
   ]
  },
  {
   "cell_type": "code",
   "execution_count": null,
   "metadata": {},
   "outputs": [],
   "source": []
  }
 ],
 "metadata": {
  "kernelspec": {
   "name": "Python 3.8.5 64-bit",
   "display_name": "Python 3.8.5 64-bit",
   "metadata": {
    "interpreter": {
     "hash": "082e9a3bcad0a290d0001e938aa60b99250c6c2ef33a923c00b70f9826caf4b7"
    }
   }
  },
  "language_info": {
   "codemirror_mode": {
    "name": "ipython",
    "version": 3
   },
   "file_extension": ".py",
   "mimetype": "text/x-python",
   "name": "python",
   "nbconvert_exporter": "python",
   "pygments_lexer": "ipython3",
   "version": "3.8.5-final"
  }
 },
 "nbformat": 4,
 "nbformat_minor": 2
}