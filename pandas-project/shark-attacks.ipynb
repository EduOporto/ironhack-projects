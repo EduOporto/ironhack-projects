{
 "cells": [
  {
   "cell_type": "markdown",
   "metadata": {},
   "source": [
    "# Shark Attacks"
   ]
  },
  {
   "cell_type": "code",
   "execution_count": 1,
   "metadata": {},
   "outputs": [],
   "source": [
    "import pandas as pd\n",
    "import seaborn as sns\n",
    "import matplotlib.pyplot as plt\n",
    "import numpy as np\n",
    "import re"
   ]
  },
  {
   "cell_type": "code",
   "execution_count": 2,
   "metadata": {},
   "outputs": [
    {
     "output_type": "execute_result",
     "data": {
      "text/plain": [
       "  Case Number         Date    Year        Type    Country             Area  \\\n",
       "0  2018.06.25  25-Jun-2018  2018.0     Boating        USA       California   \n",
       "1  2018.06.18  18-Jun-2018  2018.0  Unprovoked        USA          Georgia   \n",
       "2  2018.06.09  09-Jun-2018  2018.0     Invalid        USA           Hawaii   \n",
       "3  2018.06.08  08-Jun-2018  2018.0  Unprovoked  AUSTRALIA  New South Wales   \n",
       "4  2018.06.04  04-Jun-2018  2018.0    Provoked     MEXICO           Colima   \n",
       "\n",
       "                         Location     Activity             Name Sex   ...  \\\n",
       "0     Oceanside, San Diego County     Paddling      Julie Wolfe    F  ...   \n",
       "1  St. Simon Island, Glynn County     Standing  Adyson McNeely     F  ...   \n",
       "2                    Habush, Oahu      Surfing      John Denges    M  ...   \n",
       "3              Arrawarra Headland      Surfing             male    M  ...   \n",
       "4                        La Ticla  Free diving   Gustavo Ramos     M  ...   \n",
       "\n",
       "          Species           Investigator or Source                       pdf  \\\n",
       "0      White shark                R. Collier, GSAF      2018.06.25-Wolfe.pdf   \n",
       "1              NaN  K.McMurray, TrackingSharks.com    2018.06.18-McNeely.pdf   \n",
       "2              NaN  K.McMurray, TrackingSharks.com     2018.06.09-Denges.pdf   \n",
       "3        2 m shark                  B. Myatt, GSAF  2018.06.08-Arrawarra.pdf   \n",
       "4  Tiger shark, 3m                       A .Kipper      2018.06.04-Ramos.pdf   \n",
       "\n",
       "                                        href formula  \\\n",
       "0  http://sharkattackfile.net/spreadsheets/pdf_di...   \n",
       "1  http://sharkattackfile.net/spreadsheets/pdf_di...   \n",
       "2  http://sharkattackfile.net/spreadsheets/pdf_di...   \n",
       "3  http://sharkattackfile.net/spreadsheets/pdf_di...   \n",
       "4  http://sharkattackfile.net/spreadsheets/pdf_di...   \n",
       "\n",
       "                                                href Case Number.1  \\\n",
       "0  http://sharkattackfile.net/spreadsheets/pdf_di...    2018.06.25   \n",
       "1  http://sharkattackfile.net/spreadsheets/pdf_di...    2018.06.18   \n",
       "2  http://sharkattackfile.net/spreadsheets/pdf_di...    2018.06.09   \n",
       "3  http://sharkattackfile.net/spreadsheets/pdf_di...    2018.06.08   \n",
       "4  http://sharkattackfile.net/spreadsheets/pdf_di...    2018.06.04   \n",
       "\n",
       "  Case Number.2 original order Unnamed: 22 Unnamed: 23  \n",
       "0    2018.06.25         6303.0         NaN         NaN  \n",
       "1    2018.06.18         6302.0         NaN         NaN  \n",
       "2    2018.06.09         6301.0         NaN         NaN  \n",
       "3    2018.06.08         6300.0         NaN         NaN  \n",
       "4    2018.06.04         6299.0         NaN         NaN  \n",
       "\n",
       "[5 rows x 24 columns]"
      ],
      "text/html": "<div>\n<style scoped>\n    .dataframe tbody tr th:only-of-type {\n        vertical-align: middle;\n    }\n\n    .dataframe tbody tr th {\n        vertical-align: top;\n    }\n\n    .dataframe thead th {\n        text-align: right;\n    }\n</style>\n<table border=\"1\" class=\"dataframe\">\n  <thead>\n    <tr style=\"text-align: right;\">\n      <th></th>\n      <th>Case Number</th>\n      <th>Date</th>\n      <th>Year</th>\n      <th>Type</th>\n      <th>Country</th>\n      <th>Area</th>\n      <th>Location</th>\n      <th>Activity</th>\n      <th>Name</th>\n      <th>Sex</th>\n      <th>...</th>\n      <th>Species</th>\n      <th>Investigator or Source</th>\n      <th>pdf</th>\n      <th>href formula</th>\n      <th>href</th>\n      <th>Case Number.1</th>\n      <th>Case Number.2</th>\n      <th>original order</th>\n      <th>Unnamed: 22</th>\n      <th>Unnamed: 23</th>\n    </tr>\n  </thead>\n  <tbody>\n    <tr>\n      <th>0</th>\n      <td>2018.06.25</td>\n      <td>25-Jun-2018</td>\n      <td>2018.0</td>\n      <td>Boating</td>\n      <td>USA</td>\n      <td>California</td>\n      <td>Oceanside, San Diego County</td>\n      <td>Paddling</td>\n      <td>Julie Wolfe</td>\n      <td>F</td>\n      <td>...</td>\n      <td>White shark</td>\n      <td>R. Collier, GSAF</td>\n      <td>2018.06.25-Wolfe.pdf</td>\n      <td>http://sharkattackfile.net/spreadsheets/pdf_di...</td>\n      <td>http://sharkattackfile.net/spreadsheets/pdf_di...</td>\n      <td>2018.06.25</td>\n      <td>2018.06.25</td>\n      <td>6303.0</td>\n      <td>NaN</td>\n      <td>NaN</td>\n    </tr>\n    <tr>\n      <th>1</th>\n      <td>2018.06.18</td>\n      <td>18-Jun-2018</td>\n      <td>2018.0</td>\n      <td>Unprovoked</td>\n      <td>USA</td>\n      <td>Georgia</td>\n      <td>St. Simon Island, Glynn County</td>\n      <td>Standing</td>\n      <td>Adyson McNeely</td>\n      <td>F</td>\n      <td>...</td>\n      <td>NaN</td>\n      <td>K.McMurray, TrackingSharks.com</td>\n      <td>2018.06.18-McNeely.pdf</td>\n      <td>http://sharkattackfile.net/spreadsheets/pdf_di...</td>\n      <td>http://sharkattackfile.net/spreadsheets/pdf_di...</td>\n      <td>2018.06.18</td>\n      <td>2018.06.18</td>\n      <td>6302.0</td>\n      <td>NaN</td>\n      <td>NaN</td>\n    </tr>\n    <tr>\n      <th>2</th>\n      <td>2018.06.09</td>\n      <td>09-Jun-2018</td>\n      <td>2018.0</td>\n      <td>Invalid</td>\n      <td>USA</td>\n      <td>Hawaii</td>\n      <td>Habush, Oahu</td>\n      <td>Surfing</td>\n      <td>John Denges</td>\n      <td>M</td>\n      <td>...</td>\n      <td>NaN</td>\n      <td>K.McMurray, TrackingSharks.com</td>\n      <td>2018.06.09-Denges.pdf</td>\n      <td>http://sharkattackfile.net/spreadsheets/pdf_di...</td>\n      <td>http://sharkattackfile.net/spreadsheets/pdf_di...</td>\n      <td>2018.06.09</td>\n      <td>2018.06.09</td>\n      <td>6301.0</td>\n      <td>NaN</td>\n      <td>NaN</td>\n    </tr>\n    <tr>\n      <th>3</th>\n      <td>2018.06.08</td>\n      <td>08-Jun-2018</td>\n      <td>2018.0</td>\n      <td>Unprovoked</td>\n      <td>AUSTRALIA</td>\n      <td>New South Wales</td>\n      <td>Arrawarra Headland</td>\n      <td>Surfing</td>\n      <td>male</td>\n      <td>M</td>\n      <td>...</td>\n      <td>2 m shark</td>\n      <td>B. Myatt, GSAF</td>\n      <td>2018.06.08-Arrawarra.pdf</td>\n      <td>http://sharkattackfile.net/spreadsheets/pdf_di...</td>\n      <td>http://sharkattackfile.net/spreadsheets/pdf_di...</td>\n      <td>2018.06.08</td>\n      <td>2018.06.08</td>\n      <td>6300.0</td>\n      <td>NaN</td>\n      <td>NaN</td>\n    </tr>\n    <tr>\n      <th>4</th>\n      <td>2018.06.04</td>\n      <td>04-Jun-2018</td>\n      <td>2018.0</td>\n      <td>Provoked</td>\n      <td>MEXICO</td>\n      <td>Colima</td>\n      <td>La Ticla</td>\n      <td>Free diving</td>\n      <td>Gustavo Ramos</td>\n      <td>M</td>\n      <td>...</td>\n      <td>Tiger shark, 3m</td>\n      <td>A .Kipper</td>\n      <td>2018.06.04-Ramos.pdf</td>\n      <td>http://sharkattackfile.net/spreadsheets/pdf_di...</td>\n      <td>http://sharkattackfile.net/spreadsheets/pdf_di...</td>\n      <td>2018.06.04</td>\n      <td>2018.06.04</td>\n      <td>6299.0</td>\n      <td>NaN</td>\n      <td>NaN</td>\n    </tr>\n  </tbody>\n</table>\n<p>5 rows × 24 columns</p>\n</div>"
     },
     "metadata": {},
     "execution_count": 2
    }
   ],
   "source": [
    "shark_atck_df = pd.read_csv('attacks.csv', encoding='latin-1')\n",
    "shark_atck_df.head()"
   ]
  },
  {
   "cell_type": "code",
   "execution_count": 3,
   "metadata": {},
   "outputs": [
    {
     "output_type": "stream",
     "name": "stdout",
     "text": [
      "<class 'pandas.core.frame.DataFrame'>\nRangeIndex: 25723 entries, 0 to 25722\nData columns (total 24 columns):\n #   Column                  Non-Null Count  Dtype  \n---  ------                  --------------  -----  \n 0   Case Number             8702 non-null   object \n 1   Date                    6302 non-null   object \n 2   Year                    6300 non-null   float64\n 3   Type                    6298 non-null   object \n 4   Country                 6252 non-null   object \n 5   Area                    5847 non-null   object \n 6   Location                5762 non-null   object \n 7   Activity                5758 non-null   object \n 8   Name                    6092 non-null   object \n 9   Sex                     5737 non-null   object \n 10  Age                     3471 non-null   object \n 11  Injury                  6274 non-null   object \n 12  Fatal (Y/N)             5763 non-null   object \n 13  Time                    2948 non-null   object \n 14  Species                 3464 non-null   object \n 15  Investigator or Source  6285 non-null   object \n 16  pdf                     6302 non-null   object \n 17  href formula            6301 non-null   object \n 18  href                    6302 non-null   object \n 19  Case Number.1           6302 non-null   object \n 20  Case Number.2           6302 non-null   object \n 21  original order          6309 non-null   float64\n 22  Unnamed: 22             1 non-null      object \n 23  Unnamed: 23             2 non-null      object \ndtypes: float64(2), object(22)\nmemory usage: 4.7+ MB\n"
     ]
    }
   ],
   "source": [
    "shark_atck_df.info()"
   ]
  },
  {
   "cell_type": "markdown",
   "metadata": {},
   "source": [
    "The dataframe has a total of 25723 entries and 24 columns. All of the columns have more than 17,000 null values. Checking all the columns' names, I can deduce that not all of them will be useful for my research. Let's select the ones that will be, and generate a new dataframe with them:\n",
    "\n",
    " - Case Number, Date, Year, Case Number 1 & 2: checking the sample above I can see that every of those columns is related with the date the attack took place. The one with more non-null values is 'Case Number', with 8702. I would like to check if this column covers the rest (if some dates are not in 'Case Number' but in other column)."
   ]
  },
  {
   "cell_type": "code",
   "execution_count": 4,
   "metadata": {},
   "outputs": [],
   "source": [
    "#dates = shark_atck_df.iloc[:,[0,1,2,19,20]]\n",
    "#sns.heatmap(dates.isnull(), cbar=False)"
   ]
  },
  {
   "cell_type": "markdown",
   "metadata": {},
   "source": [
    "As the heatmap shows, all the dates in the rest of the columns and beyond are covered by 'Case Number', so I will use that column as date.\n",
    "\n",
    " - Time: with nearly 3000 non-nulls, I will keep it as it could be usefull.\n",
    " - Country, Area, Location: more than 5700 rows with all this information covered. The 'Country' column will be the main source related with this information, but I prefer to keep also 'Area' and 'Location', even though they have less non-null values.\n",
    " - Sex, Age: more than 5700 non-null values for sex; more than 3400 for Age.\n",
    " - Activity: what the person attacked was doing when the attack happened. There are more than 5700 non-nulls.\n",
    " - Type: the type of attack, there are nearly 6300 non-null values.\n",
    " - Species: the species of the shark, with nearly 3500 non-null values.\n",
    " - Injury & Fatal: the kind of injury and if it was rather fatal or not. Nearly 6300 non-null entries for the injuries; more than 5700 for the 'Fatal' column.\n",
    "\n",
    "Let's create the new dataframe with the selected columns sorted, and change the name of 'Case Number' to 'Date'."
   ]
  },
  {
   "cell_type": "code",
   "execution_count": 5,
   "metadata": {},
   "outputs": [
    {
     "output_type": "execute_result",
     "data": {
      "text/plain": [
       "         Date           Time    Country             Area  \\\n",
       "0  2018.06.25          18h00        USA       California   \n",
       "1  2018.06.18  14h00  -15h00        USA          Georgia   \n",
       "2  2018.06.09          07h45        USA           Hawaii   \n",
       "3  2018.06.08            NaN  AUSTRALIA  New South Wales   \n",
       "4  2018.06.04            NaN     MEXICO           Colima   \n",
       "\n",
       "                         Location Sex   Age     Activity        Type  \\\n",
       "0     Oceanside, San Diego County    F   57     Paddling     Boating   \n",
       "1  St. Simon Island, Glynn County    F   11     Standing  Unprovoked   \n",
       "2                    Habush, Oahu    M   48      Surfing     Invalid   \n",
       "3              Arrawarra Headland    M  NaN      Surfing  Unprovoked   \n",
       "4                        La Ticla    M  NaN  Free diving    Provoked   \n",
       "\n",
       "          Species                                              Injury  \\\n",
       "0      White shark  No injury to occupant, outrigger canoe and pad...   \n",
       "1              NaN                         Minor injury to left thigh   \n",
       "2              NaN       Injury to left lower leg from surfboard skeg   \n",
       "3        2 m shark                          Minor injury to lower leg   \n",
       "4  Tiger shark, 3m  Lacerations to leg & hand shark PROVOKED INCIDENT   \n",
       "\n",
       "  Fatal (Y/N)  \n",
       "0           N  \n",
       "1           N  \n",
       "2           N  \n",
       "3           N  \n",
       "4           N  "
      ],
      "text/html": "<div>\n<style scoped>\n    .dataframe tbody tr th:only-of-type {\n        vertical-align: middle;\n    }\n\n    .dataframe tbody tr th {\n        vertical-align: top;\n    }\n\n    .dataframe thead th {\n        text-align: right;\n    }\n</style>\n<table border=\"1\" class=\"dataframe\">\n  <thead>\n    <tr style=\"text-align: right;\">\n      <th></th>\n      <th>Date</th>\n      <th>Time</th>\n      <th>Country</th>\n      <th>Area</th>\n      <th>Location</th>\n      <th>Sex</th>\n      <th>Age</th>\n      <th>Activity</th>\n      <th>Type</th>\n      <th>Species</th>\n      <th>Injury</th>\n      <th>Fatal (Y/N)</th>\n    </tr>\n  </thead>\n  <tbody>\n    <tr>\n      <th>0</th>\n      <td>2018.06.25</td>\n      <td>18h00</td>\n      <td>USA</td>\n      <td>California</td>\n      <td>Oceanside, San Diego County</td>\n      <td>F</td>\n      <td>57</td>\n      <td>Paddling</td>\n      <td>Boating</td>\n      <td>White shark</td>\n      <td>No injury to occupant, outrigger canoe and pad...</td>\n      <td>N</td>\n    </tr>\n    <tr>\n      <th>1</th>\n      <td>2018.06.18</td>\n      <td>14h00  -15h00</td>\n      <td>USA</td>\n      <td>Georgia</td>\n      <td>St. Simon Island, Glynn County</td>\n      <td>F</td>\n      <td>11</td>\n      <td>Standing</td>\n      <td>Unprovoked</td>\n      <td>NaN</td>\n      <td>Minor injury to left thigh</td>\n      <td>N</td>\n    </tr>\n    <tr>\n      <th>2</th>\n      <td>2018.06.09</td>\n      <td>07h45</td>\n      <td>USA</td>\n      <td>Hawaii</td>\n      <td>Habush, Oahu</td>\n      <td>M</td>\n      <td>48</td>\n      <td>Surfing</td>\n      <td>Invalid</td>\n      <td>NaN</td>\n      <td>Injury to left lower leg from surfboard skeg</td>\n      <td>N</td>\n    </tr>\n    <tr>\n      <th>3</th>\n      <td>2018.06.08</td>\n      <td>NaN</td>\n      <td>AUSTRALIA</td>\n      <td>New South Wales</td>\n      <td>Arrawarra Headland</td>\n      <td>M</td>\n      <td>NaN</td>\n      <td>Surfing</td>\n      <td>Unprovoked</td>\n      <td>2 m shark</td>\n      <td>Minor injury to lower leg</td>\n      <td>N</td>\n    </tr>\n    <tr>\n      <th>4</th>\n      <td>2018.06.04</td>\n      <td>NaN</td>\n      <td>MEXICO</td>\n      <td>Colima</td>\n      <td>La Ticla</td>\n      <td>M</td>\n      <td>NaN</td>\n      <td>Free diving</td>\n      <td>Provoked</td>\n      <td>Tiger shark, 3m</td>\n      <td>Lacerations to leg &amp; hand shark PROVOKED INCIDENT</td>\n      <td>N</td>\n    </tr>\n  </tbody>\n</table>\n</div>"
     },
     "metadata": {},
     "execution_count": 5
    }
   ],
   "source": [
    "attacks_df = shark_atck_df.iloc[:,[0,13,4,5,6,9,10,7,3,14,11,12]]\n",
    "attacks_df.rename(columns={'Case Number': 'Date'}, inplace=True)\n",
    "attacks_df.head()"
   ]
  },
  {
   "cell_type": "markdown",
   "metadata": {},
   "source": [
    "Now let's see through a heatmap how is the distribution of the non-null values in our new dataframe, in order to see how many rows have all its values as null:"
   ]
  },
  {
   "cell_type": "code",
   "execution_count": 6,
   "metadata": {
    "scrolled": true
   },
   "outputs": [],
   "source": [
    "#sns.heatmap(attacks_df.isnull(), cbar=False)"
   ]
  },
  {
   "cell_type": "code",
   "execution_count": 7,
   "metadata": {},
   "outputs": [
    {
     "output_type": "execute_result",
     "data": {
      "text/plain": [
       "Date           8702\n",
       "Type           6298\n",
       "Injury         6274\n",
       "Country        6252\n",
       "Area           5847\n",
       "Fatal (Y/N)    5763\n",
       "Location       5762\n",
       "Activity       5758\n",
       "Sex            5737\n",
       "Age            3471\n",
       "Species        3464\n",
       "Time           2948\n",
       "dtype: int64"
      ]
     },
     "metadata": {},
     "execution_count": 7
    }
   ],
   "source": [
    "attacks_df.count().sort_values(ascending=False)"
   ]
  },
  {
   "cell_type": "markdown",
   "metadata": {},
   "source": [
    "As the heatmap shows, 2/3 of the dataframe has all its rows filled with null values in absolutely all its columns. Of course, all this rows will be deleted. Of the reminder third, at least 1/4 has just the 'Date' column filled, so I should get rid of those values too. \n",
    "\n",
    "In order to attemp this, I will keep those rows where the values in the column 'Type' are non-null, as it is the column with the largest number of those after 'Date'. This will let me with a 6298-row dataframe."
   ]
  },
  {
   "cell_type": "code",
   "execution_count": 8,
   "metadata": {},
   "outputs": [
    {
     "output_type": "execute_result",
     "data": {
      "text/plain": [
       "         Date           Time    Country             Area  \\\n",
       "0  2018.06.25          18h00        USA       California   \n",
       "1  2018.06.18  14h00  -15h00        USA          Georgia   \n",
       "2  2018.06.09          07h45        USA           Hawaii   \n",
       "3  2018.06.08            NaN  AUSTRALIA  New South Wales   \n",
       "4  2018.06.04            NaN     MEXICO           Colima   \n",
       "\n",
       "                         Location Sex   Age     Activity        Type  \\\n",
       "0     Oceanside, San Diego County    F   57     Paddling     Boating   \n",
       "1  St. Simon Island, Glynn County    F   11     Standing  Unprovoked   \n",
       "2                    Habush, Oahu    M   48      Surfing     Invalid   \n",
       "3              Arrawarra Headland    M  NaN      Surfing  Unprovoked   \n",
       "4                        La Ticla    M  NaN  Free diving    Provoked   \n",
       "\n",
       "          Species                                              Injury  \\\n",
       "0      White shark  No injury to occupant, outrigger canoe and pad...   \n",
       "1              NaN                         Minor injury to left thigh   \n",
       "2              NaN       Injury to left lower leg from surfboard skeg   \n",
       "3        2 m shark                          Minor injury to lower leg   \n",
       "4  Tiger shark, 3m  Lacerations to leg & hand shark PROVOKED INCIDENT   \n",
       "\n",
       "  Fatal (Y/N)  \n",
       "0           N  \n",
       "1           N  \n",
       "2           N  \n",
       "3           N  \n",
       "4           N  "
      ],
      "text/html": "<div>\n<style scoped>\n    .dataframe tbody tr th:only-of-type {\n        vertical-align: middle;\n    }\n\n    .dataframe tbody tr th {\n        vertical-align: top;\n    }\n\n    .dataframe thead th {\n        text-align: right;\n    }\n</style>\n<table border=\"1\" class=\"dataframe\">\n  <thead>\n    <tr style=\"text-align: right;\">\n      <th></th>\n      <th>Date</th>\n      <th>Time</th>\n      <th>Country</th>\n      <th>Area</th>\n      <th>Location</th>\n      <th>Sex</th>\n      <th>Age</th>\n      <th>Activity</th>\n      <th>Type</th>\n      <th>Species</th>\n      <th>Injury</th>\n      <th>Fatal (Y/N)</th>\n    </tr>\n  </thead>\n  <tbody>\n    <tr>\n      <th>0</th>\n      <td>2018.06.25</td>\n      <td>18h00</td>\n      <td>USA</td>\n      <td>California</td>\n      <td>Oceanside, San Diego County</td>\n      <td>F</td>\n      <td>57</td>\n      <td>Paddling</td>\n      <td>Boating</td>\n      <td>White shark</td>\n      <td>No injury to occupant, outrigger canoe and pad...</td>\n      <td>N</td>\n    </tr>\n    <tr>\n      <th>1</th>\n      <td>2018.06.18</td>\n      <td>14h00  -15h00</td>\n      <td>USA</td>\n      <td>Georgia</td>\n      <td>St. Simon Island, Glynn County</td>\n      <td>F</td>\n      <td>11</td>\n      <td>Standing</td>\n      <td>Unprovoked</td>\n      <td>NaN</td>\n      <td>Minor injury to left thigh</td>\n      <td>N</td>\n    </tr>\n    <tr>\n      <th>2</th>\n      <td>2018.06.09</td>\n      <td>07h45</td>\n      <td>USA</td>\n      <td>Hawaii</td>\n      <td>Habush, Oahu</td>\n      <td>M</td>\n      <td>48</td>\n      <td>Surfing</td>\n      <td>Invalid</td>\n      <td>NaN</td>\n      <td>Injury to left lower leg from surfboard skeg</td>\n      <td>N</td>\n    </tr>\n    <tr>\n      <th>3</th>\n      <td>2018.06.08</td>\n      <td>NaN</td>\n      <td>AUSTRALIA</td>\n      <td>New South Wales</td>\n      <td>Arrawarra Headland</td>\n      <td>M</td>\n      <td>NaN</td>\n      <td>Surfing</td>\n      <td>Unprovoked</td>\n      <td>2 m shark</td>\n      <td>Minor injury to lower leg</td>\n      <td>N</td>\n    </tr>\n    <tr>\n      <th>4</th>\n      <td>2018.06.04</td>\n      <td>NaN</td>\n      <td>MEXICO</td>\n      <td>Colima</td>\n      <td>La Ticla</td>\n      <td>M</td>\n      <td>NaN</td>\n      <td>Free diving</td>\n      <td>Provoked</td>\n      <td>Tiger shark, 3m</td>\n      <td>Lacerations to leg &amp; hand shark PROVOKED INCIDENT</td>\n      <td>N</td>\n    </tr>\n  </tbody>\n</table>\n</div>"
     },
     "metadata": {},
     "execution_count": 8
    }
   ],
   "source": [
    "attacks_df.dropna(how='all', subset=['Type'], inplace=True)\n",
    "attacks_df.head()"
   ]
  },
  {
   "cell_type": "markdown",
   "metadata": {},
   "source": [
    "Checking column by column, the first possible problem we can see is the format of the 'Date' column. As it can be seen with the value_counts() function, some dates have letters or marks after them. We should remove those in order to use the Pandas function 'to_datetime()' without any issues. Let's use a regex operation: "
   ]
  },
  {
   "cell_type": "code",
   "execution_count": 9,
   "metadata": {
    "scrolled": true
   },
   "outputs": [
    {
     "output_type": "execute_result",
     "data": {
      "text/plain": [
       "1913.08.27.R    2\n",
       "1990.05.10      2\n",
       "1980.07.00      2\n",
       "1966.12.26      2\n",
       "1923.00.00.a    2\n",
       "               ..\n",
       "1991.07.01.b    1\n",
       "1860.03.27      1\n",
       "1985.12.10      1\n",
       "2007.03.21      1\n",
       "2015.07.04.b    1\n",
       "Name: Date, Length: 6281, dtype: int64"
      ]
     },
     "metadata": {},
     "execution_count": 9
    }
   ],
   "source": [
    "attacks_df['Date'].value_counts()"
   ]
  },
  {
   "cell_type": "code",
   "execution_count": 10,
   "metadata": {},
   "outputs": [],
   "source": [
    "attacks_df['Date'] = [re.sub(r\"[A-Za-z.]\", \"\", str(x)) for x in attacks_df['Date']]"
   ]
  },
  {
   "cell_type": "code",
   "execution_count": 11,
   "metadata": {},
   "outputs": [],
   "source": [
    "attacks_df.iloc[:,0] = pd.to_datetime(attacks_df.iloc[:,0], format='%Y-%m-%d', errors='coerce')"
   ]
  },
  {
   "cell_type": "code",
   "execution_count": 12,
   "metadata": {},
   "outputs": [
    {
     "output_type": "execute_result",
     "data": {
      "text/plain": [
       "NaT           889\n",
       "2003-10-05      5\n",
       "2001-04-12      5\n",
       "1995-07-28      5\n",
       "1970-01-23      4\n",
       "             ... \n",
       "1892-06-20      1\n",
       "1896-11-01      1\n",
       "1970-09-02      1\n",
       "1960-05-24      1\n",
       "1967-09-20      1\n",
       "Name: Date, Length: 4744, dtype: int64"
      ]
     },
     "metadata": {},
     "execution_count": 12
    }
   ],
   "source": [
    "attacks_df['Date'].value_counts(dropna=False)"
   ]
  },
  {
   "cell_type": "code",
   "execution_count": 44,
   "metadata": {},
   "outputs": [
    {
     "output_type": "execute_result",
     "data": {
      "text/plain": [
       "      Case Number         Date    Year Case Number.1 Case Number.2\n",
       "0      2018.06.25  25-Jun-2018  2018.0    2018.06.25    2018.06.25\n",
       "1      2018.06.18  18-Jun-2018  2018.0    2018.06.18    2018.06.18\n",
       "2      2018.06.09  09-Jun-2018  2018.0    2018.06.09    2018.06.09\n",
       "3      2018.06.08  08-Jun-2018  2018.0    2018.06.08    2018.06.08\n",
       "4      2018.06.04  04-Jun-2018  2018.0    2018.06.04    2018.06.04\n",
       "...           ...          ...     ...           ...           ...\n",
       "25718         NaN          NaN     NaN           NaN           NaN\n",
       "25719         NaN          NaN     NaN           NaN           NaN\n",
       "25720         NaN          NaN     NaN           NaN           NaN\n",
       "25721         NaN          NaN     NaN           NaN           NaN\n",
       "25722          xx          NaN     NaN           NaN           NaN\n",
       "\n",
       "[25723 rows x 5 columns]"
      ],
      "text/html": "<div>\n<style scoped>\n    .dataframe tbody tr th:only-of-type {\n        vertical-align: middle;\n    }\n\n    .dataframe tbody tr th {\n        vertical-align: top;\n    }\n\n    .dataframe thead th {\n        text-align: right;\n    }\n</style>\n<table border=\"1\" class=\"dataframe\">\n  <thead>\n    <tr style=\"text-align: right;\">\n      <th></th>\n      <th>Case Number</th>\n      <th>Date</th>\n      <th>Year</th>\n      <th>Case Number.1</th>\n      <th>Case Number.2</th>\n    </tr>\n  </thead>\n  <tbody>\n    <tr>\n      <th>0</th>\n      <td>2018.06.25</td>\n      <td>25-Jun-2018</td>\n      <td>2018.0</td>\n      <td>2018.06.25</td>\n      <td>2018.06.25</td>\n    </tr>\n    <tr>\n      <th>1</th>\n      <td>2018.06.18</td>\n      <td>18-Jun-2018</td>\n      <td>2018.0</td>\n      <td>2018.06.18</td>\n      <td>2018.06.18</td>\n    </tr>\n    <tr>\n      <th>2</th>\n      <td>2018.06.09</td>\n      <td>09-Jun-2018</td>\n      <td>2018.0</td>\n      <td>2018.06.09</td>\n      <td>2018.06.09</td>\n    </tr>\n    <tr>\n      <th>3</th>\n      <td>2018.06.08</td>\n      <td>08-Jun-2018</td>\n      <td>2018.0</td>\n      <td>2018.06.08</td>\n      <td>2018.06.08</td>\n    </tr>\n    <tr>\n      <th>4</th>\n      <td>2018.06.04</td>\n      <td>04-Jun-2018</td>\n      <td>2018.0</td>\n      <td>2018.06.04</td>\n      <td>2018.06.04</td>\n    </tr>\n    <tr>\n      <th>...</th>\n      <td>...</td>\n      <td>...</td>\n      <td>...</td>\n      <td>...</td>\n      <td>...</td>\n    </tr>\n    <tr>\n      <th>25718</th>\n      <td>NaN</td>\n      <td>NaN</td>\n      <td>NaN</td>\n      <td>NaN</td>\n      <td>NaN</td>\n    </tr>\n    <tr>\n      <th>25719</th>\n      <td>NaN</td>\n      <td>NaN</td>\n      <td>NaN</td>\n      <td>NaN</td>\n      <td>NaN</td>\n    </tr>\n    <tr>\n      <th>25720</th>\n      <td>NaN</td>\n      <td>NaN</td>\n      <td>NaN</td>\n      <td>NaN</td>\n      <td>NaN</td>\n    </tr>\n    <tr>\n      <th>25721</th>\n      <td>NaN</td>\n      <td>NaN</td>\n      <td>NaN</td>\n      <td>NaN</td>\n      <td>NaN</td>\n    </tr>\n    <tr>\n      <th>25722</th>\n      <td>xx</td>\n      <td>NaN</td>\n      <td>NaN</td>\n      <td>NaN</td>\n      <td>NaN</td>\n    </tr>\n  </tbody>\n</table>\n<p>25723 rows × 5 columns</p>\n</div>"
     },
     "metadata": {},
     "execution_count": 44
    }
   ],
   "source": [
    "dates = shark_atck_df.iloc[:,[0,1,2,19,20]]\n",
    "dates"
   ]
  },
  {
   "cell_type": "code",
   "execution_count": 45,
   "metadata": {
    "scrolled": false
   },
   "outputs": [],
   "source": [
    "dates.replace('nan', np.NaN, inplace=True)\n",
    "dates.replace(np.nan, np.NaN, inplace=True)\n",
    "dates.replace('0', np.NaN, inplace=True)\n",
    "dates.replace(0.0, np.NaN, inplace=True)\n",
    "dates.replace('xx', np.NaN, inplace=True)"
   ]
  },
  {
   "cell_type": "code",
   "execution_count": 46,
   "metadata": {},
   "outputs": [
    {
     "output_type": "execute_result",
     "data": {
      "text/plain": [
       "     Case Number         Date    Year Case Number.1 Case Number.2\n",
       "0     2018.06.25  25-Jun-2018  2018.0    2018.06.25    2018.06.25\n",
       "1     2018.06.18  18-Jun-2018  2018.0    2018.06.18    2018.06.18\n",
       "2     2018.06.09  09-Jun-2018  2018.0    2018.06.09    2018.06.09\n",
       "3     2018.06.08  08-Jun-2018  2018.0    2018.06.08    2018.06.08\n",
       "4     2018.06.04  04-Jun-2018  2018.0    2018.06.04    2018.06.04\n",
       "...          ...          ...     ...           ...           ...\n",
       "6297     ND.0005  Before 1903     NaN       ND.0005       ND.0005\n",
       "6298     ND.0004  Before 1903     NaN       ND.0004       ND.0004\n",
       "6299     ND.0003    1900-1905     NaN       ND.0003       ND.0003\n",
       "6300     ND.0002    1883-1889     NaN       ND.0002       ND.0002\n",
       "6301     ND.0001    1845-1853     NaN       ND.0001       ND.0001\n",
       "\n",
       "[6302 rows x 5 columns]"
      ],
      "text/html": "<div>\n<style scoped>\n    .dataframe tbody tr th:only-of-type {\n        vertical-align: middle;\n    }\n\n    .dataframe tbody tr th {\n        vertical-align: top;\n    }\n\n    .dataframe thead th {\n        text-align: right;\n    }\n</style>\n<table border=\"1\" class=\"dataframe\">\n  <thead>\n    <tr style=\"text-align: right;\">\n      <th></th>\n      <th>Case Number</th>\n      <th>Date</th>\n      <th>Year</th>\n      <th>Case Number.1</th>\n      <th>Case Number.2</th>\n    </tr>\n  </thead>\n  <tbody>\n    <tr>\n      <th>0</th>\n      <td>2018.06.25</td>\n      <td>25-Jun-2018</td>\n      <td>2018.0</td>\n      <td>2018.06.25</td>\n      <td>2018.06.25</td>\n    </tr>\n    <tr>\n      <th>1</th>\n      <td>2018.06.18</td>\n      <td>18-Jun-2018</td>\n      <td>2018.0</td>\n      <td>2018.06.18</td>\n      <td>2018.06.18</td>\n    </tr>\n    <tr>\n      <th>2</th>\n      <td>2018.06.09</td>\n      <td>09-Jun-2018</td>\n      <td>2018.0</td>\n      <td>2018.06.09</td>\n      <td>2018.06.09</td>\n    </tr>\n    <tr>\n      <th>3</th>\n      <td>2018.06.08</td>\n      <td>08-Jun-2018</td>\n      <td>2018.0</td>\n      <td>2018.06.08</td>\n      <td>2018.06.08</td>\n    </tr>\n    <tr>\n      <th>4</th>\n      <td>2018.06.04</td>\n      <td>04-Jun-2018</td>\n      <td>2018.0</td>\n      <td>2018.06.04</td>\n      <td>2018.06.04</td>\n    </tr>\n    <tr>\n      <th>...</th>\n      <td>...</td>\n      <td>...</td>\n      <td>...</td>\n      <td>...</td>\n      <td>...</td>\n    </tr>\n    <tr>\n      <th>6297</th>\n      <td>ND.0005</td>\n      <td>Before 1903</td>\n      <td>NaN</td>\n      <td>ND.0005</td>\n      <td>ND.0005</td>\n    </tr>\n    <tr>\n      <th>6298</th>\n      <td>ND.0004</td>\n      <td>Before 1903</td>\n      <td>NaN</td>\n      <td>ND.0004</td>\n      <td>ND.0004</td>\n    </tr>\n    <tr>\n      <th>6299</th>\n      <td>ND.0003</td>\n      <td>1900-1905</td>\n      <td>NaN</td>\n      <td>ND.0003</td>\n      <td>ND.0003</td>\n    </tr>\n    <tr>\n      <th>6300</th>\n      <td>ND.0002</td>\n      <td>1883-1889</td>\n      <td>NaN</td>\n      <td>ND.0002</td>\n      <td>ND.0002</td>\n    </tr>\n    <tr>\n      <th>6301</th>\n      <td>ND.0001</td>\n      <td>1845-1853</td>\n      <td>NaN</td>\n      <td>ND.0001</td>\n      <td>ND.0001</td>\n    </tr>\n  </tbody>\n</table>\n<p>6302 rows × 5 columns</p>\n</div>"
     },
     "metadata": {},
     "execution_count": 46
    }
   ],
   "source": [
    "dates.dropna(how='all', inplace=True)\n",
    "dates"
   ]
  },
  {
   "cell_type": "code",
   "execution_count": 41,
   "metadata": {},
   "outputs": [],
   "source": [
    "def replacer(string, mth=True):\n",
    "    if mth:\n",
    "        date_s = f'{int(string) + 100}'\n",
    "    else:\n",
    "        date_s = f'{int(string) + 1}'\n",
    "    return date_s"
   ]
  },
  {
   "cell_type": "code",
   "execution_count": 53,
   "metadata": {
    "tags": []
   },
   "outputs": [],
   "source": [
    "dates['Case Number'] = [re.sub(r\"[A-Za-z.,&-]\", \"\", str(x)) for x in dates['Case Number']]\n",
    "#dates['Case Number'] = [lambda x: f'{int(x)+101}' for x in dates['Case Number'] if x[-4] == '0000']\n",
    "dates['Case Number'] = pd.to_datetime(dates['Case Number'], format='%Y-%m-%d', errors='coerce')"
   ]
  },
  {
   "cell_type": "code",
   "execution_count": 54,
   "metadata": {},
   "outputs": [],
   "source": [
    "dates['Case Number.1'] = [re.sub(r\"[A-Za-z.,&-]\", \"\", str(x)) for x in dates['Case Number.1']]\n",
    "#dates['Case Number.1'] = [re.sub(\"00\", \"01\", str(x)) for x in dates['Case Number.1']]\n",
    "dates['Case Number.1'] = pd.to_datetime(dates['Case Number.1'], format='%Y-%m-%d', errors='coerce')"
   ]
  },
  {
   "cell_type": "code",
   "execution_count": 55,
   "metadata": {},
   "outputs": [],
   "source": [
    "dates['Case Number.2'] = [re.sub(r\"[A-Za-z.,&-]\", \"\", str(x)) for x in dates['Case Number.2']]\n",
    "#dates['Case Number.2'] = [re.sub(\"00\", \"01\", str(x)) for x in dates['Case Number.2']]\n",
    "dates['Case Number.2'] = pd.to_datetime(dates['Case Number.2'], format='%Y-%m-%d', errors='coerce')"
   ]
  },
  {
   "cell_type": "code",
   "execution_count": 57,
   "metadata": {},
   "outputs": [
    {
     "output_type": "execute_result",
     "data": {
      "text/plain": [
       "     Case Number         Date    Year Case Number.1 Case Number.2\n",
       "0     2018-06-25  25-Jun-2018  2018.0    2018-06-25    2018-06-25\n",
       "1     2018-06-18  18-Jun-2018  2018.0    2018-06-18    2018-06-18\n",
       "2     2018-06-09  09-Jun-2018  2018.0    2018-06-09    2018-06-09\n",
       "3     2018-06-08  08-Jun-2018  2018.0    2018-06-08    2018-06-08\n",
       "4     2018-06-04  04-Jun-2018  2018.0    2018-06-04    2018-06-04\n",
       "...          ...          ...     ...           ...           ...\n",
       "6297         NaT  Before 1903     NaN           NaT           NaT\n",
       "6298         NaT  Before 1903     NaN           NaT           NaT\n",
       "6299         NaT    1900-1905     NaN           NaT           NaT\n",
       "6300         NaT    1883-1889     NaN           NaT           NaT\n",
       "6301         NaT    1845-1853     NaN           NaT           NaT\n",
       "\n",
       "[6302 rows x 5 columns]"
      ],
      "text/html": "<div>\n<style scoped>\n    .dataframe tbody tr th:only-of-type {\n        vertical-align: middle;\n    }\n\n    .dataframe tbody tr th {\n        vertical-align: top;\n    }\n\n    .dataframe thead th {\n        text-align: right;\n    }\n</style>\n<table border=\"1\" class=\"dataframe\">\n  <thead>\n    <tr style=\"text-align: right;\">\n      <th></th>\n      <th>Case Number</th>\n      <th>Date</th>\n      <th>Year</th>\n      <th>Case Number.1</th>\n      <th>Case Number.2</th>\n    </tr>\n  </thead>\n  <tbody>\n    <tr>\n      <th>0</th>\n      <td>2018-06-25</td>\n      <td>25-Jun-2018</td>\n      <td>2018.0</td>\n      <td>2018-06-25</td>\n      <td>2018-06-25</td>\n    </tr>\n    <tr>\n      <th>1</th>\n      <td>2018-06-18</td>\n      <td>18-Jun-2018</td>\n      <td>2018.0</td>\n      <td>2018-06-18</td>\n      <td>2018-06-18</td>\n    </tr>\n    <tr>\n      <th>2</th>\n      <td>2018-06-09</td>\n      <td>09-Jun-2018</td>\n      <td>2018.0</td>\n      <td>2018-06-09</td>\n      <td>2018-06-09</td>\n    </tr>\n    <tr>\n      <th>3</th>\n      <td>2018-06-08</td>\n      <td>08-Jun-2018</td>\n      <td>2018.0</td>\n      <td>2018-06-08</td>\n      <td>2018-06-08</td>\n    </tr>\n    <tr>\n      <th>4</th>\n      <td>2018-06-04</td>\n      <td>04-Jun-2018</td>\n      <td>2018.0</td>\n      <td>2018-06-04</td>\n      <td>2018-06-04</td>\n    </tr>\n    <tr>\n      <th>...</th>\n      <td>...</td>\n      <td>...</td>\n      <td>...</td>\n      <td>...</td>\n      <td>...</td>\n    </tr>\n    <tr>\n      <th>6297</th>\n      <td>NaT</td>\n      <td>Before 1903</td>\n      <td>NaN</td>\n      <td>NaT</td>\n      <td>NaT</td>\n    </tr>\n    <tr>\n      <th>6298</th>\n      <td>NaT</td>\n      <td>Before 1903</td>\n      <td>NaN</td>\n      <td>NaT</td>\n      <td>NaT</td>\n    </tr>\n    <tr>\n      <th>6299</th>\n      <td>NaT</td>\n      <td>1900-1905</td>\n      <td>NaN</td>\n      <td>NaT</td>\n      <td>NaT</td>\n    </tr>\n    <tr>\n      <th>6300</th>\n      <td>NaT</td>\n      <td>1883-1889</td>\n      <td>NaN</td>\n      <td>NaT</td>\n      <td>NaT</td>\n    </tr>\n    <tr>\n      <th>6301</th>\n      <td>NaT</td>\n      <td>1845-1853</td>\n      <td>NaN</td>\n      <td>NaT</td>\n      <td>NaT</td>\n    </tr>\n  </tbody>\n</table>\n<p>6302 rows × 5 columns</p>\n</div>"
     },
     "metadata": {},
     "execution_count": 57
    }
   ],
   "source": [
    "dates"
   ]
  },
  {
   "cell_type": "code",
   "execution_count": 25,
   "metadata": {},
   "outputs": [
    {
     "output_type": "display_data",
     "data": {
      "text/plain": "6000    18550930\n6001    18550728\n6002    18550409\n6003    18550328\n6004    18550212\n6005    18550100\n6006    18531108\n6007    18530928\n6008    18530713\n6009    18539429\n6010    18530100\n6011    18530100\n6012    18530100\n6013    18530100\n6014    18521219\n6015    18521023\n6016    18521009\n6017    18520807\n6018    18520801\n6019    18520728\n6020    18520524\n6021    18520226\n6022    18520122\n6023    18520100\n6024    18510616\n6025    18510308\n6026    18510100\n6027    18501021\n6028    18500100\n6029    18491209\n6030    18491201\n6031    18491004\n6032    18490919\n6033    18490608\n6034    18490608\n6035    18490127\n6036    18480831\n6037    18480717\n6038    18480701\n6039    18471130\n6040    18470910\n6041    18470719\n6042    18470703\n6043    18470311\n6044    18470212\n6045    18470100\n6046    18470100\n6047    18470100\n6048    18461208\n6049    18460930\n6050    18460820\n6051    18451226\n6052    18451104\n6053    18450916\n6054    18450910\n6055    18450731\n6056    18450100\n6057    18440720\n6058    18440716\n6059    18440524\n6060    18440100\n6061    18420713\n6062    18420706\n6063    18420100\n6064    18420100\n6065    18410327\n6066    18401201\n6067    18400918\n6068    18400722\n6069    18400409\n6070    18400201\n6071    18391117\n6072    18390414\n6073    18390100\n6074    18390100\n6075    18370903\n6076    18370701\n6077    18370117\n6078    18370100\n6079    18360819\n6080    18360726\n6081    18360100\n6082    18350221\n6083    18350106\n6084    18340715\n6085    18320604\n6086    18320123\n6087    18310824\n6088    18310122\n6089    18300726\n6090    18300702\n6091    18300430\n6092    18300422\n6093    18290703\n6094    18290610\n6095    18290100\n6096    18280928\n6097    18280100\n6098    18270601\n6099    18270601\n6100    18270100\n6101    18261201\n6102    18261101\n6103    18260828\n6104    18260815\n6105    18260520\n6106    18250100\n6107    18250100\n6108    18231230\n6109    18220415\n6110    18190708\n6111    18180522\n6112    18170624\n6113    18170615\n6114    18170511\n6115    18170222\n6116    18160903\n6117    18151001\n6118    18120701\n6119    18110301\n6120    18100915\n6121    18081225\n6122    18080601\n6123    18080207\n6124    18070112\n6125    18060424\n6126    18050901\n6127    18040226\n6128    18030517\n6129    18030301\n6130    18020413\n6131    18011218\n6132    18000100\n6133    17970528\n6134    17920912\n6135    17910100\n6136    17880510\n6137    17870705\n6138    17860810\n6139    17850926\n6140    17841212\n6141    17830302\n6142    17800808\n6143    17790100\n6144    17760100\n6145    17760100\n6146    17710712\n6147    17670100\n6148    17640100\n6149    17580100\n6150    17531027\n6151    17510727\n6152    17490100\n6153    17550100\n6154    17480100\n6155    17421217\n6156    17380406\n6157    17330100\n6158    17230100\n6159    17210601\n6160    17030326\n6161    17000100\n6162    17000100\n6163    17000100\n6164    16420100\n6165    16380100\n6166    16370100\n6167    16170100\n6168    16420100\n6169    15950100\n6170    15800110\n6171    15550100\n6172    15540100\n6173    15430100\n6174     5000100\n6175      770100\n6176       50100\n6177    00000214\n6178    00000336\n6179    00000493\n6180    00000725\n6181        0154\n6182        0153\n6183        0152\n6184        0151\n6185        0150\n6186        0149\n6187        0148\n6188        1940\n6189        0139\n6190        0138\n6191        0136\n6192        0135\n6193        0134\n6194        0133\n6195        0132\n6196        0130\n6197        0129\n6198        0127\n6199        0124\n6200        0123\n6201        0122\n6202        0119\n6203        0118\n6204        0116\n6205        0115\n6206        0114\n6207        0113\n6208        0111\n6209        0110\n6210        0109\n6211        0108\n6212        0107\n6213        0106\n6214        0104\n6215        0102\n6216        0100\n6217        0097\n6218        0096\n6219        0095\n6220        0094\n6221        0093\n6222        0091\n6223        0090\n6224        0089\n6225        0088\n6226        0087\n6227        0086\n6228        0085\n6229        0084\n6230        0083\n6231        0082\n6232        0081\n6233        0078\n6234        0076\n6235        0075\n6236        0074\n6237        0073\n6238        0069\n6239        0068\n6240        0066\n6241        0065\n6242        0064\n6243        0063\n6244        0062\n6245        0060\n6246        0059\n6247        0058\n6248        0057\n6249        0056\n6250        0055\n6251        0054\n6252        0053\n6253        0052\n6254        0051\n6255        0049\n6256        0048\n6257        0047\n6258        0046\n6259        0044\n6260        0043\n6261        0042\n6262        0041\n6263        0040\n6264        0039\n6265        0038\n6266        0037\n6267        0036\n6268        0035\n6269        0034\n6270        0033\n6271        0032\n6272        0031\n6273        0030\n6274        0028\n6275        0027\n6276        0026\n6277        0025\n6278        0024\n6279        0023\n6280        0022\n6281        0021\n6282        0020\n6283        0019\n6284        0018\n6285        0017\n6286        0016\n6287        0015\n6288        0014\n6289        0013\n6290        0012\n6291        0011\n6292        0010\n6293        0009\n6294        0008\n6295        0007\n6296        0006\n6297        0005\n6298        0004\n6299        0003\n6300        0002\n6301        0001\nName: Case Number, dtype: object"
     },
     "metadata": {}
    }
   ],
   "source": [
    "with pd.option_context('display.max_rows', None, 'display.max_columns', None):\n",
    "    display(dates['Case Number'].iloc[6000:])"
   ]
  },
  {
   "cell_type": "code",
   "execution_count": 22,
   "metadata": {},
   "outputs": [],
   "source": [
    "#with pd.option_context('display.max_rows', None, 'display.max_columns', None):\n",
    " #   display(case_num.iloc[6000:])"
   ]
  }
 ],
 "metadata": {
  "kernelspec": {
   "name": "Python 3.8.5 64-bit",
   "display_name": "Python 3.8.5 64-bit",
   "metadata": {
    "interpreter": {
     "hash": "082e9a3bcad0a290d0001e938aa60b99250c6c2ef33a923c00b70f9826caf4b7"
    }
   }
  },
  "language_info": {
   "codemirror_mode": {
    "name": "ipython",
    "version": 3
   },
   "file_extension": ".py",
   "mimetype": "text/x-python",
   "name": "python",
   "nbconvert_exporter": "python",
   "pygments_lexer": "ipython3",
   "version": "3.8.5-final"
  }
 },
 "nbformat": 4,
 "nbformat_minor": 2
}