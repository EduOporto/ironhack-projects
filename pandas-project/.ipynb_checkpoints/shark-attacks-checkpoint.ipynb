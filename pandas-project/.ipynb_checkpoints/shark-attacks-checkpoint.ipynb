{
 "cells": [
  {
   "cell_type": "markdown",
   "metadata": {},
   "source": [
    "# Shark Attacks"
   ]
  },
  {
   "cell_type": "code",
   "execution_count": 1,
   "metadata": {},
   "outputs": [],
   "source": [
    "import pandas as pd\n",
    "import seaborn as sns\n",
    "import matplotlib.pyplot as plt\n",
    "import numpy as np\n",
    "import re\n",
    "import awoc\n",
    "import calendar"
   ]
  },
  {
   "cell_type": "code",
   "execution_count": 2,
   "metadata": {
    "scrolled": true
   },
   "outputs": [
    {
     "data": {
      "text/html": [
       "<div>\n",
       "<style scoped>\n",
       "    .dataframe tbody tr th:only-of-type {\n",
       "        vertical-align: middle;\n",
       "    }\n",
       "\n",
       "    .dataframe tbody tr th {\n",
       "        vertical-align: top;\n",
       "    }\n",
       "\n",
       "    .dataframe thead th {\n",
       "        text-align: right;\n",
       "    }\n",
       "</style>\n",
       "<table border=\"1\" class=\"dataframe\">\n",
       "  <thead>\n",
       "    <tr style=\"text-align: right;\">\n",
       "      <th></th>\n",
       "      <th>Case Number</th>\n",
       "      <th>Date</th>\n",
       "      <th>Year</th>\n",
       "      <th>Type</th>\n",
       "      <th>Country</th>\n",
       "      <th>Area</th>\n",
       "      <th>Location</th>\n",
       "      <th>Activity</th>\n",
       "      <th>Name</th>\n",
       "      <th>Sex</th>\n",
       "      <th>...</th>\n",
       "      <th>Species</th>\n",
       "      <th>Investigator or Source</th>\n",
       "      <th>pdf</th>\n",
       "      <th>href formula</th>\n",
       "      <th>href</th>\n",
       "      <th>Case Number.1</th>\n",
       "      <th>Case Number.2</th>\n",
       "      <th>original order</th>\n",
       "      <th>Unnamed: 22</th>\n",
       "      <th>Unnamed: 23</th>\n",
       "    </tr>\n",
       "  </thead>\n",
       "  <tbody>\n",
       "    <tr>\n",
       "      <td>0</td>\n",
       "      <td>2018.06.25</td>\n",
       "      <td>25-Jun-2018</td>\n",
       "      <td>2018.0</td>\n",
       "      <td>Boating</td>\n",
       "      <td>USA</td>\n",
       "      <td>California</td>\n",
       "      <td>Oceanside, San Diego County</td>\n",
       "      <td>Paddling</td>\n",
       "      <td>Julie Wolfe</td>\n",
       "      <td>F</td>\n",
       "      <td>...</td>\n",
       "      <td>White shark</td>\n",
       "      <td>R. Collier, GSAF</td>\n",
       "      <td>2018.06.25-Wolfe.pdf</td>\n",
       "      <td>http://sharkattackfile.net/spreadsheets/pdf_di...</td>\n",
       "      <td>http://sharkattackfile.net/spreadsheets/pdf_di...</td>\n",
       "      <td>2018.06.25</td>\n",
       "      <td>2018.06.25</td>\n",
       "      <td>6303.0</td>\n",
       "      <td>NaN</td>\n",
       "      <td>NaN</td>\n",
       "    </tr>\n",
       "    <tr>\n",
       "      <td>1</td>\n",
       "      <td>2018.06.18</td>\n",
       "      <td>18-Jun-2018</td>\n",
       "      <td>2018.0</td>\n",
       "      <td>Unprovoked</td>\n",
       "      <td>USA</td>\n",
       "      <td>Georgia</td>\n",
       "      <td>St. Simon Island, Glynn County</td>\n",
       "      <td>Standing</td>\n",
       "      <td>Adyson McNeely</td>\n",
       "      <td>F</td>\n",
       "      <td>...</td>\n",
       "      <td>NaN</td>\n",
       "      <td>K.McMurray, TrackingSharks.com</td>\n",
       "      <td>2018.06.18-McNeely.pdf</td>\n",
       "      <td>http://sharkattackfile.net/spreadsheets/pdf_di...</td>\n",
       "      <td>http://sharkattackfile.net/spreadsheets/pdf_di...</td>\n",
       "      <td>2018.06.18</td>\n",
       "      <td>2018.06.18</td>\n",
       "      <td>6302.0</td>\n",
       "      <td>NaN</td>\n",
       "      <td>NaN</td>\n",
       "    </tr>\n",
       "    <tr>\n",
       "      <td>2</td>\n",
       "      <td>2018.06.09</td>\n",
       "      <td>09-Jun-2018</td>\n",
       "      <td>2018.0</td>\n",
       "      <td>Invalid</td>\n",
       "      <td>USA</td>\n",
       "      <td>Hawaii</td>\n",
       "      <td>Habush, Oahu</td>\n",
       "      <td>Surfing</td>\n",
       "      <td>John Denges</td>\n",
       "      <td>M</td>\n",
       "      <td>...</td>\n",
       "      <td>NaN</td>\n",
       "      <td>K.McMurray, TrackingSharks.com</td>\n",
       "      <td>2018.06.09-Denges.pdf</td>\n",
       "      <td>http://sharkattackfile.net/spreadsheets/pdf_di...</td>\n",
       "      <td>http://sharkattackfile.net/spreadsheets/pdf_di...</td>\n",
       "      <td>2018.06.09</td>\n",
       "      <td>2018.06.09</td>\n",
       "      <td>6301.0</td>\n",
       "      <td>NaN</td>\n",
       "      <td>NaN</td>\n",
       "    </tr>\n",
       "    <tr>\n",
       "      <td>3</td>\n",
       "      <td>2018.06.08</td>\n",
       "      <td>08-Jun-2018</td>\n",
       "      <td>2018.0</td>\n",
       "      <td>Unprovoked</td>\n",
       "      <td>AUSTRALIA</td>\n",
       "      <td>New South Wales</td>\n",
       "      <td>Arrawarra Headland</td>\n",
       "      <td>Surfing</td>\n",
       "      <td>male</td>\n",
       "      <td>M</td>\n",
       "      <td>...</td>\n",
       "      <td>2 m shark</td>\n",
       "      <td>B. Myatt, GSAF</td>\n",
       "      <td>2018.06.08-Arrawarra.pdf</td>\n",
       "      <td>http://sharkattackfile.net/spreadsheets/pdf_di...</td>\n",
       "      <td>http://sharkattackfile.net/spreadsheets/pdf_di...</td>\n",
       "      <td>2018.06.08</td>\n",
       "      <td>2018.06.08</td>\n",
       "      <td>6300.0</td>\n",
       "      <td>NaN</td>\n",
       "      <td>NaN</td>\n",
       "    </tr>\n",
       "    <tr>\n",
       "      <td>4</td>\n",
       "      <td>2018.06.04</td>\n",
       "      <td>04-Jun-2018</td>\n",
       "      <td>2018.0</td>\n",
       "      <td>Provoked</td>\n",
       "      <td>MEXICO</td>\n",
       "      <td>Colima</td>\n",
       "      <td>La Ticla</td>\n",
       "      <td>Free diving</td>\n",
       "      <td>Gustavo Ramos</td>\n",
       "      <td>M</td>\n",
       "      <td>...</td>\n",
       "      <td>Tiger shark, 3m</td>\n",
       "      <td>A .Kipper</td>\n",
       "      <td>2018.06.04-Ramos.pdf</td>\n",
       "      <td>http://sharkattackfile.net/spreadsheets/pdf_di...</td>\n",
       "      <td>http://sharkattackfile.net/spreadsheets/pdf_di...</td>\n",
       "      <td>2018.06.04</td>\n",
       "      <td>2018.06.04</td>\n",
       "      <td>6299.0</td>\n",
       "      <td>NaN</td>\n",
       "      <td>NaN</td>\n",
       "    </tr>\n",
       "  </tbody>\n",
       "</table>\n",
       "<p>5 rows × 24 columns</p>\n",
       "</div>"
      ],
      "text/plain": [
       "  Case Number         Date    Year        Type    Country             Area  \\\n",
       "0  2018.06.25  25-Jun-2018  2018.0     Boating        USA       California   \n",
       "1  2018.06.18  18-Jun-2018  2018.0  Unprovoked        USA          Georgia   \n",
       "2  2018.06.09  09-Jun-2018  2018.0     Invalid        USA           Hawaii   \n",
       "3  2018.06.08  08-Jun-2018  2018.0  Unprovoked  AUSTRALIA  New South Wales   \n",
       "4  2018.06.04  04-Jun-2018  2018.0    Provoked     MEXICO           Colima   \n",
       "\n",
       "                         Location     Activity             Name Sex   ...  \\\n",
       "0     Oceanside, San Diego County     Paddling      Julie Wolfe    F  ...   \n",
       "1  St. Simon Island, Glynn County     Standing  Adyson McNeely     F  ...   \n",
       "2                    Habush, Oahu      Surfing      John Denges    M  ...   \n",
       "3              Arrawarra Headland      Surfing             male    M  ...   \n",
       "4                        La Ticla  Free diving   Gustavo Ramos     M  ...   \n",
       "\n",
       "          Species           Investigator or Source                       pdf  \\\n",
       "0      White shark                R. Collier, GSAF      2018.06.25-Wolfe.pdf   \n",
       "1              NaN  K.McMurray, TrackingSharks.com    2018.06.18-McNeely.pdf   \n",
       "2              NaN  K.McMurray, TrackingSharks.com     2018.06.09-Denges.pdf   \n",
       "3        2 m shark                  B. Myatt, GSAF  2018.06.08-Arrawarra.pdf   \n",
       "4  Tiger shark, 3m                       A .Kipper      2018.06.04-Ramos.pdf   \n",
       "\n",
       "                                        href formula  \\\n",
       "0  http://sharkattackfile.net/spreadsheets/pdf_di...   \n",
       "1  http://sharkattackfile.net/spreadsheets/pdf_di...   \n",
       "2  http://sharkattackfile.net/spreadsheets/pdf_di...   \n",
       "3  http://sharkattackfile.net/spreadsheets/pdf_di...   \n",
       "4  http://sharkattackfile.net/spreadsheets/pdf_di...   \n",
       "\n",
       "                                                href Case Number.1  \\\n",
       "0  http://sharkattackfile.net/spreadsheets/pdf_di...    2018.06.25   \n",
       "1  http://sharkattackfile.net/spreadsheets/pdf_di...    2018.06.18   \n",
       "2  http://sharkattackfile.net/spreadsheets/pdf_di...    2018.06.09   \n",
       "3  http://sharkattackfile.net/spreadsheets/pdf_di...    2018.06.08   \n",
       "4  http://sharkattackfile.net/spreadsheets/pdf_di...    2018.06.04   \n",
       "\n",
       "  Case Number.2 original order Unnamed: 22 Unnamed: 23  \n",
       "0    2018.06.25         6303.0         NaN         NaN  \n",
       "1    2018.06.18         6302.0         NaN         NaN  \n",
       "2    2018.06.09         6301.0         NaN         NaN  \n",
       "3    2018.06.08         6300.0         NaN         NaN  \n",
       "4    2018.06.04         6299.0         NaN         NaN  \n",
       "\n",
       "[5 rows x 24 columns]"
      ]
     },
     "execution_count": 2,
     "metadata": {},
     "output_type": "execute_result"
    }
   ],
   "source": [
    "shark_atck_df = pd.read_csv('attacks.csv', encoding='latin-1')\n",
    "shark_atck_df.head()"
   ]
  },
  {
   "cell_type": "code",
   "execution_count": 3,
   "metadata": {},
   "outputs": [
    {
     "name": "stdout",
     "output_type": "stream",
     "text": [
      "<class 'pandas.core.frame.DataFrame'>\n",
      "RangeIndex: 25723 entries, 0 to 25722\n",
      "Data columns (total 24 columns):\n",
      "Case Number               8702 non-null object\n",
      "Date                      6302 non-null object\n",
      "Year                      6300 non-null float64\n",
      "Type                      6298 non-null object\n",
      "Country                   6252 non-null object\n",
      "Area                      5847 non-null object\n",
      "Location                  5762 non-null object\n",
      "Activity                  5758 non-null object\n",
      "Name                      6092 non-null object\n",
      "Sex                       5737 non-null object\n",
      "Age                       3471 non-null object\n",
      "Injury                    6274 non-null object\n",
      "Fatal (Y/N)               5763 non-null object\n",
      "Time                      2948 non-null object\n",
      "Species                   3464 non-null object\n",
      "Investigator or Source    6285 non-null object\n",
      "pdf                       6302 non-null object\n",
      "href formula              6301 non-null object\n",
      "href                      6302 non-null object\n",
      "Case Number.1             6302 non-null object\n",
      "Case Number.2             6302 non-null object\n",
      "original order            6309 non-null float64\n",
      "Unnamed: 22               1 non-null object\n",
      "Unnamed: 23               2 non-null object\n",
      "dtypes: float64(2), object(22)\n",
      "memory usage: 4.7+ MB\n"
     ]
    }
   ],
   "source": [
    "shark_atck_df.info()"
   ]
  },
  {
   "cell_type": "markdown",
   "metadata": {},
   "source": [
    "The dataframe has a total of 25723 entries and 24 columns. All of the columns have more than 17,000 null values. Checking all the columns' names, I can deduce that not all of them will be useful for my research. Let's select the ones that will be, and generate a new dataframe with them:\n",
    "\n",
    " - Case Number, Date, Year, Case Number 1 & 2: checking the sample above I can see that every of those columns is related with the date the attack took place. The one with more non-null values is 'Case Number', with 8702. I would like to check if this column covers the rest (if some dates are not in 'Case Number' but in other column)."
   ]
  },
  {
   "cell_type": "code",
   "execution_count": 4,
   "metadata": {},
   "outputs": [
    {
     "data": {
      "text/plain": [
       "<matplotlib.axes._subplots.AxesSubplot at 0x7fe4b09b9690>"
      ]
     },
     "execution_count": 4,
     "metadata": {},
     "output_type": "execute_result"
    },
    {
     "data": {
      "image/png": "[encoded data removed]",
      "text/plain": [
       "<Figure size 432x288 with 1 Axes>"
      ]
     },
     "metadata": {
      "needs_background": "light"
     },
     "output_type": "display_data"
    }
   ],
   "source": [
    "dates = shark_atck_df.iloc[:,[0,1,2,19,20]]\n",
    "sns.heatmap(dates.isnull(), cbar=False)"
   ]
  },
  {
   "cell_type": "markdown",
   "metadata": {},
   "source": [
    "As the heatmap shows, all the dates in the rest of the columns and beyond are covered by 'Case Number', so I will use that column as date.\n",
    "\n",
    " - Time: with nearly 3000 non-nulls, I will keep it as it could be usefull.\n",
    " - Country: more than 5700 rows with all this information covered. The 'Country' column will be the main source related with this information.\n",
    " - Sex, Age: more than 5700 non-null values for sex; more than 3400 for Age.\n",
    " - Activity: what the person attacked was doing when the attack happened. There are more than 5700 non-nulls.\n",
    " - Type: the type of attack, there are nearly 6300 non-null values.\n",
    " - Injury & Fatal: the kind of injury and if it was rather fatal or not. Nearly 6300 non-null entries for the injuries; more than 5700 for the 'Fatal' column.\n",
    "\n",
    "Let's create the new dataframe with the selected columns sorted, and change the name of 'Case Number' to 'Date'."
   ]
  },
  {
   "cell_type": "code",
   "execution_count": 5,
   "metadata": {},
   "outputs": [
    {
     "name": "stderr",
     "output_type": "stream",
     "text": [
      "/Applications/anaconda3/lib/python3.7/site-packages/pandas/core/frame.py:4223: SettingWithCopyWarning: \n",
      "A value is trying to be set on a copy of a slice from a DataFrame\n",
      "\n",
      "See the caveats in the documentation: http://pandas.pydata.org/pandas-docs/stable/user_guide/indexing.html#returning-a-view-versus-a-copy\n",
      "  return super().rename(**kwargs)\n"
     ]
    },
    {
     "data": {
      "text/html": [
       "<div>\n",
       "<style scoped>\n",
       "    .dataframe tbody tr th:only-of-type {\n",
       "        vertical-align: middle;\n",
       "    }\n",
       "\n",
       "    .dataframe tbody tr th {\n",
       "        vertical-align: top;\n",
       "    }\n",
       "\n",
       "    .dataframe thead th {\n",
       "        text-align: right;\n",
       "    }\n",
       "</style>\n",
       "<table border=\"1\" class=\"dataframe\">\n",
       "  <thead>\n",
       "    <tr style=\"text-align: right;\">\n",
       "      <th></th>\n",
       "      <th>Date</th>\n",
       "      <th>Time</th>\n",
       "      <th>Country</th>\n",
       "      <th>Sex</th>\n",
       "      <th>Age</th>\n",
       "      <th>Activity</th>\n",
       "      <th>Type</th>\n",
       "      <th>Fatal (Y/N)</th>\n",
       "    </tr>\n",
       "  </thead>\n",
       "  <tbody>\n",
       "    <tr>\n",
       "      <td>0</td>\n",
       "      <td>2018.06.25</td>\n",
       "      <td>18h00</td>\n",
       "      <td>USA</td>\n",
       "      <td>F</td>\n",
       "      <td>57</td>\n",
       "      <td>Paddling</td>\n",
       "      <td>Boating</td>\n",
       "      <td>N</td>\n",
       "    </tr>\n",
       "    <tr>\n",
       "      <td>1</td>\n",
       "      <td>2018.06.18</td>\n",
       "      <td>14h00  -15h00</td>\n",
       "      <td>USA</td>\n",
       "      <td>F</td>\n",
       "      <td>11</td>\n",
       "      <td>Standing</td>\n",
       "      <td>Unprovoked</td>\n",
       "      <td>N</td>\n",
       "    </tr>\n",
       "    <tr>\n",
       "      <td>2</td>\n",
       "      <td>2018.06.09</td>\n",
       "      <td>07h45</td>\n",
       "      <td>USA</td>\n",
       "      <td>M</td>\n",
       "      <td>48</td>\n",
       "      <td>Surfing</td>\n",
       "      <td>Invalid</td>\n",
       "      <td>N</td>\n",
       "    </tr>\n",
       "    <tr>\n",
       "      <td>3</td>\n",
       "      <td>2018.06.08</td>\n",
       "      <td>NaN</td>\n",
       "      <td>AUSTRALIA</td>\n",
       "      <td>M</td>\n",
       "      <td>NaN</td>\n",
       "      <td>Surfing</td>\n",
       "      <td>Unprovoked</td>\n",
       "      <td>N</td>\n",
       "    </tr>\n",
       "    <tr>\n",
       "      <td>4</td>\n",
       "      <td>2018.06.04</td>\n",
       "      <td>NaN</td>\n",
       "      <td>MEXICO</td>\n",
       "      <td>M</td>\n",
       "      <td>NaN</td>\n",
       "      <td>Free diving</td>\n",
       "      <td>Provoked</td>\n",
       "      <td>N</td>\n",
       "    </tr>\n",
       "  </tbody>\n",
       "</table>\n",
       "</div>"
      ],
      "text/plain": [
       "         Date           Time    Country Sex   Age     Activity        Type  \\\n",
       "0  2018.06.25          18h00        USA    F   57     Paddling     Boating   \n",
       "1  2018.06.18  14h00  -15h00        USA    F   11     Standing  Unprovoked   \n",
       "2  2018.06.09          07h45        USA    M   48      Surfing     Invalid   \n",
       "3  2018.06.08            NaN  AUSTRALIA    M  NaN      Surfing  Unprovoked   \n",
       "4  2018.06.04            NaN     MEXICO    M  NaN  Free diving    Provoked   \n",
       "\n",
       "  Fatal (Y/N)  \n",
       "0           N  \n",
       "1           N  \n",
       "2           N  \n",
       "3           N  \n",
       "4           N  "
      ]
     },
     "execution_count": 5,
     "metadata": {},
     "output_type": "execute_result"
    }
   ],
   "source": [
    "attacks_df = shark_atck_df.iloc[:,[0,13,4,9,10,7,3,12]]\n",
    "attacks_df.rename(columns={'Case Number': 'Date'}, inplace=True)\n",
    "attacks_df.head()"
   ]
  },
  {
   "cell_type": "markdown",
   "metadata": {},
   "source": [
    "Now let's see through a heatmap how is the distribution of the non-null values in our new dataframe, in order to see how many rows have all its values as null:"
   ]
  },
  {
   "cell_type": "code",
   "execution_count": 6,
   "metadata": {
    "scrolled": true
   },
   "outputs": [
    {
     "data": {
      "text/plain": [
       "<matplotlib.axes._subplots.AxesSubplot at 0x7fe4b17bd210>"
      ]
     },
     "execution_count": 6,
     "metadata": {},
     "output_type": "execute_result"
    },
    {
     "data": {
      "image/png": "[encoded data removed]",
      "text/plain": [
       "<Figure size 432x288 with 1 Axes>"
      ]
     },
     "metadata": {
      "needs_background": "light"
     },
     "output_type": "display_data"
    }
   ],
   "source": [
    "sns.heatmap(attacks_df.isnull(), cbar=False)"
   ]
  },
  {
   "cell_type": "code",
   "execution_count": 7,
   "metadata": {},
   "outputs": [
    {
     "data": {
      "text/plain": [
       "Date           8702\n",
       "Type           6298\n",
       "Country        6252\n",
       "Fatal (Y/N)    5763\n",
       "Activity       5758\n",
       "Sex            5737\n",
       "Age            3471\n",
       "Time           2948\n",
       "dtype: int64"
      ]
     },
     "execution_count": 7,
     "metadata": {},
     "output_type": "execute_result"
    }
   ],
   "source": [
    "attacks_df.count().sort_values(ascending=False)"
   ]
  },
  {
   "cell_type": "markdown",
   "metadata": {},
   "source": [
    "As the heatmap shows, 2/3 of the dataframe has all its rows filled with null values in absolutely all its columns. Of course, all this rows will be deleted. Of the reminder third, at least 1/4 has just the 'Date' column filled, so I will also dump all those values and create a separate series with all the dates, just in case I want to perform a historical of shark attacks throught the years or something similar. \n",
    "\n",
    "In order to attemp the dataframe, I will keep those rows where the values in the column 'Type' are non-null, as it is the column with the largest number of those after 'Date'. This will let me with a 6298-row dataframe."
   ]
  },
  {
   "cell_type": "code",
   "execution_count": 8,
   "metadata": {},
   "outputs": [
    {
     "data": {
      "text/html": [
       "<div>\n",
       "<style scoped>\n",
       "    .dataframe tbody tr th:only-of-type {\n",
       "        vertical-align: middle;\n",
       "    }\n",
       "\n",
       "    .dataframe tbody tr th {\n",
       "        vertical-align: top;\n",
       "    }\n",
       "\n",
       "    .dataframe thead th {\n",
       "        text-align: right;\n",
       "    }\n",
       "</style>\n",
       "<table border=\"1\" class=\"dataframe\">\n",
       "  <thead>\n",
       "    <tr style=\"text-align: right;\">\n",
       "      <th></th>\n",
       "      <th>Date</th>\n",
       "      <th>Time</th>\n",
       "      <th>Country</th>\n",
       "      <th>Sex</th>\n",
       "      <th>Age</th>\n",
       "      <th>Activity</th>\n",
       "      <th>Type</th>\n",
       "      <th>Fatal (Y/N)</th>\n",
       "    </tr>\n",
       "  </thead>\n",
       "  <tbody>\n",
       "    <tr>\n",
       "      <th>0</th>\n",
       "      <td>2018.06.25</td>\n",
       "      <td>18h00</td>\n",
       "      <td>USA</td>\n",
       "      <td>F</td>\n",
       "      <td>57</td>\n",
       "      <td>Paddling</td>\n",
       "      <td>Boating</td>\n",
       "      <td>N</td>\n",
       "    </tr>\n",
       "    <tr>\n",
       "      <th>1</th>\n",
       "      <td>2018.06.18</td>\n",
       "      <td>14h00  -15h00</td>\n",
       "      <td>USA</td>\n",
       "      <td>F</td>\n",
       "      <td>11</td>\n",
       "      <td>Standing</td>\n",
       "      <td>Unprovoked</td>\n",
       "      <td>N</td>\n",
       "    </tr>\n",
       "    <tr>\n",
       "      <th>2</th>\n",
       "      <td>2018.06.09</td>\n",
       "      <td>07h45</td>\n",
       "      <td>USA</td>\n",
       "      <td>M</td>\n",
       "      <td>48</td>\n",
       "      <td>Surfing</td>\n",
       "      <td>Invalid</td>\n",
       "      <td>N</td>\n",
       "    </tr>\n",
       "    <tr>\n",
       "      <th>3</th>\n",
       "      <td>2018.06.08</td>\n",
       "      <td>NaN</td>\n",
       "      <td>AUSTRALIA</td>\n",
       "      <td>M</td>\n",
       "      <td>NaN</td>\n",
       "      <td>Surfing</td>\n",
       "      <td>Unprovoked</td>\n",
       "      <td>N</td>\n",
       "    </tr>\n",
       "    <tr>\n",
       "      <th>4</th>\n",
       "      <td>2018.06.04</td>\n",
       "      <td>NaN</td>\n",
       "      <td>MEXICO</td>\n",
       "      <td>M</td>\n",
       "      <td>NaN</td>\n",
       "      <td>Free diving</td>\n",
       "      <td>Provoked</td>\n",
       "      <td>N</td>\n",
       "    </tr>\n",
       "    <tr>\n",
       "      <th>...</th>\n",
       "      <td>...</td>\n",
       "      <td>...</td>\n",
       "      <td>...</td>\n",
       "      <td>...</td>\n",
       "      <td>...</td>\n",
       "      <td>...</td>\n",
       "      <td>...</td>\n",
       "      <td>...</td>\n",
       "    </tr>\n",
       "    <tr>\n",
       "      <th>6297</th>\n",
       "      <td>ND.0005</td>\n",
       "      <td>NaN</td>\n",
       "      <td>AUSTRALIA</td>\n",
       "      <td>M</td>\n",
       "      <td>NaN</td>\n",
       "      <td>Diving</td>\n",
       "      <td>Unprovoked</td>\n",
       "      <td>Y</td>\n",
       "    </tr>\n",
       "    <tr>\n",
       "      <th>6298</th>\n",
       "      <td>ND.0004</td>\n",
       "      <td>NaN</td>\n",
       "      <td>AUSTRALIA</td>\n",
       "      <td>M</td>\n",
       "      <td>NaN</td>\n",
       "      <td>Pearl diving</td>\n",
       "      <td>Unprovoked</td>\n",
       "      <td>Y</td>\n",
       "    </tr>\n",
       "    <tr>\n",
       "      <th>6299</th>\n",
       "      <td>ND.0003</td>\n",
       "      <td>NaN</td>\n",
       "      <td>USA</td>\n",
       "      <td>M</td>\n",
       "      <td>NaN</td>\n",
       "      <td>Swimming</td>\n",
       "      <td>Unprovoked</td>\n",
       "      <td>Y</td>\n",
       "    </tr>\n",
       "    <tr>\n",
       "      <th>6300</th>\n",
       "      <td>ND.0002</td>\n",
       "      <td>NaN</td>\n",
       "      <td>PANAMA</td>\n",
       "      <td>M</td>\n",
       "      <td>NaN</td>\n",
       "      <td>NaN</td>\n",
       "      <td>Unprovoked</td>\n",
       "      <td>Y</td>\n",
       "    </tr>\n",
       "    <tr>\n",
       "      <th>6301</th>\n",
       "      <td>ND.0001</td>\n",
       "      <td>NaN</td>\n",
       "      <td>CEYLON (SRI LANKA)</td>\n",
       "      <td>M</td>\n",
       "      <td>15</td>\n",
       "      <td>Swimming</td>\n",
       "      <td>Unprovoked</td>\n",
       "      <td>Y</td>\n",
       "    </tr>\n",
       "  </tbody>\n",
       "</table>\n",
       "<p>6298 rows × 8 columns</p>\n",
       "</div>"
      ],
      "text/plain": [
       "            Date           Time             Country Sex   Age      Activity  \\\n",
       "0     2018.06.25          18h00                 USA    F   57      Paddling   \n",
       "1     2018.06.18  14h00  -15h00                 USA    F   11      Standing   \n",
       "2     2018.06.09          07h45                 USA    M   48       Surfing   \n",
       "3     2018.06.08            NaN           AUSTRALIA    M  NaN       Surfing   \n",
       "4     2018.06.04            NaN              MEXICO    M  NaN   Free diving   \n",
       "...          ...            ...                 ...  ...  ...           ...   \n",
       "6297     ND.0005            NaN           AUSTRALIA    M  NaN        Diving   \n",
       "6298     ND.0004            NaN           AUSTRALIA    M  NaN  Pearl diving   \n",
       "6299     ND.0003            NaN                 USA    M  NaN      Swimming   \n",
       "6300     ND.0002            NaN              PANAMA    M  NaN           NaN   \n",
       "6301     ND.0001            NaN  CEYLON (SRI LANKA)    M   15      Swimming   \n",
       "\n",
       "            Type Fatal (Y/N)  \n",
       "0        Boating           N  \n",
       "1     Unprovoked           N  \n",
       "2        Invalid           N  \n",
       "3     Unprovoked           N  \n",
       "4       Provoked           N  \n",
       "...          ...         ...  \n",
       "6297  Unprovoked           Y  \n",
       "6298  Unprovoked           Y  \n",
       "6299  Unprovoked           Y  \n",
       "6300  Unprovoked           Y  \n",
       "6301  Unprovoked           Y  \n",
       "\n",
       "[6298 rows x 8 columns]"
      ]
     },
     "execution_count": 8,
     "metadata": {},
     "output_type": "execute_result"
    }
   ],
   "source": [
    "dates_s = attacks_df['Date'].dropna() #Series with all the dates\n",
    "attacks_df.dropna(how='all', subset=['Type'], inplace=True) #Dataframe\n",
    "attacks_df"
   ]
  },
  {
   "cell_type": "markdown",
   "metadata": {},
   "source": [
    "## Standardizing Date column\n",
    "\n",
    "Checking column by column, the first possible problem we can see is the format of the 'Date' column. As it can be seen with the value_counts() function, some dates have letters, marks or other characters like '.', '/' or similar. I should remove every character that is not numerical from the date, so afterwards I can get year, month and day from the reminder values. \n",
    "\n",
    "As it is shown above, the dates are collected, in general, with the format 'YYYY.MM.DD' as a string. So, what I can do is slice that string with indexes and then assign those to the column 'Year', 'Month' or 'Day'. Let's perform the operation."
   ]
  },
  {
   "cell_type": "code",
   "execution_count": 9,
   "metadata": {
    "scrolled": true
   },
   "outputs": [
    {
     "data": {
      "text/plain": [
       "0       20180625\n",
       "1       20180618\n",
       "2       20180609\n",
       "3       20180608\n",
       "4       20180604\n",
       "          ...   \n",
       "6297        0005\n",
       "6298        0004\n",
       "6299        0003\n",
       "6300        0002\n",
       "6301        0001\n",
       "Name: Date, Length: 6298, dtype: object"
      ]
     },
     "execution_count": 9,
     "metadata": {},
     "output_type": "execute_result"
    }
   ],
   "source": [
    "attacks_df['Date'] = [re.sub(r\"[A-Za-z.,&-/ ]\", \"\", str(x)) for x in attacks_df['Date']]\n",
    "attacks_df['Date']"
   ]
  },
  {
   "cell_type": "markdown",
   "metadata": {},
   "source": [
    "Checking the reminder strings, we can see there are some cases where the expected format is not fulfilled (strngs are either bigger or smaller). Those are just a few cases, so checking them more in detail, we can see that, in cases where the lenght of the string is larger, there is just one more number at the end that should be removed; whilst in cases where the string is shorter, there is just one date that probably is missing its day, while the others seem to be cases named with a different nomenclature."
   ]
  },
  {
   "cell_type": "code",
   "execution_count": 10,
   "metadata": {},
   "outputs": [
    {
     "name": "stdout",
     "output_type": "stream",
     "text": [
      "['200206132', '200206131', '186300004', '186300003', '186300002']\n",
      "['', '186405', '0154', '0153', '0152', '0151', '0150', '0149', '0148', '1940', '0139', '0138', '0136', '0135', '0134', '0133', '0132', '0130', '0129', '0127', '0124', '0123', '0122', '0119', '0118', '0116', '0115', '0114', '0113', '0111', '0110', '0109', '0108', '0107', '0106', '0104', '0102', '0100', '0097', '0096', '0095', '0094', '0093', '0091', '0090', '0089', '0088', '0087', '0086', '0085', '0084', '0083', '0082', '0081', '0078', '0076', '0075', '0074', '0073', '0069', '0068', '0066', '0065', '0064', '0063', '0062', '0060', '0059', '0058', '0057', '0056', '0055', '0054', '0053', '0052', '0051', '0049', '0048', '0047', '0046', '0044', '0043', '0042', '0041', '0040', '0039', '0038', '0037', '0036', '0035', '0034', '0033', '0032', '0031', '0030', '0028', '0027', '0026', '0025', '0024', '0023', '0022', '0021', '0020', '0019', '0018', '0017', '0016', '0015', '0014', '0013', '0012', '0011', '0010', '0009', '0008', '0007', '0006', '0005', '0004', '0003', '0002', '0001']\n"
     ]
    }
   ],
   "source": [
    "fechas_m = [x for x in attacks_df['Date'] if len(x) > 8]\n",
    "fechas_l = [x for x in attacks_df['Date'] if len(x) < 8]\n",
    "print(fechas_m)\n",
    "print(fechas_l)"
   ]
  },
  {
   "cell_type": "markdown",
   "metadata": {},
   "source": [
    "Let's try to fix the larger dates and discover more about the shorter"
   ]
  },
  {
   "cell_type": "code",
   "execution_count": 11,
   "metadata": {},
   "outputs": [
    {
     "data": {
      "text/plain": [
       "[]"
      ]
     },
     "execution_count": 11,
     "metadata": {},
     "output_type": "execute_result"
    }
   ],
   "source": [
    "attacks_df['Date'] = [x[:8] if len(x) > 8 else x for x in attacks_df['Date']]\n",
    "[x for x in attacks_df['Date'] if len(x) > 8]"
   ]
  },
  {
   "cell_type": "markdown",
   "metadata": {},
   "source": [
    "### Shorter date strings\n",
    "\n",
    "In order to check on those date that does not accomplish with the standards, I will create a new dataframe with all the columns that where related with the date of the attack in the original dataframe. These are 'Case Number', 'Date', 'Year', 'Case Number.1' and 'Case Number.2'. I will also dump the null values and standarize the strings in 'Case Number', as I done in 'attacks_df', in order to get the correlative rows so I can merge data after this analysis if necessary."
   ]
  },
  {
   "cell_type": "code",
   "execution_count": 12,
   "metadata": {},
   "outputs": [],
   "source": [
    "dates = shark_atck_df.iloc[:,[0,1,2,19,20]]"
   ]
  },
  {
   "cell_type": "code",
   "execution_count": 13,
   "metadata": {
    "scrolled": false
   },
   "outputs": [],
   "source": [
    "dates.replace('nan', np.NaN, inplace=True)\n",
    "dates.replace(np.nan, np.NaN, inplace=True)\n",
    "dates.replace('0', np.NaN, inplace=True)\n",
    "dates.replace(0.0, np.NaN, inplace=True)\n",
    "dates.replace('xx', np.NaN, inplace=True)"
   ]
  },
  {
   "cell_type": "code",
   "execution_count": 14,
   "metadata": {},
   "outputs": [],
   "source": [
    "dates.dropna(how='all', inplace=True)"
   ]
  },
  {
   "cell_type": "code",
   "execution_count": 15,
   "metadata": {},
   "outputs": [
    {
     "data": {
      "text/html": [
       "<div>\n",
       "<style scoped>\n",
       "    .dataframe tbody tr th:only-of-type {\n",
       "        vertical-align: middle;\n",
       "    }\n",
       "\n",
       "    .dataframe tbody tr th {\n",
       "        vertical-align: top;\n",
       "    }\n",
       "\n",
       "    .dataframe thead th {\n",
       "        text-align: right;\n",
       "    }\n",
       "</style>\n",
       "<table border=\"1\" class=\"dataframe\">\n",
       "  <thead>\n",
       "    <tr style=\"text-align: right;\">\n",
       "      <th></th>\n",
       "      <th>Case Number</th>\n",
       "      <th>Date</th>\n",
       "      <th>Year</th>\n",
       "      <th>Case Number.1</th>\n",
       "      <th>Case Number.2</th>\n",
       "    </tr>\n",
       "  </thead>\n",
       "  <tbody>\n",
       "    <tr>\n",
       "      <th>0</th>\n",
       "      <td>20180625</td>\n",
       "      <td>25-Jun-2018</td>\n",
       "      <td>2018.0</td>\n",
       "      <td>2018.06.25</td>\n",
       "      <td>2018.06.25</td>\n",
       "    </tr>\n",
       "    <tr>\n",
       "      <th>1</th>\n",
       "      <td>20180618</td>\n",
       "      <td>18-Jun-2018</td>\n",
       "      <td>2018.0</td>\n",
       "      <td>2018.06.18</td>\n",
       "      <td>2018.06.18</td>\n",
       "    </tr>\n",
       "    <tr>\n",
       "      <th>2</th>\n",
       "      <td>20180609</td>\n",
       "      <td>09-Jun-2018</td>\n",
       "      <td>2018.0</td>\n",
       "      <td>2018.06.09</td>\n",
       "      <td>2018.06.09</td>\n",
       "    </tr>\n",
       "    <tr>\n",
       "      <th>3</th>\n",
       "      <td>20180608</td>\n",
       "      <td>08-Jun-2018</td>\n",
       "      <td>2018.0</td>\n",
       "      <td>2018.06.08</td>\n",
       "      <td>2018.06.08</td>\n",
       "    </tr>\n",
       "    <tr>\n",
       "      <th>4</th>\n",
       "      <td>20180604</td>\n",
       "      <td>04-Jun-2018</td>\n",
       "      <td>2018.0</td>\n",
       "      <td>2018.06.04</td>\n",
       "      <td>2018.06.04</td>\n",
       "    </tr>\n",
       "    <tr>\n",
       "      <th>...</th>\n",
       "      <td>...</td>\n",
       "      <td>...</td>\n",
       "      <td>...</td>\n",
       "      <td>...</td>\n",
       "      <td>...</td>\n",
       "    </tr>\n",
       "    <tr>\n",
       "      <th>6297</th>\n",
       "      <td>0005</td>\n",
       "      <td>Before 1903</td>\n",
       "      <td>NaN</td>\n",
       "      <td>ND.0005</td>\n",
       "      <td>ND.0005</td>\n",
       "    </tr>\n",
       "    <tr>\n",
       "      <th>6298</th>\n",
       "      <td>0004</td>\n",
       "      <td>Before 1903</td>\n",
       "      <td>NaN</td>\n",
       "      <td>ND.0004</td>\n",
       "      <td>ND.0004</td>\n",
       "    </tr>\n",
       "    <tr>\n",
       "      <th>6299</th>\n",
       "      <td>0003</td>\n",
       "      <td>1900-1905</td>\n",
       "      <td>NaN</td>\n",
       "      <td>ND.0003</td>\n",
       "      <td>ND.0003</td>\n",
       "    </tr>\n",
       "    <tr>\n",
       "      <th>6300</th>\n",
       "      <td>0002</td>\n",
       "      <td>1883-1889</td>\n",
       "      <td>NaN</td>\n",
       "      <td>ND.0002</td>\n",
       "      <td>ND.0002</td>\n",
       "    </tr>\n",
       "    <tr>\n",
       "      <th>6301</th>\n",
       "      <td>0001</td>\n",
       "      <td>1845-1853</td>\n",
       "      <td>NaN</td>\n",
       "      <td>ND.0001</td>\n",
       "      <td>ND.0001</td>\n",
       "    </tr>\n",
       "  </tbody>\n",
       "</table>\n",
       "<p>6302 rows × 5 columns</p>\n",
       "</div>"
      ],
      "text/plain": [
       "     Case Number         Date    Year Case Number.1 Case Number.2\n",
       "0       20180625  25-Jun-2018  2018.0    2018.06.25    2018.06.25\n",
       "1       20180618  18-Jun-2018  2018.0    2018.06.18    2018.06.18\n",
       "2       20180609  09-Jun-2018  2018.0    2018.06.09    2018.06.09\n",
       "3       20180608  08-Jun-2018  2018.0    2018.06.08    2018.06.08\n",
       "4       20180604  04-Jun-2018  2018.0    2018.06.04    2018.06.04\n",
       "...          ...          ...     ...           ...           ...\n",
       "6297        0005  Before 1903     NaN       ND.0005       ND.0005\n",
       "6298        0004  Before 1903     NaN       ND.0004       ND.0004\n",
       "6299        0003    1900-1905     NaN       ND.0003       ND.0003\n",
       "6300        0002    1883-1889     NaN       ND.0002       ND.0002\n",
       "6301        0001    1845-1853     NaN       ND.0001       ND.0001\n",
       "\n",
       "[6302 rows x 5 columns]"
      ]
     },
     "execution_count": 15,
     "metadata": {},
     "output_type": "execute_result"
    }
   ],
   "source": [
    "dates['Case Number'] = [re.sub(r\"[A-Za-z.,&-/ ]\", \"\", str(x)) for x in dates['Case Number']]\n",
    "dates"
   ]
  },
  {
   "cell_type": "markdown",
   "metadata": {},
   "source": [
    "As we can see, 'dates' dataframe has the same number of rows of 'attacks_df', and the indexes correspond to the same values; so this new dataframe could be merged with no problems to 'attacks_df' in case we need it. Now, let's select all those rows where the string in the column 'Case Number' has a lenght shorter than 8 characters, and see if the rest of the columns could give us any clue about the dates of them."
   ]
  },
  {
   "cell_type": "code",
   "execution_count": 16,
   "metadata": {},
   "outputs": [
    {
     "data": {
      "text/html": [
       "<div>\n",
       "<style scoped>\n",
       "    .dataframe tbody tr th:only-of-type {\n",
       "        vertical-align: middle;\n",
       "    }\n",
       "\n",
       "    .dataframe tbody tr th {\n",
       "        vertical-align: top;\n",
       "    }\n",
       "\n",
       "    .dataframe thead th {\n",
       "        text-align: right;\n",
       "    }\n",
       "</style>\n",
       "<table border=\"1\" class=\"dataframe\">\n",
       "  <thead>\n",
       "    <tr style=\"text-align: right;\">\n",
       "      <th></th>\n",
       "      <th>Case Number</th>\n",
       "      <th>Date</th>\n",
       "      <th>Year</th>\n",
       "      <th>Case Number.1</th>\n",
       "      <th>Case Number.2</th>\n",
       "    </tr>\n",
       "  </thead>\n",
       "  <tbody>\n",
       "    <tr>\n",
       "      <th>5488</th>\n",
       "      <td></td>\n",
       "      <td>Reported 06-Sep-1905</td>\n",
       "      <td>1905.0</td>\n",
       "      <td>1905.09.06.R</td>\n",
       "      <td>1905.09.06.R</td>\n",
       "    </tr>\n",
       "    <tr>\n",
       "      <th>5944</th>\n",
       "      <td>186405</td>\n",
       "      <td>May-1864</td>\n",
       "      <td>1864.0</td>\n",
       "      <td>1864.05.00</td>\n",
       "      <td>1864.05.00</td>\n",
       "    </tr>\n",
       "    <tr>\n",
       "      <th>6181</th>\n",
       "      <td>0154</td>\n",
       "      <td>Before 1939</td>\n",
       "      <td>NaN</td>\n",
       "      <td>ND-0154</td>\n",
       "      <td>ND-0154</td>\n",
       "    </tr>\n",
       "    <tr>\n",
       "      <th>6182</th>\n",
       "      <td>0153</td>\n",
       "      <td>1990 or 1991</td>\n",
       "      <td>NaN</td>\n",
       "      <td>ND-0153</td>\n",
       "      <td>ND-0153</td>\n",
       "    </tr>\n",
       "    <tr>\n",
       "      <th>6183</th>\n",
       "      <td>0152</td>\n",
       "      <td>Before 2016</td>\n",
       "      <td>NaN</td>\n",
       "      <td>ND-0152</td>\n",
       "      <td>ND-0152</td>\n",
       "    </tr>\n",
       "    <tr>\n",
       "      <th>6184</th>\n",
       "      <td>0151</td>\n",
       "      <td>Before Oct-2009</td>\n",
       "      <td>NaN</td>\n",
       "      <td>ND-0151</td>\n",
       "      <td>ND-0151</td>\n",
       "    </tr>\n",
       "    <tr>\n",
       "      <th>6185</th>\n",
       "      <td>0150</td>\n",
       "      <td>Before 1934</td>\n",
       "      <td>NaN</td>\n",
       "      <td>ND-0150</td>\n",
       "      <td>ND-0150</td>\n",
       "    </tr>\n",
       "    <tr>\n",
       "      <th>6186</th>\n",
       "      <td>0149</td>\n",
       "      <td>Before 1934</td>\n",
       "      <td>NaN</td>\n",
       "      <td>ND-0149</td>\n",
       "      <td>ND-0149</td>\n",
       "    </tr>\n",
       "    <tr>\n",
       "      <th>6187</th>\n",
       "      <td>0148</td>\n",
       "      <td>2009?</td>\n",
       "      <td>NaN</td>\n",
       "      <td>ND-0148</td>\n",
       "      <td>ND-0148</td>\n",
       "    </tr>\n",
       "    <tr>\n",
       "      <th>6188</th>\n",
       "      <td>1940</td>\n",
       "      <td>Before 1930</td>\n",
       "      <td>NaN</td>\n",
       "      <td>ND-1940</td>\n",
       "      <td>ND-1940</td>\n",
       "    </tr>\n",
       "    <tr>\n",
       "      <th>6189</th>\n",
       "      <td>0139</td>\n",
       "      <td>1880-1899</td>\n",
       "      <td>NaN</td>\n",
       "      <td>ND-0139</td>\n",
       "      <td>ND-0139</td>\n",
       "    </tr>\n",
       "    <tr>\n",
       "      <th>6190</th>\n",
       "      <td>0138</td>\n",
       "      <td>Before 1909</td>\n",
       "      <td>NaN</td>\n",
       "      <td>ND-0138</td>\n",
       "      <td>ND-0138</td>\n",
       "    </tr>\n",
       "    <tr>\n",
       "      <th>6191</th>\n",
       "      <td>0136</td>\n",
       "      <td>Before 2012</td>\n",
       "      <td>NaN</td>\n",
       "      <td>ND-0136</td>\n",
       "      <td>ND-0136</td>\n",
       "    </tr>\n",
       "    <tr>\n",
       "      <th>6192</th>\n",
       "      <td>0135</td>\n",
       "      <td>Before 1916</td>\n",
       "      <td>NaN</td>\n",
       "      <td>ND-0135</td>\n",
       "      <td>ND-0135</td>\n",
       "    </tr>\n",
       "    <tr>\n",
       "      <th>6193</th>\n",
       "      <td>0134</td>\n",
       "      <td>Between   1951-1963</td>\n",
       "      <td>NaN</td>\n",
       "      <td>ND-0134</td>\n",
       "      <td>ND-0134</td>\n",
       "    </tr>\n",
       "  </tbody>\n",
       "</table>\n",
       "</div>"
      ],
      "text/plain": [
       "     Case Number                  Date    Year Case Number.1 Case Number.2\n",
       "5488              Reported 06-Sep-1905  1905.0  1905.09.06.R  1905.09.06.R\n",
       "5944      186405              May-1864  1864.0    1864.05.00    1864.05.00\n",
       "6181        0154           Before 1939     NaN       ND-0154       ND-0154\n",
       "6182        0153          1990 or 1991     NaN       ND-0153       ND-0153\n",
       "6183        0152           Before 2016     NaN       ND-0152       ND-0152\n",
       "6184        0151       Before Oct-2009     NaN       ND-0151       ND-0151\n",
       "6185        0150           Before 1934     NaN       ND-0150       ND-0150\n",
       "6186        0149           Before 1934     NaN       ND-0149       ND-0149\n",
       "6187        0148                 2009?     NaN       ND-0148       ND-0148\n",
       "6188        1940           Before 1930     NaN       ND-1940       ND-1940\n",
       "6189        0139             1880-1899     NaN       ND-0139       ND-0139\n",
       "6190        0138           Before 1909     NaN       ND-0138       ND-0138\n",
       "6191        0136           Before 2012     NaN       ND-0136       ND-0136\n",
       "6192        0135           Before 1916     NaN       ND-0135       ND-0135\n",
       "6193        0134   Between   1951-1963     NaN       ND-0134       ND-0134"
      ]
     },
     "execution_count": 16,
     "metadata": {},
     "output_type": "execute_result"
    }
   ],
   "source": [
    "dates_short = dates[dates['Case Number'].str.len() < 8]\n",
    "dates_short.head(15)"
   ]
  },
  {
   "cell_type": "markdown",
   "metadata": {},
   "source": [
    "Showing a few rows that accomplish that condition, I can see there are two on top that have a more completed date; and also that the 'Date' column has the years of the attack (or the range of years where the attack possibly took place) for some other rows, but nothing else. Let's keep just the year (or the last in the ranges), append to it a '0000' to complete the date and put the values in a new column."
   ]
  },
  {
   "cell_type": "code",
   "execution_count": 17,
   "metadata": {},
   "outputs": [],
   "source": [
    "dates_short['Date'] = [re.sub(r\"[A-Za-z.,&-/ ?]\", \"\", str(x)) for x in dates_short['Date']]\n",
    "dates_short = dates_short[dates_short['Date'].str.len() >= 4]\n",
    "dates_short['Case Number'] = [x[-4:]+'0000' for x in dates_short['Date']]"
   ]
  },
  {
   "cell_type": "code",
   "execution_count": 18,
   "metadata": {},
   "outputs": [
    {
     "data": {
      "text/html": [
       "<div>\n",
       "<style scoped>\n",
       "    .dataframe tbody tr th:only-of-type {\n",
       "        vertical-align: middle;\n",
       "    }\n",
       "\n",
       "    .dataframe tbody tr th {\n",
       "        vertical-align: top;\n",
       "    }\n",
       "\n",
       "    .dataframe thead th {\n",
       "        text-align: right;\n",
       "    }\n",
       "</style>\n",
       "<table border=\"1\" class=\"dataframe\">\n",
       "  <thead>\n",
       "    <tr style=\"text-align: right;\">\n",
       "      <th></th>\n",
       "      <th>Case Number</th>\n",
       "      <th>Date</th>\n",
       "      <th>Year</th>\n",
       "      <th>Case Number.1</th>\n",
       "      <th>Case Number.2</th>\n",
       "    </tr>\n",
       "  </thead>\n",
       "  <tbody>\n",
       "    <tr>\n",
       "      <th>5488</th>\n",
       "      <td>19050000</td>\n",
       "      <td>061905</td>\n",
       "      <td>1905.0</td>\n",
       "      <td>1905.09.06.R</td>\n",
       "      <td>1905.09.06.R</td>\n",
       "    </tr>\n",
       "    <tr>\n",
       "      <th>5944</th>\n",
       "      <td>18640000</td>\n",
       "      <td>1864</td>\n",
       "      <td>1864.0</td>\n",
       "      <td>1864.05.00</td>\n",
       "      <td>1864.05.00</td>\n",
       "    </tr>\n",
       "    <tr>\n",
       "      <th>6181</th>\n",
       "      <td>19390000</td>\n",
       "      <td>1939</td>\n",
       "      <td>NaN</td>\n",
       "      <td>ND-0154</td>\n",
       "      <td>ND-0154</td>\n",
       "    </tr>\n",
       "    <tr>\n",
       "      <th>6182</th>\n",
       "      <td>19910000</td>\n",
       "      <td>19901991</td>\n",
       "      <td>NaN</td>\n",
       "      <td>ND-0153</td>\n",
       "      <td>ND-0153</td>\n",
       "    </tr>\n",
       "    <tr>\n",
       "      <th>6183</th>\n",
       "      <td>20160000</td>\n",
       "      <td>2016</td>\n",
       "      <td>NaN</td>\n",
       "      <td>ND-0152</td>\n",
       "      <td>ND-0152</td>\n",
       "    </tr>\n",
       "  </tbody>\n",
       "</table>\n",
       "</div>"
      ],
      "text/plain": [
       "     Case Number      Date    Year Case Number.1 Case Number.2\n",
       "5488    19050000    061905  1905.0  1905.09.06.R  1905.09.06.R\n",
       "5944    18640000      1864  1864.0    1864.05.00    1864.05.00\n",
       "6181    19390000      1939     NaN       ND-0154       ND-0154\n",
       "6182    19910000  19901991     NaN       ND-0153       ND-0153\n",
       "6183    20160000      2016     NaN       ND-0152       ND-0152"
      ]
     },
     "execution_count": 18,
     "metadata": {},
     "output_type": "execute_result"
    }
   ],
   "source": [
    "dates_short.head()"
   ]
  },
  {
   "cell_type": "markdown",
   "metadata": {},
   "source": [
    "Now 'Case Number' column has all the years in the same format as it is in 'attacks_df'. As we know more details about the two dates on top of the dataframe, let's also change them, so we get more information about those rows."
   ]
  },
  {
   "cell_type": "code",
   "execution_count": 19,
   "metadata": {},
   "outputs": [],
   "source": [
    "dates_short['Case Number'][5488] = '19050906'\n",
    "dates_short['Case Number'][5944] = '18640500'"
   ]
  },
  {
   "cell_type": "code",
   "execution_count": 20,
   "metadata": {},
   "outputs": [
    {
     "data": {
      "text/html": [
       "<div>\n",
       "<style scoped>\n",
       "    .dataframe tbody tr th:only-of-type {\n",
       "        vertical-align: middle;\n",
       "    }\n",
       "\n",
       "    .dataframe tbody tr th {\n",
       "        vertical-align: top;\n",
       "    }\n",
       "\n",
       "    .dataframe thead th {\n",
       "        text-align: right;\n",
       "    }\n",
       "</style>\n",
       "<table border=\"1\" class=\"dataframe\">\n",
       "  <thead>\n",
       "    <tr style=\"text-align: right;\">\n",
       "      <th></th>\n",
       "      <th>Case Number</th>\n",
       "      <th>Date</th>\n",
       "      <th>Year</th>\n",
       "      <th>Case Number.1</th>\n",
       "      <th>Case Number.2</th>\n",
       "    </tr>\n",
       "  </thead>\n",
       "  <tbody>\n",
       "    <tr>\n",
       "      <th>6297</th>\n",
       "      <td>19030000</td>\n",
       "      <td>1903</td>\n",
       "      <td>NaN</td>\n",
       "      <td>ND.0005</td>\n",
       "      <td>ND.0005</td>\n",
       "    </tr>\n",
       "    <tr>\n",
       "      <th>6298</th>\n",
       "      <td>19030000</td>\n",
       "      <td>1903</td>\n",
       "      <td>NaN</td>\n",
       "      <td>ND.0004</td>\n",
       "      <td>ND.0004</td>\n",
       "    </tr>\n",
       "    <tr>\n",
       "      <th>6299</th>\n",
       "      <td>19050000</td>\n",
       "      <td>19001905</td>\n",
       "      <td>NaN</td>\n",
       "      <td>ND.0003</td>\n",
       "      <td>ND.0003</td>\n",
       "    </tr>\n",
       "    <tr>\n",
       "      <th>6300</th>\n",
       "      <td>18890000</td>\n",
       "      <td>18831889</td>\n",
       "      <td>NaN</td>\n",
       "      <td>ND.0002</td>\n",
       "      <td>ND.0002</td>\n",
       "    </tr>\n",
       "    <tr>\n",
       "      <th>6301</th>\n",
       "      <td>18530000</td>\n",
       "      <td>18451853</td>\n",
       "      <td>NaN</td>\n",
       "      <td>ND.0001</td>\n",
       "      <td>ND.0001</td>\n",
       "    </tr>\n",
       "  </tbody>\n",
       "</table>\n",
       "</div>"
      ],
      "text/plain": [
       "     Case Number      Date  Year Case Number.1 Case Number.2\n",
       "6297    19030000      1903   NaN       ND.0005       ND.0005\n",
       "6298    19030000      1903   NaN       ND.0004       ND.0004\n",
       "6299    19050000  19001905   NaN       ND.0003       ND.0003\n",
       "6300    18890000  18831889   NaN       ND.0002       ND.0002\n",
       "6301    18530000  18451853   NaN       ND.0001       ND.0001"
      ]
     },
     "execution_count": 20,
     "metadata": {},
     "output_type": "execute_result"
    }
   ],
   "source": [
    "dates_short.tail()"
   ]
  },
  {
   "cell_type": "markdown",
   "metadata": {},
   "source": [
    "Now that the column 'Case Number' has all the dates standarized it is ready to be merged to the general dataframe. I will do this in four steps: first append 'Case Number' from dates_short to a new column in attacks_df (general df), called 'Rest Dates'; second I will fill NaN values generated in the new column with the values of the column 'Date' in attacks_df, using the function '.fillna()'; third I will give 'Date' the value of the new column, this way now 'Date' has all the standarized value; and fourth I will drop the new column."
   ]
  },
  {
   "cell_type": "code",
   "execution_count": 21,
   "metadata": {},
   "outputs": [],
   "source": [
    "attacks_df['Rest Dates'] = dates_short['Case Number']\n",
    "attacks_df['Rest Dates'].fillna(attacks_df['Date'], inplace=True)\n",
    "attacks_df['Date'] = attacks_df['Rest Dates']\n",
    "attacks_df = attacks_df.drop(['Rest Dates'], axis=1)"
   ]
  },
  {
   "cell_type": "markdown",
   "metadata": {},
   "source": [
    "Now the dates in 'Date' are ready to be separated in three different columns: 'Year', 'Month', 'Day'."
   ]
  },
  {
   "cell_type": "code",
   "execution_count": 22,
   "metadata": {},
   "outputs": [],
   "source": [
    "attacks_df['Year'] = [x[:4] for x in attacks_df['Date']]\n",
    "\n",
    "attacks_df['Month'] = [x[4:6] for x in attacks_df['Date']]\n",
    "attacks_df['Month'].replace(\"00\", np.NaN, regex=True, inplace=True)\n",
    "attacks_df['Month'].replace(\"nan\", np.NaN, regex=True, inplace=True)\n",
    "attacks_df['Month'].replace(r'^\\s*$', np.NaN, regex=True, inplace=True)\n",
    "\n",
    "attacks_df['Day'] = [x[6:8] for x in attacks_df['Date']]\n",
    "attacks_df['Day'].replace(\"00\", np.NaN, regex=True, inplace=True)\n",
    "attacks_df['Day'].replace(\"nan\", np.NaN, regex=True, inplace=True)\n",
    "attacks_df['Day'].replace(r'^\\s*$', np.NaN, regex=True, inplace=True)\n",
    "\n",
    "attacks_df = attacks_df.drop(['Date'], axis=1)"
   ]
  },
  {
   "cell_type": "code",
   "execution_count": 23,
   "metadata": {},
   "outputs": [
    {
     "data": {
      "text/html": [
       "<div>\n",
       "<style scoped>\n",
       "    .dataframe tbody tr th:only-of-type {\n",
       "        vertical-align: middle;\n",
       "    }\n",
       "\n",
       "    .dataframe tbody tr th {\n",
       "        vertical-align: top;\n",
       "    }\n",
       "\n",
       "    .dataframe thead th {\n",
       "        text-align: right;\n",
       "    }\n",
       "</style>\n",
       "<table border=\"1\" class=\"dataframe\">\n",
       "  <thead>\n",
       "    <tr style=\"text-align: right;\">\n",
       "      <th></th>\n",
       "      <th>Time</th>\n",
       "      <th>Country</th>\n",
       "      <th>Sex</th>\n",
       "      <th>Age</th>\n",
       "      <th>Activity</th>\n",
       "      <th>Type</th>\n",
       "      <th>Fatal (Y/N)</th>\n",
       "      <th>Year</th>\n",
       "      <th>Month</th>\n",
       "      <th>Day</th>\n",
       "    </tr>\n",
       "  </thead>\n",
       "  <tbody>\n",
       "    <tr>\n",
       "      <th>0</th>\n",
       "      <td>18h00</td>\n",
       "      <td>USA</td>\n",
       "      <td>F</td>\n",
       "      <td>57</td>\n",
       "      <td>Paddling</td>\n",
       "      <td>Boating</td>\n",
       "      <td>N</td>\n",
       "      <td>2018</td>\n",
       "      <td>06</td>\n",
       "      <td>25</td>\n",
       "    </tr>\n",
       "    <tr>\n",
       "      <th>1</th>\n",
       "      <td>14h00  -15h00</td>\n",
       "      <td>USA</td>\n",
       "      <td>F</td>\n",
       "      <td>11</td>\n",
       "      <td>Standing</td>\n",
       "      <td>Unprovoked</td>\n",
       "      <td>N</td>\n",
       "      <td>2018</td>\n",
       "      <td>06</td>\n",
       "      <td>18</td>\n",
       "    </tr>\n",
       "    <tr>\n",
       "      <th>2</th>\n",
       "      <td>07h45</td>\n",
       "      <td>USA</td>\n",
       "      <td>M</td>\n",
       "      <td>48</td>\n",
       "      <td>Surfing</td>\n",
       "      <td>Invalid</td>\n",
       "      <td>N</td>\n",
       "      <td>2018</td>\n",
       "      <td>06</td>\n",
       "      <td>09</td>\n",
       "    </tr>\n",
       "    <tr>\n",
       "      <th>3</th>\n",
       "      <td>NaN</td>\n",
       "      <td>AUSTRALIA</td>\n",
       "      <td>M</td>\n",
       "      <td>NaN</td>\n",
       "      <td>Surfing</td>\n",
       "      <td>Unprovoked</td>\n",
       "      <td>N</td>\n",
       "      <td>2018</td>\n",
       "      <td>06</td>\n",
       "      <td>08</td>\n",
       "    </tr>\n",
       "    <tr>\n",
       "      <th>4</th>\n",
       "      <td>NaN</td>\n",
       "      <td>MEXICO</td>\n",
       "      <td>M</td>\n",
       "      <td>NaN</td>\n",
       "      <td>Free diving</td>\n",
       "      <td>Provoked</td>\n",
       "      <td>N</td>\n",
       "      <td>2018</td>\n",
       "      <td>06</td>\n",
       "      <td>04</td>\n",
       "    </tr>\n",
       "  </tbody>\n",
       "</table>\n",
       "</div>"
      ],
      "text/plain": [
       "            Time    Country Sex   Age     Activity        Type Fatal (Y/N)  \\\n",
       "0          18h00        USA    F   57     Paddling     Boating           N   \n",
       "1  14h00  -15h00        USA    F   11     Standing  Unprovoked           N   \n",
       "2          07h45        USA    M   48      Surfing     Invalid           N   \n",
       "3            NaN  AUSTRALIA    M  NaN      Surfing  Unprovoked           N   \n",
       "4            NaN     MEXICO    M  NaN  Free diving    Provoked           N   \n",
       "\n",
       "   Year Month Day  \n",
       "0  2018    06  25  \n",
       "1  2018    06  18  \n",
       "2  2018    06  09  \n",
       "3  2018    06  08  \n",
       "4  2018    06  04  "
      ]
     },
     "execution_count": 23,
     "metadata": {},
     "output_type": "execute_result"
    }
   ],
   "source": [
    "attacks_df.head()"
   ]
  },
  {
   "cell_type": "markdown",
   "metadata": {},
   "source": [
    "## Standarizing Time column"
   ]
  },
  {
   "cell_type": "code",
   "execution_count": 24,
   "metadata": {},
   "outputs": [],
   "source": [
    "attacks_df['Time'] = [re.sub(r'[ <>.,()?/-]', '', str(x)) for x in attacks_df['Time']]\n",
    "attacks_df['Time'] = [re.sub(r'\"', '', str(x)) for x in attacks_df['Time']]\n",
    "\n",
    "attacks_df['Time'] = [re.sub(\"(awn)\", \"0700\", str(x)) for x in attacks_df['Time']]\n",
    "attacks_df['Time'] = [re.sub(\"(eforenoon|orning|eforeDaybreak)\", \"1000\", str(x)) for x in attacks_df['Time']]\n",
    "attacks_df['Time'] = [re.sub(\"(idday|aybreak|Noon|aytime|unchtime)\", \"1200\", str(x)) for x in attacks_df['Time']]\n",
    "attacks_df['Time'] = [re.sub(\"(fterlunch|fternoon)\", \"1600\", str(x)) for x in attacks_df['Time']]\n",
    "attacks_df['Time'] = [re.sub(\"(usk|unset|undown|ightfall|vening|ateafternoon)\", \"2000\", str(x)) for x in attacks_df['Time']]\n",
    "attacks_df['Time'] = [re.sub(\"(ight|ark)\", \"2200\", str(x)) for x in attacks_df['Time']]\n",
    "attacks_df['Time'] = [re.sub(\"(Midnight)\", \"0000\", str(x)) for x in attacks_df['Time']]\n",
    "\n",
    "attacks_df['Time'] = [re.sub(r'[A-Za-z]', '', str(x)) for x in attacks_df['Time']]"
   ]
  },
  {
   "cell_type": "code",
   "execution_count": 25,
   "metadata": {},
   "outputs": [],
   "source": [
    "attacks_df['Time'] = [x[:4] for x in attacks_df['Time']]"
   ]
  },
  {
   "cell_type": "code",
   "execution_count": 26,
   "metadata": {},
   "outputs": [],
   "source": [
    "attacks_df['HH'] = [x[:2] for x in attacks_df['Time']]\n",
    "attacks_df['HH'].replace(r'^\\s*$', np.nan, regex=True, inplace=True)\n",
    "\n",
    "attacks_df['MM'] = [x[2:4] for x in attacks_df['Time']]\n",
    "attacks_df['MM'].replace(r'^\\s*$', np.nan, regex=True, inplace=True)\n",
    "\n",
    "attacks_df = attacks_df.drop(['Time'], axis=1)"
   ]
  },
  {
   "cell_type": "code",
   "execution_count": 27,
   "metadata": {},
   "outputs": [
    {
     "data": {
      "text/html": [
       "<div>\n",
       "<style scoped>\n",
       "    .dataframe tbody tr th:only-of-type {\n",
       "        vertical-align: middle;\n",
       "    }\n",
       "\n",
       "    .dataframe tbody tr th {\n",
       "        vertical-align: top;\n",
       "    }\n",
       "\n",
       "    .dataframe thead th {\n",
       "        text-align: right;\n",
       "    }\n",
       "</style>\n",
       "<table border=\"1\" class=\"dataframe\">\n",
       "  <thead>\n",
       "    <tr style=\"text-align: right;\">\n",
       "      <th></th>\n",
       "      <th>Country</th>\n",
       "      <th>Sex</th>\n",
       "      <th>Age</th>\n",
       "      <th>Activity</th>\n",
       "      <th>Type</th>\n",
       "      <th>Fatal (Y/N)</th>\n",
       "      <th>Year</th>\n",
       "      <th>Month</th>\n",
       "      <th>Day</th>\n",
       "      <th>HH</th>\n",
       "      <th>MM</th>\n",
       "    </tr>\n",
       "  </thead>\n",
       "  <tbody>\n",
       "    <tr>\n",
       "      <th>0</th>\n",
       "      <td>USA</td>\n",
       "      <td>F</td>\n",
       "      <td>57</td>\n",
       "      <td>Paddling</td>\n",
       "      <td>Boating</td>\n",
       "      <td>N</td>\n",
       "      <td>2018</td>\n",
       "      <td>06</td>\n",
       "      <td>25</td>\n",
       "      <td>18</td>\n",
       "      <td>00</td>\n",
       "    </tr>\n",
       "    <tr>\n",
       "      <th>1</th>\n",
       "      <td>USA</td>\n",
       "      <td>F</td>\n",
       "      <td>11</td>\n",
       "      <td>Standing</td>\n",
       "      <td>Unprovoked</td>\n",
       "      <td>N</td>\n",
       "      <td>2018</td>\n",
       "      <td>06</td>\n",
       "      <td>18</td>\n",
       "      <td>14</td>\n",
       "      <td>00</td>\n",
       "    </tr>\n",
       "    <tr>\n",
       "      <th>2</th>\n",
       "      <td>USA</td>\n",
       "      <td>M</td>\n",
       "      <td>48</td>\n",
       "      <td>Surfing</td>\n",
       "      <td>Invalid</td>\n",
       "      <td>N</td>\n",
       "      <td>2018</td>\n",
       "      <td>06</td>\n",
       "      <td>09</td>\n",
       "      <td>07</td>\n",
       "      <td>45</td>\n",
       "    </tr>\n",
       "    <tr>\n",
       "      <th>3</th>\n",
       "      <td>AUSTRALIA</td>\n",
       "      <td>M</td>\n",
       "      <td>NaN</td>\n",
       "      <td>Surfing</td>\n",
       "      <td>Unprovoked</td>\n",
       "      <td>N</td>\n",
       "      <td>2018</td>\n",
       "      <td>06</td>\n",
       "      <td>08</td>\n",
       "      <td>NaN</td>\n",
       "      <td>NaN</td>\n",
       "    </tr>\n",
       "    <tr>\n",
       "      <th>4</th>\n",
       "      <td>MEXICO</td>\n",
       "      <td>M</td>\n",
       "      <td>NaN</td>\n",
       "      <td>Free diving</td>\n",
       "      <td>Provoked</td>\n",
       "      <td>N</td>\n",
       "      <td>2018</td>\n",
       "      <td>06</td>\n",
       "      <td>04</td>\n",
       "      <td>NaN</td>\n",
       "      <td>NaN</td>\n",
       "    </tr>\n",
       "  </tbody>\n",
       "</table>\n",
       "</div>"
      ],
      "text/plain": [
       "     Country Sex   Age     Activity        Type Fatal (Y/N)  Year Month Day  \\\n",
       "0        USA    F   57     Paddling     Boating           N  2018    06  25   \n",
       "1        USA    F   11     Standing  Unprovoked           N  2018    06  18   \n",
       "2        USA    M   48      Surfing     Invalid           N  2018    06  09   \n",
       "3  AUSTRALIA    M  NaN      Surfing  Unprovoked           N  2018    06  08   \n",
       "4     MEXICO    M  NaN  Free diving    Provoked           N  2018    06  04   \n",
       "\n",
       "    HH   MM  \n",
       "0   18   00  \n",
       "1   14   00  \n",
       "2   07   45  \n",
       "3  NaN  NaN  \n",
       "4  NaN  NaN  "
      ]
     },
     "execution_count": 27,
     "metadata": {},
     "output_type": "execute_result"
    }
   ],
   "source": [
    "attacks_df.head()"
   ]
  },
  {
   "cell_type": "code",
   "execution_count": 28,
   "metadata": {},
   "outputs": [
    {
     "data": {
      "text/html": [
       "<div>\n",
       "<style scoped>\n",
       "    .dataframe tbody tr th:only-of-type {\n",
       "        vertical-align: middle;\n",
       "    }\n",
       "\n",
       "    .dataframe tbody tr th {\n",
       "        vertical-align: top;\n",
       "    }\n",
       "\n",
       "    .dataframe thead th {\n",
       "        text-align: right;\n",
       "    }\n",
       "</style>\n",
       "<table border=\"1\" class=\"dataframe\">\n",
       "  <thead>\n",
       "    <tr style=\"text-align: right;\">\n",
       "      <th></th>\n",
       "      <th>Year</th>\n",
       "      <th>Month</th>\n",
       "      <th>Day</th>\n",
       "      <th>HH</th>\n",
       "      <th>MM</th>\n",
       "      <th>Country</th>\n",
       "      <th>Sex</th>\n",
       "      <th>Age</th>\n",
       "      <th>Activity</th>\n",
       "      <th>Type</th>\n",
       "      <th>Fatal (Y/N)</th>\n",
       "    </tr>\n",
       "  </thead>\n",
       "  <tbody>\n",
       "    <tr>\n",
       "      <th>0</th>\n",
       "      <td>2018</td>\n",
       "      <td>06</td>\n",
       "      <td>25</td>\n",
       "      <td>18</td>\n",
       "      <td>00</td>\n",
       "      <td>USA</td>\n",
       "      <td>F</td>\n",
       "      <td>57</td>\n",
       "      <td>Paddling</td>\n",
       "      <td>Boating</td>\n",
       "      <td>N</td>\n",
       "    </tr>\n",
       "    <tr>\n",
       "      <th>1</th>\n",
       "      <td>2018</td>\n",
       "      <td>06</td>\n",
       "      <td>18</td>\n",
       "      <td>14</td>\n",
       "      <td>00</td>\n",
       "      <td>USA</td>\n",
       "      <td>F</td>\n",
       "      <td>11</td>\n",
       "      <td>Standing</td>\n",
       "      <td>Unprovoked</td>\n",
       "      <td>N</td>\n",
       "    </tr>\n",
       "    <tr>\n",
       "      <th>2</th>\n",
       "      <td>2018</td>\n",
       "      <td>06</td>\n",
       "      <td>09</td>\n",
       "      <td>07</td>\n",
       "      <td>45</td>\n",
       "      <td>USA</td>\n",
       "      <td>M</td>\n",
       "      <td>48</td>\n",
       "      <td>Surfing</td>\n",
       "      <td>Invalid</td>\n",
       "      <td>N</td>\n",
       "    </tr>\n",
       "    <tr>\n",
       "      <th>3</th>\n",
       "      <td>2018</td>\n",
       "      <td>06</td>\n",
       "      <td>08</td>\n",
       "      <td>NaN</td>\n",
       "      <td>NaN</td>\n",
       "      <td>AUSTRALIA</td>\n",
       "      <td>M</td>\n",
       "      <td>NaN</td>\n",
       "      <td>Surfing</td>\n",
       "      <td>Unprovoked</td>\n",
       "      <td>N</td>\n",
       "    </tr>\n",
       "    <tr>\n",
       "      <th>4</th>\n",
       "      <td>2018</td>\n",
       "      <td>06</td>\n",
       "      <td>04</td>\n",
       "      <td>NaN</td>\n",
       "      <td>NaN</td>\n",
       "      <td>MEXICO</td>\n",
       "      <td>M</td>\n",
       "      <td>NaN</td>\n",
       "      <td>Free diving</td>\n",
       "      <td>Provoked</td>\n",
       "      <td>N</td>\n",
       "    </tr>\n",
       "  </tbody>\n",
       "</table>\n",
       "</div>"
      ],
      "text/plain": [
       "   Year Month Day   HH   MM    Country Sex   Age     Activity        Type  \\\n",
       "0  2018    06  25   18   00        USA    F   57     Paddling     Boating   \n",
       "1  2018    06  18   14   00        USA    F   11     Standing  Unprovoked   \n",
       "2  2018    06  09   07   45        USA    M   48      Surfing     Invalid   \n",
       "3  2018    06  08  NaN  NaN  AUSTRALIA    M  NaN      Surfing  Unprovoked   \n",
       "4  2018    06  04  NaN  NaN     MEXICO    M  NaN  Free diving    Provoked   \n",
       "\n",
       "  Fatal (Y/N)  \n",
       "0           N  \n",
       "1           N  \n",
       "2           N  \n",
       "3           N  \n",
       "4           N  "
      ]
     },
     "execution_count": 28,
     "metadata": {},
     "output_type": "execute_result"
    }
   ],
   "source": [
    "attacks_df = attacks_df.iloc[:,[6,7,8,9,10,0,1,2,3,4,5]]\n",
    "attacks_df.head()"
   ]
  },
  {
   "cell_type": "markdown",
   "metadata": {},
   "source": [
    "## Country column"
   ]
  },
  {
   "cell_type": "code",
   "execution_count": 29,
   "metadata": {},
   "outputs": [],
   "source": [
    "attacks_df['Country'] = attacks_df['Country'].apply(lambda x: str(x).strip())\n",
    "attacks_df['Country'] = attacks_df['Country'].apply(lambda x: str(x).upper())\n",
    "attacks_df['Country'].replace('USA', 'UNITED STATES', inplace=True)"
   ]
  },
  {
   "cell_type": "markdown",
   "metadata": {},
   "source": [
    "## Sex column"
   ]
  },
  {
   "cell_type": "code",
   "execution_count": 30,
   "metadata": {},
   "outputs": [],
   "source": [
    "attacks_df['Sex '] = attacks_df['Sex '].apply(lambda x: str(x).strip())\n",
    "\n",
    "attacks_df['Sex '].replace('nan', np.NaN, inplace=True)\n",
    "attacks_df['Sex '].replace('N', np.NaN, inplace=True)\n",
    "attacks_df['Sex '].replace('lli', np.NaN, inplace=True)\n",
    "attacks_df['Sex '].replace('.', np.NaN, inplace=True)"
   ]
  },
  {
   "cell_type": "markdown",
   "metadata": {},
   "source": [
    "## Age Column"
   ]
  },
  {
   "cell_type": "code",
   "execution_count": 31,
   "metadata": {},
   "outputs": [],
   "source": [
    "attacks_df['Age'].replace('nan', np.NaN, inplace=True)\n",
    "\n",
    "attacks_df['Age'] = [re.sub(\"(een)\", \"15\", str(x)) for x in attacks_df['Age']]\n",
    "attacks_df['Age'] = [re.sub(\"(oung)\", \"20\", str(x)) for x in attacks_df['Age']]\n",
    "attacks_df['Age'] = [re.sub(\"(dult)\", \"40\", str(x)) for x in attacks_df['Age']]\n",
    "attacks_df['Age'] = [re.sub(\"(iddle)\", \"60\", str(x)) for x in attacks_df['Age']]\n",
    "attacks_df['Age'] = [re.sub(\"(lder)\", \"80\", str(x)) for x in attacks_df['Age']]"
   ]
  },
  {
   "cell_type": "markdown",
   "metadata": {},
   "source": [
    "### Months, to's and or's"
   ]
  },
  {
   "cell_type": "code",
   "execution_count": 32,
   "metadata": {},
   "outputs": [],
   "source": [
    "months = attacks_df[attacks_df['Age'].str.contains('months')]\n",
    "age = months['Age'].str.split(' ', n=2, expand=True)\n",
    "months['Age'] = pd.to_numeric(age[0]) / 12\n",
    "months['Age'] = months['Age'].apply(lambda x: str(x))"
   ]
  },
  {
   "cell_type": "code",
   "execution_count": 33,
   "metadata": {},
   "outputs": [],
   "source": [
    "to = attacks_df[attacks_df['Age'].str.contains('to')]\n",
    "age = to['Age'].str.split(' ', n=3, expand=True)\n",
    "to['Age'] = (pd.to_numeric(age[0])+pd.to_numeric(age[2])) / 2\n",
    "to['Age'] = to['Age'].apply(lambda x: str(x))"
   ]
  },
  {
   "cell_type": "code",
   "execution_count": 34,
   "metadata": {},
   "outputs": [],
   "source": [
    "oror = attacks_df[attacks_df['Age'].str.contains('or')]\n",
    "age = oror['Age'].str.split(' ', n=3, expand=True)\n",
    "oror['Age'] = (pd.to_numeric(age[0])+pd.to_numeric(age[2])) / 2\n",
    "oror['Age'] = oror['Age'].apply(lambda x: str(x))"
   ]
  },
  {
   "cell_type": "markdown",
   "metadata": {},
   "source": [
    "### &'s'"
   ]
  },
  {
   "cell_type": "code",
   "execution_count": 35,
   "metadata": {},
   "outputs": [],
   "source": [
    "amper = attacks_df[attacks_df['Age'].str.contains('&')]\n",
    "amper_x = attacks_df[attacks_df['Age'].str.contains('&')]\n",
    "amper['Age'] = [re.sub(r\"[,&?]\", \"\", str(x)) for x in amper['Age']]"
   ]
  },
  {
   "cell_type": "code",
   "execution_count": 36,
   "metadata": {},
   "outputs": [],
   "source": [
    "age = amper['Age'].str.split(' ', expand=True)\n",
    "age.fillna(value=np.NaN, inplace=True)\n",
    "age.replace(r'^\\s*$', np.nan, regex=True, inplace=True)\n",
    "\n",
    "amper['Age'] = age[0]\n",
    "amper_x['Age'] = age[2]"
   ]
  },
  {
   "cell_type": "code",
   "execution_count": 37,
   "metadata": {},
   "outputs": [],
   "source": [
    "amper.dropna(axis=0, how='any', subset=['Age'], inplace=True)\n",
    "amper_x.dropna(axis=0, how='any', subset=['Age'], inplace=True)\n",
    "amper_x.reset_index(drop= True, inplace=True)"
   ]
  },
  {
   "cell_type": "code",
   "execution_count": 38,
   "metadata": {},
   "outputs": [],
   "source": [
    "amper['Age'] = amper['Age'].apply(lambda x: str(x))\n",
    "\n",
    "amper_x['Age'] = amper_x['Age'].apply(lambda x: str(x))\n",
    "amper_x['Age'].replace(r'^\\s*$', np.nan, regex=True, inplace=True)"
   ]
  },
  {
   "cell_type": "markdown",
   "metadata": {},
   "source": [
    "Join the last dafarames and keep amper_x"
   ]
  },
  {
   "cell_type": "code",
   "execution_count": 39,
   "metadata": {},
   "outputs": [],
   "source": [
    "result = pd.concat([months, to, oror, amper])\n",
    "result = result[~result.index.duplicated(keep='first')]"
   ]
  },
  {
   "cell_type": "markdown",
   "metadata": {},
   "source": [
    "Last cleaning, new column, fill and standarize and join amper_x"
   ]
  },
  {
   "cell_type": "code",
   "execution_count": 40,
   "metadata": {},
   "outputs": [],
   "source": [
    "attacks_df['Age'] = [re.sub(r\"[A-Za-z½.,>&-/ ?]\", \"\", str(x)) for x in attacks_df['Age']]\n",
    "attacks_df['Age'] = [re.sub(r'\"', '', str(x)) for x in attacks_df['Age']]"
   ]
  },
  {
   "cell_type": "code",
   "execution_count": 41,
   "metadata": {},
   "outputs": [],
   "source": [
    "attacks_df['Rest Ages'] = result['Age']\n",
    "attacks_df['Rest Ages'].fillna(attacks_df['Age'], inplace=True)\n",
    "attacks_df['Rest Ages'].replace(r'^\\s*$', np.nan, regex=True, inplace=True)\n",
    "attacks_df['Age'] = attacks_df['Rest Ages']\n",
    "attacks_df = attacks_df.drop(['Rest Ages'], axis=1)"
   ]
  },
  {
   "cell_type": "code",
   "execution_count": 42,
   "metadata": {},
   "outputs": [],
   "source": [
    "attacks_df = pd.concat([attacks_df, amper_x], ignore_index=True)"
   ]
  },
  {
   "cell_type": "markdown",
   "metadata": {},
   "source": [
    "## Activity column"
   ]
  },
  {
   "cell_type": "code",
   "execution_count": 43,
   "metadata": {},
   "outputs": [
    {
     "data": {
      "text/html": [
       "<div>\n",
       "<style scoped>\n",
       "    .dataframe tbody tr th:only-of-type {\n",
       "        vertical-align: middle;\n",
       "    }\n",
       "\n",
       "    .dataframe tbody tr th {\n",
       "        vertical-align: top;\n",
       "    }\n",
       "\n",
       "    .dataframe thead th {\n",
       "        text-align: right;\n",
       "    }\n",
       "</style>\n",
       "<table border=\"1\" class=\"dataframe\">\n",
       "  <thead>\n",
       "    <tr style=\"text-align: right;\">\n",
       "      <th></th>\n",
       "      <th>Year</th>\n",
       "      <th>Month</th>\n",
       "      <th>Day</th>\n",
       "      <th>HH</th>\n",
       "      <th>MM</th>\n",
       "      <th>Country</th>\n",
       "      <th>Sex</th>\n",
       "      <th>Age</th>\n",
       "      <th>Activity</th>\n",
       "      <th>Type</th>\n",
       "      <th>Fatal (Y/N)</th>\n",
       "    </tr>\n",
       "  </thead>\n",
       "  <tbody>\n",
       "    <tr>\n",
       "      <th>0</th>\n",
       "      <td>2018</td>\n",
       "      <td>06</td>\n",
       "      <td>25</td>\n",
       "      <td>18</td>\n",
       "      <td>00</td>\n",
       "      <td>UNITED STATES</td>\n",
       "      <td>F</td>\n",
       "      <td>57</td>\n",
       "      <td>Paddling</td>\n",
       "      <td>Boating</td>\n",
       "      <td>N</td>\n",
       "    </tr>\n",
       "    <tr>\n",
       "      <th>1</th>\n",
       "      <td>2018</td>\n",
       "      <td>06</td>\n",
       "      <td>18</td>\n",
       "      <td>14</td>\n",
       "      <td>00</td>\n",
       "      <td>UNITED STATES</td>\n",
       "      <td>F</td>\n",
       "      <td>11</td>\n",
       "      <td>Standing</td>\n",
       "      <td>Unprovoked</td>\n",
       "      <td>N</td>\n",
       "    </tr>\n",
       "    <tr>\n",
       "      <th>2</th>\n",
       "      <td>2018</td>\n",
       "      <td>06</td>\n",
       "      <td>09</td>\n",
       "      <td>07</td>\n",
       "      <td>45</td>\n",
       "      <td>UNITED STATES</td>\n",
       "      <td>M</td>\n",
       "      <td>48</td>\n",
       "      <td>Surfing</td>\n",
       "      <td>Invalid</td>\n",
       "      <td>N</td>\n",
       "    </tr>\n",
       "    <tr>\n",
       "      <th>3</th>\n",
       "      <td>2018</td>\n",
       "      <td>06</td>\n",
       "      <td>08</td>\n",
       "      <td>NaN</td>\n",
       "      <td>NaN</td>\n",
       "      <td>AUSTRALIA</td>\n",
       "      <td>M</td>\n",
       "      <td>NaN</td>\n",
       "      <td>Surfing</td>\n",
       "      <td>Unprovoked</td>\n",
       "      <td>N</td>\n",
       "    </tr>\n",
       "    <tr>\n",
       "      <th>4</th>\n",
       "      <td>2018</td>\n",
       "      <td>06</td>\n",
       "      <td>04</td>\n",
       "      <td>NaN</td>\n",
       "      <td>NaN</td>\n",
       "      <td>MEXICO</td>\n",
       "      <td>M</td>\n",
       "      <td>NaN</td>\n",
       "      <td>Free diving</td>\n",
       "      <td>Provoked</td>\n",
       "      <td>N</td>\n",
       "    </tr>\n",
       "    <tr>\n",
       "      <th>...</th>\n",
       "      <td>...</td>\n",
       "      <td>...</td>\n",
       "      <td>...</td>\n",
       "      <td>...</td>\n",
       "      <td>...</td>\n",
       "      <td>...</td>\n",
       "      <td>...</td>\n",
       "      <td>...</td>\n",
       "      <td>...</td>\n",
       "      <td>...</td>\n",
       "      <td>...</td>\n",
       "    </tr>\n",
       "    <tr>\n",
       "      <th>6310</th>\n",
       "      <td>1959</td>\n",
       "      <td>12</td>\n",
       "      <td>11</td>\n",
       "      <td>NaN</td>\n",
       "      <td>NaN</td>\n",
       "      <td>AUSTRALIA</td>\n",
       "      <td>M</td>\n",
       "      <td>35</td>\n",
       "      <td>Spearfishing, Smith  &amp; Walker touched shark wi...</td>\n",
       "      <td>Provoked</td>\n",
       "      <td>N</td>\n",
       "    </tr>\n",
       "    <tr>\n",
       "      <th>6311</th>\n",
       "      <td>1959</td>\n",
       "      <td>08</td>\n",
       "      <td>02</td>\n",
       "      <td>NaN</td>\n",
       "      <td>NaN</td>\n",
       "      <td>ITALY</td>\n",
       "      <td>M</td>\n",
       "      <td>19</td>\n",
       "      <td>Scuba diving</td>\n",
       "      <td>Invalid</td>\n",
       "      <td>NaN</td>\n",
       "    </tr>\n",
       "    <tr>\n",
       "      <th>6312</th>\n",
       "      <td>1959</td>\n",
       "      <td>01</td>\n",
       "      <td>02</td>\n",
       "      <td>08</td>\n",
       "      <td>00</td>\n",
       "      <td>MOZAMBIQUE</td>\n",
       "      <td>M</td>\n",
       "      <td>26</td>\n",
       "      <td>Swimming ashore from fishing boat swamped and ...</td>\n",
       "      <td>Unprovoked</td>\n",
       "      <td>Y</td>\n",
       "    </tr>\n",
       "    <tr>\n",
       "      <th>6313</th>\n",
       "      <td>1947</td>\n",
       "      <td>01</td>\n",
       "      <td>14</td>\n",
       "      <td>NaN</td>\n",
       "      <td>NaN</td>\n",
       "      <td>AUSTRALIA</td>\n",
       "      <td>NaN</td>\n",
       "      <td>16</td>\n",
       "      <td>Rowing</td>\n",
       "      <td>Boating</td>\n",
       "      <td>N</td>\n",
       "    </tr>\n",
       "    <tr>\n",
       "      <th>6314</th>\n",
       "      <td>1932</td>\n",
       "      <td>01</td>\n",
       "      <td>06</td>\n",
       "      <td>NaN</td>\n",
       "      <td>NaN</td>\n",
       "      <td>MEXICO</td>\n",
       "      <td>M</td>\n",
       "      <td>23</td>\n",
       "      <td>Fishing</td>\n",
       "      <td>Provoked</td>\n",
       "      <td>Y</td>\n",
       "    </tr>\n",
       "  </tbody>\n",
       "</table>\n",
       "<p>6315 rows × 11 columns</p>\n",
       "</div>"
      ],
      "text/plain": [
       "      Year Month Day   HH   MM        Country Sex   Age  \\\n",
       "0     2018    06  25   18   00  UNITED STATES    F   57   \n",
       "1     2018    06  18   14   00  UNITED STATES    F   11   \n",
       "2     2018    06  09   07   45  UNITED STATES    M   48   \n",
       "3     2018    06  08  NaN  NaN      AUSTRALIA    M  NaN   \n",
       "4     2018    06  04  NaN  NaN         MEXICO    M  NaN   \n",
       "...    ...   ...  ..  ...  ...            ...  ...  ...   \n",
       "6310  1959    12  11  NaN  NaN      AUSTRALIA    M   35   \n",
       "6311  1959    08  02  NaN  NaN          ITALY    M   19   \n",
       "6312  1959    01  02   08   00     MOZAMBIQUE    M   26   \n",
       "6313  1947    01  14  NaN  NaN      AUSTRALIA  NaN   16   \n",
       "6314  1932    01  06  NaN  NaN         MEXICO    M   23   \n",
       "\n",
       "                                               Activity        Type  \\\n",
       "0                                              Paddling     Boating   \n",
       "1                                              Standing  Unprovoked   \n",
       "2                                               Surfing     Invalid   \n",
       "3                                               Surfing  Unprovoked   \n",
       "4                                           Free diving    Provoked   \n",
       "...                                                 ...         ...   \n",
       "6310  Spearfishing, Smith  & Walker touched shark wi...    Provoked   \n",
       "6311                                       Scuba diving     Invalid   \n",
       "6312  Swimming ashore from fishing boat swamped and ...  Unprovoked   \n",
       "6313                                             Rowing     Boating   \n",
       "6314                                            Fishing    Provoked   \n",
       "\n",
       "     Fatal (Y/N)  \n",
       "0              N  \n",
       "1              N  \n",
       "2              N  \n",
       "3              N  \n",
       "4              N  \n",
       "...          ...  \n",
       "6310           N  \n",
       "6311         NaN  \n",
       "6312           Y  \n",
       "6313           N  \n",
       "6314           Y  \n",
       "\n",
       "[6315 rows x 11 columns]"
      ]
     },
     "execution_count": 43,
     "metadata": {},
     "output_type": "execute_result"
    }
   ],
   "source": [
    "attacks_df"
   ]
  },
  {
   "cell_type": "code",
   "execution_count": 44,
   "metadata": {},
   "outputs": [],
   "source": [
    "attacks_df['Activity'] = attacks_df['Activity'].apply(lambda x: str(x).strip())\n",
    "attacks_df['Activity'] = attacks_df['Activity'].apply(lambda x: str(x).lower())"
   ]
  },
  {
   "cell_type": "code",
   "execution_count": 45,
   "metadata": {},
   "outputs": [],
   "source": [
    "kwords = {\"SWIMMING\": \"swimming|treading|splashing|jump|ran|bath|play|river\", \n",
    "          \"SURFING\": \"surf|boarding|float|skii|paddl\", \n",
    "          \"FISHING\": \"fish|clamm|net|crab|shell|lobster|shrimp|catching|oyster\", \n",
    "          \"SPEARFISHING\": \"spearfishing|harpoon\", \n",
    "          \"BATHING\": \"wading|walking|standing\", \n",
    "          \"DIVING\": \"diving|snorkel|dive\", \n",
    "          \"SMALLCRAFT\": \"kayak|row|canoe|catamaran|raft|kormoran\",\n",
    "          \"BOAT_SHIP\": \"sail|boat|shipwrek|dangling|ship|torpedo|sink|fell|overboard|yacht|vessel|submarine|disaster|freighter|uss|barque|schooner|steam|ferry|hms|liner|sank\",\n",
    "          \"PLANE\": \"plane|parachute|boeing|balloon\",\n",
    "          \"WORKING\": \"feed|tagging|film|setting|collect|rescue|research|exhibition\",\n",
    "          \"STRANGE_DUMB\": \"photo|selfie|murder|escaping|homicide\"}\n",
    "\n",
    "del_charact = ['[a-z]', '[0-9]', '[,:;.?&()/]', '[ê]', '\"', \"'\", \"\"]"
   ]
  },
  {
   "cell_type": "code",
   "execution_count": 46,
   "metadata": {},
   "outputs": [],
   "source": [
    "activity = attacks_df['Activity']\n",
    "\n",
    "for key, value in kwords.items():\n",
    "    activity = [re.sub(value, key, x) for x in activity]\n",
    "\n",
    "for char in del_charact:\n",
    "    activity = [re.sub(char, \"\", x) for x in activity]\n",
    "\n",
    "activity = list(map(str.lstrip, activity))\n",
    "activity = [re.sub('-', \" \", x) for x in activity]\n",
    "activity = list(map(lambda x: x.split(' ')[0], activity))\n",
    "activity = list(map(str.strip, activity))"
   ]
  },
  {
   "cell_type": "code",
   "execution_count": 47,
   "metadata": {},
   "outputs": [],
   "source": [
    "attacks_df['Activity'] = activity"
   ]
  },
  {
   "cell_type": "code",
   "execution_count": 48,
   "metadata": {},
   "outputs": [
    {
     "data": {
      "text/plain": [
       "SWIMMING               1398\n",
       "SURFING                1380\n",
       "FISHING                1156\n",
       "                        809\n",
       "DIVING                  659\n",
       "BOAT_SHIP               347\n",
       "BATHING                 325\n",
       "SMALLCRAFT              139\n",
       "WORKING                  50\n",
       "STRANGE_DUMB             20\n",
       "PLANE                    11\n",
       "BOAT_SHIPBOAT_SHIP        8\n",
       "SURFINGSURFING            5\n",
       "SPEARFISHING              4\n",
       "SMALLCRAFTBOAT_SHIP       2\n",
       "BOAT_SHIPSURFING          1\n",
       "SWIMMINGSWIMMING          1\n",
       "Name: Activity, dtype: int64"
      ]
     },
     "execution_count": 48,
     "metadata": {},
     "output_type": "execute_result"
    }
   ],
   "source": [
    "attacks_df['Activity'].value_counts()"
   ]
  },
  {
   "cell_type": "code",
   "execution_count": 49,
   "metadata": {},
   "outputs": [],
   "source": [
    "replacers = {'BOAT_SHIPBOAT_SHIP': 'BOAT_SHIP', 'SURFINGSURFING': 'SURFING', 'SMALLCRAFTBOAT_SHIP': 'SMALLCRAFT', 'BOAT_SHIPSURFING': 'BOAT_SHIP', 'SWIMMINGSWIMMING': 'SWIMMING'}\n",
    "\n",
    "for k, v in replacers.items():\n",
    "    attacks_df['Activity'].replace(k, v, inplace=True)\n",
    "\n",
    "attacks_df['Activity'].replace(r'^\\s*$', \"OTHER/NaN\", regex=True, inplace=True)"
   ]
  },
  {
   "cell_type": "code",
   "execution_count": 50,
   "metadata": {},
   "outputs": [
    {
     "data": {
      "text/plain": [
       "SWIMMING        1399\n",
       "SURFING         1385\n",
       "FISHING         1156\n",
       "OTHER/NaN        809\n",
       "DIVING           659\n",
       "BOAT_SHIP        356\n",
       "BATHING          325\n",
       "SMALLCRAFT       141\n",
       "WORKING           50\n",
       "STRANGE_DUMB      20\n",
       "PLANE             11\n",
       "SPEARFISHING       4\n",
       "Name: Activity, dtype: int64"
      ]
     },
     "execution_count": 50,
     "metadata": {},
     "output_type": "execute_result"
    }
   ],
   "source": [
    "attacks_df['Activity'].value_counts(dropna=False)"
   ]
  },
  {
   "cell_type": "markdown",
   "metadata": {},
   "source": [
    "## Fatal column"
   ]
  },
  {
   "cell_type": "code",
   "execution_count": 51,
   "metadata": {},
   "outputs": [
    {
     "data": {
      "text/plain": [
       "N          4302\n",
       "Y          1389\n",
       "NaN         542\n",
       "UNKNOWN      71\n",
       " N            7\n",
       "M             1\n",
       "2017          1\n",
       "y             1\n",
       "N             1\n",
       "Name: Fatal (Y/N), dtype: int64"
      ]
     },
     "execution_count": 51,
     "metadata": {},
     "output_type": "execute_result"
    }
   ],
   "source": [
    "attacks_df['Fatal (Y/N)'].value_counts(dropna=False)"
   ]
  },
  {
   "cell_type": "code",
   "execution_count": 52,
   "metadata": {},
   "outputs": [],
   "source": [
    "attacks_df['Fatal (Y/N)'] = attacks_df['Fatal (Y/N)'].str.strip()\n",
    "attacks_df['Fatal (Y/N)'] = attacks_df['Fatal (Y/N)'].str.upper()"
   ]
  },
  {
   "cell_type": "code",
   "execution_count": 53,
   "metadata": {},
   "outputs": [
    {
     "data": {
      "text/plain": [
       "N          4310\n",
       "Y          1390\n",
       "NaN         542\n",
       "UNKNOWN      71\n",
       "M             1\n",
       "2017          1\n",
       "Name: Fatal (Y/N), dtype: int64"
      ]
     },
     "execution_count": 53,
     "metadata": {},
     "output_type": "execute_result"
    }
   ],
   "source": [
    "attacks_df['Fatal (Y/N)'].value_counts(dropna=False)"
   ]
  },
  {
   "cell_type": "code",
   "execution_count": 54,
   "metadata": {},
   "outputs": [
    {
     "data": {
      "text/plain": [
       "285    Laceration to knee by speared shark PROVOKED I...\n",
       "Name: Injury, dtype: object"
      ]
     },
     "execution_count": 54,
     "metadata": {},
     "output_type": "execute_result"
    }
   ],
   "source": [
    "shark_atck_df[shark_atck_df['Fatal (Y/N)'] == 'M'].iloc[:,11]"
   ]
  },
  {
   "cell_type": "code",
   "execution_count": 55,
   "metadata": {},
   "outputs": [
    {
     "data": {
      "text/plain": [
       "786    Lower left leg injured PROVOKED ACCIDENT\n",
       "Name: Injury, dtype: object"
      ]
     },
     "execution_count": 55,
     "metadata": {},
     "output_type": "execute_result"
    }
   ],
   "source": [
    "shark_atck_df[shark_atck_df['Fatal (Y/N)'] == '2017'].iloc[:,11]"
   ]
  },
  {
   "cell_type": "code",
   "execution_count": 56,
   "metadata": {},
   "outputs": [],
   "source": [
    "replacers = {'UNKNOWN': np.NaN, '2017': 'N', 'M': np.NaN}\n",
    "\n",
    "for k, v in replacers.items():\n",
    "    attacks_df['Fatal (Y/N)'].replace(k, v, inplace=True)"
   ]
  },
  {
   "cell_type": "code",
   "execution_count": 57,
   "metadata": {},
   "outputs": [
    {
     "data": {
      "text/plain": [
       "N      4311\n",
       "Y      1390\n",
       "NaN     614\n",
       "Name: Fatal (Y/N), dtype: int64"
      ]
     },
     "execution_count": 57,
     "metadata": {},
     "output_type": "execute_result"
    }
   ],
   "source": [
    "attacks_df['Fatal (Y/N)'].value_counts(dropna=False)"
   ]
  },
  {
   "cell_type": "markdown",
   "metadata": {},
   "source": [
    "## Type column"
   ]
  },
  {
   "cell_type": "code",
   "execution_count": 58,
   "metadata": {},
   "outputs": [],
   "source": [
    "attacks_df['Type'] = attacks_df['Type'].str.strip()\n",
    "attacks_df['Type'] = attacks_df['Type'].str.upper()"
   ]
  },
  {
   "cell_type": "code",
   "execution_count": 59,
   "metadata": {},
   "outputs": [
    {
     "data": {
      "text/plain": [
       "UNPROVOKED      4600\n",
       "PROVOKED         577\n",
       "INVALID          551\n",
       "SEA DISASTER     239\n",
       "BOATING          206\n",
       "BOAT             139\n",
       "QUESTIONABLE       2\n",
       "BOATOMG            1\n",
       "Name: Type, dtype: int64"
      ]
     },
     "execution_count": 59,
     "metadata": {},
     "output_type": "execute_result"
    }
   ],
   "source": [
    "attacks_df['Type'].value_counts(dropna=False)"
   ]
  },
  {
   "cell_type": "code",
   "execution_count": 60,
   "metadata": {},
   "outputs": [],
   "source": [
    "replacers = {'BOAT': 'BOATING', 'BOATOMG': 'BOATING'}\n",
    "\n",
    "for k, v in replacers.items():\n",
    "    attacks_df['Type'].replace(k, v, inplace=True)"
   ]
  },
  {
   "cell_type": "code",
   "execution_count": 61,
   "metadata": {},
   "outputs": [
    {
     "data": {
      "text/plain": [
       "UNPROVOKED      4600\n",
       "PROVOKED         577\n",
       "INVALID          551\n",
       "BOATING          346\n",
       "SEA DISASTER     239\n",
       "QUESTIONABLE       2\n",
       "Name: Type, dtype: int64"
      ]
     },
     "execution_count": 61,
     "metadata": {},
     "output_type": "execute_result"
    }
   ],
   "source": [
    "attacks_df['Type'].value_counts(dropna=False)"
   ]
  },
  {
   "cell_type": "markdown",
   "metadata": {},
   "source": [
    "## Columns to numeric"
   ]
  },
  {
   "cell_type": "code",
   "execution_count": 62,
   "metadata": {},
   "outputs": [],
   "source": [
    "attacks_df.replace(\"nan\", np.NaN, regex=True, inplace=True)\n",
    "\n",
    "attacks_df['Year'] = pd.to_numeric(attacks_df['Year'], downcast='signed')\n",
    "attacks_df['Month'] = pd.to_numeric(attacks_df['Month'], downcast='signed')\n",
    "attacks_df['Month'].replace(94.0, 04.0, inplace=True)\n",
    "attacks_df['Day'] = pd.to_numeric(attacks_df['Day'], downcast='signed')\n",
    "attacks_df['Age'] = pd.to_numeric(attacks_df['Age'], downcast='signed')"
   ]
  },
  {
   "cell_type": "markdown",
   "metadata": {},
   "source": [
    "## Adding Continents\n",
    "\n",
    "Once the dataframe has been clean and standardized is time for the analysis. But before it, I would like to add something in order to direct this research. As the dataframe has a column for the country where the attack took place, and helped by the library 'A world of countries', I would like to add the continent for each of the rows, as it will help me to organize the plotting by this."
   ]
  },
  {
   "cell_type": "code",
   "execution_count": 67,
   "metadata": {},
   "outputs": [],
   "source": [
    "replacers = {'ENGLAND': 'UNITED KINGDOM', 'SCOTLAND': 'UNITED KINGDOM', 'COLUMBIA': 'COLOMBIA', 'OKINAWA': 'JAPAN', 'AZORES': 'PORTUGAL', 'TURKS & CAICOS': 'TURKS AND CAICOS ISLANDS', 'NEW GUINEA': 'PAPUA NEW GUINEA', 'NEW BRITAIN': 'PAPUA NEW GUINEA', 'BURMA': 'MYANMAR', 'PERSIAN GULF': 'OMAN', 'TRINIDAD & TOBAGO': 'TRINIDAD AND TOBAGO', 'TOBAGO': 'TRINIDAD AND TOBAGO', 'CRETE': 'GREECE', 'ST HELENA, BRITISH OVERSEAS TERRITORY': 'SAINT HELENA', 'CEYLON': 'SRI LANKA', 'UNITED ARAB EMIRATES (UAE)': 'UNITED ARABA EMIRATES', 'ANTIGUA': 'ANTIGUA AND BARBUDA'}"
   ]
  },
  {
   "cell_type": "code",
   "execution_count": 68,
   "metadata": {},
   "outputs": [],
   "source": [
    "for k, v in replacers.items():\n",
    "    attacks_df['Country'].replace(k, v, inplace=True)"
   ]
  },
  {
   "cell_type": "code",
   "execution_count": 69,
   "metadata": {},
   "outputs": [],
   "source": [
    "my_world = awoc.AWOC()"
   ]
  },
  {
   "cell_type": "code",
   "execution_count": 70,
   "metadata": {},
   "outputs": [],
   "source": [
    "attacks_df['Continent'] = np.NaN\n",
    "continents = my_world.get_continents_list()\n",
    "\n",
    "for continent in continents:\n",
    "    countries = my_world.get_countries_list_of(continent)\n",
    "    countries = list(map(lambda x: x.upper(), countries))\n",
    "    selected_df = attacks_df[attacks_df['Country'].isin(countries)]\n",
    "    selected_df['Continent'] = continent\n",
    "    attacks_df['Continent'].fillna(selected_df['Continent'], inplace=True)"
   ]
  },
  {
   "cell_type": "code",
   "execution_count": 74,
   "metadata": {},
   "outputs": [],
   "source": [
    "#attacks_df[attacks_df['Country'] == 'CARIBBEAN SEA']['Continent'].fillna('North America', inplace=True)"
   ]
  },
  {
   "cell_type": "code",
   "execution_count": 75,
   "metadata": {
    "scrolled": true
   },
   "outputs": [
    {
     "data": {
      "text/html": [
       "<div>\n",
       "<style scoped>\n",
       "    .dataframe tbody tr th:only-of-type {\n",
       "        vertical-align: middle;\n",
       "    }\n",
       "\n",
       "    .dataframe tbody tr th {\n",
       "        vertical-align: top;\n",
       "    }\n",
       "\n",
       "    .dataframe thead th {\n",
       "        text-align: right;\n",
       "    }\n",
       "</style>\n",
       "<table border=\"1\" class=\"dataframe\">\n",
       "  <thead>\n",
       "    <tr style=\"text-align: right;\">\n",
       "      <th></th>\n",
       "      <th>Year</th>\n",
       "      <th>Month</th>\n",
       "      <th>Day</th>\n",
       "      <th>HH</th>\n",
       "      <th>MM</th>\n",
       "      <th>Country</th>\n",
       "      <th>Sex</th>\n",
       "      <th>Age</th>\n",
       "      <th>Activity</th>\n",
       "      <th>Type</th>\n",
       "      <th>Fatal (Y/N)</th>\n",
       "      <th>Continent</th>\n",
       "    </tr>\n",
       "  </thead>\n",
       "  <tbody>\n",
       "    <tr>\n",
       "      <th>0</th>\n",
       "      <td>2018</td>\n",
       "      <td>6.0</td>\n",
       "      <td>25.0</td>\n",
       "      <td>18</td>\n",
       "      <td>00</td>\n",
       "      <td>UNITED STATES</td>\n",
       "      <td>F</td>\n",
       "      <td>57.0</td>\n",
       "      <td>SURFING</td>\n",
       "      <td>BOATING</td>\n",
       "      <td>N</td>\n",
       "      <td>North America</td>\n",
       "    </tr>\n",
       "    <tr>\n",
       "      <th>1</th>\n",
       "      <td>2018</td>\n",
       "      <td>6.0</td>\n",
       "      <td>18.0</td>\n",
       "      <td>14</td>\n",
       "      <td>00</td>\n",
       "      <td>UNITED STATES</td>\n",
       "      <td>F</td>\n",
       "      <td>11.0</td>\n",
       "      <td>BATHING</td>\n",
       "      <td>UNPROVOKED</td>\n",
       "      <td>N</td>\n",
       "      <td>North America</td>\n",
       "    </tr>\n",
       "    <tr>\n",
       "      <th>2</th>\n",
       "      <td>2018</td>\n",
       "      <td>6.0</td>\n",
       "      <td>9.0</td>\n",
       "      <td>07</td>\n",
       "      <td>45</td>\n",
       "      <td>UNITED STATES</td>\n",
       "      <td>M</td>\n",
       "      <td>48.0</td>\n",
       "      <td>SURFING</td>\n",
       "      <td>INVALID</td>\n",
       "      <td>N</td>\n",
       "      <td>North America</td>\n",
       "    </tr>\n",
       "    <tr>\n",
       "      <th>3</th>\n",
       "      <td>2018</td>\n",
       "      <td>6.0</td>\n",
       "      <td>8.0</td>\n",
       "      <td>NaN</td>\n",
       "      <td>NaN</td>\n",
       "      <td>AUSTRALIA</td>\n",
       "      <td>M</td>\n",
       "      <td>NaN</td>\n",
       "      <td>SURFING</td>\n",
       "      <td>UNPROVOKED</td>\n",
       "      <td>N</td>\n",
       "      <td>Oceania</td>\n",
       "    </tr>\n",
       "    <tr>\n",
       "      <th>4</th>\n",
       "      <td>2018</td>\n",
       "      <td>6.0</td>\n",
       "      <td>4.0</td>\n",
       "      <td>NaN</td>\n",
       "      <td>NaN</td>\n",
       "      <td>MEXICO</td>\n",
       "      <td>M</td>\n",
       "      <td>NaN</td>\n",
       "      <td>DIVING</td>\n",
       "      <td>PROVOKED</td>\n",
       "      <td>N</td>\n",
       "      <td>North America</td>\n",
       "    </tr>\n",
       "    <tr>\n",
       "      <th>...</th>\n",
       "      <td>...</td>\n",
       "      <td>...</td>\n",
       "      <td>...</td>\n",
       "      <td>...</td>\n",
       "      <td>...</td>\n",
       "      <td>...</td>\n",
       "      <td>...</td>\n",
       "      <td>...</td>\n",
       "      <td>...</td>\n",
       "      <td>...</td>\n",
       "      <td>...</td>\n",
       "      <td>...</td>\n",
       "    </tr>\n",
       "    <tr>\n",
       "      <th>6310</th>\n",
       "      <td>1959</td>\n",
       "      <td>12.0</td>\n",
       "      <td>11.0</td>\n",
       "      <td>NaN</td>\n",
       "      <td>NaN</td>\n",
       "      <td>AUSTRALIA</td>\n",
       "      <td>M</td>\n",
       "      <td>35.0</td>\n",
       "      <td>FISHING</td>\n",
       "      <td>PROVOKED</td>\n",
       "      <td>N</td>\n",
       "      <td>Oceania</td>\n",
       "    </tr>\n",
       "    <tr>\n",
       "      <th>6311</th>\n",
       "      <td>1959</td>\n",
       "      <td>8.0</td>\n",
       "      <td>2.0</td>\n",
       "      <td>NaN</td>\n",
       "      <td>NaN</td>\n",
       "      <td>ITALY</td>\n",
       "      <td>M</td>\n",
       "      <td>19.0</td>\n",
       "      <td>DIVING</td>\n",
       "      <td>INVALID</td>\n",
       "      <td>NaN</td>\n",
       "      <td>Europe</td>\n",
       "    </tr>\n",
       "    <tr>\n",
       "      <th>6312</th>\n",
       "      <td>1959</td>\n",
       "      <td>1.0</td>\n",
       "      <td>2.0</td>\n",
       "      <td>08</td>\n",
       "      <td>00</td>\n",
       "      <td>MOZAMBIQUE</td>\n",
       "      <td>M</td>\n",
       "      <td>26.0</td>\n",
       "      <td>SWIMMING</td>\n",
       "      <td>UNPROVOKED</td>\n",
       "      <td>Y</td>\n",
       "      <td>Africa</td>\n",
       "    </tr>\n",
       "    <tr>\n",
       "      <th>6313</th>\n",
       "      <td>1947</td>\n",
       "      <td>1.0</td>\n",
       "      <td>14.0</td>\n",
       "      <td>NaN</td>\n",
       "      <td>NaN</td>\n",
       "      <td>AUSTRALIA</td>\n",
       "      <td>NaN</td>\n",
       "      <td>16.0</td>\n",
       "      <td>SMALLCRAFT</td>\n",
       "      <td>BOATING</td>\n",
       "      <td>N</td>\n",
       "      <td>Oceania</td>\n",
       "    </tr>\n",
       "    <tr>\n",
       "      <th>6314</th>\n",
       "      <td>1932</td>\n",
       "      <td>1.0</td>\n",
       "      <td>6.0</td>\n",
       "      <td>NaN</td>\n",
       "      <td>NaN</td>\n",
       "      <td>MEXICO</td>\n",
       "      <td>M</td>\n",
       "      <td>23.0</td>\n",
       "      <td>FISHING</td>\n",
       "      <td>PROVOKED</td>\n",
       "      <td>Y</td>\n",
       "      <td>North America</td>\n",
       "    </tr>\n",
       "  </tbody>\n",
       "</table>\n",
       "<p>6315 rows × 12 columns</p>\n",
       "</div>"
      ],
      "text/plain": [
       "      Year  Month   Day   HH   MM        Country Sex    Age    Activity  \\\n",
       "0     2018    6.0  25.0   18   00  UNITED STATES    F  57.0     SURFING   \n",
       "1     2018    6.0  18.0   14   00  UNITED STATES    F  11.0     BATHING   \n",
       "2     2018    6.0   9.0   07   45  UNITED STATES    M  48.0     SURFING   \n",
       "3     2018    6.0   8.0  NaN  NaN      AUSTRALIA    M   NaN     SURFING   \n",
       "4     2018    6.0   4.0  NaN  NaN         MEXICO    M   NaN      DIVING   \n",
       "...    ...    ...   ...  ...  ...            ...  ...   ...         ...   \n",
       "6310  1959   12.0  11.0  NaN  NaN      AUSTRALIA    M  35.0     FISHING   \n",
       "6311  1959    8.0   2.0  NaN  NaN          ITALY    M  19.0      DIVING   \n",
       "6312  1959    1.0   2.0   08   00     MOZAMBIQUE    M  26.0    SWIMMING   \n",
       "6313  1947    1.0  14.0  NaN  NaN      AUSTRALIA  NaN  16.0  SMALLCRAFT   \n",
       "6314  1932    1.0   6.0  NaN  NaN         MEXICO    M  23.0     FISHING   \n",
       "\n",
       "            Type Fatal (Y/N)      Continent  \n",
       "0        BOATING           N  North America  \n",
       "1     UNPROVOKED           N  North America  \n",
       "2        INVALID           N  North America  \n",
       "3     UNPROVOKED           N        Oceania  \n",
       "4       PROVOKED           N  North America  \n",
       "...          ...         ...            ...  \n",
       "6310    PROVOKED           N        Oceania  \n",
       "6311     INVALID         NaN         Europe  \n",
       "6312  UNPROVOKED           Y         Africa  \n",
       "6313     BOATING           N        Oceania  \n",
       "6314    PROVOKED           Y  North America  \n",
       "\n",
       "[6315 rows x 12 columns]"
      ]
     },
     "execution_count": 75,
     "metadata": {},
     "output_type": "execute_result"
    }
   ],
   "source": [
    "attacks_df"
   ]
  },
  {
   "cell_type": "code",
   "execution_count": 76,
   "metadata": {},
   "outputs": [
    {
     "data": {
      "text/plain": [
       "NAN                           50\n",
       "PACIFIC OCEAN                 19\n",
       "ATLANTIC OCEAN                18\n",
       "SOUTH ATLANTIC OCEAN          12\n",
       "CARIBBEAN SEA                  9\n",
       "                              ..\n",
       "BRITISH NEW GUINEA             1\n",
       "KOREA                          1\n",
       "RED SEA?                       1\n",
       "SOLOMON ISLANDS / VANUATU      1\n",
       "ANDAMAN / NICOBAR ISLANDAS     1\n",
       "Name: Country, Length: 62, dtype: int64"
      ]
     },
     "execution_count": 76,
     "metadata": {},
     "output_type": "execute_result"
    }
   ],
   "source": [
    "attacks_df[attacks_df['Continent'].isnull()]['Country'].value_counts(dropna=False)"
   ]
  },
  {
   "cell_type": "markdown",
   "metadata": {},
   "source": [
    "With just one single loop and getting the list of continents and the list of countries for each continent from the library, now I got a really valuable information. Let's download the resultant dataframe and perform the analysis in other document."
   ]
  },
  {
   "cell_type": "code",
   "execution_count": 77,
   "metadata": {},
   "outputs": [],
   "source": [
    "attacks_df.to_csv(path_or_buf='~/attacks_clean.csv')"
   ]
  }
 ],
 "metadata": {
  "kernelspec": {
   "display_name": "Python 3.7.4 64-bit ('anaconda3': conda)",
   "language": "python",
   "name": "python37464bitanaconda3condae88754a2382d478085e26b412211ec7e"
  },
  "language_info": {
   "codemirror_mode": {
    "name": "ipython",
    "version": 3
   },
   "file_extension": ".py",
   "mimetype": "text/x-python",
   "name": "python",
   "nbconvert_exporter": "python",
   "pygments_lexer": "ipython3",
   "version": "3.7.4"
  }
 },
 "nbformat": 4,
 "nbformat_minor": 2
}
