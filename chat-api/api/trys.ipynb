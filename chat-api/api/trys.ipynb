{
 "metadata": {
  "language_info": {
   "codemirror_mode": {
    "name": "ipython",
    "version": 3
   },
   "file_extension": ".py",
   "mimetype": "text/x-python",
   "name": "python",
   "nbconvert_exporter": "python",
   "pygments_lexer": "ipython3",
   "version": "3.8.5-final"
  },
  "orig_nbformat": 2,
  "kernelspec": {
   "name": "python37464bitanaconda3condae88754a2382d478085e26b412211ec7e",
   "display_name": "Python 3.7.4 64-bit ('anaconda3': conda)"
  }
 },
 "nbformat": 4,
 "nbformat_minor": 2,
 "cells": [
  {
   "cell_type": "code",
   "execution_count": null,
   "metadata": {},
   "outputs": [],
   "source": [
    "#$ export FLASK_APP=endpoints.py\n",
    "#$ flask run\n",
    "# http://127.0.0.1:5000/"
   ]
  },
  {
   "cell_type": "code",
   "execution_count": 17,
   "metadata": {},
   "outputs": [],
   "source": [
    "import requests\n",
    "from sql_caller import engine_connector, user_call, chat_checker\n",
    "conn = engine_connector()\n",
    "from sqlalchemy import text\n",
    "import pandas as pd\n",
    "from randomuser import RandomUser\n",
    "from itertools import combinations\n",
    "import random\n",
    "import numpy as np\n",
    "from datetime import datetime\n",
    "import re"
   ]
  },
  {
   "cell_type": "code",
   "execution_count": 5,
   "metadata": {},
   "outputs": [],
   "source": [
    "## Add users to DB\n",
    "\n",
    "user_list = RandomUser.generate_users(40)\n",
    "\n",
    "for user in user_list:\n",
    "    users_dict = {'name':user.get_first_name(), 'last_name':user.get_last_name(), 'nick_name':user.get_username()}\n",
    "    endpoint = \"new_user?user_name={name}&user_surname={last_name}&user_nick={nick_name}\".format(**users_dict)\n",
    "    \n",
    "    requests.get(\"http://127.0.0.1:5000/\" + endpoint)"
   ]
  },
  {
   "cell_type": "code",
   "execution_count": 6,
   "metadata": {},
   "outputs": [],
   "source": [
    "## Add chats\n",
    "\n",
    "query = f\"\"\"SELECT user_nick FROM chat_api.users;\n",
    "         \"\"\"\n",
    "users_list = pd.read_sql(con=conn, sql=query)['user_nick'].tolist()\n",
    "\n",
    "selection = random.sample(users_list, 10)\n",
    "chats_comb = list(combinations(selection, 2))\n",
    "ten_chats = random.sample(chats_comb, 10)\n",
    "\n",
    "for chat in ten_chats:\n",
    "    chat_dict = {'sender_nick': chat[0], 'recv_nick': chat[1]}\n",
    "    endpoint = \"chat/create?sender_nick={sender_nick}&recv_nick={recv_nick}\".format(**chat_dict)\n",
    "    \n",
    "    requests.get(\"http://127.0.0.1:5000/\" + endpoint)"
   ]
  },
  {
   "cell_type": "code",
   "execution_count": 8,
   "metadata": {},
   "outputs": [],
   "source": []
  },
  {
   "cell_type": "code",
   "execution_count": 27,
   "metadata": {},
   "outputs": [
    {
     "output_type": "execute_result",
     "data": {
      "text/plain": [
       "<Response [200]>"
      ]
     },
     "metadata": {},
     "execution_count": 27
    }
   ],
   "source": [
    "### Create a function to correct the strings\n",
    "string = \"Hello, it's me\"\n",
    "string = string.replace(\" \", \"_\").replace(\"'\", \"\")\n",
    "string\n",
    "\n",
    "endpoint = f\"chat/addmessage?sender_nick=beautifulbird317&recv_nick=ticklishbutterfly899&message={string}\"\n",
    "\n",
    "requests.get(\"http://127.0.0.1:5000/\" + endpoint)"
   ]
  },
  {
   "cell_type": "code",
   "execution_count": 28,
   "metadata": {},
   "outputs": [
    {
     "output_type": "execute_result",
     "data": {
      "text/plain": [
       "'Hello,_its_me'"
      ]
     },
     "metadata": {},
     "execution_count": 28
    }
   ],
   "source": [
    "string = \"Hello, it's me\"\n",
    "string = string.replace(\" \", \"_\").replace(\"'\", \"\")\n",
    "string"
   ]
  },
  {
   "cell_type": "code",
   "execution_count": 29,
   "metadata": {},
   "outputs": [
    {
     "output_type": "execute_result",
     "data": {
      "text/plain": [
       "'Hello, its me'"
      ]
     },
     "metadata": {},
     "execution_count": 29
    }
   ],
   "source": [
    "message = 'Hello,_its_me'\n",
    "message = string.replace(\"_\", \" \")\n",
    "message"
   ]
  },
  {
   "cell_type": "code",
   "execution_count": null,
   "metadata": {},
   "outputs": [],
   "source": [
    "@app.route(\"/\")\n",
    "def hello_world():\n",
    "    return {'hello':'world'}\n",
    "\n",
    "@app.route('/name')\n",
    "def te_doy_tu_nombre():\n",
    "    name = request.args.get('name')\n",
    "    lastname = request.args.get('lastname')\n",
    "    return {\"Hello\": f\"{name} {lastname}\"}\n",
    "\n",
    "@app.route('/mucho')\n",
    "def mucho():\n",
    "    args = request.args\n",
    "    res = {}\n",
    "    for k, v in args.items():\n",
    "        res[k] = v\n",
    "    return res\n",
    "\n"
   ]
  },
  {
   "cell_type": "code",
   "execution_count": null,
   "metadata": {},
   "outputs": [],
   "source": []
  }
 ]
}