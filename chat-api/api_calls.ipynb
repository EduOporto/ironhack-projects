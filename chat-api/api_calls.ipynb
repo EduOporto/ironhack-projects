{
 "cells": [
  {
   "cell_type": "code",
   "execution_count": 1,
   "metadata": {},
   "outputs": [],
   "source": [
    "import requests\n",
    "import json\n",
    "import pandas as pd"
   ]
  },
  {
   "cell_type": "markdown",
   "metadata": {},
   "source": [
    "## Group sentiment analysis call"
   ]
  },
  {
   "cell_type": "code",
   "execution_count": 4,
   "metadata": {},
   "outputs": [],
   "source": [
    "endpoint = \"group/list_mood?group_name=accomplishment&user_nick=angryfish723\"\n",
    "\n",
    "res = requests.get('http://127.0.0.1:5000/' + endpoint).json()"
   ]
  },
  {
   "cell_type": "code",
   "execution_count": 5,
   "metadata": {},
   "outputs": [
    {
     "data": {
      "text/html": [
       "<div>\n",
       "<style scoped>\n",
       "    .dataframe tbody tr th:only-of-type {\n",
       "        vertical-align: middle;\n",
       "    }\n",
       "\n",
       "    .dataframe tbody tr th {\n",
       "        vertical-align: top;\n",
       "    }\n",
       "\n",
       "    .dataframe thead th {\n",
       "        text-align: right;\n",
       "    }\n",
       "</style>\n",
       "<table border=\"1\" class=\"dataframe\">\n",
       "  <thead>\n",
       "    <tr style=\"text-align: right;\">\n",
       "      <th></th>\n",
       "      <th>group_id</th>\n",
       "      <th>user_id</th>\n",
       "      <th>user_nick</th>\n",
       "      <th>message</th>\n",
       "      <th>message_date</th>\n",
       "      <th>neg</th>\n",
       "      <th>neu</th>\n",
       "      <th>pos</th>\n",
       "    </tr>\n",
       "  </thead>\n",
       "  <tbody>\n",
       "    <tr>\n",
       "      <th>0</th>\n",
       "      <td>9</td>\n",
       "      <td>37</td>\n",
       "      <td>angryfish723</td>\n",
       "      <td>I suppose thats one of the ironies of life doi...</td>\n",
       "      <td>1606785624000</td>\n",
       "      <td>0.171</td>\n",
       "      <td>0.829</td>\n",
       "      <td>0.000</td>\n",
       "    </tr>\n",
       "    <tr>\n",
       "      <th>1</th>\n",
       "      <td>9</td>\n",
       "      <td>37</td>\n",
       "      <td>angryfish723</td>\n",
       "      <td>I am a firm believer in marriage. In the futur...</td>\n",
       "      <td>1606785624000</td>\n",
       "      <td>0.000</td>\n",
       "      <td>1.000</td>\n",
       "      <td>0.000</td>\n",
       "    </tr>\n",
       "    <tr>\n",
       "      <th>2</th>\n",
       "      <td>9</td>\n",
       "      <td>24</td>\n",
       "      <td>silvermouse530</td>\n",
       "      <td>We are reflections of one another, therefore I...</td>\n",
       "      <td>1606785624000</td>\n",
       "      <td>0.000</td>\n",
       "      <td>0.949</td>\n",
       "      <td>0.051</td>\n",
       "    </tr>\n",
       "    <tr>\n",
       "      <th>3</th>\n",
       "      <td>9</td>\n",
       "      <td>18</td>\n",
       "      <td>heavyelephant591</td>\n",
       "      <td>Men make history and not the other way around....</td>\n",
       "      <td>1606785624000</td>\n",
       "      <td>0.051</td>\n",
       "      <td>0.673</td>\n",
       "      <td>0.276</td>\n",
       "    </tr>\n",
       "    <tr>\n",
       "      <th>4</th>\n",
       "      <td>9</td>\n",
       "      <td>18</td>\n",
       "      <td>heavyelephant591</td>\n",
       "      <td>The principal act of courage is to endure and ...</td>\n",
       "      <td>1606785624000</td>\n",
       "      <td>0.268</td>\n",
       "      <td>0.596</td>\n",
       "      <td>0.136</td>\n",
       "    </tr>\n",
       "  </tbody>\n",
       "</table>\n",
       "</div>"
      ],
      "text/plain": [
       "   group_id  user_id         user_nick  \\\n",
       "0         9       37      angryfish723   \n",
       "1         9       37      angryfish723   \n",
       "2         9       24    silvermouse530   \n",
       "3         9       18  heavyelephant591   \n",
       "4         9       18  heavyelephant591   \n",
       "\n",
       "                                             message   message_date    neg  \\\n",
       "0  I suppose thats one of the ironies of life doi...  1606785624000  0.171   \n",
       "1  I am a firm believer in marriage. In the futur...  1606785624000  0.000   \n",
       "2  We are reflections of one another, therefore I...  1606785624000  0.000   \n",
       "3  Men make history and not the other way around....  1606785624000  0.051   \n",
       "4  The principal act of courage is to endure and ...  1606785624000  0.268   \n",
       "\n",
       "     neu    pos  \n",
       "0  0.829  0.000  \n",
       "1  1.000  0.000  \n",
       "2  0.949  0.051  \n",
       "3  0.673  0.276  \n",
       "4  0.596  0.136  "
      ]
     },
     "execution_count": 5,
     "metadata": {},
     "output_type": "execute_result"
    }
   ],
   "source": [
    "df = pd.DataFrame.from_dict(res)\n",
    "df.head()"
   ]
  },
  {
   "cell_type": "code",
   "execution_count": 6,
   "metadata": {},
   "outputs": [
    {
     "data": {
      "text/plain": [
       "neg    0.0937\n",
       "neu    0.7803\n",
       "pos    0.1260\n",
       "dtype: float64"
      ]
     },
     "execution_count": 6,
     "metadata": {},
     "output_type": "execute_result"
    }
   ],
   "source": [
    "df.iloc[:,-3:].mean()"
   ]
  },
  {
   "cell_type": "markdown",
   "metadata": {},
   "source": [
    "## Chat sentiment analysis call"
   ]
  },
  {
   "cell_type": "code",
   "execution_count": 9,
   "metadata": {},
   "outputs": [],
   "source": [
    "endpoint = \"chat/list_mood?user_nick=happytiger591&recv_nick=angryleopard653\"\n",
    "\n",
    "res = requests.get('http://127.0.0.1:5000/' + endpoint).json()"
   ]
  },
  {
   "cell_type": "code",
   "execution_count": 10,
   "metadata": {},
   "outputs": [
    {
     "data": {
      "text/html": [
       "<div>\n",
       "<style scoped>\n",
       "    .dataframe tbody tr th:only-of-type {\n",
       "        vertical-align: middle;\n",
       "    }\n",
       "\n",
       "    .dataframe tbody tr th {\n",
       "        vertical-align: top;\n",
       "    }\n",
       "\n",
       "    .dataframe thead th {\n",
       "        text-align: right;\n",
       "    }\n",
       "</style>\n",
       "<table border=\"1\" class=\"dataframe\">\n",
       "  <thead>\n",
       "    <tr style=\"text-align: right;\">\n",
       "      <th></th>\n",
       "      <th>chat_id</th>\n",
       "      <th>user_id</th>\n",
       "      <th>user_nick</th>\n",
       "      <th>message</th>\n",
       "      <th>message_date</th>\n",
       "      <th>neg</th>\n",
       "      <th>neu</th>\n",
       "      <th>pos</th>\n",
       "    </tr>\n",
       "  </thead>\n",
       "  <tbody>\n",
       "    <tr>\n",
       "      <th>0</th>\n",
       "      <td>2</td>\n",
       "      <td>30</td>\n",
       "      <td>happytiger591</td>\n",
       "      <td>The action we take and the decisions we make i...</td>\n",
       "      <td>1606785623000</td>\n",
       "      <td>0.215</td>\n",
       "      <td>0.785</td>\n",
       "      <td>0.000</td>\n",
       "    </tr>\n",
       "    <tr>\n",
       "      <th>1</th>\n",
       "      <td>2</td>\n",
       "      <td>25</td>\n",
       "      <td>angryleopard653</td>\n",
       "      <td>The recycling in my house was imposed by my kids.</td>\n",
       "      <td>1606785623000</td>\n",
       "      <td>0.126</td>\n",
       "      <td>0.874</td>\n",
       "      <td>0.000</td>\n",
       "    </tr>\n",
       "    <tr>\n",
       "      <th>2</th>\n",
       "      <td>2</td>\n",
       "      <td>25</td>\n",
       "      <td>angryleopard653</td>\n",
       "      <td>Dont Make Assumptions. Find the courage to ask...</td>\n",
       "      <td>1606785623000</td>\n",
       "      <td>0.100</td>\n",
       "      <td>0.689</td>\n",
       "      <td>0.211</td>\n",
       "    </tr>\n",
       "    <tr>\n",
       "      <th>3</th>\n",
       "      <td>2</td>\n",
       "      <td>30</td>\n",
       "      <td>happytiger591</td>\n",
       "      <td>I dont do that many appearances at conventions...</td>\n",
       "      <td>1606785623000</td>\n",
       "      <td>0.000</td>\n",
       "      <td>0.664</td>\n",
       "      <td>0.336</td>\n",
       "    </tr>\n",
       "    <tr>\n",
       "      <th>4</th>\n",
       "      <td>2</td>\n",
       "      <td>30</td>\n",
       "      <td>happytiger591</td>\n",
       "      <td>I will always be an actress. I couldnt see mys...</td>\n",
       "      <td>1606785623000</td>\n",
       "      <td>0.000</td>\n",
       "      <td>0.870</td>\n",
       "      <td>0.130</td>\n",
       "    </tr>\n",
       "  </tbody>\n",
       "</table>\n",
       "</div>"
      ],
      "text/plain": [
       "   chat_id  user_id        user_nick  \\\n",
       "0        2       30    happytiger591   \n",
       "1        2       25  angryleopard653   \n",
       "2        2       25  angryleopard653   \n",
       "3        2       30    happytiger591   \n",
       "4        2       30    happytiger591   \n",
       "\n",
       "                                             message   message_date    neg  \\\n",
       "0  The action we take and the decisions we make i...  1606785623000  0.215   \n",
       "1  The recycling in my house was imposed by my kids.  1606785623000  0.126   \n",
       "2  Dont Make Assumptions. Find the courage to ask...  1606785623000  0.100   \n",
       "3  I dont do that many appearances at conventions...  1606785623000  0.000   \n",
       "4  I will always be an actress. I couldnt see mys...  1606785623000  0.000   \n",
       "\n",
       "     neu    pos  \n",
       "0  0.785  0.000  \n",
       "1  0.874  0.000  \n",
       "2  0.689  0.211  \n",
       "3  0.664  0.336  \n",
       "4  0.870  0.130  "
      ]
     },
     "execution_count": 10,
     "metadata": {},
     "output_type": "execute_result"
    }
   ],
   "source": [
    "df = pd.DataFrame.from_dict(res)\n",
    "df.head()"
   ]
  },
  {
   "cell_type": "code",
   "execution_count": 11,
   "metadata": {},
   "outputs": [
    {
     "data": {
      "text/plain": [
       "neg    0.08150\n",
       "neu    0.70905\n",
       "pos    0.20940\n",
       "dtype: float64"
      ]
     },
     "execution_count": 11,
     "metadata": {},
     "output_type": "execute_result"
    }
   ],
   "source": [
    "df.iloc[:,-3:].mean()"
   ]
  },
  {
   "cell_type": "code",
   "execution_count": null,
   "metadata": {},
   "outputs": [],
   "source": []
  }
 ],
 "metadata": {
  "kernelspec": {
   "display_name": "Python 3",
   "language": "python",
   "name": "python3"
  },
  "language_info": {
   "codemirror_mode": {
    "name": "ipython",
    "version": 3
   },
   "file_extension": ".py",
   "mimetype": "text/x-python",
   "name": "python",
   "nbconvert_exporter": "python",
   "pygments_lexer": "ipython3",
   "version": "3.8.5"
  }
 },
 "nbformat": 4,
 "nbformat_minor": 2
}
