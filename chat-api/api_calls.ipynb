{
 "metadata": {
  "language_info": {
   "codemirror_mode": {
    "name": "ipython",
    "version": 3
   },
   "file_extension": ".py",
   "mimetype": "text/x-python",
   "name": "python",
   "nbconvert_exporter": "python",
   "pygments_lexer": "ipython3",
   "version": "3.8.5-final"
  },
  "orig_nbformat": 2,
  "kernelspec": {
   "name": "python3",
   "display_name": "Python 3.8.5 64-bit",
   "metadata": {
    "interpreter": {
     "hash": "082e9a3bcad0a290d0001e938aa60b99250c6c2ef33a923c00b70f9826caf4b7"
    }
   }
  }
 },
 "nbformat": 4,
 "nbformat_minor": 2,
 "cells": [
  {
   "cell_type": "code",
   "execution_count": 8,
   "metadata": {},
   "outputs": [],
   "source": [
    "import requests\n",
    "import json\n",
    "import pandas as pd"
   ]
  },
  {
   "cell_type": "code",
   "execution_count": 11,
   "metadata": {},
   "outputs": [],
   "source": [
    "endpoint = \"group/list_mood?group_name=remains&user_nick=crazyrabbit510\"\n",
    "\n",
    "res = requests.get('http://127.0.0.1:5000/' + endpoint).json()"
   ]
  },
  {
   "cell_type": "code",
   "execution_count": 13,
   "metadata": {},
   "outputs": [
    {
     "output_type": "execute_result",
     "data": {
      "text/plain": [
       "   group_id  user_id      user_nick  \\\n",
       "0         6       19   heavywolf610   \n",
       "1         6        2   heavyfish770   \n",
       "2         6       19   heavywolf610   \n",
       "3         6       19   heavywolf610   \n",
       "4         6       24  silverfish787   \n",
       "\n",
       "                                             message   message_date    neg  \\\n",
       "0  In the end, it is because the media are driven...  1606759536000  0.052   \n",
       "1  I still have the desire to succeed, and Ive al...  1606759536000  0.047   \n",
       "2  I think one of the most important things in a ...  1606759536000  0.123   \n",
       "3  The new midlife is where you realize that even...  1606759536000  0.056   \n",
       "4  I proved to my own satisfaction that I am madd...  1606759536000  0.168   \n",
       "\n",
       "     neu    pos  \n",
       "0  0.881  0.067  \n",
       "1  0.559  0.394  \n",
       "2  0.526  0.351  \n",
       "3  0.676  0.268  \n",
       "4  0.611  0.221  "
      ],
      "text/html": "<div>\n<style scoped>\n    .dataframe tbody tr th:only-of-type {\n        vertical-align: middle;\n    }\n\n    .dataframe tbody tr th {\n        vertical-align: top;\n    }\n\n    .dataframe thead th {\n        text-align: right;\n    }\n</style>\n<table border=\"1\" class=\"dataframe\">\n  <thead>\n    <tr style=\"text-align: right;\">\n      <th></th>\n      <th>group_id</th>\n      <th>user_id</th>\n      <th>user_nick</th>\n      <th>message</th>\n      <th>message_date</th>\n      <th>neg</th>\n      <th>neu</th>\n      <th>pos</th>\n    </tr>\n  </thead>\n  <tbody>\n    <tr>\n      <th>0</th>\n      <td>6</td>\n      <td>19</td>\n      <td>heavywolf610</td>\n      <td>In the end, it is because the media are driven...</td>\n      <td>1606759536000</td>\n      <td>0.052</td>\n      <td>0.881</td>\n      <td>0.067</td>\n    </tr>\n    <tr>\n      <th>1</th>\n      <td>6</td>\n      <td>2</td>\n      <td>heavyfish770</td>\n      <td>I still have the desire to succeed, and Ive al...</td>\n      <td>1606759536000</td>\n      <td>0.047</td>\n      <td>0.559</td>\n      <td>0.394</td>\n    </tr>\n    <tr>\n      <th>2</th>\n      <td>6</td>\n      <td>19</td>\n      <td>heavywolf610</td>\n      <td>I think one of the most important things in a ...</td>\n      <td>1606759536000</td>\n      <td>0.123</td>\n      <td>0.526</td>\n      <td>0.351</td>\n    </tr>\n    <tr>\n      <th>3</th>\n      <td>6</td>\n      <td>19</td>\n      <td>heavywolf610</td>\n      <td>The new midlife is where you realize that even...</td>\n      <td>1606759536000</td>\n      <td>0.056</td>\n      <td>0.676</td>\n      <td>0.268</td>\n    </tr>\n    <tr>\n      <th>4</th>\n      <td>6</td>\n      <td>24</td>\n      <td>silverfish787</td>\n      <td>I proved to my own satisfaction that I am madd...</td>\n      <td>1606759536000</td>\n      <td>0.168</td>\n      <td>0.611</td>\n      <td>0.221</td>\n    </tr>\n  </tbody>\n</table>\n</div>"
     },
     "metadata": {},
     "execution_count": 13
    }
   ],
   "source": [
    "df = pd.DataFrame.from_dict(res)\n",
    "df.head()"
   ]
  },
  {
   "cell_type": "code",
   "execution_count": 17,
   "metadata": {},
   "outputs": [
    {
     "output_type": "execute_result",
     "data": {
      "text/plain": [
       "neg    0.09265\n",
       "neu    0.73700\n",
       "pos    0.17030\n",
       "dtype: float64"
      ]
     },
     "metadata": {},
     "execution_count": 17
    }
   ],
   "source": [
    "df.iloc[:,-3:].mean()"
   ]
  }
 ]
}